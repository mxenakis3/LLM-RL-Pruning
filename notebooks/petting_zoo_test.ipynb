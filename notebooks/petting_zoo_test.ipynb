{
 "cells": [
  {
   "cell_type": "code",
   "execution_count": 1,
   "metadata": {},
   "outputs": [
    {
     "name": "stderr",
     "output_type": "stream",
     "text": [
      "  0%|          | 2/800 [00:00<02:38,  5.04it/s]"
     ]
    },
    {
     "name": "stdout",
     "output_type": "stream",
     "text": [
      "Episode 1 - Rewards: {'player_0': 1, 'player_1': -1} - Epsilon: {'player_0': 0.99, 'player_1': 0.05}\n",
      "Episode 2 - Rewards: {'player_0': 0, 'player_1': 0} - Epsilon: {'player_0': 0.9801, 'player_1': 0.05}\n"
     ]
    },
    {
     "name": "stderr",
     "output_type": "stream",
     "text": [
      "  0%|          | 3/800 [00:00<02:55,  4.54it/s]"
     ]
    },
    {
     "name": "stdout",
     "output_type": "stream",
     "text": [
      "Episode 3 - Rewards: {'player_0': 0, 'player_1': 0} - Epsilon: {'player_0': 0.9702989999999999, 'player_1': 0.05}\n"
     ]
    },
    {
     "name": "stderr",
     "output_type": "stream",
     "text": [
      "  0%|          | 4/800 [00:01<04:03,  3.27it/s]"
     ]
    },
    {
     "name": "stdout",
     "output_type": "stream",
     "text": [
      "Episode 4 - Rewards: {'player_0': 0, 'player_1': 0} - Epsilon: {'player_0': 0.96059601, 'player_1': 0.05}\n"
     ]
    },
    {
     "name": "stderr",
     "output_type": "stream",
     "text": [
      "  1%|          | 6/800 [00:01<03:02,  4.34it/s]"
     ]
    },
    {
     "name": "stdout",
     "output_type": "stream",
     "text": [
      "Episode 5 - Rewards: {'player_0': 0, 'player_1': 0} - Epsilon: {'player_0': 0.9509900498999999, 'player_1': 0.05}\n",
      "Episode 6 - Rewards: {'player_0': 0, 'player_1': 0} - Epsilon: {'player_0': 0.9414801494009999, 'player_1': 0.05}\n"
     ]
    },
    {
     "name": "stderr",
     "output_type": "stream",
     "text": [
      "  1%|          | 7/800 [00:01<03:01,  4.37it/s]"
     ]
    },
    {
     "name": "stdout",
     "output_type": "stream",
     "text": [
      "Episode 7 - Rewards: {'player_0': 0, 'player_1': 0} - Epsilon: {'player_0': 0.9320653479069899, 'player_1': 0.05}\n",
      "Episode 8 - Rewards: {'player_0': 0, 'player_1': 0} - Epsilon: {'player_0': 0.92274469442792, 'player_1': 0.05}\n",
      "Episode 9 - Rewards: {'player_0': 0, 'player_1': 0} - Epsilon: {'player_0': 0.9135172474836407, 'player_1': 0.05}\n"
     ]
    },
    {
     "name": "stderr",
     "output_type": "stream",
     "text": [
      "  1%|▏         | 10/800 [00:02<03:07,  4.21it/s]"
     ]
    },
    {
     "name": "stdout",
     "output_type": "stream",
     "text": [
      "Episode 10 - Rewards: {'player_0': 0, 'player_1': 0} - Epsilon: {'player_0': 0.9043820750088043, 'player_1': 0.05}\n"
     ]
    },
    {
     "name": "stderr",
     "output_type": "stream",
     "text": [
      "  2%|▏         | 12/800 [00:02<02:53,  4.55it/s]"
     ]
    },
    {
     "name": "stdout",
     "output_type": "stream",
     "text": [
      "Episode 11 - Rewards: {'player_0': 0, 'player_1': 0} - Epsilon: {'player_0': 0.8953382542587163, 'player_1': 0.05}\n",
      "Episode 12 - Rewards: {'player_0': 0, 'player_1': 0} - Epsilon: {'player_0': 0.8863848717161291, 'player_1': 0.05}\n"
     ]
    },
    {
     "name": "stderr",
     "output_type": "stream",
     "text": [
      "  2%|▏         | 13/800 [00:02<02:31,  5.19it/s]"
     ]
    },
    {
     "name": "stdout",
     "output_type": "stream",
     "text": [
      "Episode 13 - Rewards: {'player_0': 0, 'player_1': 0} - Epsilon: {'player_0': 0.8775210229989678, 'player_1': 0.05}\n"
     ]
    },
    {
     "name": "stderr",
     "output_type": "stream",
     "text": [
      "  2%|▏         | 14/800 [00:03<03:44,  3.50it/s]"
     ]
    },
    {
     "name": "stdout",
     "output_type": "stream",
     "text": [
      "Episode 14 - Rewards: {'player_0': 0, 'player_1': 0} - Epsilon: {'player_0': 0.8687458127689781, 'player_1': 0.05}\n",
      "Episode 15 - Rewards: {'player_0': 0, 'player_1': 0} - Epsilon: {'player_0': 0.8600583546412883, 'player_1': 0.05}\n",
      "Episode 16 - Rewards: {'player_0': 0, 'player_1': 0} - Epsilon: {'player_0': 0.8514577710948754, 'player_1': 0.05}\n"
     ]
    },
    {
     "name": "stderr",
     "output_type": "stream",
     "text": [
      "  2%|▏         | 17/800 [00:03<02:14,  5.83it/s]"
     ]
    },
    {
     "name": "stdout",
     "output_type": "stream",
     "text": [
      "Episode 17 - Rewards: {'player_0': 0, 'player_1': 0} - Epsilon: {'player_0': 0.8429431933839266, 'player_1': 0.05}\n"
     ]
    },
    {
     "name": "stderr",
     "output_type": "stream",
     "text": [
      "  2%|▏         | 19/800 [00:04<02:05,  6.24it/s]"
     ]
    },
    {
     "name": "stdout",
     "output_type": "stream",
     "text": [
      "Episode 18 - Rewards: {'player_0': 0, 'player_1': 0} - Epsilon: {'player_0': 0.8345137614500874, 'player_1': 0.05}\n",
      "Episode 19 - Rewards: {'player_0': 0, 'player_1': 0} - Epsilon: {'player_0': 0.8261686238355865, 'player_1': 0.05}\n",
      "Episode 20 - Rewards: {'player_0': 1, 'player_1': -1} - Epsilon: {'player_0': 0.8179069375972307, 'player_1': 0.05}\n"
     ]
    },
    {
     "name": "stderr",
     "output_type": "stream",
     "text": [
      "  3%|▎         | 22/800 [00:04<02:02,  6.37it/s]"
     ]
    },
    {
     "name": "stdout",
     "output_type": "stream",
     "text": [
      "Episode 21 - Rewards: {'player_0': 0, 'player_1': 0} - Epsilon: {'player_0': 0.8097278682212583, 'player_1': 0.05}\n",
      "Episode 22 - Rewards: {'player_0': 0, 'player_1': 0} - Epsilon: {'player_0': 0.8016305895390458, 'player_1': 0.05}\n"
     ]
    },
    {
     "name": "stderr",
     "output_type": "stream",
     "text": [
      "  3%|▎         | 23/800 [00:04<02:16,  5.71it/s]"
     ]
    },
    {
     "name": "stdout",
     "output_type": "stream",
     "text": [
      "Episode 23 - Rewards: {'player_0': 0, 'player_1': 0} - Epsilon: {'player_0': 0.7936142836436553, 'player_1': 0.05}\n"
     ]
    },
    {
     "name": "stderr",
     "output_type": "stream",
     "text": [
      "  3%|▎         | 25/800 [00:05<02:37,  4.91it/s]"
     ]
    },
    {
     "name": "stdout",
     "output_type": "stream",
     "text": [
      "Episode 24 - Rewards: {'player_0': 1, 'player_1': -1} - Epsilon: {'player_0': 0.7856781408072188, 'player_1': 0.05}\n",
      "Episode 25 - Rewards: {'player_0': 0, 'player_1': 0} - Epsilon: {'player_0': 0.7778213593991465, 'player_1': 0.05}\n",
      "Episode 26 - Rewards: {'player_0': 0, 'player_1': 0} - Epsilon: {'player_0': 0.7700431458051551, 'player_1': 0.05}\n",
      "Episode 27 - Rewards: {'player_0': 0, 'player_1': 0} - Epsilon: {'player_0': 0.7623427143471035, 'player_1': 0.05}\n"
     ]
    },
    {
     "name": "stderr",
     "output_type": "stream",
     "text": [
      "  3%|▎         | 27/800 [00:05<02:07,  6.05it/s]"
     ]
    },
    {
     "name": "stdout",
     "output_type": "stream",
     "text": [
      "Episode 28 - Rewards: {'player_0': 0, 'player_1': 0} - Epsilon: {'player_0': 0.7547192872036325, 'player_1': 0.05}\n"
     ]
    },
    {
     "name": "stderr",
     "output_type": "stream",
     "text": [
      "  4%|▎         | 29/800 [00:05<02:20,  5.49it/s]"
     ]
    },
    {
     "name": "stdout",
     "output_type": "stream",
     "text": [
      "Episode 29 - Rewards: {'player_0': 0, 'player_1': 0} - Epsilon: {'player_0': 0.7471720943315961, 'player_1': 0.05}\n"
     ]
    },
    {
     "name": "stderr",
     "output_type": "stream",
     "text": [
      "  4%|▍         | 30/800 [00:06<02:33,  5.02it/s]"
     ]
    },
    {
     "name": "stdout",
     "output_type": "stream",
     "text": [
      "Episode 30 - Rewards: {'player_0': 0, 'player_1': 0} - Epsilon: {'player_0': 0.7397003733882802, 'player_1': 0.05}\n"
     ]
    },
    {
     "name": "stderr",
     "output_type": "stream",
     "text": [
      "  4%|▍         | 33/800 [00:06<02:13,  5.74it/s]"
     ]
    },
    {
     "name": "stdout",
     "output_type": "stream",
     "text": [
      "Episode 31 - Rewards: {'player_0': 0, 'player_1': 0} - Epsilon: {'player_0': 0.7323033696543974, 'player_1': 0.05}\n",
      "Episode 32 - Rewards: {'player_0': 0, 'player_1': 0} - Epsilon: {'player_0': 0.7249803359578534, 'player_1': 0.05}\n",
      "Episode 33 - Rewards: {'player_0': 1, 'player_1': -1} - Epsilon: {'player_0': 0.7177305325982748, 'player_1': 0.05}\n"
     ]
    },
    {
     "name": "stderr",
     "output_type": "stream",
     "text": [
      "  4%|▍         | 34/800 [00:06<02:32,  5.01it/s]"
     ]
    },
    {
     "name": "stdout",
     "output_type": "stream",
     "text": [
      "Episode 34 - Rewards: {'player_0': 0, 'player_1': 0} - Epsilon: {'player_0': 0.7105532272722921, 'player_1': 0.05}\n"
     ]
    },
    {
     "name": "stderr",
     "output_type": "stream",
     "text": [
      "  4%|▍         | 35/800 [00:07<02:51,  4.46it/s]"
     ]
    },
    {
     "name": "stdout",
     "output_type": "stream",
     "text": [
      "Episode 35 - Rewards: {'player_0': 0, 'player_1': 0} - Epsilon: {'player_0': 0.7034476949995692, 'player_1': 0.05}\n"
     ]
    },
    {
     "name": "stderr",
     "output_type": "stream",
     "text": [
      "  5%|▍         | 37/800 [00:07<03:03,  4.16it/s]"
     ]
    },
    {
     "name": "stdout",
     "output_type": "stream",
     "text": [
      "Episode 36 - Rewards: {'player_0': 0, 'player_1': 0} - Epsilon: {'player_0': 0.6964132180495735, 'player_1': 0.05}\n",
      "Episode 37 - Rewards: {'player_0': 0, 'player_1': 0} - Epsilon: {'player_0': 0.6894490858690777, 'player_1': 0.05}\n"
     ]
    },
    {
     "name": "stderr",
     "output_type": "stream",
     "text": [
      "  5%|▍         | 39/800 [00:07<02:09,  5.86it/s]"
     ]
    },
    {
     "name": "stdout",
     "output_type": "stream",
     "text": [
      "Episode 38 - Rewards: {'player_0': 0, 'player_1': 0} - Epsilon: {'player_0': 0.682554595010387, 'player_1': 0.05}\n",
      "Episode 39 - Rewards: {'player_0': 0, 'player_1': 0} - Epsilon: {'player_0': 0.6757290490602831, 'player_1': 0.05}\n"
     ]
    },
    {
     "name": "stderr",
     "output_type": "stream",
     "text": [
      "  5%|▌         | 40/800 [00:08<02:35,  4.88it/s]"
     ]
    },
    {
     "name": "stdout",
     "output_type": "stream",
     "text": [
      "Episode 40 - Rewards: {'player_0': 1, 'player_1': -1} - Epsilon: {'player_0': 0.6689717585696803, 'player_1': 0.05}\n",
      "Episode 41 - Rewards: {'player_0': 0, 'player_1': 0} - Epsilon: {'player_0': 0.6622820409839835, 'player_1': 0.05}\n"
     ]
    },
    {
     "name": "stderr",
     "output_type": "stream",
     "text": [
      "  5%|▌         | 43/800 [00:08<02:24,  5.25it/s]"
     ]
    },
    {
     "name": "stdout",
     "output_type": "stream",
     "text": [
      "Episode 42 - Rewards: {'player_0': 0, 'player_1': 0} - Epsilon: {'player_0': 0.6556592205741436, 'player_1': 0.05}\n",
      "Episode 43 - Rewards: {'player_0': 0, 'player_1': 0} - Epsilon: {'player_0': 0.6491026283684022, 'player_1': 0.05}\n",
      "Episode 44 - Rewards: {'player_0': 0, 'player_1': 0} - Epsilon: {'player_0': 0.6426116020847181, 'player_1': 0.05}\n"
     ]
    },
    {
     "name": "stderr",
     "output_type": "stream",
     "text": [
      "  6%|▌         | 45/800 [00:09<02:01,  6.23it/s]"
     ]
    },
    {
     "name": "stdout",
     "output_type": "stream",
     "text": [
      "Episode 45 - Rewards: {'player_0': 0, 'player_1': 0} - Epsilon: {'player_0': 0.6361854860638709, 'player_1': 0.05}\n"
     ]
    },
    {
     "name": "stderr",
     "output_type": "stream",
     "text": [
      "  6%|▌         | 47/800 [00:09<02:25,  5.16it/s]"
     ]
    },
    {
     "name": "stdout",
     "output_type": "stream",
     "text": [
      "Episode 46 - Rewards: {'player_0': 0, 'player_1': 0} - Epsilon: {'player_0': 0.6298236312032323, 'player_1': 0.05}\n",
      "Episode 47 - Rewards: {'player_0': 0, 'player_1': 0} - Epsilon: {'player_0': 0.6235253948912, 'player_1': 0.05}\n"
     ]
    },
    {
     "name": "stderr",
     "output_type": "stream",
     "text": [
      "  6%|▌         | 48/800 [00:09<02:12,  5.70it/s]"
     ]
    },
    {
     "name": "stdout",
     "output_type": "stream",
     "text": [
      "Episode 48 - Rewards: {'player_0': 0, 'player_1': 0} - Epsilon: {'player_0': 0.617290140942288, 'player_1': 0.05}\n"
     ]
    },
    {
     "name": "stderr",
     "output_type": "stream",
     "text": [
      "  6%|▌         | 49/800 [00:09<02:22,  5.28it/s]"
     ]
    },
    {
     "name": "stdout",
     "output_type": "stream",
     "text": [
      "Episode 49 - Rewards: {'player_0': 0, 'player_1': 0} - Epsilon: {'player_0': 0.6111172395328651, 'player_1': 0.05}\n",
      "Episode 50 - Rewards: {'player_0': 0, 'player_1': 0} - Epsilon: {'player_0': 0.6050060671375365, 'player_1': 0.05}\n"
     ]
    },
    {
     "name": "stderr",
     "output_type": "stream",
     "text": [
      "  6%|▋         | 51/800 [00:10<02:08,  5.85it/s]"
     ]
    },
    {
     "name": "stdout",
     "output_type": "stream",
     "text": [
      "Episode 51 - Rewards: {'player_0': 0, 'player_1': 0} - Epsilon: {'player_0': 0.5989560064661611, 'player_1': 0.05}\n",
      "Episode 52 - Rewards: {'player_0': 1, 'player_1': -1} - Epsilon: {'player_0': 0.5929664464014994, 'player_1': 0.05}\n"
     ]
    },
    {
     "name": "stderr",
     "output_type": "stream",
     "text": [
      "  7%|▋         | 54/800 [00:10<02:24,  5.18it/s]"
     ]
    },
    {
     "name": "stdout",
     "output_type": "stream",
     "text": [
      "Episode 53 - Rewards: {'player_0': 0, 'player_1': 0} - Epsilon: {'player_0': 0.5870367819374844, 'player_1': 0.05}\n",
      "Episode 54 - Rewards: {'player_0': 0, 'player_1': 0} - Epsilon: {'player_0': 0.5811664141181095, 'player_1': 0.05}\n"
     ]
    },
    {
     "name": "stderr",
     "output_type": "stream",
     "text": [
      "  7%|▋         | 55/800 [00:11<02:38,  4.71it/s]"
     ]
    },
    {
     "name": "stdout",
     "output_type": "stream",
     "text": [
      "Episode 55 - Rewards: {'player_0': 0, 'player_1': 0} - Epsilon: {'player_0': 0.5753547499769285, 'player_1': 0.05}\n",
      "Episode 56 - Rewards: {'player_0': 1, 'player_1': -1} - Epsilon: {'player_0': 0.5696012024771592, 'player_1': 0.05}\n"
     ]
    },
    {
     "name": "stderr",
     "output_type": "stream",
     "text": [
      "  7%|▋         | 59/800 [00:11<01:46,  6.93it/s]"
     ]
    },
    {
     "name": "stdout",
     "output_type": "stream",
     "text": [
      "Episode 57 - Rewards: {'player_0': 0, 'player_1': 0} - Epsilon: {'player_0': 0.5639051904523876, 'player_1': 0.05}\n",
      "Episode 58 - Rewards: {'player_0': 0, 'player_1': 0} - Epsilon: {'player_0': 0.5582661385478638, 'player_1': 0.05}\n",
      "Episode 59 - Rewards: {'player_0': 0, 'player_1': 0} - Epsilon: {'player_0': 0.5526834771623851, 'player_1': 0.05}\n"
     ]
    },
    {
     "name": "stderr",
     "output_type": "stream",
     "text": [
      "  8%|▊         | 61/800 [00:11<01:27,  8.47it/s]"
     ]
    },
    {
     "name": "stdout",
     "output_type": "stream",
     "text": [
      "Episode 60 - Rewards: {'player_0': 0, 'player_1': 0} - Epsilon: {'player_0': 0.5471566423907612, 'player_1': 0.05}\n",
      "Episode 61 - Rewards: {'player_0': 0, 'player_1': 0} - Epsilon: {'player_0': 0.5416850759668536, 'player_1': 0.05}\n",
      "Episode 62 - Rewards: {'player_0': 0, 'player_1': 0} - Epsilon: {'player_0': 0.536268225207185, 'player_1': 0.05}\n"
     ]
    },
    {
     "name": "stderr",
     "output_type": "stream",
     "text": [
      "  8%|▊         | 63/800 [00:12<02:06,  5.82it/s]"
     ]
    },
    {
     "name": "stdout",
     "output_type": "stream",
     "text": [
      "Episode 63 - Rewards: {'player_0': 0, 'player_1': 0} - Epsilon: {'player_0': 0.5309055429551132, 'player_1': 0.05}\n"
     ]
    },
    {
     "name": "stderr",
     "output_type": "stream",
     "text": [
      "  8%|▊         | 65/800 [00:12<01:59,  6.13it/s]"
     ]
    },
    {
     "name": "stdout",
     "output_type": "stream",
     "text": [
      "Episode 64 - Rewards: {'player_0': 0, 'player_1': 0} - Epsilon: {'player_0': 0.525596487525562, 'player_1': 0.05}\n",
      "Episode 65 - Rewards: {'player_0': 0, 'player_1': 0} - Epsilon: {'player_0': 0.5203405226503064, 'player_1': 0.05}\n"
     ]
    },
    {
     "name": "stderr",
     "output_type": "stream",
     "text": [
      "  8%|▊         | 68/800 [00:12<01:28,  8.31it/s]"
     ]
    },
    {
     "name": "stdout",
     "output_type": "stream",
     "text": [
      "Episode 66 - Rewards: {'player_0': 0, 'player_1': 0} - Epsilon: {'player_0': 0.5151371174238033, 'player_1': 0.05}\n",
      "Episode 67 - Rewards: {'player_0': 0, 'player_1': 0} - Epsilon: {'player_0': 0.5099857462495653, 'player_1': 0.05}\n",
      "Episode 68 - Rewards: {'player_0': 0, 'player_1': 0} - Epsilon: {'player_0': 0.5048858887870696, 'player_1': 0.05}\n"
     ]
    },
    {
     "name": "stderr",
     "output_type": "stream",
     "text": [
      "  9%|▉         | 71/800 [00:13<01:22,  8.84it/s]"
     ]
    },
    {
     "name": "stdout",
     "output_type": "stream",
     "text": [
      "Episode 69 - Rewards: {'player_0': 0, 'player_1': 0} - Epsilon: {'player_0': 0.4998370298991989, 'player_1': 0.05}\n",
      "Episode 70 - Rewards: {'player_0': 0, 'player_1': 0} - Epsilon: {'player_0': 0.49483865960020695, 'player_1': 0.05}\n",
      "Episode 71 - Rewards: {'player_0': 0, 'player_1': 0} - Epsilon: {'player_0': 0.4898902730042049, 'player_1': 0.05}\n"
     ]
    },
    {
     "name": "stderr",
     "output_type": "stream",
     "text": [
      "  9%|▉         | 72/800 [00:13<01:25,  8.53it/s]"
     ]
    },
    {
     "name": "stdout",
     "output_type": "stream",
     "text": [
      "Episode 72 - Rewards: {'player_0': 0, 'player_1': 0} - Epsilon: {'player_0': 0.48499137027416284, 'player_1': 0.05}\n"
     ]
    },
    {
     "name": "stderr",
     "output_type": "stream",
     "text": [
      "  9%|▉         | 74/800 [00:13<02:20,  5.18it/s]"
     ]
    },
    {
     "name": "stdout",
     "output_type": "stream",
     "text": [
      "Episode 73 - Rewards: {'player_0': 0, 'player_1': 0} - Epsilon: {'player_0': 0.4801414565714212, 'player_1': 0.05}\n",
      "Episode 74 - Rewards: {'player_0': 0, 'player_1': 0} - Epsilon: {'player_0': 0.475340042005707, 'player_1': 0.05}\n",
      "Episode 75 - Rewards: {'player_0': 0, 'player_1': 0} - Epsilon: {'player_0': 0.47058664158564995, 'player_1': 0.05}\n",
      "Episode 76 - Rewards: {'player_0': 0, 'player_1': 0} - Epsilon: {'player_0': 0.4658807751697934, 'player_1': 0.05}\n"
     ]
    },
    {
     "name": "stderr",
     "output_type": "stream",
     "text": [
      " 10%|▉         | 77/800 [00:14<01:52,  6.41it/s]"
     ]
    },
    {
     "name": "stdout",
     "output_type": "stream",
     "text": [
      "Episode 77 - Rewards: {'player_0': 0, 'player_1': 0} - Epsilon: {'player_0': 0.4612219674180955, 'player_1': 0.05}\n"
     ]
    },
    {
     "name": "stderr",
     "output_type": "stream",
     "text": [
      " 10%|▉         | 78/800 [00:14<02:06,  5.72it/s]"
     ]
    },
    {
     "name": "stdout",
     "output_type": "stream",
     "text": [
      "Episode 78 - Rewards: {'player_0': 0, 'player_1': 0} - Epsilon: {'player_0': 0.45660974774391455, 'player_1': 0.05}\n",
      "Episode 79 - Rewards: {'player_0': 0, 'player_1': 0} - Epsilon: {'player_0': 0.4520436502664754, 'player_1': 0.05}\n"
     ]
    },
    {
     "name": "stderr",
     "output_type": "stream",
     "text": [
      " 10%|█         | 82/800 [00:15<01:53,  6.34it/s]"
     ]
    },
    {
     "name": "stdout",
     "output_type": "stream",
     "text": [
      "Episode 80 - Rewards: {'player_0': 0, 'player_1': 0} - Epsilon: {'player_0': 0.44752321376381066, 'player_1': 0.05}\n",
      "Episode 81 - Rewards: {'player_0': 0, 'player_1': 0} - Epsilon: {'player_0': 0.44304798162617254, 'player_1': 0.05}\n",
      "Episode 82 - Rewards: {'player_0': 0, 'player_1': 0} - Epsilon: {'player_0': 0.4386175018099108, 'player_1': 0.05}\n",
      "Episode 83 - Rewards: {'player_0': 0, 'player_1': 0} - Epsilon: {'player_0': 0.4342313267918117, 'player_1': 0.05}\n"
     ]
    },
    {
     "name": "stderr",
     "output_type": "stream",
     "text": [
      " 11%|█         | 86/800 [00:15<01:26,  8.22it/s]"
     ]
    },
    {
     "name": "stdout",
     "output_type": "stream",
     "text": [
      "Episode 84 - Rewards: {'player_0': 1, 'player_1': -1} - Epsilon: {'player_0': 0.4298890135238936, 'player_1': 0.05}\n",
      "Episode 85 - Rewards: {'player_0': 0, 'player_1': 0} - Epsilon: {'player_0': 0.42559012338865465, 'player_1': 0.05}\n",
      "Episode 86 - Rewards: {'player_0': 0, 'player_1': 0} - Epsilon: {'player_0': 0.4213342221547681, 'player_1': 0.05}\n",
      "Episode 87 - Rewards: {'player_0': 0, 'player_1': 0} - Epsilon: {'player_0': 0.41712087993322045, 'player_1': 0.05}\n"
     ]
    },
    {
     "name": "stderr",
     "output_type": "stream",
     "text": [
      " 11%|█         | 89/800 [00:16<02:00,  5.88it/s]"
     ]
    },
    {
     "name": "stdout",
     "output_type": "stream",
     "text": [
      "Episode 88 - Rewards: {'player_0': 0, 'player_1': 0} - Epsilon: {'player_0': 0.41294967113388825, 'player_1': 0.05}\n",
      "Episode 89 - Rewards: {'player_0': 0, 'player_1': 0} - Epsilon: {'player_0': 0.40882017442254937, 'player_1': 0.05}\n"
     ]
    },
    {
     "name": "stderr",
     "output_type": "stream",
     "text": [
      " 11%|█▏        | 90/800 [00:16<02:00,  5.87it/s]"
     ]
    },
    {
     "name": "stdout",
     "output_type": "stream",
     "text": [
      "Episode 90 - Rewards: {'player_0': 0, 'player_1': 0} - Epsilon: {'player_0': 0.4047319726783239, 'player_1': 0.05}\n"
     ]
    },
    {
     "name": "stderr",
     "output_type": "stream",
     "text": [
      " 12%|█▏        | 92/800 [00:17<02:30,  4.71it/s]"
     ]
    },
    {
     "name": "stdout",
     "output_type": "stream",
     "text": [
      "Episode 91 - Rewards: {'player_0': 1, 'player_1': -1} - Epsilon: {'player_0': 0.40068465295154065, 'player_1': 0.05}\n",
      "Episode 92 - Rewards: {'player_0': 1, 'player_1': -1} - Epsilon: {'player_0': 0.39667780642202527, 'player_1': 0.05}\n"
     ]
    },
    {
     "name": "stderr",
     "output_type": "stream",
     "text": [
      " 12%|█▏        | 96/800 [00:17<01:26,  8.12it/s]"
     ]
    },
    {
     "name": "stdout",
     "output_type": "stream",
     "text": [
      "Episode 93 - Rewards: {'player_0': 0, 'player_1': 0} - Epsilon: {'player_0': 0.392711028357805, 'player_1': 0.05}\n",
      "Episode 94 - Rewards: {'player_0': 0, 'player_1': 0} - Epsilon: {'player_0': 0.38878391807422696, 'player_1': 0.05}\n",
      "Episode 95 - Rewards: {'player_0': 0, 'player_1': 0} - Epsilon: {'player_0': 0.3848960788934847, 'player_1': 0.05}\n",
      "Episode 96 - Rewards: {'player_0': 0, 'player_1': 0} - Epsilon: {'player_0': 0.38104711810454983, 'player_1': 0.05}\n",
      "Episode 97 - Rewards: {'player_0': 0, 'player_1': 0} - Epsilon: {'player_0': 0.37723664692350434, 'player_1': 0.05}\n"
     ]
    },
    {
     "name": "stderr",
     "output_type": "stream",
     "text": [
      " 12%|█▎        | 100/800 [00:17<01:19,  8.85it/s]"
     ]
    },
    {
     "name": "stdout",
     "output_type": "stream",
     "text": [
      "Episode 98 - Rewards: {'player_0': 0, 'player_1': 0} - Epsilon: {'player_0': 0.37346428045426927, 'player_1': 0.05}\n",
      "Episode 99 - Rewards: {'player_0': 0, 'player_1': 0} - Epsilon: {'player_0': 0.36972963764972655, 'player_1': 0.05}\n",
      "Episode 100 - Rewards: {'player_0': 0, 'player_1': 0} - Epsilon: {'player_0': 0.36603234127322926, 'player_1': 0.05}\n"
     ]
    },
    {
     "name": "stderr",
     "output_type": "stream",
     "text": [
      " 13%|█▎        | 102/800 [00:18<01:16,  9.09it/s]"
     ]
    },
    {
     "name": "stdout",
     "output_type": "stream",
     "text": [
      "Episode 101 - Rewards: {'player_0': 0, 'player_1': 0} - Epsilon: {'player_0': 0.36237201786049694, 'player_1': 0.05}\n",
      "Episode 102 - Rewards: {'player_0': 0, 'player_1': 0} - Epsilon: {'player_0': 0.358748297681892, 'player_1': 0.05}\n"
     ]
    },
    {
     "name": "stderr",
     "output_type": "stream",
     "text": [
      " 13%|█▎        | 107/800 [00:18<01:23,  8.27it/s]"
     ]
    },
    {
     "name": "stdout",
     "output_type": "stream",
     "text": [
      "Episode 103 - Rewards: {'player_0': 0, 'player_1': 0} - Epsilon: {'player_0': 0.35516081470507305, 'player_1': 0.05}\n",
      "Episode 104 - Rewards: {'player_0': 0, 'player_1': 0} - Epsilon: {'player_0': 0.3516092065580223, 'player_1': 0.05}\n",
      "Episode 105 - Rewards: {'player_0': 0, 'player_1': 0} - Epsilon: {'player_0': 0.34809311449244207, 'player_1': 0.05}\n",
      "Episode 106 - Rewards: {'player_0': 0, 'player_1': 0} - Epsilon: {'player_0': 0.34461218334751764, 'player_1': 0.05}\n",
      "Episode 107 - Rewards: {'player_0': 0, 'player_1': 0} - Epsilon: {'player_0': 0.34116606151404244, 'player_1': 0.05}\n"
     ]
    },
    {
     "name": "stderr",
     "output_type": "stream",
     "text": [
      " 14%|█▍        | 110/800 [00:18<01:02, 10.96it/s]"
     ]
    },
    {
     "name": "stdout",
     "output_type": "stream",
     "text": [
      "Episode 108 - Rewards: {'player_0': 1, 'player_1': -1} - Epsilon: {'player_0': 0.337754400898902, 'player_1': 0.05}\n",
      "Episode 109 - Rewards: {'player_0': 0, 'player_1': 0} - Epsilon: {'player_0': 0.334376856889913, 'player_1': 0.05}\n",
      "Episode 110 - Rewards: {'player_0': 0, 'player_1': 0} - Epsilon: {'player_0': 0.33103308832101386, 'player_1': 0.05}\n",
      "Episode 111 - Rewards: {'player_0': 0, 'player_1': 0} - Epsilon: {'player_0': 0.3277227574378037, 'player_1': 0.05}\n",
      "Episode 112 - Rewards: {'player_0': 0, 'player_1': 0} - Epsilon: {'player_0': 0.3244455298634257, 'player_1': 0.05}\n"
     ]
    },
    {
     "name": "stderr",
     "output_type": "stream",
     "text": [
      " 14%|█▍        | 115/800 [00:19<00:58, 11.71it/s]"
     ]
    },
    {
     "name": "stdout",
     "output_type": "stream",
     "text": [
      "Episode 113 - Rewards: {'player_0': 0, 'player_1': 0} - Epsilon: {'player_0': 0.3212010745647914, 'player_1': 0.05}\n",
      "Episode 114 - Rewards: {'player_0': 0, 'player_1': 0} - Epsilon: {'player_0': 0.3179890638191435, 'player_1': 0.05}\n",
      "Episode 115 - Rewards: {'player_0': 0, 'player_1': 0} - Epsilon: {'player_0': 0.31480917318095203, 'player_1': 0.05}\n",
      "Episode 116 - Rewards: {'player_0': 0, 'player_1': 0} - Epsilon: {'player_0': 0.3116610814491425, 'player_1': 0.05}\n"
     ]
    },
    {
     "name": "stderr",
     "output_type": "stream",
     "text": [
      " 15%|█▍        | 117/800 [00:19<00:59, 11.44it/s]"
     ]
    },
    {
     "name": "stdout",
     "output_type": "stream",
     "text": [
      "Episode 117 - Rewards: {'player_0': 0, 'player_1': 0} - Epsilon: {'player_0': 0.30854447063465107, 'player_1': 0.05}\n",
      "Episode 118 - Rewards: {'player_0': 0, 'player_1': 0} - Epsilon: {'player_0': 0.30545902592830454, 'player_1': 0.05}\n"
     ]
    },
    {
     "name": "stderr",
     "output_type": "stream",
     "text": [
      " 15%|█▌        | 121/800 [00:19<01:02, 10.83it/s]"
     ]
    },
    {
     "name": "stdout",
     "output_type": "stream",
     "text": [
      "Episode 119 - Rewards: {'player_0': 0, 'player_1': 0} - Epsilon: {'player_0': 0.3024044356690215, 'player_1': 0.05}\n",
      "Episode 120 - Rewards: {'player_0': 0, 'player_1': 0} - Epsilon: {'player_0': 0.29938039131233124, 'player_1': 0.05}\n",
      "Episode 121 - Rewards: {'player_0': 0, 'player_1': 0} - Epsilon: {'player_0': 0.2963865873992079, 'player_1': 0.05}\n",
      "Episode 122 - Rewards: {'player_0': 0, 'player_1': 0} - Epsilon: {'player_0': 0.29342272152521587, 'player_1': 0.05}\n"
     ]
    },
    {
     "name": "stderr",
     "output_type": "stream",
     "text": [
      " 16%|█▌        | 125/800 [00:20<00:56, 11.99it/s]"
     ]
    },
    {
     "name": "stdout",
     "output_type": "stream",
     "text": [
      "Episode 123 - Rewards: {'player_0': 0, 'player_1': 0} - Epsilon: {'player_0': 0.2904884943099637, 'player_1': 0.05}\n",
      "Episode 124 - Rewards: {'player_0': 0, 'player_1': 0} - Epsilon: {'player_0': 0.28758360936686406, 'player_1': 0.05}\n",
      "Episode 125 - Rewards: {'player_0': 0, 'player_1': 0} - Epsilon: {'player_0': 0.2847077732731954, 'player_1': 0.05}\n"
     ]
    },
    {
     "name": "stderr",
     "output_type": "stream",
     "text": [
      " 16%|█▌        | 127/800 [00:20<00:53, 12.47it/s]"
     ]
    },
    {
     "name": "stdout",
     "output_type": "stream",
     "text": [
      "Episode 126 - Rewards: {'player_0': 0, 'player_1': 0} - Epsilon: {'player_0': 0.28186069554046345, 'player_1': 0.05}\n",
      "Episode 127 - Rewards: {'player_0': 0, 'player_1': 0} - Epsilon: {'player_0': 0.2790420885850588, 'player_1': 0.05}\n",
      "Episode 128 - Rewards: {'player_0': 0, 'player_1': 0} - Epsilon: {'player_0': 0.2762516676992082, 'player_1': 0.05}\n",
      "Episode 129 - Rewards: {'player_0': 0, 'player_1': 0} - Epsilon: {'player_0': 0.27348915102221616, 'player_1': 0.05}\n"
     ]
    },
    {
     "name": "stderr",
     "output_type": "stream",
     "text": [
      " 16%|█▋        | 131/800 [00:20<00:49, 13.40it/s]"
     ]
    },
    {
     "name": "stdout",
     "output_type": "stream",
     "text": [
      "Episode 130 - Rewards: {'player_0': 0, 'player_1': 0} - Epsilon: {'player_0': 0.270754259511994, 'player_1': 0.05}\n",
      "Episode 131 - Rewards: {'player_0': 0, 'player_1': 0} - Epsilon: {'player_0': 0.26804671691687404, 'player_1': 0.05}\n",
      "Episode 132 - Rewards: {'player_0': 0, 'player_1': 0} - Epsilon: {'player_0': 0.2653662497477053, 'player_1': 0.05}\n"
     ]
    },
    {
     "name": "stderr",
     "output_type": "stream",
     "text": [
      " 17%|█▋        | 136/800 [00:20<00:42, 15.58it/s]"
     ]
    },
    {
     "name": "stdout",
     "output_type": "stream",
     "text": [
      "Episode 133 - Rewards: {'player_0': 0, 'player_1': 0} - Epsilon: {'player_0': 0.2627125872502282, 'player_1': 0.05}\n",
      "Episode 134 - Rewards: {'player_0': 0, 'player_1': 0} - Epsilon: {'player_0': 0.2600854613777259, 'player_1': 0.05}\n",
      "Episode 135 - Rewards: {'player_0': 0, 'player_1': 0} - Epsilon: {'player_0': 0.2574846067639487, 'player_1': 0.05}\n",
      "Episode 136 - Rewards: {'player_0': 0, 'player_1': 0} - Epsilon: {'player_0': 0.2549097606963092, 'player_1': 0.05}\n"
     ]
    },
    {
     "name": "stderr",
     "output_type": "stream",
     "text": [
      " 17%|█▋        | 138/800 [00:21<00:43, 15.18it/s]"
     ]
    },
    {
     "name": "stdout",
     "output_type": "stream",
     "text": [
      "Episode 137 - Rewards: {'player_0': 0, 'player_1': 0} - Epsilon: {'player_0': 0.2523606630893461, 'player_1': 0.05}\n",
      "Episode 138 - Rewards: {'player_0': 0, 'player_1': 0} - Epsilon: {'player_0': 0.24983705645845267, 'player_1': 0.05}\n",
      "Episode 139 - Rewards: {'player_0': 0, 'player_1': 0} - Epsilon: {'player_0': 0.24733868589386815, 'player_1': 0.05}\n"
     ]
    },
    {
     "name": "stderr",
     "output_type": "stream",
     "text": [
      " 18%|█▊        | 140/800 [00:21<00:50, 13.08it/s]"
     ]
    },
    {
     "name": "stdout",
     "output_type": "stream",
     "text": [
      "Episode 140 - Rewards: {'player_0': 0, 'player_1': 0} - Epsilon: {'player_0': 0.24486529903492946, 'player_1': 0.05}\n",
      "Episode 141 - Rewards: {'player_0': 0, 'player_1': 0} - Epsilon: {'player_0': 0.24241664604458016, 'player_1': 0.05}\n"
     ]
    },
    {
     "name": "stderr",
     "output_type": "stream",
     "text": [
      " 18%|█▊        | 142/800 [00:21<01:06,  9.86it/s]"
     ]
    },
    {
     "name": "stdout",
     "output_type": "stream",
     "text": [
      "Episode 142 - Rewards: {'player_0': 0, 'player_1': 0} - Epsilon: {'player_0': 0.23999247958413436, 'player_1': 0.05}\n",
      "Episode 143 - Rewards: {'player_0': 0, 'player_1': 0} - Epsilon: {'player_0': 0.23759255478829303, 'player_1': 0.05}\n"
     ]
    },
    {
     "name": "stderr",
     "output_type": "stream",
     "text": [
      " 18%|█▊        | 144/800 [00:22<01:18,  8.38it/s]"
     ]
    },
    {
     "name": "stdout",
     "output_type": "stream",
     "text": [
      "Episode 144 - Rewards: {'player_0': 0, 'player_1': 0} - Epsilon: {'player_0': 0.2352166292404101, 'player_1': 0.05}\n"
     ]
    },
    {
     "name": "stderr",
     "output_type": "stream",
     "text": [
      " 18%|█▊        | 147/800 [00:22<01:25,  7.62it/s]"
     ]
    },
    {
     "name": "stdout",
     "output_type": "stream",
     "text": [
      "Episode 145 - Rewards: {'player_0': 0, 'player_1': 0} - Epsilon: {'player_0': 0.232864462948006, 'player_1': 0.05}\n",
      "Episode 146 - Rewards: {'player_0': 0, 'player_1': 0} - Epsilon: {'player_0': 0.23053581831852593, 'player_1': 0.05}\n",
      "Episode 147 - Rewards: {'player_0': 0, 'player_1': 0} - Epsilon: {'player_0': 0.22823046013534068, 'player_1': 0.05}\n",
      "Episode 148 - Rewards: {'player_0': 0, 'player_1': 0} - Epsilon: {'player_0': 0.22594815553398728, 'player_1': 0.05}\n"
     ]
    },
    {
     "name": "stderr",
     "output_type": "stream",
     "text": [
      " 19%|█▊        | 149/800 [00:22<01:13,  8.87it/s]"
     ]
    },
    {
     "name": "stdout",
     "output_type": "stream",
     "text": [
      "Episode 149 - Rewards: {'player_0': 0, 'player_1': 0} - Epsilon: {'player_0': 0.22368867397864742, 'player_1': 0.05}\n",
      "Episode 150 - Rewards: {'player_0': 0, 'player_1': 0} - Epsilon: {'player_0': 0.22145178723886094, 'player_1': 0.05}\n"
     ]
    },
    {
     "name": "stderr",
     "output_type": "stream",
     "text": [
      " 19%|█▉        | 153/800 [00:22<00:59, 10.81it/s]"
     ]
    },
    {
     "name": "stdout",
     "output_type": "stream",
     "text": [
      "Episode 151 - Rewards: {'player_0': 0, 'player_1': 0} - Epsilon: {'player_0': 0.21923726936647234, 'player_1': 0.05}\n",
      "Episode 152 - Rewards: {'player_0': 0, 'player_1': 0} - Epsilon: {'player_0': 0.2170448966728076, 'player_1': 0.05}\n",
      "Episode 153 - Rewards: {'player_0': 0, 'player_1': 0} - Epsilon: {'player_0': 0.21487444770607952, 'player_1': 0.05}\n"
     ]
    },
    {
     "name": "stderr",
     "output_type": "stream",
     "text": [
      " 19%|█▉        | 155/800 [00:23<01:14,  8.69it/s]"
     ]
    },
    {
     "name": "stdout",
     "output_type": "stream",
     "text": [
      "Episode 154 - Rewards: {'player_0': 0, 'player_1': 0} - Epsilon: {'player_0': 0.21272570322901874, 'player_1': 0.05}\n",
      "Episode 155 - Rewards: {'player_0': 0, 'player_1': 0} - Epsilon: {'player_0': 0.21059844619672854, 'player_1': 0.05}\n",
      "Episode 156 - Rewards: {'player_0': 0, 'player_1': 0} - Epsilon: {'player_0': 0.20849246173476127, 'player_1': 0.05}\n",
      "Episode 157 - Rewards: {'player_0': 0, 'player_1': 0} - Epsilon: {'player_0': 0.20640753711741366, 'player_1': 0.05}\n"
     ]
    },
    {
     "name": "stderr",
     "output_type": "stream",
     "text": [
      " 20%|█▉        | 158/800 [00:23<00:58, 10.99it/s]"
     ]
    },
    {
     "name": "stdout",
     "output_type": "stream",
     "text": [
      "Episode 158 - Rewards: {'player_0': 0, 'player_1': 0} - Epsilon: {'player_0': 0.20434346174623952, 'player_1': 0.05}\n",
      "Episode 159 - Rewards: {'player_0': 0, 'player_1': 0} - Epsilon: {'player_0': 0.20230002712877712, 'player_1': 0.05}\n",
      "Episode 160 - Rewards: {'player_0': 0, 'player_1': 0} - Epsilon: {'player_0': 0.20027702685748935, 'player_1': 0.05}\n"
     ]
    },
    {
     "name": "stderr",
     "output_type": "stream",
     "text": [
      " 20%|██        | 163/800 [00:23<00:50, 12.68it/s]"
     ]
    },
    {
     "name": "stdout",
     "output_type": "stream",
     "text": [
      "Episode 161 - Rewards: {'player_0': 0, 'player_1': 0} - Epsilon: {'player_0': 0.19827425658891445, 'player_1': 0.05}\n",
      "Episode 162 - Rewards: {'player_0': 0, 'player_1': 0} - Epsilon: {'player_0': 0.1962915140230253, 'player_1': 0.05}\n",
      "Episode 163 - Rewards: {'player_0': 0, 'player_1': 0} - Epsilon: {'player_0': 0.19432859888279505, 'player_1': 0.05}\n",
      "Episode 164 - Rewards: {'player_0': 0, 'player_1': 0} - Epsilon: {'player_0': 0.1923853128939671, 'player_1': 0.05}\n"
     ]
    },
    {
     "name": "stderr",
     "output_type": "stream",
     "text": [
      " 21%|██        | 165/800 [00:23<00:45, 13.81it/s]"
     ]
    },
    {
     "name": "stdout",
     "output_type": "stream",
     "text": [
      "Episode 165 - Rewards: {'player_0': 0, 'player_1': 0} - Epsilon: {'player_0': 0.19046145976502743, 'player_1': 0.05}\n",
      "Episode 166 - Rewards: {'player_0': 0, 'player_1': 0} - Epsilon: {'player_0': 0.18855684516737714, 'player_1': 0.05}\n"
     ]
    },
    {
     "name": "stderr",
     "output_type": "stream",
     "text": [
      " 21%|██        | 169/800 [00:24<00:49, 12.70it/s]"
     ]
    },
    {
     "name": "stdout",
     "output_type": "stream",
     "text": [
      "Episode 167 - Rewards: {'player_0': 0, 'player_1': 0} - Epsilon: {'player_0': 0.18667127671570335, 'player_1': 0.05}\n",
      "Episode 168 - Rewards: {'player_0': 0, 'player_1': 0} - Epsilon: {'player_0': 0.18480456394854633, 'player_1': 0.05}\n",
      "Episode 169 - Rewards: {'player_0': 0, 'player_1': 0} - Epsilon: {'player_0': 0.18295651830906087, 'player_1': 0.05}\n"
     ]
    },
    {
     "name": "stderr",
     "output_type": "stream",
     "text": [
      " 21%|██▏       | 171/800 [00:24<00:50, 12.56it/s]"
     ]
    },
    {
     "name": "stdout",
     "output_type": "stream",
     "text": [
      "Episode 170 - Rewards: {'player_0': 0, 'player_1': 0} - Epsilon: {'player_0': 0.18112695312597027, 'player_1': 0.05}\n",
      "Episode 171 - Rewards: {'player_0': 0, 'player_1': 0} - Epsilon: {'player_0': 0.17931568359471056, 'player_1': 0.05}\n",
      "Episode 172 - Rewards: {'player_0': 0, 'player_1': 0} - Epsilon: {'player_0': 0.17752252675876345, 'player_1': 0.05}\n",
      "Episode 173 - Rewards: {'player_0': 0, 'player_1': 0} - Epsilon: {'player_0': 0.17574730149117582, 'player_1': 0.05}\n"
     ]
    },
    {
     "name": "stderr",
     "output_type": "stream",
     "text": [
      " 22%|██▏       | 175/800 [00:24<00:43, 14.52it/s]"
     ]
    },
    {
     "name": "stdout",
     "output_type": "stream",
     "text": [
      "Episode 174 - Rewards: {'player_0': 0, 'player_1': 0} - Epsilon: {'player_0': 0.17398982847626407, 'player_1': 0.05}\n",
      "Episode 175 - Rewards: {'player_0': 0, 'player_1': 0} - Epsilon: {'player_0': 0.17224993019150142, 'player_1': 0.05}\n",
      "Episode 176 - Rewards: {'player_0': 0, 'player_1': 0} - Epsilon: {'player_0': 0.1705274308895864, 'player_1': 0.05}\n"
     ]
    },
    {
     "name": "stderr",
     "output_type": "stream",
     "text": [
      " 22%|██▎       | 180/800 [00:25<00:42, 14.74it/s]"
     ]
    },
    {
     "name": "stdout",
     "output_type": "stream",
     "text": [
      "Episode 177 - Rewards: {'player_0': 0, 'player_1': 0} - Epsilon: {'player_0': 0.16882215658069055, 'player_1': 0.05}\n",
      "Episode 178 - Rewards: {'player_0': 0, 'player_1': 0} - Epsilon: {'player_0': 0.16713393501488363, 'player_1': 0.05}\n",
      "Episode 179 - Rewards: {'player_0': 0, 'player_1': 0} - Epsilon: {'player_0': 0.16546259566473479, 'player_1': 0.05}\n",
      "Episode 180 - Rewards: {'player_0': 0, 'player_1': 0} - Epsilon: {'player_0': 0.16380796970808745, 'player_1': 0.05}\n"
     ]
    },
    {
     "name": "stderr",
     "output_type": "stream",
     "text": [
      " 23%|██▎       | 182/800 [00:25<00:45, 13.68it/s]"
     ]
    },
    {
     "name": "stdout",
     "output_type": "stream",
     "text": [
      "Episode 181 - Rewards: {'player_0': 0, 'player_1': 0} - Epsilon: {'player_0': 0.16216989001100657, 'player_1': 0.05}\n",
      "Episode 182 - Rewards: {'player_0': 0, 'player_1': 0} - Epsilon: {'player_0': 0.1605481911108965, 'player_1': 0.05}\n"
     ]
    },
    {
     "name": "stderr",
     "output_type": "stream",
     "text": [
      " 23%|██▎       | 186/800 [00:25<00:53, 11.39it/s]"
     ]
    },
    {
     "name": "stdout",
     "output_type": "stream",
     "text": [
      "Episode 183 - Rewards: {'player_0': 0, 'player_1': 0} - Epsilon: {'player_0': 0.15894270919978754, 'player_1': 0.05}\n",
      "Episode 184 - Rewards: {'player_0': 0, 'player_1': 0} - Epsilon: {'player_0': 0.15735328210778965, 'player_1': 0.05}\n",
      "Episode 185 - Rewards: {'player_0': 0, 'player_1': 0} - Epsilon: {'player_0': 0.15577974928671176, 'player_1': 0.05}\n",
      "Episode 186 - Rewards: {'player_0': 0, 'player_1': 0} - Epsilon: {'player_0': 0.15422195179384465, 'player_1': 0.05}\n",
      "Episode 187 - Rewards: {'player_0': 0, 'player_1': 0} - Epsilon: {'player_0': 0.1526797322759062, 'player_1': 0.05}\n"
     ]
    },
    {
     "name": "stderr",
     "output_type": "stream",
     "text": [
      " 24%|██▍       | 190/800 [00:25<00:47, 12.87it/s]"
     ]
    },
    {
     "name": "stdout",
     "output_type": "stream",
     "text": [
      "Episode 188 - Rewards: {'player_0': 0, 'player_1': 0} - Epsilon: {'player_0': 0.15115293495314713, 'player_1': 0.05}\n",
      "Episode 189 - Rewards: {'player_0': 0, 'player_1': 0} - Epsilon: {'player_0': 0.14964140560361566, 'player_1': 0.05}\n",
      "Episode 190 - Rewards: {'player_0': 0, 'player_1': 0} - Epsilon: {'player_0': 0.1481449915475795, 'player_1': 0.05}\n"
     ]
    },
    {
     "name": "stderr",
     "output_type": "stream",
     "text": [
      " 24%|██▍       | 195/800 [00:26<00:35, 16.93it/s]"
     ]
    },
    {
     "name": "stdout",
     "output_type": "stream",
     "text": [
      "Episode 191 - Rewards: {'player_0': 0, 'player_1': 0} - Epsilon: {'player_0': 0.1466635416321037, 'player_1': 0.05}\n",
      "Episode 192 - Rewards: {'player_0': 0, 'player_1': 0} - Epsilon: {'player_0': 0.14519690621578268, 'player_1': 0.05}\n",
      "Episode 193 - Rewards: {'player_0': 0, 'player_1': 0} - Epsilon: {'player_0': 0.14374493715362485, 'player_1': 0.05}\n",
      "Episode 194 - Rewards: {'player_0': 0, 'player_1': 0} - Epsilon: {'player_0': 0.1423074877820886, 'player_1': 0.05}\n",
      "Episode 195 - Rewards: {'player_0': 0, 'player_1': 0} - Epsilon: {'player_0': 0.1408844129042677, 'player_1': 0.05}\n",
      "Episode 196 - Rewards: {'player_0': 0, 'player_1': 0} - Epsilon: {'player_0': 0.13947556877522502, 'player_1': 0.05}\n"
     ]
    },
    {
     "name": "stderr",
     "output_type": "stream",
     "text": [
      " 25%|██▍       | 198/800 [00:26<00:36, 16.36it/s]"
     ]
    },
    {
     "name": "stdout",
     "output_type": "stream",
     "text": [
      "Episode 197 - Rewards: {'player_0': 0, 'player_1': 0} - Epsilon: {'player_0': 0.13808081308747278, 'player_1': 0.05}\n",
      "Episode 198 - Rewards: {'player_0': 0, 'player_1': 0} - Epsilon: {'player_0': 0.13670000495659804, 'player_1': 0.05}\n",
      "Episode 199 - Rewards: {'player_0': 0, 'player_1': 0} - Epsilon: {'player_0': 0.13533300490703207, 'player_1': 0.05}\n",
      "Episode 200 - Rewards: {'player_0': 0, 'player_1': 0} - Epsilon: {'player_0': 0.13397967485796175, 'player_1': 0.05}\n"
     ]
    },
    {
     "name": "stderr",
     "output_type": "stream",
     "text": [
      " 25%|██▌       | 203/800 [00:26<00:33, 17.89it/s]"
     ]
    },
    {
     "name": "stdout",
     "output_type": "stream",
     "text": [
      "Episode 201 - Rewards: {'player_0': 0, 'player_1': 0} - Epsilon: {'player_0': 0.13263987810938213, 'player_1': 0.05}\n",
      "Episode 202 - Rewards: {'player_0': 0, 'player_1': 0} - Epsilon: {'player_0': 0.1313134793282883, 'player_1': 0.05}\n",
      "Episode 203 - Rewards: {'player_0': 0, 'player_1': 0} - Epsilon: {'player_0': 0.13000034453500542, 'player_1': 0.05}\n",
      "Episode 204 - Rewards: {'player_0': 0, 'player_1': 0} - Epsilon: {'player_0': 0.12870034108965536, 'player_1': 0.05}\n",
      "Episode 205 - Rewards: {'player_0': 0, 'player_1': 0} - Epsilon: {'player_0': 0.12741333767875881, 'player_1': 0.05}\n"
     ]
    },
    {
     "name": "stderr",
     "output_type": "stream",
     "text": [
      " 26%|██▌       | 206/800 [00:26<00:35, 16.88it/s]"
     ]
    },
    {
     "name": "stdout",
     "output_type": "stream",
     "text": [
      "Episode 206 - Rewards: {'player_0': 0, 'player_1': 0} - Epsilon: {'player_0': 0.12613920430197123, 'player_1': 0.05}\n"
     ]
    },
    {
     "name": "stderr",
     "output_type": "stream",
     "text": [
      " 26%|██▌       | 208/800 [00:27<00:50, 11.78it/s]"
     ]
    },
    {
     "name": "stdout",
     "output_type": "stream",
     "text": [
      "Episode 207 - Rewards: {'player_0': 0, 'player_1': 0} - Epsilon: {'player_0': 0.12487781225895152, 'player_1': 0.05}\n",
      "Episode 208 - Rewards: {'player_0': 0, 'player_1': 0} - Epsilon: {'player_0': 0.123629034136362, 'player_1': 0.05}\n",
      "Episode 209 - Rewards: {'player_0': 0, 'player_1': 0} - Epsilon: {'player_0': 0.12239274379499838, 'player_1': 0.05}\n"
     ]
    },
    {
     "name": "stderr",
     "output_type": "stream",
     "text": [
      " 26%|██▋       | 210/800 [00:27<00:52, 11.33it/s]"
     ]
    },
    {
     "name": "stdout",
     "output_type": "stream",
     "text": [
      "Episode 210 - Rewards: {'player_0': 0, 'player_1': 0} - Epsilon: {'player_0': 0.1211688163570484, 'player_1': 0.05}\n",
      "Episode 211 - Rewards: {'player_0': 0, 'player_1': 0} - Epsilon: {'player_0': 0.11995712819347792, 'player_1': 0.05}\n"
     ]
    },
    {
     "name": "stderr",
     "output_type": "stream",
     "text": [
      " 26%|██▋       | 212/800 [00:27<00:58, 10.10it/s]"
     ]
    },
    {
     "name": "stdout",
     "output_type": "stream",
     "text": [
      "Episode 212 - Rewards: {'player_0': 0, 'player_1': 0} - Epsilon: {'player_0': 0.11875755691154315, 'player_1': 0.05}\n"
     ]
    },
    {
     "name": "stderr",
     "output_type": "stream",
     "text": [
      " 27%|██▋       | 214/800 [00:28<01:24,  6.92it/s]"
     ]
    },
    {
     "name": "stdout",
     "output_type": "stream",
     "text": [
      "Episode 213 - Rewards: {'player_0': 0, 'player_1': 0} - Epsilon: {'player_0': 0.11756998134242772, 'player_1': 0.05}\n",
      "Episode 214 - Rewards: {'player_0': 0, 'player_1': 0} - Epsilon: {'player_0': 0.11639428152900344, 'player_1': 0.05}\n"
     ]
    },
    {
     "name": "stderr",
     "output_type": "stream",
     "text": [
      " 27%|██▋       | 215/800 [00:28<01:39,  5.86it/s]"
     ]
    },
    {
     "name": "stdout",
     "output_type": "stream",
     "text": [
      "Episode 215 - Rewards: {'player_0': 0, 'player_1': 0} - Epsilon: {'player_0': 0.11523033871371341, 'player_1': 0.05}\n",
      "Episode 216 - Rewards: {'player_0': 0, 'player_1': 0} - Epsilon: {'player_0': 0.11407803532657627, 'player_1': 0.05}\n"
     ]
    },
    {
     "name": "stderr",
     "output_type": "stream",
     "text": [
      " 27%|██▋       | 217/800 [00:28<01:27,  6.63it/s]"
     ]
    },
    {
     "name": "stdout",
     "output_type": "stream",
     "text": [
      "Episode 217 - Rewards: {'player_0': 0, 'player_1': 0} - Epsilon: {'player_0': 0.11293725497331052, 'player_1': 0.05}\n"
     ]
    },
    {
     "name": "stderr",
     "output_type": "stream",
     "text": [
      " 27%|██▋       | 219/800 [00:29<01:40,  5.80it/s]"
     ]
    },
    {
     "name": "stdout",
     "output_type": "stream",
     "text": [
      "Episode 218 - Rewards: {'player_0': 0, 'player_1': 0} - Epsilon: {'player_0': 0.1118078824235774, 'player_1': 0.05}\n",
      "Episode 219 - Rewards: {'player_0': 0, 'player_1': 0} - Epsilon: {'player_0': 0.11068980359934164, 'player_1': 0.05}\n",
      "Episode 220 - Rewards: {'player_0': 0, 'player_1': 0} - Epsilon: {'player_0': 0.10958290556334822, 'player_1': 0.05}\n"
     ]
    },
    {
     "name": "stderr",
     "output_type": "stream",
     "text": [
      " 28%|██▊       | 222/800 [00:29<01:20,  7.17it/s]"
     ]
    },
    {
     "name": "stdout",
     "output_type": "stream",
     "text": [
      "Episode 221 - Rewards: {'player_0': 0, 'player_1': 0} - Epsilon: {'player_0': 0.10848707650771475, 'player_1': 0.05}\n",
      "Episode 222 - Rewards: {'player_0': 0, 'player_1': 0} - Epsilon: {'player_0': 0.1074022057426376, 'player_1': 0.05}\n",
      "Episode 223 - Rewards: {'player_0': 0, 'player_1': 0} - Epsilon: {'player_0': 0.10632818368521123, 'player_1': 0.05}\n"
     ]
    },
    {
     "name": "stderr",
     "output_type": "stream",
     "text": [
      " 28%|██▊       | 225/800 [00:29<01:09,  8.30it/s]"
     ]
    },
    {
     "name": "stdout",
     "output_type": "stream",
     "text": [
      "Episode 224 - Rewards: {'player_0': 0, 'player_1': 0} - Epsilon: {'player_0': 0.10526490184835911, 'player_1': 0.05}\n",
      "Episode 225 - Rewards: {'player_0': 0, 'player_1': 0} - Epsilon: {'player_0': 0.10421225282987552, 'player_1': 0.05}\n",
      "Episode 226 - Rewards: {'player_0': 0, 'player_1': 0} - Epsilon: {'player_0': 0.10317013030157676, 'player_1': 0.05}\n"
     ]
    },
    {
     "name": "stderr",
     "output_type": "stream",
     "text": [
      " 28%|██▊       | 227/800 [00:29<01:00,  9.49it/s]"
     ]
    },
    {
     "name": "stdout",
     "output_type": "stream",
     "text": [
      "Episode 227 - Rewards: {'player_0': 0, 'player_1': 0} - Epsilon: {'player_0': 0.10213842899856099, 'player_1': 0.05}\n"
     ]
    },
    {
     "name": "stderr",
     "output_type": "stream",
     "text": [
      " 29%|██▊       | 229/800 [00:30<01:20,  7.07it/s]"
     ]
    },
    {
     "name": "stdout",
     "output_type": "stream",
     "text": [
      "Episode 228 - Rewards: {'player_0': 0, 'player_1': 0} - Epsilon: {'player_0': 0.10111704470857538, 'player_1': 0.05}\n",
      "Episode 229 - Rewards: {'player_0': 0, 'player_1': 0} - Epsilon: {'player_0': 0.10010587426148963, 'player_1': 0.05}\n",
      "Episode 230 - Rewards: {'player_0': 0, 'player_1': 0} - Epsilon: {'player_0': 0.09910481551887473, 'player_1': 0.05}\n"
     ]
    },
    {
     "name": "stderr",
     "output_type": "stream",
     "text": [
      " 29%|██▉       | 232/800 [00:30<01:10,  8.08it/s]"
     ]
    },
    {
     "name": "stdout",
     "output_type": "stream",
     "text": [
      "Episode 231 - Rewards: {'player_0': 0, 'player_1': 0} - Epsilon: {'player_0': 0.09811376736368599, 'player_1': 0.05}\n",
      "Episode 232 - Rewards: {'player_0': 0, 'player_1': 0} - Epsilon: {'player_0': 0.09713262969004913, 'player_1': 0.05}\n",
      "Episode 233 - Rewards: {'player_0': 0, 'player_1': 0} - Epsilon: {'player_0': 0.09616130339314863, 'player_1': 0.05}\n"
     ]
    },
    {
     "name": "stderr",
     "output_type": "stream",
     "text": [
      " 30%|██▉       | 236/800 [00:30<00:56, 10.06it/s]"
     ]
    },
    {
     "name": "stdout",
     "output_type": "stream",
     "text": [
      "Episode 234 - Rewards: {'player_0': 0, 'player_1': 0} - Epsilon: {'player_0': 0.09519969035921715, 'player_1': 0.05}\n",
      "Episode 235 - Rewards: {'player_0': 0, 'player_1': 0} - Epsilon: {'player_0': 0.09424769345562498, 'player_1': 0.05}\n",
      "Episode 236 - Rewards: {'player_0': 0, 'player_1': 0} - Epsilon: {'player_0': 0.09330521652106873, 'player_1': 0.05}\n"
     ]
    },
    {
     "name": "stderr",
     "output_type": "stream",
     "text": [
      " 30%|██▉       | 238/800 [00:31<00:51, 11.00it/s]"
     ]
    },
    {
     "name": "stdout",
     "output_type": "stream",
     "text": [
      "Episode 237 - Rewards: {'player_0': 0, 'player_1': 0} - Epsilon: {'player_0': 0.09237216435585804, 'player_1': 0.05}\n",
      "Episode 238 - Rewards: {'player_0': 0, 'player_1': 0} - Epsilon: {'player_0': 0.09144844271229946, 'player_1': 0.05}\n"
     ]
    },
    {
     "name": "stderr",
     "output_type": "stream",
     "text": [
      " 30%|███       | 240/800 [00:31<00:53, 10.56it/s]"
     ]
    },
    {
     "name": "stdout",
     "output_type": "stream",
     "text": [
      "Episode 239 - Rewards: {'player_0': 1, 'player_1': -1} - Epsilon: {'player_0': 0.09053395828517646, 'player_1': 0.05}\n",
      "Episode 240 - Rewards: {'player_0': 0, 'player_1': 0} - Epsilon: {'player_0': 0.08962861870232469, 'player_1': 0.05}\n",
      "Episode 241 - Rewards: {'player_0': 0, 'player_1': 0} - Epsilon: {'player_0': 0.08873233251530144, 'player_1': 0.05}\n"
     ]
    },
    {
     "name": "stderr",
     "output_type": "stream",
     "text": [
      " 30%|███       | 242/800 [00:31<00:53, 10.42it/s]"
     ]
    },
    {
     "name": "stdout",
     "output_type": "stream",
     "text": [
      "Episode 242 - Rewards: {'player_0': 0, 'player_1': 0} - Epsilon: {'player_0': 0.08784500919014843, 'player_1': 0.05}\n",
      "Episode 243 - Rewards: {'player_0': 0, 'player_1': 0} - Epsilon: {'player_0': 0.08696655909824694, 'player_1': 0.05}\n"
     ]
    },
    {
     "name": "stderr",
     "output_type": "stream",
     "text": [
      " 30%|███       | 244/800 [00:31<01:05,  8.49it/s]"
     ]
    },
    {
     "name": "stdout",
     "output_type": "stream",
     "text": [
      "Episode 244 - Rewards: {'player_0': 0, 'player_1': 0} - Epsilon: {'player_0': 0.08609689350726446, 'player_1': 0.05}\n",
      "Episode 245 - Rewards: {'player_0': 0, 'player_1': 0} - Epsilon: {'player_0': 0.08523592457219181, 'player_1': 0.05}\n"
     ]
    },
    {
     "name": "stderr",
     "output_type": "stream",
     "text": [
      " 31%|███       | 247/800 [00:32<01:17,  7.13it/s]"
     ]
    },
    {
     "name": "stdout",
     "output_type": "stream",
     "text": [
      "Episode 246 - Rewards: {'player_0': 0, 'player_1': 0} - Epsilon: {'player_0': 0.0843835653264699, 'player_1': 0.05}\n",
      "Episode 247 - Rewards: {'player_0': 0, 'player_1': 0} - Epsilon: {'player_0': 0.0835397296732052, 'player_1': 0.05}\n"
     ]
    },
    {
     "name": "stderr",
     "output_type": "stream",
     "text": [
      " 31%|███▏      | 250/800 [00:32<01:05,  8.38it/s]"
     ]
    },
    {
     "name": "stdout",
     "output_type": "stream",
     "text": [
      "Episode 248 - Rewards: {'player_0': 0, 'player_1': 0} - Epsilon: {'player_0': 0.08270433237647315, 'player_1': 0.05}\n",
      "Episode 249 - Rewards: {'player_0': 0, 'player_1': 0} - Epsilon: {'player_0': 0.08187728905270841, 'player_1': 0.05}\n",
      "Episode 250 - Rewards: {'player_0': 0, 'player_1': 0} - Epsilon: {'player_0': 0.08105851616218133, 'player_1': 0.05}\n"
     ]
    },
    {
     "name": "stderr",
     "output_type": "stream",
     "text": [
      " 32%|███▏      | 253/800 [00:33<01:13,  7.42it/s]"
     ]
    },
    {
     "name": "stdout",
     "output_type": "stream",
     "text": [
      "Episode 251 - Rewards: {'player_0': 0, 'player_1': 0} - Epsilon: {'player_0': 0.08024793100055952, 'player_1': 0.05}\n",
      "Episode 252 - Rewards: {'player_0': 0, 'player_1': 0} - Epsilon: {'player_0': 0.07944545169055392, 'player_1': 0.05}\n",
      "Episode 253 - Rewards: {'player_0': 0, 'player_1': 0} - Epsilon: {'player_0': 0.07865099717364837, 'player_1': 0.05}\n"
     ]
    },
    {
     "name": "stderr",
     "output_type": "stream",
     "text": [
      " 32%|███▏      | 255/800 [00:33<01:01,  8.87it/s]"
     ]
    },
    {
     "name": "stdout",
     "output_type": "stream",
     "text": [
      "Episode 254 - Rewards: {'player_0': 0, 'player_1': 0} - Epsilon: {'player_0': 0.07786448720191189, 'player_1': 0.05}\n",
      "Episode 255 - Rewards: {'player_0': 0, 'player_1': 0} - Epsilon: {'player_0': 0.07708584232989277, 'player_1': 0.05}\n"
     ]
    },
    {
     "name": "stderr",
     "output_type": "stream",
     "text": [
      " 32%|███▏      | 257/800 [00:33<01:05,  8.26it/s]"
     ]
    },
    {
     "name": "stdout",
     "output_type": "stream",
     "text": [
      "Episode 256 - Rewards: {'player_0': 0, 'player_1': 0} - Epsilon: {'player_0': 0.07631498390659384, 'player_1': 0.05}\n",
      "Episode 257 - Rewards: {'player_0': 0, 'player_1': 0} - Epsilon: {'player_0': 0.07555183406752791, 'player_1': 0.05}\n",
      "Episode 258 - Rewards: {'player_0': 0, 'player_1': 0} - Epsilon: {'player_0': 0.07479631572685264, 'player_1': 0.05}\n"
     ]
    },
    {
     "name": "stderr",
     "output_type": "stream",
     "text": [
      " 33%|███▎      | 261/800 [00:34<01:02,  8.67it/s]"
     ]
    },
    {
     "name": "stdout",
     "output_type": "stream",
     "text": [
      "Episode 259 - Rewards: {'player_0': 0, 'player_1': 0} - Epsilon: {'player_0': 0.07404835256958411, 'player_1': 0.05}\n",
      "Episode 260 - Rewards: {'player_0': 0, 'player_1': 0} - Epsilon: {'player_0': 0.07330786904388827, 'player_1': 0.05}\n",
      "Episode 261 - Rewards: {'player_0': 0, 'player_1': 0} - Epsilon: {'player_0': 0.07257479035344938, 'player_1': 0.05}\n"
     ]
    },
    {
     "name": "stderr",
     "output_type": "stream",
     "text": [
      " 33%|███▎      | 263/800 [00:34<00:54,  9.87it/s]"
     ]
    },
    {
     "name": "stdout",
     "output_type": "stream",
     "text": [
      "Episode 262 - Rewards: {'player_0': 0, 'player_1': 0} - Epsilon: {'player_0': 0.07184904244991488, 'player_1': 0.05}\n",
      "Episode 263 - Rewards: {'player_0': 0, 'player_1': 0} - Epsilon: {'player_0': 0.07113055202541574, 'player_1': 0.05}\n"
     ]
    },
    {
     "name": "stderr",
     "output_type": "stream",
     "text": [
      " 33%|███▎      | 265/800 [00:34<01:07,  7.90it/s]"
     ]
    },
    {
     "name": "stdout",
     "output_type": "stream",
     "text": [
      "Episode 264 - Rewards: {'player_0': 0, 'player_1': 0} - Epsilon: {'player_0': 0.07041924650516158, 'player_1': 0.05}\n",
      "Episode 265 - Rewards: {'player_0': 0, 'player_1': 0} - Epsilon: {'player_0': 0.06971505404010997, 'player_1': 0.05}\n"
     ]
    },
    {
     "name": "stderr",
     "output_type": "stream",
     "text": [
      " 33%|███▎      | 267/800 [00:34<00:58,  9.10it/s]"
     ]
    },
    {
     "name": "stdout",
     "output_type": "stream",
     "text": [
      "Episode 266 - Rewards: {'player_0': 0, 'player_1': 0} - Epsilon: {'player_0': 0.06901790349970886, 'player_1': 0.05}\n",
      "Episode 267 - Rewards: {'player_0': 0, 'player_1': 0} - Epsilon: {'player_0': 0.06832772446471178, 'player_1': 0.05}\n",
      "Episode 268 - Rewards: {'player_0': 0, 'player_1': 0} - Epsilon: {'player_0': 0.06764444722006466, 'player_1': 0.05}\n"
     ]
    },
    {
     "name": "stderr",
     "output_type": "stream",
     "text": [
      " 34%|███▎      | 269/800 [00:35<01:41,  5.23it/s]"
     ]
    },
    {
     "name": "stdout",
     "output_type": "stream",
     "text": [
      "Episode 269 - Rewards: {'player_0': 0, 'player_1': 0} - Epsilon: {'player_0': 0.066968002747864, 'player_1': 0.05}\n",
      "Episode 270 - Rewards: {'player_0': 0, 'player_1': 0} - Epsilon: {'player_0': 0.06629832272038537, 'player_1': 0.05}\n",
      "Episode 271 - Rewards: {'player_0': 0, 'player_1': 0} - Epsilon: {'player_0': 0.06563533949318151, 'player_1': 0.05}\n"
     ]
    },
    {
     "name": "stderr",
     "output_type": "stream",
     "text": [
      " 34%|███▍      | 273/800 [00:35<01:09,  7.59it/s]"
     ]
    },
    {
     "name": "stdout",
     "output_type": "stream",
     "text": [
      "Episode 272 - Rewards: {'player_0': 0, 'player_1': 0} - Epsilon: {'player_0': 0.06497898609824969, 'player_1': 0.05}\n",
      "Episode 273 - Rewards: {'player_0': 0, 'player_1': 0} - Epsilon: {'player_0': 0.0643291962372672, 'player_1': 0.05}\n",
      "Episode 274 - Rewards: {'player_0': 0, 'player_1': 0} - Epsilon: {'player_0': 0.06368590427489453, 'player_1': 0.05}\n"
     ]
    },
    {
     "name": "stderr",
     "output_type": "stream",
     "text": [
      " 35%|███▍      | 278/800 [00:36<00:59,  8.70it/s]"
     ]
    },
    {
     "name": "stdout",
     "output_type": "stream",
     "text": [
      "Episode 275 - Rewards: {'player_0': 0, 'player_1': 0} - Epsilon: {'player_0': 0.06304904523214558, 'player_1': 0.05}\n",
      "Episode 276 - Rewards: {'player_0': 0, 'player_1': 0} - Epsilon: {'player_0': 0.06241855477982412, 'player_1': 0.05}\n",
      "Episode 277 - Rewards: {'player_0': 0, 'player_1': 0} - Epsilon: {'player_0': 0.06179436923202588, 'player_1': 0.05}\n",
      "Episode 278 - Rewards: {'player_0': 0, 'player_1': 0} - Epsilon: {'player_0': 0.06117642553970562, 'player_1': 0.05}\n",
      "Episode 279 - Rewards: {'player_0': 0, 'player_1': 0} - Epsilon: {'player_0': 0.06056466128430856, 'player_1': 0.05}\n",
      "Episode 280 - Rewards: {'player_0': 0, 'player_1': 0} - Epsilon: {'player_0': 0.05995901467146548, 'player_1': 0.05}\n"
     ]
    },
    {
     "name": "stderr",
     "output_type": "stream",
     "text": [
      " 36%|███▌      | 285/800 [00:36<00:35, 14.48it/s]"
     ]
    },
    {
     "name": "stdout",
     "output_type": "stream",
     "text": [
      "Episode 281 - Rewards: {'player_0': 0, 'player_1': 0} - Epsilon: {'player_0': 0.05935942452475082, 'player_1': 0.05}\n",
      "Episode 282 - Rewards: {'player_0': 0, 'player_1': 0} - Epsilon: {'player_0': 0.058765830279503314, 'player_1': 0.05}\n",
      "Episode 283 - Rewards: {'player_0': 0, 'player_1': 0} - Epsilon: {'player_0': 0.05817817197670828, 'player_1': 0.05}\n",
      "Episode 284 - Rewards: {'player_0': 0, 'player_1': 0} - Epsilon: {'player_0': 0.057596390256941195, 'player_1': 0.05}\n",
      "Episode 285 - Rewards: {'player_0': 0, 'player_1': 0} - Epsilon: {'player_0': 0.05702042635437178, 'player_1': 0.05}\n",
      "Episode 286 - Rewards: {'player_0': 0, 'player_1': 0} - Epsilon: {'player_0': 0.05645022209082806, 'player_1': 0.05}\n"
     ]
    },
    {
     "name": "stderr",
     "output_type": "stream",
     "text": [
      " 36%|███▌      | 287/800 [00:36<00:33, 15.41it/s]"
     ]
    },
    {
     "name": "stdout",
     "output_type": "stream",
     "text": [
      "Episode 287 - Rewards: {'player_0': 0, 'player_1': 0} - Epsilon: {'player_0': 0.05588571986991978, 'player_1': 0.05}\n"
     ]
    },
    {
     "name": "stderr",
     "output_type": "stream",
     "text": [
      " 36%|███▌      | 289/800 [00:37<00:49, 10.30it/s]"
     ]
    },
    {
     "name": "stdout",
     "output_type": "stream",
     "text": [
      "Episode 288 - Rewards: {'player_0': 0, 'player_1': 0} - Epsilon: {'player_0': 0.055326862671220584, 'player_1': 0.05}\n",
      "Episode 289 - Rewards: {'player_0': 0, 'player_1': 0} - Epsilon: {'player_0': 0.05477359404450838, 'player_1': 0.05}\n",
      "Episode 290 - Rewards: {'player_0': 0, 'player_1': 0} - Epsilon: {'player_0': 0.054225858104063294, 'player_1': 0.05}\n"
     ]
    },
    {
     "name": "stderr",
     "output_type": "stream",
     "text": [
      " 37%|███▋      | 293/800 [00:37<00:40, 12.67it/s]"
     ]
    },
    {
     "name": "stdout",
     "output_type": "stream",
     "text": [
      "Episode 291 - Rewards: {'player_0': 0, 'player_1': 0} - Epsilon: {'player_0': 0.05368359952302266, 'player_1': 0.05}\n",
      "Episode 292 - Rewards: {'player_0': 0, 'player_1': 0} - Epsilon: {'player_0': 0.053146763527792434, 'player_1': 0.05}\n",
      "Episode 293 - Rewards: {'player_0': 0, 'player_1': 0} - Epsilon: {'player_0': 0.052615295892514506, 'player_1': 0.05}\n",
      "Episode 294 - Rewards: {'player_0': 0, 'player_1': 0} - Epsilon: {'player_0': 0.052089142933589364, 'player_1': 0.05}\n"
     ]
    },
    {
     "name": "stderr",
     "output_type": "stream",
     "text": [
      " 37%|███▋      | 299/800 [00:37<00:30, 16.53it/s]"
     ]
    },
    {
     "name": "stdout",
     "output_type": "stream",
     "text": [
      "Episode 295 - Rewards: {'player_0': 0, 'player_1': 0} - Epsilon: {'player_0': 0.05156825150425347, 'player_1': 0.05}\n",
      "Episode 296 - Rewards: {'player_0': 0, 'player_1': 0} - Epsilon: {'player_0': 0.051052568989210935, 'player_1': 0.05}\n",
      "Episode 297 - Rewards: {'player_0': 0, 'player_1': 0} - Epsilon: {'player_0': 0.05054204329931883, 'player_1': 0.05}\n",
      "Episode 298 - Rewards: {'player_0': 0, 'player_1': 0} - Epsilon: {'player_0': 0.05003662286632564, 'player_1': 0.05}\n",
      "Episode 299 - Rewards: {'player_0': 0, 'player_1': 0} - Epsilon: {'player_0': 0.04953625663766238, 'player_1': 0.05}\n",
      "Episode 300 - Rewards: {'player_0': 0, 'player_1': 0} - Epsilon: {'player_0': 0.04904089407128576, 'player_1': 0.05}\n"
     ]
    },
    {
     "name": "stderr",
     "output_type": "stream",
     "text": [
      " 38%|███▊      | 305/800 [00:37<00:24, 20.14it/s]"
     ]
    },
    {
     "name": "stdout",
     "output_type": "stream",
     "text": [
      "Episode 301 - Rewards: {'player_0': 0, 'player_1': 0} - Epsilon: {'player_0': 0.0485504851305729, 'player_1': 0.05}\n",
      "Episode 302 - Rewards: {'player_0': 0, 'player_1': 0} - Epsilon: {'player_0': 0.048064980279267165, 'player_1': 0.05}\n",
      "Episode 303 - Rewards: {'player_0': 0, 'player_1': 0} - Epsilon: {'player_0': 0.04758433047647449, 'player_1': 0.05}\n",
      "Episode 304 - Rewards: {'player_0': 0, 'player_1': 0} - Epsilon: {'player_0': 0.04710848717170975, 'player_1': 0.05}\n",
      "Episode 305 - Rewards: {'player_0': 0, 'player_1': 0} - Epsilon: {'player_0': 0.04663740229999265, 'player_1': 0.05}\n",
      "Episode 306 - Rewards: {'player_0': 0, 'player_1': 0} - Epsilon: {'player_0': 0.04617102827699272, 'player_1': 0.05}\n"
     ]
    },
    {
     "name": "stderr",
     "output_type": "stream",
     "text": [
      " 39%|███▉      | 311/800 [00:38<00:22, 21.72it/s]"
     ]
    },
    {
     "name": "stdout",
     "output_type": "stream",
     "text": [
      "Episode 307 - Rewards: {'player_0': 0, 'player_1': 0} - Epsilon: {'player_0': 0.045709317994222794, 'player_1': 0.05}\n",
      "Episode 308 - Rewards: {'player_0': 0, 'player_1': 0} - Epsilon: {'player_0': 0.04525222481428057, 'player_1': 0.05}\n",
      "Episode 309 - Rewards: {'player_0': 0, 'player_1': 0} - Epsilon: {'player_0': 0.04479970256613776, 'player_1': 0.05}\n",
      "Episode 310 - Rewards: {'player_0': 0, 'player_1': 0} - Epsilon: {'player_0': 0.04435170554047638, 'player_1': 0.05}\n",
      "Episode 311 - Rewards: {'player_0': 0, 'player_1': 0} - Epsilon: {'player_0': 0.043908188485071616, 'player_1': 0.05}\n",
      "Episode 312 - Rewards: {'player_0': 0, 'player_1': 0} - Epsilon: {'player_0': 0.0434691066002209, 'player_1': 0.05}\n"
     ]
    },
    {
     "name": "stderr",
     "output_type": "stream",
     "text": [
      " 39%|███▉      | 314/800 [00:38<00:26, 18.13it/s]"
     ]
    },
    {
     "name": "stdout",
     "output_type": "stream",
     "text": [
      "Episode 313 - Rewards: {'player_0': 0, 'player_1': 0} - Epsilon: {'player_0': 0.04303441553421869, 'player_1': 0.05}\n",
      "Episode 314 - Rewards: {'player_0': 0, 'player_1': 0} - Epsilon: {'player_0': 0.0426040713788765, 'player_1': 0.05}\n",
      "Episode 315 - Rewards: {'player_0': 0, 'player_1': 0} - Epsilon: {'player_0': 0.04217803066508773, 'player_1': 0.05}\n",
      "Episode 316 - Rewards: {'player_0': 0, 'player_1': 0} - Epsilon: {'player_0': 0.04175625035843686, 'player_1': 0.05}\n",
      "Episode 317 - Rewards: {'player_0': 0, 'player_1': 0} - Epsilon: {'player_0': 0.041338687854852486, 'player_1': 0.05}\n"
     ]
    },
    {
     "name": "stderr",
     "output_type": "stream",
     "text": [
      " 40%|███▉      | 319/800 [00:38<00:36, 13.02it/s]"
     ]
    },
    {
     "name": "stdout",
     "output_type": "stream",
     "text": [
      "Episode 318 - Rewards: {'player_0': 0, 'player_1': 0} - Epsilon: {'player_0': 0.04092530097630396, 'player_1': 0.05}\n",
      "Episode 319 - Rewards: {'player_0': 0, 'player_1': 0} - Epsilon: {'player_0': 0.040516047966540916, 'player_1': 0.05}\n",
      "Episode 320 - Rewards: {'player_0': 0, 'player_1': 0} - Epsilon: {'player_0': 0.04011088748687551, 'player_1': 0.05}\n"
     ]
    },
    {
     "name": "stderr",
     "output_type": "stream",
     "text": [
      " 40%|████      | 324/800 [00:39<00:28, 16.57it/s]"
     ]
    },
    {
     "name": "stdout",
     "output_type": "stream",
     "text": [
      "Episode 321 - Rewards: {'player_0': 0, 'player_1': 0} - Epsilon: {'player_0': 0.03970977861200675, 'player_1': 0.05}\n",
      "Episode 322 - Rewards: {'player_0': 0, 'player_1': 0} - Epsilon: {'player_0': 0.03931268082588668, 'player_1': 0.05}\n",
      "Episode 323 - Rewards: {'player_0': 0, 'player_1': 0} - Epsilon: {'player_0': 0.03891955401762781, 'player_1': 0.05}\n",
      "Episode 324 - Rewards: {'player_0': 0, 'player_1': 0} - Epsilon: {'player_0': 0.03853035847745153, 'player_1': 0.05}\n",
      "Episode 325 - Rewards: {'player_0': 0, 'player_1': 0} - Epsilon: {'player_0': 0.03814505489267701, 'player_1': 0.05}\n"
     ]
    },
    {
     "name": "stderr",
     "output_type": "stream",
     "text": [
      " 41%|████      | 328/800 [00:39<00:29, 15.96it/s]"
     ]
    },
    {
     "name": "stdout",
     "output_type": "stream",
     "text": [
      "Episode 326 - Rewards: {'player_0': 0, 'player_1': 0} - Epsilon: {'player_0': 0.03776360434375024, 'player_1': 0.05}\n",
      "Episode 327 - Rewards: {'player_0': 0, 'player_1': 0} - Epsilon: {'player_0': 0.03738596830031274, 'player_1': 0.05}\n",
      "Episode 328 - Rewards: {'player_0': 0, 'player_1': 0} - Epsilon: {'player_0': 0.03701210861730961, 'player_1': 0.05}\n"
     ]
    },
    {
     "name": "stderr",
     "output_type": "stream",
     "text": [
      " 42%|████▏     | 333/800 [00:39<00:26, 17.58it/s]"
     ]
    },
    {
     "name": "stdout",
     "output_type": "stream",
     "text": [
      "Episode 329 - Rewards: {'player_0': 0, 'player_1': 0} - Epsilon: {'player_0': 0.03664198753113651, 'player_1': 0.05}\n",
      "Episode 330 - Rewards: {'player_0': 0, 'player_1': 0} - Epsilon: {'player_0': 0.036275567655825146, 'player_1': 0.05}\n",
      "Episode 331 - Rewards: {'player_0': 0, 'player_1': 0} - Epsilon: {'player_0': 0.03591281197926689, 'player_1': 0.05}\n",
      "Episode 332 - Rewards: {'player_0': 0, 'player_1': 0} - Epsilon: {'player_0': 0.035553683859474224, 'player_1': 0.05}\n",
      "Episode 333 - Rewards: {'player_0': 0, 'player_1': 0} - Epsilon: {'player_0': 0.03519814702087948, 'player_1': 0.05}\n"
     ]
    },
    {
     "name": "stderr",
     "output_type": "stream",
     "text": [
      " 42%|████▏     | 336/800 [00:39<00:23, 19.80it/s]"
     ]
    },
    {
     "name": "stdout",
     "output_type": "stream",
     "text": [
      "Episode 334 - Rewards: {'player_0': 0, 'player_1': 0} - Epsilon: {'player_0': 0.03484616555067068, 'player_1': 0.05}\n",
      "Episode 335 - Rewards: {'player_0': 0, 'player_1': 0} - Epsilon: {'player_0': 0.034497703895163975, 'player_1': 0.05}\n",
      "Episode 336 - Rewards: {'player_0': 0, 'player_1': 0} - Epsilon: {'player_0': 0.03415272685621234, 'player_1': 0.05}\n",
      "Episode 337 - Rewards: {'player_0': 0, 'player_1': 0} - Epsilon: {'player_0': 0.03381119958765021, 'player_1': 0.05}\n"
     ]
    },
    {
     "name": "stderr",
     "output_type": "stream",
     "text": [
      " 43%|████▎     | 343/800 [00:40<00:21, 21.49it/s]"
     ]
    },
    {
     "name": "stdout",
     "output_type": "stream",
     "text": [
      "Episode 338 - Rewards: {'player_0': 0, 'player_1': 0} - Epsilon: {'player_0': 0.03347308759177371, 'player_1': 0.05}\n",
      "Episode 339 - Rewards: {'player_0': 0, 'player_1': 0} - Epsilon: {'player_0': 0.03313835671585597, 'player_1': 0.05}\n",
      "Episode 340 - Rewards: {'player_0': 0, 'player_1': 0} - Epsilon: {'player_0': 0.03280697314869741, 'player_1': 0.05}\n",
      "Episode 341 - Rewards: {'player_0': 0, 'player_1': 0} - Epsilon: {'player_0': 0.032478903417210436, 'player_1': 0.05}\n",
      "Episode 342 - Rewards: {'player_0': 0, 'player_1': 0} - Epsilon: {'player_0': 0.032154114383038335, 'player_1': 0.05}\n",
      "Episode 343 - Rewards: {'player_0': 0, 'player_1': 0} - Epsilon: {'player_0': 0.03183257323920795, 'player_1': 0.05}\n"
     ]
    },
    {
     "name": "stderr",
     "output_type": "stream",
     "text": [
      " 43%|████▎     | 346/800 [00:40<00:20, 22.57it/s]"
     ]
    },
    {
     "name": "stdout",
     "output_type": "stream",
     "text": [
      "Episode 344 - Rewards: {'player_0': 0, 'player_1': 0} - Epsilon: {'player_0': 0.03151424750681587, 'player_1': 0.05}\n",
      "Episode 345 - Rewards: {'player_0': 0, 'player_1': 0} - Epsilon: {'player_0': 0.03119910503174771, 'player_1': 0.05}\n",
      "Episode 346 - Rewards: {'player_0': 0, 'player_1': 0} - Epsilon: {'player_0': 0.030887113981430233, 'player_1': 0.05}\n",
      "Episode 347 - Rewards: {'player_0': 0, 'player_1': 0} - Epsilon: {'player_0': 0.03057824284161593, 'player_1': 0.05}\n",
      "Episode 348 - Rewards: {'player_0': 0, 'player_1': 0} - Epsilon: {'player_0': 0.03027246041319977, 'player_1': 0.05}\n"
     ]
    },
    {
     "name": "stderr",
     "output_type": "stream",
     "text": [
      " 44%|████▎     | 349/800 [00:40<00:21, 21.40it/s]"
     ]
    },
    {
     "name": "stdout",
     "output_type": "stream",
     "text": [
      "Episode 349 - Rewards: {'player_0': 0, 'player_1': 0} - Epsilon: {'player_0': 0.029969735809067772, 'player_1': 0.05}\n",
      "Episode 350 - Rewards: {'player_0': 0, 'player_1': 0} - Epsilon: {'player_0': 0.029670038450977095, 'player_1': 0.05}\n",
      "Episode 351 - Rewards: {'player_0': 0, 'player_1': 0} - Epsilon: {'player_0': 0.029373338066467324, 'player_1': 0.05}\n"
     ]
    },
    {
     "name": "stderr",
     "output_type": "stream",
     "text": [
      " 44%|████▍     | 352/800 [00:40<00:25, 17.84it/s]"
     ]
    },
    {
     "name": "stdout",
     "output_type": "stream",
     "text": [
      "Episode 352 - Rewards: {'player_0': 0, 'player_1': 0} - Epsilon: {'player_0': 0.02907960468580265, 'player_1': 0.05}\n",
      "Episode 353 - Rewards: {'player_0': 0, 'player_1': 0} - Epsilon: {'player_0': 0.028788808638944622, 'player_1': 0.05}\n",
      "Episode 354 - Rewards: {'player_0': 0, 'player_1': 0} - Epsilon: {'player_0': 0.028500920552555174, 'player_1': 0.05}\n"
     ]
    },
    {
     "name": "stderr",
     "output_type": "stream",
     "text": [
      " 45%|████▍     | 357/800 [00:40<00:25, 17.62it/s]"
     ]
    },
    {
     "name": "stdout",
     "output_type": "stream",
     "text": [
      "Episode 355 - Rewards: {'player_0': 0, 'player_1': 0} - Epsilon: {'player_0': 0.028215911347029624, 'player_1': 0.05}\n",
      "Episode 356 - Rewards: {'player_0': 0, 'player_1': 0} - Epsilon: {'player_0': 0.027933752233559327, 'player_1': 0.05}\n",
      "Episode 357 - Rewards: {'player_0': 0, 'player_1': 0} - Epsilon: {'player_0': 0.027654414711223735, 'player_1': 0.05}\n",
      "Episode 358 - Rewards: {'player_0': 0, 'player_1': 0} - Epsilon: {'player_0': 0.027377870564111496, 'player_1': 0.05}\n",
      "Episode 359 - Rewards: {'player_0': 0, 'player_1': 0} - Epsilon: {'player_0': 0.027104091858470382, 'player_1': 0.05}\n"
     ]
    },
    {
     "name": "stderr",
     "output_type": "stream",
     "text": [
      " 45%|████▌     | 360/800 [00:40<00:23, 18.83it/s]"
     ]
    },
    {
     "name": "stdout",
     "output_type": "stream",
     "text": [
      "Episode 360 - Rewards: {'player_0': 0, 'player_1': 0} - Epsilon: {'player_0': 0.026833050939885677, 'player_1': 0.05}\n",
      "Episode 361 - Rewards: {'player_0': 0, 'player_1': 0} - Epsilon: {'player_0': 0.02656472043048682, 'player_1': 0.05}\n",
      "Episode 362 - Rewards: {'player_0': 0, 'player_1': 0} - Epsilon: {'player_0': 0.02629907322618195, 'player_1': 0.05}\n",
      "Episode 363 - Rewards: {'player_0': 0, 'player_1': 0} - Epsilon: {'player_0': 0.026036082493920133, 'player_1': 0.05}\n"
     ]
    },
    {
     "name": "stderr",
     "output_type": "stream",
     "text": [
      " 46%|████▌     | 369/800 [00:41<00:20, 20.78it/s]"
     ]
    },
    {
     "name": "stdout",
     "output_type": "stream",
     "text": [
      "Episode 364 - Rewards: {'player_0': 0, 'player_1': 0} - Epsilon: {'player_0': 0.02577572166898093, 'player_1': 0.05}\n",
      "Episode 365 - Rewards: {'player_0': 0, 'player_1': 0} - Epsilon: {'player_0': 0.025517964452291122, 'player_1': 0.05}\n",
      "Episode 366 - Rewards: {'player_0': 0, 'player_1': 0} - Epsilon: {'player_0': 0.02526278480776821, 'player_1': 0.05}\n",
      "Episode 367 - Rewards: {'player_0': 0, 'player_1': 0} - Epsilon: {'player_0': 0.025010156959690527, 'player_1': 0.05}\n",
      "Episode 368 - Rewards: {'player_0': 0, 'player_1': 0} - Epsilon: {'player_0': 0.02476005539009362, 'player_1': 0.05}\n",
      "Episode 369 - Rewards: {'player_0': 0, 'player_1': 0} - Epsilon: {'player_0': 0.024512454836192684, 'player_1': 0.05}\n"
     ]
    },
    {
     "name": "stderr",
     "output_type": "stream",
     "text": [
      " 46%|████▋     | 372/800 [00:41<00:19, 21.44it/s]"
     ]
    },
    {
     "name": "stdout",
     "output_type": "stream",
     "text": [
      "Episode 370 - Rewards: {'player_0': 0, 'player_1': 0} - Epsilon: {'player_0': 0.024267330287830756, 'player_1': 0.05}\n",
      "Episode 371 - Rewards: {'player_0': 0, 'player_1': 0} - Epsilon: {'player_0': 0.024024656984952448, 'player_1': 0.05}\n",
      "Episode 372 - Rewards: {'player_0': 0, 'player_1': 0} - Epsilon: {'player_0': 0.023784410415102923, 'player_1': 0.05}\n",
      "Episode 373 - Rewards: {'player_0': 0, 'player_1': 0} - Epsilon: {'player_0': 0.023546566310951894, 'player_1': 0.05}\n",
      "Episode 374 - Rewards: {'player_0': 1, 'player_1': -1} - Epsilon: {'player_0': 0.023311100647842375, 'player_1': 0.05}\n"
     ]
    },
    {
     "name": "stderr",
     "output_type": "stream",
     "text": [
      " 47%|████▋     | 375/800 [00:41<00:21, 20.15it/s]"
     ]
    },
    {
     "name": "stdout",
     "output_type": "stream",
     "text": [
      "Episode 375 - Rewards: {'player_0': 0, 'player_1': 0} - Epsilon: {'player_0': 0.02307798964136395, 'player_1': 0.05}\n",
      "Episode 376 - Rewards: {'player_0': 0, 'player_1': 0} - Epsilon: {'player_0': 0.022847209744950314, 'player_1': 0.05}\n",
      "Episode 377 - Rewards: {'player_0': 0, 'player_1': 0} - Epsilon: {'player_0': 0.02261873764750081, 'player_1': 0.05}\n"
     ]
    },
    {
     "name": "stderr",
     "output_type": "stream",
     "text": [
      " 48%|████▊     | 380/800 [00:42<00:25, 16.63it/s]"
     ]
    },
    {
     "name": "stdout",
     "output_type": "stream",
     "text": [
      "Episode 378 - Rewards: {'player_0': 0, 'player_1': 0} - Epsilon: {'player_0': 0.022392550271025803, 'player_1': 0.05}\n",
      "Episode 379 - Rewards: {'player_0': 0, 'player_1': 0} - Epsilon: {'player_0': 0.022168624768315544, 'player_1': 0.05}\n",
      "Episode 380 - Rewards: {'player_0': 0, 'player_1': 0} - Epsilon: {'player_0': 0.02194693852063239, 'player_1': 0.05}\n",
      "Episode 381 - Rewards: {'player_0': 0, 'player_1': 0} - Epsilon: {'player_0': 0.021727469135426065, 'player_1': 0.05}\n"
     ]
    },
    {
     "name": "stderr",
     "output_type": "stream",
     "text": [
      " 48%|████▊     | 385/800 [00:42<00:25, 16.42it/s]"
     ]
    },
    {
     "name": "stdout",
     "output_type": "stream",
     "text": [
      "Episode 382 - Rewards: {'player_0': 0, 'player_1': 0} - Epsilon: {'player_0': 0.021510194444071803, 'player_1': 0.05}\n",
      "Episode 383 - Rewards: {'player_0': 0, 'player_1': 0} - Epsilon: {'player_0': 0.021295092499631085, 'player_1': 0.05}\n",
      "Episode 384 - Rewards: {'player_0': 0, 'player_1': 0} - Epsilon: {'player_0': 0.021082141574634772, 'player_1': 0.05}\n",
      "Episode 385 - Rewards: {'player_0': 0, 'player_1': 0} - Epsilon: {'player_0': 0.020871320158888425, 'player_1': 0.05}\n"
     ]
    },
    {
     "name": "stderr",
     "output_type": "stream",
     "text": [
      " 49%|████▊     | 389/800 [00:42<00:20, 20.12it/s]"
     ]
    },
    {
     "name": "stdout",
     "output_type": "stream",
     "text": [
      "Episode 386 - Rewards: {'player_0': 0, 'player_1': 0} - Epsilon: {'player_0': 0.020662606957299542, 'player_1': 0.05}\n",
      "Episode 387 - Rewards: {'player_0': 0, 'player_1': 0} - Epsilon: {'player_0': 0.020455980887726547, 'player_1': 0.05}\n",
      "Episode 388 - Rewards: {'player_0': 0, 'player_1': 0} - Epsilon: {'player_0': 0.02025142107884928, 'player_1': 0.05}\n",
      "Episode 389 - Rewards: {'player_0': 0, 'player_1': 0} - Epsilon: {'player_0': 0.020048906868060788, 'player_1': 0.05}\n",
      "Episode 390 - Rewards: {'player_0': 0, 'player_1': 0} - Epsilon: {'player_0': 0.01984841779938018, 'player_1': 0.05}\n"
     ]
    },
    {
     "name": "stderr",
     "output_type": "stream",
     "text": [
      " 50%|████▉     | 396/800 [00:42<00:18, 22.27it/s]"
     ]
    },
    {
     "name": "stdout",
     "output_type": "stream",
     "text": [
      "Episode 391 - Rewards: {'player_0': 0, 'player_1': 0} - Epsilon: {'player_0': 0.019649933621386378, 'player_1': 0.05}\n",
      "Episode 392 - Rewards: {'player_0': 0, 'player_1': 0} - Epsilon: {'player_0': 0.019453434285172513, 'player_1': 0.05}\n",
      "Episode 393 - Rewards: {'player_0': 0, 'player_1': 0} - Epsilon: {'player_0': 0.019258899942320787, 'player_1': 0.05}\n",
      "Episode 394 - Rewards: {'player_0': 0, 'player_1': 0} - Epsilon: {'player_0': 0.01906631094289758, 'player_1': 0.05}\n",
      "Episode 395 - Rewards: {'player_0': 0, 'player_1': 0} - Epsilon: {'player_0': 0.018875647833468602, 'player_1': 0.05}\n",
      "Episode 396 - Rewards: {'player_0': -1, 'player_1': 1} - Epsilon: {'player_0': 0.018686891355133916, 'player_1': 0.05}\n"
     ]
    },
    {
     "name": "stderr",
     "output_type": "stream",
     "text": [
      " 50%|█████     | 400/800 [00:42<00:16, 24.19it/s]"
     ]
    },
    {
     "name": "stdout",
     "output_type": "stream",
     "text": [
      "Episode 397 - Rewards: {'player_0': 0, 'player_1': 0} - Epsilon: {'player_0': 0.018500022441582577, 'player_1': 0.05}\n",
      "Episode 398 - Rewards: {'player_0': 0, 'player_1': 0} - Epsilon: {'player_0': 0.01831502221716675, 'player_1': 0.05}\n",
      "Episode 399 - Rewards: {'player_0': 0, 'player_1': 0} - Epsilon: {'player_0': 0.018131871994995084, 'player_1': 0.05}\n",
      "Episode 400 - Rewards: {'player_0': 0, 'player_1': 0} - Epsilon: {'player_0': 0.017950553275045134, 'player_1': 0.05}\n",
      "Episode 401 - Rewards: {'player_0': 0, 'player_1': 0} - Epsilon: {'player_0': 0.017771047742294682, 'player_1': 0.05}\n"
     ]
    },
    {
     "name": "stderr",
     "output_type": "stream",
     "text": [
      " 50%|█████     | 403/800 [00:43<00:18, 21.23it/s]"
     ]
    },
    {
     "name": "stdout",
     "output_type": "stream",
     "text": [
      "Episode 402 - Rewards: {'player_0': 0, 'player_1': 0} - Epsilon: {'player_0': 0.017593337264871736, 'player_1': 0.05}\n",
      "Episode 403 - Rewards: {'player_0': 0, 'player_1': 0} - Epsilon: {'player_0': 0.01741740389222302, 'player_1': 0.05}\n",
      "Episode 404 - Rewards: {'player_0': 0, 'player_1': 0} - Epsilon: {'player_0': 0.01724322985330079, 'player_1': 0.05}\n",
      "Episode 405 - Rewards: {'player_0': 0, 'player_1': 0} - Epsilon: {'player_0': 0.017070797554767782, 'player_1': 0.05}\n"
     ]
    },
    {
     "name": "stderr",
     "output_type": "stream",
     "text": [
      " 51%|█████▏    | 410/800 [00:43<00:16, 24.35it/s]"
     ]
    },
    {
     "name": "stdout",
     "output_type": "stream",
     "text": [
      "Episode 406 - Rewards: {'player_0': 0, 'player_1': 0} - Epsilon: {'player_0': 0.016900089579220106, 'player_1': 0.05}\n",
      "Episode 407 - Rewards: {'player_0': 0, 'player_1': 0} - Epsilon: {'player_0': 0.016731088683427906, 'player_1': 0.05}\n",
      "Episode 408 - Rewards: {'player_0': 0, 'player_1': 0} - Epsilon: {'player_0': 0.016563777796593626, 'player_1': 0.05}\n",
      "Episode 409 - Rewards: {'player_0': 0, 'player_1': 0} - Epsilon: {'player_0': 0.016398140018627688, 'player_1': 0.05}\n",
      "Episode 410 - Rewards: {'player_0': 0, 'player_1': 0} - Epsilon: {'player_0': 0.01623415861844141, 'player_1': 0.05}\n",
      "Episode 411 - Rewards: {'player_0': 0, 'player_1': 0} - Epsilon: {'player_0': 0.016071817032256998, 'player_1': 0.05}\n",
      "Episode 412 - Rewards: {'player_0': 0, 'player_1': 0} - Epsilon: {'player_0': 0.01591109886193443, 'player_1': 0.05}\n"
     ]
    },
    {
     "name": "stderr",
     "output_type": "stream",
     "text": [
      " 52%|█████▏    | 418/800 [00:43<00:14, 26.88it/s]"
     ]
    },
    {
     "name": "stdout",
     "output_type": "stream",
     "text": [
      "Episode 413 - Rewards: {'player_0': 0, 'player_1': 0} - Epsilon: {'player_0': 0.015751987873315085, 'player_1': 0.05}\n",
      "Episode 414 - Rewards: {'player_0': 0, 'player_1': 0} - Epsilon: {'player_0': 0.015594467994581935, 'player_1': 0.05}\n",
      "Episode 415 - Rewards: {'player_0': 0, 'player_1': 0} - Epsilon: {'player_0': 0.015438523314636115, 'player_1': 0.05}\n",
      "Episode 416 - Rewards: {'player_0': 0, 'player_1': 0} - Epsilon: {'player_0': 0.015284138081489753, 'player_1': 0.05}\n",
      "Episode 417 - Rewards: {'player_0': 0, 'player_1': 0} - Epsilon: {'player_0': 0.015131296700674856, 'player_1': 0.05}\n",
      "Episode 418 - Rewards: {'player_0': 0, 'player_1': 0} - Epsilon: {'player_0': 0.014979983733668108, 'player_1': 0.05}\n",
      "Episode 419 - Rewards: {'player_0': 0, 'player_1': 0} - Epsilon: {'player_0': 0.014830183896331426, 'player_1': 0.05}\n"
     ]
    },
    {
     "name": "stderr",
     "output_type": "stream",
     "text": [
      " 53%|█████▎    | 425/800 [00:43<00:13, 28.53it/s]"
     ]
    },
    {
     "name": "stdout",
     "output_type": "stream",
     "text": [
      "Episode 420 - Rewards: {'player_0': 0, 'player_1': 0} - Epsilon: {'player_0': 0.014681882057368112, 'player_1': 0.05}\n",
      "Episode 421 - Rewards: {'player_0': 0, 'player_1': 0} - Epsilon: {'player_0': 0.01453506323679443, 'player_1': 0.05}\n",
      "Episode 422 - Rewards: {'player_0': 0, 'player_1': 0} - Epsilon: {'player_0': 0.014389712604426485, 'player_1': 0.05}\n",
      "Episode 423 - Rewards: {'player_0': 0, 'player_1': 0} - Epsilon: {'player_0': 0.01424581547838222, 'player_1': 0.05}\n",
      "Episode 424 - Rewards: {'player_0': 0, 'player_1': 0} - Epsilon: {'player_0': 0.014103357323598397, 'player_1': 0.05}\n",
      "Episode 425 - Rewards: {'player_0': 0, 'player_1': 0} - Epsilon: {'player_0': 0.013962323750362413, 'player_1': 0.05}\n",
      "Episode 426 - Rewards: {'player_0': 0, 'player_1': 0} - Epsilon: {'player_0': 0.013822700512858789, 'player_1': 0.05}\n"
     ]
    },
    {
     "name": "stderr",
     "output_type": "stream",
     "text": [
      " 54%|█████▎    | 428/800 [00:44<00:15, 23.66it/s]"
     ]
    },
    {
     "name": "stdout",
     "output_type": "stream",
     "text": [
      "Episode 427 - Rewards: {'player_0': 0, 'player_1': 0} - Epsilon: {'player_0': 0.0136844735077302, 'player_1': 0.05}\n",
      "Episode 428 - Rewards: {'player_0': 0, 'player_1': 0} - Epsilon: {'player_0': 0.013547628772652899, 'player_1': 0.05}\n",
      "Episode 429 - Rewards: {'player_0': 0, 'player_1': 0} - Epsilon: {'player_0': 0.01341215248492637, 'player_1': 0.05}\n"
     ]
    },
    {
     "name": "stderr",
     "output_type": "stream",
     "text": [
      " 54%|█████▍    | 431/800 [00:44<00:19, 19.12it/s]"
     ]
    },
    {
     "name": "stdout",
     "output_type": "stream",
     "text": [
      "Episode 430 - Rewards: {'player_0': 0, 'player_1': 0} - Epsilon: {'player_0': 0.013278030960077106, 'player_1': 0.05}\n",
      "Episode 431 - Rewards: {'player_0': 0, 'player_1': 0} - Epsilon: {'player_0': 0.013145250650476335, 'player_1': 0.05}\n",
      "Episode 432 - Rewards: {'player_0': 0, 'player_1': 0} - Epsilon: {'player_0': 0.01301379814397157, 'player_1': 0.05}\n",
      "Episode 433 - Rewards: {'player_0': 0, 'player_1': 0} - Epsilon: {'player_0': 0.012883660162531854, 'player_1': 0.05}\n"
     ]
    },
    {
     "name": "stderr",
     "output_type": "stream",
     "text": [
      " 55%|█████▍    | 437/800 [00:44<00:18, 20.12it/s]"
     ]
    },
    {
     "name": "stdout",
     "output_type": "stream",
     "text": [
      "Episode 434 - Rewards: {'player_0': 0, 'player_1': 0} - Epsilon: {'player_0': 0.012754823560906535, 'player_1': 0.05}\n",
      "Episode 435 - Rewards: {'player_0': 0, 'player_1': 0} - Epsilon: {'player_0': 0.01262727532529747, 'player_1': 0.05}\n",
      "Episode 436 - Rewards: {'player_0': 0, 'player_1': 0} - Epsilon: {'player_0': 0.012501002572044496, 'player_1': 0.05}\n",
      "Episode 437 - Rewards: {'player_0': 0, 'player_1': 0} - Epsilon: {'player_0': 0.01237599254632405, 'player_1': 0.05}\n",
      "Episode 438 - Rewards: {'player_0': 0, 'player_1': 0} - Epsilon: {'player_0': 0.01225223262086081, 'player_1': 0.05}\n",
      "Episode 439 - Rewards: {'player_0': 0, 'player_1': 0} - Epsilon: {'player_0': 0.012129710294652202, 'player_1': 0.05}\n"
     ]
    },
    {
     "name": "stderr",
     "output_type": "stream",
     "text": [
      " 56%|█████▌    | 444/800 [00:44<00:15, 22.80it/s]"
     ]
    },
    {
     "name": "stdout",
     "output_type": "stream",
     "text": [
      "Episode 440 - Rewards: {'player_0': 0, 'player_1': 0} - Epsilon: {'player_0': 0.01200841319170568, 'player_1': 0.05}\n",
      "Episode 441 - Rewards: {'player_0': 0, 'player_1': 0} - Epsilon: {'player_0': 0.011888329059788623, 'player_1': 0.05}\n",
      "Episode 442 - Rewards: {'player_0': 0, 'player_1': 0} - Epsilon: {'player_0': 0.011769445769190737, 'player_1': 0.05}\n",
      "Episode 443 - Rewards: {'player_0': 0, 'player_1': 0} - Epsilon: {'player_0': 0.01165175131149883, 'player_1': 0.05}\n",
      "Episode 444 - Rewards: {'player_0': 0, 'player_1': 0} - Epsilon: {'player_0': 0.011535233798383842, 'player_1': 0.05}\n",
      "Episode 445 - Rewards: {'player_0': 0, 'player_1': 0} - Epsilon: {'player_0': 0.011419881460400004, 'player_1': 0.05}\n"
     ]
    },
    {
     "name": "stderr",
     "output_type": "stream",
     "text": [
      " 56%|█████▌    | 447/800 [00:44<00:14, 24.15it/s]"
     ]
    },
    {
     "name": "stdout",
     "output_type": "stream",
     "text": [
      "Episode 446 - Rewards: {'player_0': 0, 'player_1': 0} - Epsilon: {'player_0': 0.011305682645796004, 'player_1': 0.05}\n",
      "Episode 447 - Rewards: {'player_0': 0, 'player_1': 0} - Epsilon: {'player_0': 0.011192625819338045, 'player_1': 0.05}\n"
     ]
    },
    {
     "name": "stderr",
     "output_type": "stream",
     "text": [
      " 57%|█████▋    | 453/800 [00:45<00:17, 19.91it/s]"
     ]
    },
    {
     "name": "stdout",
     "output_type": "stream",
     "text": [
      "Episode 448 - Rewards: {'player_0': 0, 'player_1': 0} - Epsilon: {'player_0': 0.011080699561144665, 'player_1': 0.05}\n",
      "Episode 449 - Rewards: {'player_0': 0, 'player_1': 0} - Epsilon: {'player_0': 0.010969892565533218, 'player_1': 0.05}\n",
      "Episode 450 - Rewards: {'player_0': 0, 'player_1': 0} - Epsilon: {'player_0': 0.010860193639877886, 'player_1': 0.05}\n",
      "Episode 451 - Rewards: {'player_0': 0, 'player_1': 0} - Epsilon: {'player_0': 0.010751591703479106, 'player_1': 0.05}\n",
      "Episode 452 - Rewards: {'player_0': 0, 'player_1': 0} - Epsilon: {'player_0': 0.010644075786444315, 'player_1': 0.05}\n",
      "Episode 453 - Rewards: {'player_0': 0, 'player_1': 0} - Epsilon: {'player_0': 0.010537635028579873, 'player_1': 0.05}\n"
     ]
    },
    {
     "name": "stderr",
     "output_type": "stream",
     "text": [
      " 57%|█████▋    | 456/800 [00:45<00:16, 21.24it/s]"
     ]
    },
    {
     "name": "stdout",
     "output_type": "stream",
     "text": [
      "Episode 454 - Rewards: {'player_0': 0, 'player_1': 0} - Epsilon: {'player_0': 0.010432258678294073, 'player_1': 0.05}\n",
      "Episode 455 - Rewards: {'player_0': 0, 'player_1': 0} - Epsilon: {'player_0': 0.010327936091511133, 'player_1': 0.05}\n",
      "Episode 456 - Rewards: {'player_0': 0, 'player_1': 0} - Epsilon: {'player_0': 0.010224656730596022, 'player_1': 0.05}\n",
      "Episode 457 - Rewards: {'player_0': 0, 'player_1': 0} - Epsilon: {'player_0': 0.01012241016329006, 'player_1': 0.05}\n"
     ]
    },
    {
     "name": "stderr",
     "output_type": "stream",
     "text": [
      " 58%|█████▊    | 463/800 [00:45<00:15, 21.71it/s]"
     ]
    },
    {
     "name": "stdout",
     "output_type": "stream",
     "text": [
      "Episode 458 - Rewards: {'player_0': 0, 'player_1': 0} - Epsilon: {'player_0': 0.01002118606165716, 'player_1': 0.05}\n",
      "Episode 459 - Rewards: {'player_0': 0, 'player_1': 0} - Epsilon: {'player_0': 0.009920974201040588, 'player_1': 0.05}\n",
      "Episode 460 - Rewards: {'player_0': 0, 'player_1': 0} - Epsilon: {'player_0': 0.009821764459030182, 'player_1': 0.05}\n",
      "Episode 461 - Rewards: {'player_0': 0, 'player_1': 0} - Epsilon: {'player_0': 0.00972354681443988, 'player_1': 0.05}\n",
      "Episode 462 - Rewards: {'player_0': 0, 'player_1': 0} - Epsilon: {'player_0': 0.00962631134629548, 'player_1': 0.05}\n",
      "Episode 463 - Rewards: {'player_0': 0, 'player_1': 0} - Epsilon: {'player_0': 0.009530048232832525, 'player_1': 0.05}\n",
      "Episode 464 - Rewards: {'player_0': 0, 'player_1': 0} - Epsilon: {'player_0': 0.009434747750504199, 'player_1': 0.05}\n"
     ]
    },
    {
     "name": "stderr",
     "output_type": "stream",
     "text": [
      " 58%|█████▊    | 467/800 [00:45<00:14, 22.22it/s]"
     ]
    },
    {
     "name": "stdout",
     "output_type": "stream",
     "text": [
      "Episode 465 - Rewards: {'player_0': 0, 'player_1': 0} - Epsilon: {'player_0': 0.009340400272999157, 'player_1': 0.05}\n",
      "Episode 466 - Rewards: {'player_0': 0, 'player_1': 0} - Epsilon: {'player_0': 0.009246996270269165, 'player_1': 0.05}\n",
      "Episode 467 - Rewards: {'player_0': 0, 'player_1': 0} - Epsilon: {'player_0': 0.009154526307566474, 'player_1': 0.05}\n",
      "Episode 468 - Rewards: {'player_0': 0, 'player_1': 0} - Epsilon: {'player_0': 0.009062981044490808, 'player_1': 0.05}\n",
      "Episode 469 - Rewards: {'player_0': 0, 'player_1': 0} - Epsilon: {'player_0': 0.0089723512340459, 'player_1': 0.05}\n"
     ]
    },
    {
     "name": "stderr",
     "output_type": "stream",
     "text": [
      " 59%|█████▉    | 473/800 [00:46<00:13, 24.99it/s]"
     ]
    },
    {
     "name": "stdout",
     "output_type": "stream",
     "text": [
      "Episode 470 - Rewards: {'player_0': 0, 'player_1': 0} - Epsilon: {'player_0': 0.00888262772170544, 'player_1': 0.05}\n",
      "Episode 471 - Rewards: {'player_0': 0, 'player_1': 0} - Epsilon: {'player_0': 0.008793801444488386, 'player_1': 0.05}\n",
      "Episode 472 - Rewards: {'player_0': 0, 'player_1': 0} - Epsilon: {'player_0': 0.008705863430043502, 'player_1': 0.05}\n",
      "Episode 473 - Rewards: {'player_0': 0, 'player_1': 0} - Epsilon: {'player_0': 0.008618804795743068, 'player_1': 0.05}\n",
      "Episode 474 - Rewards: {'player_0': 0, 'player_1': 0} - Epsilon: {'player_0': 0.008532616747785637, 'player_1': 0.05}\n",
      "Episode 475 - Rewards: {'player_0': 0, 'player_1': 0} - Epsilon: {'player_0': 0.00844729058030778, 'player_1': 0.05}\n"
     ]
    },
    {
     "name": "stderr",
     "output_type": "stream",
     "text": [
      " 60%|█████▉    | 479/800 [00:46<00:13, 24.26it/s]"
     ]
    },
    {
     "name": "stdout",
     "output_type": "stream",
     "text": [
      "Episode 476 - Rewards: {'player_0': 0, 'player_1': 0} - Epsilon: {'player_0': 0.008362817674504702, 'player_1': 0.05}\n",
      "Episode 477 - Rewards: {'player_0': 0, 'player_1': 0} - Epsilon: {'player_0': 0.008279189497759654, 'player_1': 0.05}\n",
      "Episode 478 - Rewards: {'player_0': 0, 'player_1': 0} - Epsilon: {'player_0': 0.008196397602782058, 'player_1': 0.05}\n",
      "Episode 479 - Rewards: {'player_0': 0, 'player_1': 0} - Epsilon: {'player_0': 0.008114433626754238, 'player_1': 0.05}\n",
      "Episode 480 - Rewards: {'player_0': 0, 'player_1': 0} - Epsilon: {'player_0': 0.008033289290486696, 'player_1': 0.05}\n"
     ]
    },
    {
     "name": "stderr",
     "output_type": "stream",
     "text": [
      " 61%|██████    | 485/800 [00:46<00:13, 22.93it/s]"
     ]
    },
    {
     "name": "stdout",
     "output_type": "stream",
     "text": [
      "Episode 481 - Rewards: {'player_0': 0, 'player_1': 0} - Epsilon: {'player_0': 0.00795295639758183, 'player_1': 0.05}\n",
      "Episode 482 - Rewards: {'player_0': 0, 'player_1': 0} - Epsilon: {'player_0': 0.00787342683360601, 'player_1': 0.05}\n",
      "Episode 483 - Rewards: {'player_0': 0, 'player_1': 0} - Epsilon: {'player_0': 0.0077946925652699495, 'player_1': 0.05}\n",
      "Episode 484 - Rewards: {'player_0': 0, 'player_1': 0} - Epsilon: {'player_0': 0.00771674563961725, 'player_1': 0.05}\n",
      "Episode 485 - Rewards: {'player_0': 0, 'player_1': 0} - Epsilon: {'player_0': 0.007639578183221077, 'player_1': 0.05}\n",
      "Episode 486 - Rewards: {'player_0': 0, 'player_1': 0} - Epsilon: {'player_0': 0.0075631824013888665, 'player_1': 0.05}\n"
     ]
    },
    {
     "name": "stderr",
     "output_type": "stream",
     "text": [
      " 61%|██████    | 488/800 [00:46<00:12, 24.41it/s]"
     ]
    },
    {
     "name": "stdout",
     "output_type": "stream",
     "text": [
      "Episode 487 - Rewards: {'player_0': 0, 'player_1': 0} - Epsilon: {'player_0': 0.007487550577374978, 'player_1': 0.05}\n",
      "Episode 488 - Rewards: {'player_0': 0, 'player_1': 0} - Epsilon: {'player_0': 0.007412675071601228, 'player_1': 0.05}\n",
      "Episode 489 - Rewards: {'player_0': 0, 'player_1': 0} - Epsilon: {'player_0': 0.007338548320885215, 'player_1': 0.05}\n",
      "Episode 490 - Rewards: {'player_0': 0, 'player_1': 0} - Epsilon: {'player_0': 0.0072651628376763635, 'player_1': 0.05}\n",
      "Episode 491 - Rewards: {'player_0': 0, 'player_1': 0} - Epsilon: {'player_0': 0.0071925112092996, 'player_1': 0.05}\n"
     ]
    },
    {
     "name": "stderr",
     "output_type": "stream",
     "text": [
      " 62%|██████▏   | 497/800 [00:47<00:12, 23.33it/s]"
     ]
    },
    {
     "name": "stdout",
     "output_type": "stream",
     "text": [
      "Episode 492 - Rewards: {'player_0': 0, 'player_1': 0} - Epsilon: {'player_0': 0.007120586097206604, 'player_1': 0.05}\n",
      "Episode 493 - Rewards: {'player_0': 0, 'player_1': 0} - Epsilon: {'player_0': 0.007049380236234538, 'player_1': 0.05}\n",
      "Episode 494 - Rewards: {'player_0': 0, 'player_1': 0} - Epsilon: {'player_0': 0.006978886433872193, 'player_1': 0.05}\n",
      "Episode 495 - Rewards: {'player_0': 0, 'player_1': 0} - Epsilon: {'player_0': 0.006909097569533471, 'player_1': 0.05}\n",
      "Episode 496 - Rewards: {'player_0': 0, 'player_1': 0} - Epsilon: {'player_0': 0.006840006593838137, 'player_1': 0.05}\n",
      "Episode 497 - Rewards: {'player_0': 0, 'player_1': 0} - Epsilon: {'player_0': 0.0067716065278997555, 'player_1': 0.05}\n",
      "Episode 498 - Rewards: {'player_0': 0, 'player_1': 0} - Epsilon: {'player_0': 0.006703890462620758, 'player_1': 0.05}\n"
     ]
    },
    {
     "name": "stderr",
     "output_type": "stream",
     "text": [
      " 63%|██████▎   | 504/800 [00:47<00:11, 26.20it/s]"
     ]
    },
    {
     "name": "stdout",
     "output_type": "stream",
     "text": [
      "Episode 499 - Rewards: {'player_0': 0, 'player_1': 0} - Epsilon: {'player_0': 0.006636851557994551, 'player_1': 0.05}\n",
      "Episode 500 - Rewards: {'player_0': 0, 'player_1': 0} - Epsilon: {'player_0': 0.006570483042414605, 'player_1': 0.05}\n",
      "Episode 501 - Rewards: {'player_0': 0, 'player_1': 0} - Epsilon: {'player_0': 0.006504778211990459, 'player_1': 0.05}\n",
      "Episode 502 - Rewards: {'player_0': 0, 'player_1': 0} - Epsilon: {'player_0': 0.006439730429870554, 'player_1': 0.05}\n",
      "Episode 503 - Rewards: {'player_0': 0, 'player_1': 0} - Epsilon: {'player_0': 0.0063753331255718484, 'player_1': 0.05}\n",
      "Episode 504 - Rewards: {'player_0': 0, 'player_1': 0} - Epsilon: {'player_0': 0.00631157979431613, 'player_1': 0.05}\n",
      "Episode 505 - Rewards: {'player_0': 0, 'player_1': 0} - Epsilon: {'player_0': 0.006248463996372969, 'player_1': 0.05}\n"
     ]
    },
    {
     "name": "stderr",
     "output_type": "stream",
     "text": [
      " 63%|██████▎   | 507/800 [00:47<00:17, 17.09it/s]"
     ]
    },
    {
     "name": "stdout",
     "output_type": "stream",
     "text": [
      "Episode 506 - Rewards: {'player_0': 0, 'player_1': 0} - Epsilon: {'player_0': 0.006185979356409239, 'player_1': 0.05}\n",
      "Episode 507 - Rewards: {'player_0': 0, 'player_1': 0} - Epsilon: {'player_0': 0.006124119562845147, 'player_1': 0.05}\n",
      "Episode 508 - Rewards: {'player_0': 0, 'player_1': 0} - Epsilon: {'player_0': 0.006062878367216695, 'player_1': 0.05}\n",
      "Episode 509 - Rewards: {'player_0': 0, 'player_1': 0} - Epsilon: {'player_0': 0.006002249583544528, 'player_1': 0.05}\n"
     ]
    },
    {
     "name": "stderr",
     "output_type": "stream",
     "text": [
      " 64%|██████▍   | 513/800 [00:48<00:13, 20.70it/s]"
     ]
    },
    {
     "name": "stdout",
     "output_type": "stream",
     "text": [
      "Episode 510 - Rewards: {'player_0': 0, 'player_1': 0} - Epsilon: {'player_0': 0.005942227087709083, 'player_1': 0.05}\n",
      "Episode 511 - Rewards: {'player_0': 0, 'player_1': 0} - Epsilon: {'player_0': 0.005882804816831992, 'player_1': 0.05}\n",
      "Episode 512 - Rewards: {'player_0': 0, 'player_1': 0} - Epsilon: {'player_0': 0.005823976768663672, 'player_1': 0.05}\n",
      "Episode 513 - Rewards: {'player_0': 0, 'player_1': 0} - Epsilon: {'player_0': 0.005765737000977035, 'player_1': 0.05}\n",
      "Episode 514 - Rewards: {'player_0': 0, 'player_1': 0} - Epsilon: {'player_0': 0.005708079630967265, 'player_1': 0.05}\n",
      "Episode 515 - Rewards: {'player_0': 0, 'player_1': 0} - Epsilon: {'player_0': 0.005650998834657592, 'player_1': 0.05}\n"
     ]
    },
    {
     "name": "stderr",
     "output_type": "stream",
     "text": [
      " 65%|██████▌   | 520/800 [00:48<00:11, 25.09it/s]"
     ]
    },
    {
     "name": "stdout",
     "output_type": "stream",
     "text": [
      "Episode 516 - Rewards: {'player_0': 0, 'player_1': 0} - Epsilon: {'player_0': 0.005594488846311016, 'player_1': 0.05}\n",
      "Episode 517 - Rewards: {'player_0': 0, 'player_1': 0} - Epsilon: {'player_0': 0.005538543957847906, 'player_1': 0.05}\n",
      "Episode 518 - Rewards: {'player_0': 0, 'player_1': 0} - Epsilon: {'player_0': 0.005483158518269427, 'player_1': 0.05}\n",
      "Episode 519 - Rewards: {'player_0': 0, 'player_1': 0} - Epsilon: {'player_0': 0.005428326933086733, 'player_1': 0.05}\n",
      "Episode 520 - Rewards: {'player_0': 0, 'player_1': 0} - Epsilon: {'player_0': 0.005374043663755866, 'player_1': 0.05}\n",
      "Episode 521 - Rewards: {'player_0': 0, 'player_1': 0} - Epsilon: {'player_0': 0.005320303227118307, 'player_1': 0.05}\n",
      "Episode 522 - Rewards: {'player_0': 0, 'player_1': 0} - Epsilon: {'player_0': 0.005267100194847124, 'player_1': 0.05}\n"
     ]
    },
    {
     "name": "stderr",
     "output_type": "stream",
     "text": [
      " 65%|██████▌   | 523/800 [00:48<00:11, 24.75it/s]"
     ]
    },
    {
     "name": "stdout",
     "output_type": "stream",
     "text": [
      "Episode 523 - Rewards: {'player_0': 0, 'player_1': 0} - Epsilon: {'player_0': 0.005214429192898652, 'player_1': 0.05}\n",
      "Episode 524 - Rewards: {'player_0': 0, 'player_1': 0} - Epsilon: {'player_0': 0.005162284900969666, 'player_1': 0.05}\n",
      "Episode 525 - Rewards: {'player_0': 0, 'player_1': 0} - Epsilon: {'player_0': 0.005110662051959969, 'player_1': 0.05}\n"
     ]
    },
    {
     "name": "stderr",
     "output_type": "stream",
     "text": [
      " 66%|██████▌   | 529/800 [00:48<00:12, 21.59it/s]"
     ]
    },
    {
     "name": "stdout",
     "output_type": "stream",
     "text": [
      "Episode 526 - Rewards: {'player_0': 0, 'player_1': 0} - Epsilon: {'player_0': 0.005059555431440369, 'player_1': 0.05}\n",
      "Episode 527 - Rewards: {'player_0': 0, 'player_1': 0} - Epsilon: {'player_0': 0.005008959877125965, 'player_1': 0.05}\n",
      "Episode 528 - Rewards: {'player_0': 0, 'player_1': 0} - Epsilon: {'player_0': 0.004958870278354705, 'player_1': 0.05}\n",
      "Episode 529 - Rewards: {'player_0': 0, 'player_1': 0} - Epsilon: {'player_0': 0.004909281575571158, 'player_1': 0.05}\n",
      "Episode 530 - Rewards: {'player_0': 0, 'player_1': 0} - Epsilon: {'player_0': 0.004860188759815446, 'player_1': 0.05}\n",
      "Episode 531 - Rewards: {'player_0': 0, 'player_1': 0} - Epsilon: {'player_0': 0.004811586872217292, 'player_1': 0.05}\n"
     ]
    },
    {
     "name": "stderr",
     "output_type": "stream",
     "text": [
      " 67%|██████▋   | 536/800 [00:49<00:11, 23.29it/s]"
     ]
    },
    {
     "name": "stdout",
     "output_type": "stream",
     "text": [
      "Episode 532 - Rewards: {'player_0': 0, 'player_1': 0} - Epsilon: {'player_0': 0.004763471003495119, 'player_1': 0.05}\n",
      "Episode 533 - Rewards: {'player_0': 0, 'player_1': 0} - Epsilon: {'player_0': 0.004715836293460168, 'player_1': 0.05}\n",
      "Episode 534 - Rewards: {'player_0': 0, 'player_1': 0} - Epsilon: {'player_0': 0.004668677930525566, 'player_1': 0.05}\n",
      "Episode 535 - Rewards: {'player_0': 0, 'player_1': 0} - Epsilon: {'player_0': 0.00462199115122031, 'player_1': 0.05}\n",
      "Episode 536 - Rewards: {'player_0': 0, 'player_1': 0} - Epsilon: {'player_0': 0.004575771239708107, 'player_1': 0.05}\n",
      "Episode 537 - Rewards: {'player_0': 0, 'player_1': 0} - Epsilon: {'player_0': 0.004530013527311026, 'player_1': 0.05}\n",
      "Episode 538 - Rewards: {'player_0': 0, 'player_1': 0} - Epsilon: {'player_0': 0.004484713392037916, 'player_1': 0.05}\n"
     ]
    },
    {
     "name": "stderr",
     "output_type": "stream",
     "text": [
      " 68%|██████▊   | 542/800 [00:49<00:11, 22.12it/s]"
     ]
    },
    {
     "name": "stdout",
     "output_type": "stream",
     "text": [
      "Episode 539 - Rewards: {'player_0': 0, 'player_1': 0} - Epsilon: {'player_0': 0.004439866258117537, 'player_1': 0.05}\n",
      "Episode 540 - Rewards: {'player_0': 0, 'player_1': 0} - Epsilon: {'player_0': 0.004395467595536362, 'player_1': 0.05}\n",
      "Episode 541 - Rewards: {'player_0': 0, 'player_1': 0} - Epsilon: {'player_0': 0.004351512919580998, 'player_1': 0.05}\n",
      "Episode 542 - Rewards: {'player_0': 0, 'player_1': 0} - Epsilon: {'player_0': 0.004307997790385188, 'player_1': 0.05}\n",
      "Episode 543 - Rewards: {'player_0': 0, 'player_1': 0} - Epsilon: {'player_0': 0.004264917812481336, 'player_1': 0.05}\n"
     ]
    },
    {
     "name": "stderr",
     "output_type": "stream",
     "text": [
      " 68%|██████▊   | 545/800 [00:49<00:11, 22.69it/s]"
     ]
    },
    {
     "name": "stdout",
     "output_type": "stream",
     "text": [
      "Episode 544 - Rewards: {'player_0': 0, 'player_1': 0} - Epsilon: {'player_0': 0.0042222686343565225, 'player_1': 0.05}\n",
      "Episode 545 - Rewards: {'player_0': 0, 'player_1': 0} - Epsilon: {'player_0': 0.0041800459480129575, 'player_1': 0.05}\n",
      "Episode 546 - Rewards: {'player_0': 0, 'player_1': 0} - Epsilon: {'player_0': 0.0041382454885328275, 'player_1': 0.05}\n",
      "Episode 547 - Rewards: {'player_0': 0, 'player_1': 0} - Epsilon: {'player_0': 0.004096863033647499, 'player_1': 0.05}\n",
      "Episode 548 - Rewards: {'player_0': 0, 'player_1': 0} - Epsilon: {'player_0': 0.0040558944033110235, 'player_1': 0.05}\n",
      "Episode 549 - Rewards: {'player_0': 0, 'player_1': 0} - Epsilon: {'player_0': 0.0040153354592779135, 'player_1': 0.05}\n"
     ]
    },
    {
     "name": "stderr",
     "output_type": "stream",
     "text": [
      " 69%|██████▉   | 552/800 [00:49<00:10, 23.40it/s]"
     ]
    },
    {
     "name": "stdout",
     "output_type": "stream",
     "text": [
      "Episode 550 - Rewards: {'player_0': 0, 'player_1': 0} - Epsilon: {'player_0': 0.0039751821046851345, 'player_1': 0.05}\n",
      "Episode 551 - Rewards: {'player_0': 0, 'player_1': 0} - Epsilon: {'player_0': 0.003935430283638283, 'player_1': 0.05}\n",
      "Episode 552 - Rewards: {'player_0': 0, 'player_1': 0} - Epsilon: {'player_0': 0.0038960759808019003, 'player_1': 0.05}\n",
      "Episode 553 - Rewards: {'player_0': 0, 'player_1': 0} - Epsilon: {'player_0': 0.003857115220993881, 'player_1': 0.05}\n",
      "Episode 554 - Rewards: {'player_0': 0, 'player_1': 0} - Epsilon: {'player_0': 0.003818544068783942, 'player_1': 0.05}\n",
      "Episode 555 - Rewards: {'player_0': 0, 'player_1': 0} - Epsilon: {'player_0': 0.0037803586280961026, 'player_1': 0.05}\n"
     ]
    },
    {
     "name": "stderr",
     "output_type": "stream",
     "text": [
      " 70%|██████▉   | 559/800 [00:49<00:09, 24.86it/s]"
     ]
    },
    {
     "name": "stdout",
     "output_type": "stream",
     "text": [
      "Episode 556 - Rewards: {'player_0': 0, 'player_1': 0} - Epsilon: {'player_0': 0.0037425550418151415, 'player_1': 0.05}\n",
      "Episode 557 - Rewards: {'player_0': 0, 'player_1': 0} - Epsilon: {'player_0': 0.00370512949139699, 'player_1': 0.05}\n",
      "Episode 558 - Rewards: {'player_0': 0, 'player_1': 0} - Epsilon: {'player_0': 0.0036680781964830204, 'player_1': 0.05}\n",
      "Episode 559 - Rewards: {'player_0': 0, 'player_1': 0} - Epsilon: {'player_0': 0.00363139741451819, 'player_1': 0.05}\n",
      "Episode 560 - Rewards: {'player_0': 0, 'player_1': 0} - Epsilon: {'player_0': 0.003595083440373008, 'player_1': 0.05}\n"
     ]
    },
    {
     "name": "stderr",
     "output_type": "stream",
     "text": [
      " 71%|███████   | 566/800 [00:50<00:09, 25.46it/s]"
     ]
    },
    {
     "name": "stdout",
     "output_type": "stream",
     "text": [
      "Episode 561 - Rewards: {'player_0': 0, 'player_1': 0} - Epsilon: {'player_0': 0.003559132605969278, 'player_1': 0.05}\n",
      "Episode 562 - Rewards: {'player_0': 0, 'player_1': 0} - Epsilon: {'player_0': 0.003523541279909585, 'player_1': 0.05}\n",
      "Episode 563 - Rewards: {'player_0': 0, 'player_1': 0} - Epsilon: {'player_0': 0.003488305867110489, 'player_1': 0.05}\n",
      "Episode 564 - Rewards: {'player_0': 0, 'player_1': 0} - Epsilon: {'player_0': 0.0034534228084393843, 'player_1': 0.05}\n",
      "Episode 565 - Rewards: {'player_0': 0, 'player_1': 0} - Epsilon: {'player_0': 0.0034188885803549903, 'player_1': 0.05}\n",
      "Episode 566 - Rewards: {'player_0': 0, 'player_1': 0} - Epsilon: {'player_0': 0.0033846996945514404, 'player_1': 0.05}\n",
      "Episode 567 - Rewards: {'player_0': 0, 'player_1': 0} - Epsilon: {'player_0': 0.003350852697605926, 'player_1': 0.05}\n"
     ]
    },
    {
     "name": "stderr",
     "output_type": "stream",
     "text": [
      " 71%|███████▏  | 570/800 [00:50<00:08, 26.79it/s]"
     ]
    },
    {
     "name": "stdout",
     "output_type": "stream",
     "text": [
      "Episode 568 - Rewards: {'player_0': 0, 'player_1': 0} - Epsilon: {'player_0': 0.0033173441706298664, 'player_1': 0.05}\n",
      "Episode 569 - Rewards: {'player_0': 0, 'player_1': 0} - Epsilon: {'player_0': 0.0032841707289235677, 'player_1': 0.05}\n",
      "Episode 570 - Rewards: {'player_0': 0, 'player_1': 0} - Epsilon: {'player_0': 0.0032513290216343318, 'player_1': 0.05}\n",
      "Episode 571 - Rewards: {'player_0': 0, 'player_1': 0} - Epsilon: {'player_0': 0.0032188157314179885, 'player_1': 0.05}\n"
     ]
    },
    {
     "name": "stderr",
     "output_type": "stream",
     "text": [
      " 72%|███████▏  | 576/800 [00:50<00:09, 24.42it/s]"
     ]
    },
    {
     "name": "stdout",
     "output_type": "stream",
     "text": [
      "Episode 572 - Rewards: {'player_0': 0, 'player_1': 0} - Epsilon: {'player_0': 0.003186627574103809, 'player_1': 0.05}\n",
      "Episode 573 - Rewards: {'player_0': 0, 'player_1': 0} - Epsilon: {'player_0': 0.0031547612983627705, 'player_1': 0.05}\n",
      "Episode 574 - Rewards: {'player_0': 0, 'player_1': 0} - Epsilon: {'player_0': 0.003123213685379143, 'player_1': 0.05}\n",
      "Episode 575 - Rewards: {'player_0': 0, 'player_1': 0} - Epsilon: {'player_0': 0.0030919815485253516, 'player_1': 0.05}\n",
      "Episode 576 - Rewards: {'player_0': 0, 'player_1': 0} - Epsilon: {'player_0': 0.003061061733040098, 'player_1': 0.05}\n",
      "Episode 577 - Rewards: {'player_0': 0, 'player_1': 0} - Epsilon: {'player_0': 0.003030451115709697, 'player_1': 0.05}\n"
     ]
    },
    {
     "name": "stderr",
     "output_type": "stream",
     "text": [
      " 73%|███████▎  | 582/800 [00:50<00:09, 23.54it/s]"
     ]
    },
    {
     "name": "stdout",
     "output_type": "stream",
     "text": [
      "Episode 578 - Rewards: {'player_0': 0, 'player_1': 0} - Epsilon: {'player_0': 0.0030001466045526, 'player_1': 0.05}\n",
      "Episode 579 - Rewards: {'player_0': 0, 'player_1': 0} - Epsilon: {'player_0': 0.002970145138507074, 'player_1': 0.05}\n",
      "Episode 580 - Rewards: {'player_0': 0, 'player_1': 0} - Epsilon: {'player_0': 0.002940443687122003, 'player_1': 0.05}\n",
      "Episode 581 - Rewards: {'player_0': 0, 'player_1': 0} - Epsilon: {'player_0': 0.002911039250250783, 'player_1': 0.05}\n",
      "Episode 582 - Rewards: {'player_0': 0, 'player_1': 0} - Epsilon: {'player_0': 0.0028819288577482754, 'player_1': 0.05}\n"
     ]
    },
    {
     "name": "stderr",
     "output_type": "stream",
     "text": [
      " 73%|███████▎  | 586/800 [00:51<00:08, 25.63it/s]"
     ]
    },
    {
     "name": "stdout",
     "output_type": "stream",
     "text": [
      "Episode 583 - Rewards: {'player_0': 0, 'player_1': 0} - Epsilon: {'player_0': 0.0028531095691707925, 'player_1': 0.05}\n",
      "Episode 584 - Rewards: {'player_0': 0, 'player_1': 0} - Epsilon: {'player_0': 0.0028245784734790844, 'player_1': 0.05}\n",
      "Episode 585 - Rewards: {'player_0': 0, 'player_1': 0} - Epsilon: {'player_0': 0.0027963326887442937, 'player_1': 0.05}\n",
      "Episode 586 - Rewards: {'player_0': 0, 'player_1': 0} - Epsilon: {'player_0': 0.0027683693618568506, 'player_1': 0.05}\n",
      "Episode 587 - Rewards: {'player_0': 0, 'player_1': 0} - Epsilon: {'player_0': 0.002740685668238282, 'player_1': 0.05}\n",
      "Episode 588 - Rewards: {'player_0': 0, 'player_1': 0} - Epsilon: {'player_0': 0.0027132788115558993, 'player_1': 0.05}\n"
     ]
    },
    {
     "name": "stderr",
     "output_type": "stream",
     "text": [
      " 74%|███████▍  | 592/800 [00:51<00:09, 20.87it/s]"
     ]
    },
    {
     "name": "stdout",
     "output_type": "stream",
     "text": [
      "Episode 589 - Rewards: {'player_0': 0, 'player_1': 0} - Epsilon: {'player_0': 0.0026861460234403403, 'player_1': 0.05}\n",
      "Episode 590 - Rewards: {'player_0': 0, 'player_1': 0} - Epsilon: {'player_0': 0.002659284563205937, 'player_1': 0.05}\n",
      "Episode 591 - Rewards: {'player_0': 0, 'player_1': 0} - Epsilon: {'player_0': 0.0026326917175738774, 'player_1': 0.05}\n",
      "Episode 592 - Rewards: {'player_0': 0, 'player_1': 0} - Epsilon: {'player_0': 0.0026063648003981387, 'player_1': 0.05}\n"
     ]
    },
    {
     "name": "stderr",
     "output_type": "stream",
     "text": [
      " 74%|███████▍  | 596/800 [00:51<00:08, 23.61it/s]"
     ]
    },
    {
     "name": "stdout",
     "output_type": "stream",
     "text": [
      "Episode 593 - Rewards: {'player_0': 0, 'player_1': 0} - Epsilon: {'player_0': 0.0025803011523941573, 'player_1': 0.05}\n",
      "Episode 594 - Rewards: {'player_0': 0, 'player_1': 0} - Epsilon: {'player_0': 0.0025544981408702158, 'player_1': 0.05}\n",
      "Episode 595 - Rewards: {'player_0': 0, 'player_1': 0} - Epsilon: {'player_0': 0.0025289531594615135, 'player_1': 0.05}\n",
      "Episode 596 - Rewards: {'player_0': 0, 'player_1': 0} - Epsilon: {'player_0': 0.0025036636278668984, 'player_1': 0.05}\n",
      "Episode 597 - Rewards: {'player_0': 0, 'player_1': 0} - Epsilon: {'player_0': 0.0024786269915882293, 'player_1': 0.05}\n",
      "Episode 598 - Rewards: {'player_0': 0, 'player_1': 0} - Epsilon: {'player_0': 0.002453840721672347, 'player_1': 0.05}\n"
     ]
    },
    {
     "name": "stderr",
     "output_type": "stream",
     "text": [
      " 75%|███████▌  | 603/800 [00:51<00:08, 23.63it/s]"
     ]
    },
    {
     "name": "stdout",
     "output_type": "stream",
     "text": [
      "Episode 599 - Rewards: {'player_0': 0, 'player_1': 0} - Epsilon: {'player_0': 0.0024293023144556234, 'player_1': 0.05}\n",
      "Episode 600 - Rewards: {'player_0': 0, 'player_1': 0} - Epsilon: {'player_0': 0.002405009291311067, 'player_1': 0.05}\n",
      "Episode 601 - Rewards: {'player_0': 0, 'player_1': 0} - Epsilon: {'player_0': 0.0023809591983979563, 'player_1': 0.05}\n",
      "Episode 602 - Rewards: {'player_0': 0, 'player_1': 0} - Epsilon: {'player_0': 0.0023571496064139765, 'player_1': 0.05}\n",
      "Episode 603 - Rewards: {'player_0': 0, 'player_1': 0} - Epsilon: {'player_0': 0.0023335781103498367, 'player_1': 0.05}\n"
     ]
    },
    {
     "name": "stderr",
     "output_type": "stream",
     "text": [
      " 76%|███████▌  | 606/800 [00:51<00:08, 22.20it/s]"
     ]
    },
    {
     "name": "stdout",
     "output_type": "stream",
     "text": [
      "Episode 604 - Rewards: {'player_0': 0, 'player_1': 0} - Epsilon: {'player_0': 0.002310242329246338, 'player_1': 0.05}\n",
      "Episode 605 - Rewards: {'player_0': 0, 'player_1': 0} - Epsilon: {'player_0': 0.002287139905953875, 'player_1': 0.05}\n",
      "Episode 606 - Rewards: {'player_0': 0, 'player_1': 0} - Epsilon: {'player_0': 0.0022642685068943362, 'player_1': 0.05}\n",
      "Episode 607 - Rewards: {'player_0': 0, 'player_1': 0} - Epsilon: {'player_0': 0.002241625821825393, 'player_1': 0.05}\n"
     ]
    },
    {
     "name": "stderr",
     "output_type": "stream",
     "text": [
      " 76%|███████▌  | 609/800 [00:52<00:09, 20.27it/s]"
     ]
    },
    {
     "name": "stdout",
     "output_type": "stream",
     "text": [
      "Episode 608 - Rewards: {'player_0': 0, 'player_1': 0} - Epsilon: {'player_0': 0.002219209563607139, 'player_1': 0.05}\n",
      "Episode 609 - Rewards: {'player_0': 0, 'player_1': 0} - Epsilon: {'player_0': 0.0021970174679710676, 'player_1': 0.05}\n",
      "Episode 610 - Rewards: {'player_0': 0, 'player_1': 0} - Epsilon: {'player_0': 0.0021750472932913567, 'player_1': 0.05}\n",
      "Episode 611 - Rewards: {'player_0': 0, 'player_1': 0} - Epsilon: {'player_0': 0.0021532968203584434, 'player_1': 0.05}\n",
      "Episode 612 - Rewards: {'player_0': 0, 'player_1': 0} - Epsilon: {'player_0': 0.002131763852154859, 'player_1': 0.05}\n"
     ]
    },
    {
     "name": "stderr",
     "output_type": "stream",
     "text": [
      " 77%|███████▋  | 616/800 [00:52<00:07, 24.07it/s]"
     ]
    },
    {
     "name": "stdout",
     "output_type": "stream",
     "text": [
      "Episode 613 - Rewards: {'player_0': 0, 'player_1': 0} - Epsilon: {'player_0': 0.0021104462136333105, 'player_1': 0.05}\n",
      "Episode 614 - Rewards: {'player_0': 0, 'player_1': 0} - Epsilon: {'player_0': 0.0020893417514969773, 'player_1': 0.05}\n",
      "Episode 615 - Rewards: {'player_0': 0, 'player_1': 0} - Epsilon: {'player_0': 0.0020684483339820075, 'player_1': 0.05}\n",
      "Episode 616 - Rewards: {'player_0': 0, 'player_1': 0} - Epsilon: {'player_0': 0.0020477638506421875, 'player_1': 0.05}\n",
      "Episode 617 - Rewards: {'player_0': 0, 'player_1': 0} - Epsilon: {'player_0': 0.0020272862121357657, 'player_1': 0.05}\n",
      "Episode 618 - Rewards: {'player_0': 0, 'player_1': 0} - Epsilon: {'player_0': 0.002007013350014408, 'player_1': 0.05}\n"
     ]
    },
    {
     "name": "stderr",
     "output_type": "stream",
     "text": [
      " 78%|███████▊  | 620/800 [00:52<00:06, 25.93it/s]"
     ]
    },
    {
     "name": "stdout",
     "output_type": "stream",
     "text": [
      "Episode 619 - Rewards: {'player_0': 0, 'player_1': 0} - Epsilon: {'player_0': 0.0019869432165142637, 'player_1': 0.05}\n",
      "Episode 620 - Rewards: {'player_0': 0, 'player_1': 0} - Epsilon: {'player_0': 0.001967073784349121, 'player_1': 0.05}\n",
      "Episode 621 - Rewards: {'player_0': 0, 'player_1': 0} - Epsilon: {'player_0': 0.0019474030465056298, 'player_1': 0.05}\n",
      "Episode 622 - Rewards: {'player_0': 0, 'player_1': 0} - Epsilon: {'player_0': 0.0019279290160405735, 'player_1': 0.05}\n",
      "Episode 623 - Rewards: {'player_0': 0, 'player_1': 0} - Epsilon: {'player_0': 0.0019086497258801677, 'player_1': 0.05}\n"
     ]
    },
    {
     "name": "stderr",
     "output_type": "stream",
     "text": [
      " 78%|███████▊  | 626/800 [00:52<00:08, 21.54it/s]"
     ]
    },
    {
     "name": "stdout",
     "output_type": "stream",
     "text": [
      "Episode 624 - Rewards: {'player_0': 0, 'player_1': 0} - Epsilon: {'player_0': 0.0018895632286213661, 'player_1': 0.05}\n",
      "Episode 625 - Rewards: {'player_0': 0, 'player_1': 0} - Epsilon: {'player_0': 0.0018706675963351524, 'player_1': 0.05}\n",
      "Episode 626 - Rewards: {'player_0': 0, 'player_1': 0} - Epsilon: {'player_0': 0.0018519609203718008, 'player_1': 0.05}\n",
      "Episode 627 - Rewards: {'player_0': 0, 'player_1': 0} - Epsilon: {'player_0': 0.0018334413111680827, 'player_1': 0.05}\n"
     ]
    },
    {
     "name": "stderr",
     "output_type": "stream",
     "text": [
      " 79%|███████▉  | 632/800 [00:53<00:07, 21.41it/s]"
     ]
    },
    {
     "name": "stdout",
     "output_type": "stream",
     "text": [
      "Episode 628 - Rewards: {'player_0': 0, 'player_1': 0} - Epsilon: {'player_0': 0.001815106898056402, 'player_1': 0.05}\n",
      "Episode 629 - Rewards: {'player_0': 0, 'player_1': 0} - Epsilon: {'player_0': 0.001796955829075838, 'player_1': 0.05}\n",
      "Episode 630 - Rewards: {'player_0': 0, 'player_1': 0} - Epsilon: {'player_0': 0.0017789862707850797, 'player_1': 0.05}\n",
      "Episode 631 - Rewards: {'player_0': 0, 'player_1': 0} - Epsilon: {'player_0': 0.001761196408077229, 'player_1': 0.05}\n",
      "Episode 632 - Rewards: {'player_0': 0, 'player_1': 0} - Epsilon: {'player_0': 0.0017435844439964566, 'player_1': 0.05}\n",
      "Episode 633 - Rewards: {'player_0': 0, 'player_1': 0} - Epsilon: {'player_0': 0.001726148599556492, 'player_1': 0.05}\n"
     ]
    },
    {
     "name": "stderr",
     "output_type": "stream",
     "text": [
      " 80%|███████▉  | 638/800 [00:53<00:07, 20.83it/s]"
     ]
    },
    {
     "name": "stdout",
     "output_type": "stream",
     "text": [
      "Episode 634 - Rewards: {'player_0': 0, 'player_1': 0} - Epsilon: {'player_0': 0.001708887113560927, 'player_1': 0.05}\n",
      "Episode 635 - Rewards: {'player_0': 0, 'player_1': 0} - Epsilon: {'player_0': 0.0016917982424253177, 'player_1': 0.05}\n",
      "Episode 636 - Rewards: {'player_0': 0, 'player_1': 0} - Epsilon: {'player_0': 0.0016748802600010644, 'player_1': 0.05}\n",
      "Episode 637 - Rewards: {'player_0': 0, 'player_1': 0} - Epsilon: {'player_0': 0.0016581314574010539, 'player_1': 0.05}\n",
      "Episode 638 - Rewards: {'player_0': 0, 'player_1': 0} - Epsilon: {'player_0': 0.0016415501428270432, 'player_1': 0.05}\n"
     ]
    },
    {
     "name": "stderr",
     "output_type": "stream",
     "text": [
      " 80%|████████  | 641/800 [00:53<00:07, 22.42it/s]"
     ]
    },
    {
     "name": "stdout",
     "output_type": "stream",
     "text": [
      "Episode 639 - Rewards: {'player_0': 0, 'player_1': 0} - Epsilon: {'player_0': 0.0016251346413987727, 'player_1': 0.05}\n",
      "Episode 640 - Rewards: {'player_0': 0, 'player_1': 0} - Epsilon: {'player_0': 0.001608883294984785, 'player_1': 0.05}\n",
      "Episode 641 - Rewards: {'player_0': 0, 'player_1': 0} - Epsilon: {'player_0': 0.0015927944620349372, 'player_1': 0.05}\n",
      "Episode 642 - Rewards: {'player_0': 0, 'player_1': 0} - Epsilon: {'player_0': 0.0015768665174145879, 'player_1': 0.05}\n",
      "Episode 643 - Rewards: {'player_0': 0, 'player_1': 0} - Epsilon: {'player_0': 0.001561097852240442, 'player_1': 0.05}\n"
     ]
    },
    {
     "name": "stderr",
     "output_type": "stream",
     "text": [
      " 81%|████████  | 647/800 [00:53<00:06, 23.40it/s]"
     ]
    },
    {
     "name": "stdout",
     "output_type": "stream",
     "text": [
      "Episode 644 - Rewards: {'player_0': 0, 'player_1': 0} - Epsilon: {'player_0': 0.0015454868737180376, 'player_1': 0.05}\n",
      "Episode 645 - Rewards: {'player_0': 0, 'player_1': 0} - Epsilon: {'player_0': 0.0015300320049808573, 'player_1': 0.05}\n",
      "Episode 646 - Rewards: {'player_0': 0, 'player_1': 0} - Epsilon: {'player_0': 0.0015147316849310488, 'player_1': 0.05}\n",
      "Episode 647 - Rewards: {'player_0': 0, 'player_1': 0} - Epsilon: {'player_0': 0.0014995843680817383, 'player_1': 0.05}\n",
      "Episode 648 - Rewards: {'player_0': 0, 'player_1': 0} - Epsilon: {'player_0': 0.001484588524400921, 'player_1': 0.05}\n"
     ]
    },
    {
     "name": "stderr",
     "output_type": "stream",
     "text": [
      " 82%|████████▏ | 653/800 [00:54<00:06, 22.19it/s]"
     ]
    },
    {
     "name": "stdout",
     "output_type": "stream",
     "text": [
      "Episode 649 - Rewards: {'player_0': 0, 'player_1': 0} - Epsilon: {'player_0': 0.0014697426391569117, 'player_1': 0.05}\n",
      "Episode 650 - Rewards: {'player_0': 0, 'player_1': 0} - Epsilon: {'player_0': 0.0014550452127653425, 'player_1': 0.05}\n",
      "Episode 651 - Rewards: {'player_0': 0, 'player_1': 0} - Epsilon: {'player_0': 0.0014404947606376892, 'player_1': 0.05}\n",
      "Episode 652 - Rewards: {'player_0': 0, 'player_1': 0} - Epsilon: {'player_0': 0.0014260898130313124, 'player_1': 0.05}\n",
      "Episode 653 - Rewards: {'player_0': 0, 'player_1': 0} - Epsilon: {'player_0': 0.0014118289149009993, 'player_1': 0.05}\n",
      "Episode 654 - Rewards: {'player_0': 0, 'player_1': 0} - Epsilon: {'player_0': 0.0013977106257519892, 'player_1': 0.05}\n"
     ]
    },
    {
     "name": "stderr",
     "output_type": "stream",
     "text": [
      " 82%|████████▏ | 656/800 [00:54<00:06, 23.49it/s]"
     ]
    },
    {
     "name": "stdout",
     "output_type": "stream",
     "text": [
      "Episode 655 - Rewards: {'player_0': 0, 'player_1': 0} - Epsilon: {'player_0': 0.0013837335194944694, 'player_1': 0.05}\n",
      "Episode 656 - Rewards: {'player_0': 0, 'player_1': 0} - Epsilon: {'player_0': 0.0013698961842995246, 'player_1': 0.05}\n",
      "Episode 657 - Rewards: {'player_0': 0, 'player_1': 0} - Epsilon: {'player_0': 0.0013561972224565293, 'player_1': 0.05}\n",
      "Episode 658 - Rewards: {'player_0': 0, 'player_1': 0} - Epsilon: {'player_0': 0.001342635250231964, 'player_1': 0.05}\n"
     ]
    },
    {
     "name": "stderr",
     "output_type": "stream",
     "text": [
      " 83%|████████▎ | 662/800 [00:54<00:07, 18.88it/s]"
     ]
    },
    {
     "name": "stdout",
     "output_type": "stream",
     "text": [
      "Episode 659 - Rewards: {'player_0': 0, 'player_1': 0} - Epsilon: {'player_0': 0.0013292088977296444, 'player_1': 0.05}\n",
      "Episode 660 - Rewards: {'player_0': 0, 'player_1': 0} - Epsilon: {'player_0': 0.001315916808752348, 'player_1': 0.05}\n",
      "Episode 661 - Rewards: {'player_0': 0, 'player_1': 0} - Epsilon: {'player_0': 0.0013027576406648245, 'player_1': 0.05}\n",
      "Episode 662 - Rewards: {'player_0': 0, 'player_1': 0} - Epsilon: {'player_0': 0.0012897300642581763, 'player_1': 0.05}\n",
      "Episode 663 - Rewards: {'player_0': 0, 'player_1': 0} - Epsilon: {'player_0': 0.0012768327636155945, 'player_1': 0.05}\n",
      "Episode 664 - Rewards: {'player_0': 0, 'player_1': 0} - Epsilon: {'player_0': 0.0012640644359794386, 'player_1': 0.05}\n",
      "Episode 665 - Rewards: {'player_0': 0, 'player_1': 0} - Epsilon: {'player_0': 0.0012514237916196442, 'player_1': 0.05}\n"
     ]
    },
    {
     "name": "stderr",
     "output_type": "stream",
     "text": [
      " 84%|████████▎ | 668/800 [00:54<00:05, 22.40it/s]"
     ]
    },
    {
     "name": "stdout",
     "output_type": "stream",
     "text": [
      "Episode 666 - Rewards: {'player_0': 0, 'player_1': 0} - Epsilon: {'player_0': 0.0012389095537034477, 'player_1': 0.05}\n",
      "Episode 667 - Rewards: {'player_0': 0, 'player_1': 0} - Epsilon: {'player_0': 0.0012265204581664133, 'player_1': 0.05}\n",
      "Episode 668 - Rewards: {'player_0': 0, 'player_1': 0} - Epsilon: {'player_0': 0.0012142552535847491, 'player_1': 0.05}\n",
      "Episode 669 - Rewards: {'player_0': 0, 'player_1': 0} - Epsilon: {'player_0': 0.0012021127010489016, 'player_1': 0.05}\n",
      "Episode 670 - Rewards: {'player_0': 0, 'player_1': 0} - Epsilon: {'player_0': 0.0011900915740384126, 'player_1': 0.05}\n",
      "Episode 671 - Rewards: {'player_0': 0, 'player_1': 0} - Epsilon: {'player_0': 0.0011781906582980285, 'player_1': 0.05}\n",
      "Episode 672 - Rewards: {'player_0': 0, 'player_1': 0} - Epsilon: {'player_0': 0.0011664087517150481, 'player_1': 0.05}\n"
     ]
    },
    {
     "name": "stderr",
     "output_type": "stream",
     "text": [
      " 85%|████████▍ | 678/800 [00:55<00:04, 26.40it/s]"
     ]
    },
    {
     "name": "stdout",
     "output_type": "stream",
     "text": [
      "Episode 673 - Rewards: {'player_0': 0, 'player_1': 0} - Epsilon: {'player_0': 0.0011547446641978977, 'player_1': 0.05}\n",
      "Episode 674 - Rewards: {'player_0': 0, 'player_1': 0} - Epsilon: {'player_0': 0.0011431972175559187, 'player_1': 0.05}\n",
      "Episode 675 - Rewards: {'player_0': 0, 'player_1': 0} - Epsilon: {'player_0': 0.0011317652453803595, 'player_1': 0.05}\n",
      "Episode 676 - Rewards: {'player_0': 0, 'player_1': 0} - Epsilon: {'player_0': 0.0011204475929265558, 'player_1': 0.05}\n",
      "Episode 677 - Rewards: {'player_0': 0, 'player_1': 0} - Epsilon: {'player_0': 0.0011092431169972903, 'player_1': 0.05}\n",
      "Episode 678 - Rewards: {'player_0': 0, 'player_1': 0} - Epsilon: {'player_0': 0.0010981506858273175, 'player_1': 0.05}\n"
     ]
    },
    {
     "name": "stderr",
     "output_type": "stream",
     "text": [
      " 85%|████████▌ | 681/800 [00:55<00:04, 25.34it/s]"
     ]
    },
    {
     "name": "stdout",
     "output_type": "stream",
     "text": [
      "Episode 679 - Rewards: {'player_0': 0, 'player_1': 0} - Epsilon: {'player_0': 0.0010871691789690443, 'player_1': 0.05}\n",
      "Episode 680 - Rewards: {'player_0': 0, 'player_1': 0} - Epsilon: {'player_0': 0.0010762974871793539, 'player_1': 0.05}\n",
      "Episode 681 - Rewards: {'player_0': 0, 'player_1': 0} - Epsilon: {'player_0': 0.0010655345123075602, 'player_1': 0.05}\n",
      "Episode 682 - Rewards: {'player_0': 0, 'player_1': 0} - Epsilon: {'player_0': 0.0010548791671844847, 'player_1': 0.05}\n"
     ]
    },
    {
     "name": "stderr",
     "output_type": "stream",
     "text": [
      " 86%|████████▌ | 687/800 [00:55<00:04, 22.89it/s]"
     ]
    },
    {
     "name": "stdout",
     "output_type": "stream",
     "text": [
      "Episode 683 - Rewards: {'player_0': 0, 'player_1': 0} - Epsilon: {'player_0': 0.0010443303755126399, 'player_1': 0.05}\n",
      "Episode 684 - Rewards: {'player_0': 0, 'player_1': 0} - Epsilon: {'player_0': 0.0010338870717575134, 'player_1': 0.05}\n",
      "Episode 685 - Rewards: {'player_0': 0, 'player_1': 0} - Epsilon: {'player_0': 0.0010235482010399382, 'player_1': 0.05}\n",
      "Episode 686 - Rewards: {'player_0': 0, 'player_1': 0} - Epsilon: {'player_0': 0.0010133127190295388, 'player_1': 0.05}\n",
      "Episode 687 - Rewards: {'player_0': 0, 'player_1': 0} - Epsilon: {'player_0': 0.0010031795918392433, 'player_1': 0.05}\n",
      "Episode 688 - Rewards: {'player_0': 0, 'player_1': 0} - Epsilon: {'player_0': 0.000993147795920851, 'player_1': 0.05}\n"
     ]
    },
    {
     "name": "stderr",
     "output_type": "stream",
     "text": [
      " 87%|████████▋ | 693/800 [00:55<00:04, 24.22it/s]"
     ]
    },
    {
     "name": "stdout",
     "output_type": "stream",
     "text": [
      "Episode 689 - Rewards: {'player_0': 0, 'player_1': 0} - Epsilon: {'player_0': 0.0009832163179616423, 'player_1': 0.05}\n",
      "Episode 690 - Rewards: {'player_0': 0, 'player_1': 0} - Epsilon: {'player_0': 0.0009733841547820259, 'player_1': 0.05}\n",
      "Episode 691 - Rewards: {'player_0': 0, 'player_1': 0} - Epsilon: {'player_0': 0.0009636503132342056, 'player_1': 0.05}\n",
      "Episode 692 - Rewards: {'player_0': 0, 'player_1': 0} - Epsilon: {'player_0': 0.0009540138101018636, 'player_1': 0.05}\n",
      "Episode 693 - Rewards: {'player_0': 0, 'player_1': 0} - Epsilon: {'player_0': 0.000944473672000845, 'player_1': 0.05}\n"
     ]
    },
    {
     "name": "stderr",
     "output_type": "stream",
     "text": [
      " 87%|████████▋ | 696/800 [00:55<00:04, 24.19it/s]"
     ]
    },
    {
     "name": "stdout",
     "output_type": "stream",
     "text": [
      "Episode 694 - Rewards: {'player_0': 0, 'player_1': 0} - Epsilon: {'player_0': 0.0009350289352808365, 'player_1': 0.05}\n",
      "Episode 695 - Rewards: {'player_0': 0, 'player_1': 0} - Epsilon: {'player_0': 0.0009256786459280281, 'player_1': 0.05}\n",
      "Episode 696 - Rewards: {'player_0': 0, 'player_1': 0} - Epsilon: {'player_0': 0.0009164218594687477, 'player_1': 0.05}\n",
      "Episode 697 - Rewards: {'player_0': 0, 'player_1': 0} - Epsilon: {'player_0': 0.0009072576408740603, 'player_1': 0.05}\n",
      "Episode 698 - Rewards: {'player_0': 0, 'player_1': 0} - Epsilon: {'player_0': 0.0008981850644653197, 'player_1': 0.05}\n"
     ]
    },
    {
     "name": "stderr",
     "output_type": "stream",
     "text": [
      " 87%|████████▋ | 699/800 [00:56<00:04, 22.18it/s]"
     ]
    },
    {
     "name": "stdout",
     "output_type": "stream",
     "text": [
      "Episode 699 - Rewards: {'player_0': 0, 'player_1': 0} - Epsilon: {'player_0': 0.0008892032138206666, 'player_1': 0.05}\n",
      "Episode 700 - Rewards: {'player_0': 0, 'player_1': 0} - Epsilon: {'player_0': 0.0008803111816824599, 'player_1': 0.05}\n",
      "Episode 701 - Rewards: {'player_0': 0, 'player_1': 0} - Epsilon: {'player_0': 0.0008715080698656353, 'player_1': 0.05}\n",
      "Episode 702 - Rewards: {'player_0': 0, 'player_1': 0} - Epsilon: {'player_0': 0.0008627929891669789, 'player_1': 0.05}\n"
     ]
    },
    {
     "name": "stderr",
     "output_type": "stream",
     "text": [
      " 88%|████████▊ | 708/800 [00:56<00:03, 23.49it/s]"
     ]
    },
    {
     "name": "stdout",
     "output_type": "stream",
     "text": [
      "Episode 703 - Rewards: {'player_0': 0, 'player_1': 0} - Epsilon: {'player_0': 0.0008541650592753091, 'player_1': 0.05}\n",
      "Episode 704 - Rewards: {'player_0': 0, 'player_1': 0} - Epsilon: {'player_0': 0.000845623408682556, 'player_1': 0.05}\n",
      "Episode 705 - Rewards: {'player_0': 0, 'player_1': 0} - Epsilon: {'player_0': 0.0008371671745957304, 'player_1': 0.05}\n",
      "Episode 706 - Rewards: {'player_0': 0, 'player_1': 0} - Epsilon: {'player_0': 0.0008287955028497731, 'player_1': 0.05}\n",
      "Episode 707 - Rewards: {'player_0': 0, 'player_1': 0} - Epsilon: {'player_0': 0.0008205075478212754, 'player_1': 0.05}\n",
      "Episode 708 - Rewards: {'player_0': 0, 'player_1': 0} - Epsilon: {'player_0': 0.0008123024723430627, 'player_1': 0.05}\n",
      "Episode 709 - Rewards: {'player_0': 0, 'player_1': 0} - Epsilon: {'player_0': 0.000804179447619632, 'player_1': 0.05}\n"
     ]
    },
    {
     "name": "stderr",
     "output_type": "stream",
     "text": [
      " 89%|████████▉ | 714/800 [00:56<00:03, 24.93it/s]"
     ]
    },
    {
     "name": "stdout",
     "output_type": "stream",
     "text": [
      "Episode 710 - Rewards: {'player_0': 0, 'player_1': 0} - Epsilon: {'player_0': 0.0007961376531434358, 'player_1': 0.05}\n",
      "Episode 711 - Rewards: {'player_0': 0, 'player_1': 0} - Epsilon: {'player_0': 0.0007881762766120013, 'player_1': 0.05}\n",
      "Episode 712 - Rewards: {'player_0': 0, 'player_1': 0} - Epsilon: {'player_0': 0.0007802945138458813, 'player_1': 0.05}\n",
      "Episode 713 - Rewards: {'player_0': 0, 'player_1': 0} - Epsilon: {'player_0': 0.0007724915687074225, 'player_1': 0.05}\n",
      "Episode 714 - Rewards: {'player_0': 0, 'player_1': 0} - Epsilon: {'player_0': 0.0007647666530203482, 'player_1': 0.05}\n"
     ]
    },
    {
     "name": "stderr",
     "output_type": "stream",
     "text": [
      " 90%|████████▉ | 717/800 [00:56<00:03, 23.85it/s]"
     ]
    },
    {
     "name": "stdout",
     "output_type": "stream",
     "text": [
      "Episode 715 - Rewards: {'player_0': 0, 'player_1': 0} - Epsilon: {'player_0': 0.0007571189864901448, 'player_1': 0.05}\n",
      "Episode 716 - Rewards: {'player_0': 0, 'player_1': 0} - Epsilon: {'player_0': 0.0007495477966252433, 'player_1': 0.05}\n",
      "Episode 717 - Rewards: {'player_0': 0, 'player_1': 0} - Epsilon: {'player_0': 0.0007420523186589909, 'player_1': 0.05}\n",
      "Episode 718 - Rewards: {'player_0': 0, 'player_1': 0} - Epsilon: {'player_0': 0.000734631795472401, 'player_1': 0.05}\n",
      "Episode 719 - Rewards: {'player_0': 0, 'player_1': 0} - Epsilon: {'player_0': 0.0007272854775176769, 'player_1': 0.05}\n"
     ]
    },
    {
     "name": "stderr",
     "output_type": "stream",
     "text": [
      " 90%|█████████ | 723/800 [00:57<00:03, 21.68it/s]"
     ]
    },
    {
     "name": "stdout",
     "output_type": "stream",
     "text": [
      "Episode 720 - Rewards: {'player_0': 0, 'player_1': 0} - Epsilon: {'player_0': 0.0007200126227425002, 'player_1': 0.05}\n",
      "Episode 721 - Rewards: {'player_0': 0, 'player_1': 0} - Epsilon: {'player_0': 0.0007128124965150752, 'player_1': 0.05}\n",
      "Episode 722 - Rewards: {'player_0': 0, 'player_1': 0} - Epsilon: {'player_0': 0.0007056843715499244, 'player_1': 0.05}\n",
      "Episode 723 - Rewards: {'player_0': 0, 'player_1': 0} - Epsilon: {'player_0': 0.0006986275278344252, 'player_1': 0.05}\n"
     ]
    },
    {
     "name": "stderr",
     "output_type": "stream",
     "text": [
      " 91%|█████████ | 729/800 [00:57<00:02, 24.35it/s]"
     ]
    },
    {
     "name": "stdout",
     "output_type": "stream",
     "text": [
      "Episode 724 - Rewards: {'player_0': 0, 'player_1': 0} - Epsilon: {'player_0': 0.000691641252556081, 'player_1': 0.05}\n",
      "Episode 725 - Rewards: {'player_0': 0, 'player_1': 0} - Epsilon: {'player_0': 0.0006847248400305201, 'player_1': 0.05}\n",
      "Episode 726 - Rewards: {'player_0': 0, 'player_1': 0} - Epsilon: {'player_0': 0.0006778775916302149, 'player_1': 0.05}\n",
      "Episode 727 - Rewards: {'player_0': -1, 'player_1': 1} - Epsilon: {'player_0': 0.0006710988157139127, 'player_1': 0.05}\n",
      "Episode 728 - Rewards: {'player_0': 0, 'player_1': 0} - Epsilon: {'player_0': 0.0006643878275567735, 'player_1': 0.05}\n",
      "Episode 729 - Rewards: {'player_0': 0, 'player_1': 0} - Epsilon: {'player_0': 0.0006577439492812059, 'player_1': 0.05}\n"
     ]
    },
    {
     "name": "stderr",
     "output_type": "stream",
     "text": [
      " 92%|█████████▏| 732/800 [00:57<00:02, 24.22it/s]"
     ]
    },
    {
     "name": "stdout",
     "output_type": "stream",
     "text": [
      "Episode 730 - Rewards: {'player_0': 0, 'player_1': 0} - Epsilon: {'player_0': 0.0006511665097883938, 'player_1': 0.05}\n",
      "Episode 731 - Rewards: {'player_0': 0, 'player_1': 0} - Epsilon: {'player_0': 0.0006446548446905099, 'player_1': 0.05}\n",
      "Episode 732 - Rewards: {'player_0': 0, 'player_1': 0} - Epsilon: {'player_0': 0.0006382082962436048, 'player_1': 0.05}\n",
      "Episode 733 - Rewards: {'player_0': 0, 'player_1': 0} - Epsilon: {'player_0': 0.0006318262132811687, 'player_1': 0.05}\n",
      "Episode 734 - Rewards: {'player_0': 0, 'player_1': 0} - Epsilon: {'player_0': 0.000625507951148357, 'player_1': 0.05}\n"
     ]
    },
    {
     "name": "stderr",
     "output_type": "stream",
     "text": [
      " 92%|█████████▏| 738/800 [00:57<00:02, 24.56it/s]"
     ]
    },
    {
     "name": "stdout",
     "output_type": "stream",
     "text": [
      "Episode 735 - Rewards: {'player_0': 0, 'player_1': 0} - Epsilon: {'player_0': 0.0006192528716368734, 'player_1': 0.05}\n",
      "Episode 736 - Rewards: {'player_0': 0, 'player_1': 0} - Epsilon: {'player_0': 0.0006130603429205046, 'player_1': 0.05}\n",
      "Episode 737 - Rewards: {'player_0': 0, 'player_1': 0} - Epsilon: {'player_0': 0.0006069297394912996, 'player_1': 0.05}\n",
      "Episode 738 - Rewards: {'player_0': 0, 'player_1': 0} - Epsilon: {'player_0': 0.0006008604420963866, 'player_1': 0.05}\n",
      "Episode 739 - Rewards: {'player_0': 0, 'player_1': 0} - Epsilon: {'player_0': 0.0005948518376754227, 'player_1': 0.05}\n",
      "Episode 740 - Rewards: {'player_0': 0, 'player_1': 0} - Epsilon: {'player_0': 0.0005889033192986684, 'player_1': 0.05}\n"
     ]
    },
    {
     "name": "stderr",
     "output_type": "stream",
     "text": [
      " 93%|█████████▎| 744/800 [00:58<00:02, 24.18it/s]"
     ]
    },
    {
     "name": "stdout",
     "output_type": "stream",
     "text": [
      "Episode 741 - Rewards: {'player_0': 0, 'player_1': 0} - Epsilon: {'player_0': 0.0005830142861056818, 'player_1': 0.05}\n",
      "Episode 742 - Rewards: {'player_0': 0, 'player_1': 0} - Epsilon: {'player_0': 0.0005771841432446249, 'player_1': 0.05}\n",
      "Episode 743 - Rewards: {'player_0': 0, 'player_1': 0} - Epsilon: {'player_0': 0.0005714123018121786, 'player_1': 0.05}\n",
      "Episode 744 - Rewards: {'player_0': 0, 'player_1': 0} - Epsilon: {'player_0': 0.0005656981787940568, 'player_1': 0.05}\n",
      "Episode 745 - Rewards: {'player_0': 0, 'player_1': 0} - Epsilon: {'player_0': 0.0005600411970061162, 'player_1': 0.05}\n"
     ]
    },
    {
     "name": "stderr",
     "output_type": "stream",
     "text": [
      " 94%|█████████▍| 750/800 [00:58<00:02, 23.39it/s]"
     ]
    },
    {
     "name": "stdout",
     "output_type": "stream",
     "text": [
      "Episode 746 - Rewards: {'player_0': 0, 'player_1': 0} - Epsilon: {'player_0': 0.000554440785036055, 'player_1': 0.05}\n",
      "Episode 747 - Rewards: {'player_0': 0, 'player_1': 0} - Epsilon: {'player_0': 0.0005488963771856945, 'player_1': 0.05}\n",
      "Episode 748 - Rewards: {'player_0': 0, 'player_1': 0} - Epsilon: {'player_0': 0.0005434074134138375, 'player_1': 0.05}\n",
      "Episode 749 - Rewards: {'player_0': 0, 'player_1': 0} - Epsilon: {'player_0': 0.0005379733392796991, 'player_1': 0.05}\n",
      "Episode 750 - Rewards: {'player_0': 0, 'player_1': 0} - Epsilon: {'player_0': 0.0005325936058869021, 'player_1': 0.05}\n",
      "Episode 751 - Rewards: {'player_0': 0, 'player_1': 0} - Epsilon: {'player_0': 0.0005272676698280331, 'player_1': 0.05}\n"
     ]
    },
    {
     "name": "stderr",
     "output_type": "stream",
     "text": [
      " 94%|█████████▍| 756/800 [00:58<00:02, 21.23it/s]"
     ]
    },
    {
     "name": "stdout",
     "output_type": "stream",
     "text": [
      "Episode 752 - Rewards: {'player_0': 0, 'player_1': 0} - Epsilon: {'player_0': 0.0005219949931297527, 'player_1': 0.05}\n",
      "Episode 753 - Rewards: {'player_0': 0, 'player_1': 0} - Epsilon: {'player_0': 0.0005167750431984551, 'player_1': 0.05}\n",
      "Episode 754 - Rewards: {'player_0': 0, 'player_1': 0} - Epsilon: {'player_0': 0.0005116072927664705, 'player_1': 0.05}\n",
      "Episode 755 - Rewards: {'player_0': 0, 'player_1': 0} - Epsilon: {'player_0': 0.0005064912198388059, 'player_1': 0.05}\n",
      "Episode 756 - Rewards: {'player_0': 0, 'player_1': 0} - Epsilon: {'player_0': 0.0005014263076404178, 'player_1': 0.05}\n"
     ]
    },
    {
     "name": "stderr",
     "output_type": "stream",
     "text": [
      " 95%|█████████▌| 762/800 [00:58<00:01, 22.02it/s]"
     ]
    },
    {
     "name": "stdout",
     "output_type": "stream",
     "text": [
      "Episode 757 - Rewards: {'player_0': 0, 'player_1': 0} - Epsilon: {'player_0': 0.0004964120445640136, 'player_1': 0.05}\n",
      "Episode 758 - Rewards: {'player_0': 0, 'player_1': 0} - Epsilon: {'player_0': 0.0004914479241183735, 'player_1': 0.05}\n",
      "Episode 759 - Rewards: {'player_0': 0, 'player_1': 0} - Epsilon: {'player_0': 0.00048653344487718976, 'player_1': 0.05}\n",
      "Episode 760 - Rewards: {'player_0': 0, 'player_1': 0} - Epsilon: {'player_0': 0.00048166811042841786, 'player_1': 0.05}\n",
      "Episode 761 - Rewards: {'player_0': 0, 'player_1': 0} - Epsilon: {'player_0': 0.0004768514293241337, 'player_1': 0.05}\n",
      "Episode 762 - Rewards: {'player_0': 0, 'player_1': 0} - Epsilon: {'player_0': 0.00047208291503089234, 'player_1': 0.05}\n"
     ]
    },
    {
     "name": "stderr",
     "output_type": "stream",
     "text": [
      " 96%|█████████▌| 765/800 [00:59<00:01, 18.91it/s]"
     ]
    },
    {
     "name": "stdout",
     "output_type": "stream",
     "text": [
      "Episode 763 - Rewards: {'player_0': 0, 'player_1': 0} - Epsilon: {'player_0': 0.0004673620858805834, 'player_1': 0.05}\n",
      "Episode 764 - Rewards: {'player_0': 0, 'player_1': 0} - Epsilon: {'player_0': 0.00046268846502177754, 'player_1': 0.05}\n",
      "Episode 765 - Rewards: {'player_0': 0, 'player_1': 0} - Epsilon: {'player_0': 0.00045806158037155973, 'player_1': 0.05}\n",
      "Episode 766 - Rewards: {'player_0': 0, 'player_1': 0} - Epsilon: {'player_0': 0.00045348096456784414, 'player_1': 0.05}\n"
     ]
    },
    {
     "name": "stderr",
     "output_type": "stream",
     "text": [
      " 96%|█████████▌| 769/800 [00:59<00:01, 17.61it/s]"
     ]
    },
    {
     "name": "stdout",
     "output_type": "stream",
     "text": [
      "Episode 767 - Rewards: {'player_0': 0, 'player_1': 0} - Epsilon: {'player_0': 0.0004489461549221657, 'player_1': 0.05}\n",
      "Episode 768 - Rewards: {'player_0': 0, 'player_1': 0} - Epsilon: {'player_0': 0.000444456693372944, 'player_1': 0.05}\n",
      "Episode 769 - Rewards: {'player_0': 0, 'player_1': 0} - Epsilon: {'player_0': 0.00044001212643921455, 'player_1': 0.05}\n",
      "Episode 770 - Rewards: {'player_0': 0, 'player_1': 0} - Epsilon: {'player_0': 0.0004356120051748224, 'player_1': 0.05}\n"
     ]
    },
    {
     "name": "stderr",
     "output_type": "stream",
     "text": [
      " 96%|█████████▋| 771/800 [00:59<00:02, 13.94it/s]"
     ]
    },
    {
     "name": "stdout",
     "output_type": "stream",
     "text": [
      "Episode 771 - Rewards: {'player_0': 0, 'player_1': 0} - Epsilon: {'player_0': 0.0004312558851230742, 'player_1': 0.05}\n",
      "Episode 772 - Rewards: {'player_0': 0, 'player_1': 0} - Epsilon: {'player_0': 0.00042694332627184347, 'player_1': 0.05}\n"
     ]
    },
    {
     "name": "stderr",
     "output_type": "stream",
     "text": [
      " 97%|█████████▋| 775/800 [00:59<00:02, 11.88it/s]"
     ]
    },
    {
     "name": "stdout",
     "output_type": "stream",
     "text": [
      "Episode 773 - Rewards: {'player_0': 0, 'player_1': 0} - Epsilon: {'player_0': 0.000422673893009125, 'player_1': 0.05}\n",
      "Episode 774 - Rewards: {'player_0': 0, 'player_1': 0} - Epsilon: {'player_0': 0.0004184471540790338, 'player_1': 0.05}\n",
      "Episode 775 - Rewards: {'player_0': 0, 'player_1': 0} - Epsilon: {'player_0': 0.0004142626825382434, 'player_1': 0.05}\n"
     ]
    },
    {
     "name": "stderr",
     "output_type": "stream",
     "text": [
      " 97%|█████████▋| 777/800 [01:00<00:01, 11.76it/s]"
     ]
    },
    {
     "name": "stdout",
     "output_type": "stream",
     "text": [
      "Episode 776 - Rewards: {'player_0': 0, 'player_1': 0} - Epsilon: {'player_0': 0.00041012005571286096, 'player_1': 0.05}\n",
      "Episode 777 - Rewards: {'player_0': 0, 'player_1': 0} - Epsilon: {'player_0': 0.0004060188551557323, 'player_1': 0.05}\n",
      "Episode 778 - Rewards: {'player_0': 0, 'player_1': 0} - Epsilon: {'player_0': 0.000401958666604175, 'player_1': 0.05}\n"
     ]
    },
    {
     "name": "stderr",
     "output_type": "stream",
     "text": [
      " 98%|█████████▊| 781/800 [01:00<00:01, 12.18it/s]"
     ]
    },
    {
     "name": "stdout",
     "output_type": "stream",
     "text": [
      "Episode 779 - Rewards: {'player_0': 0, 'player_1': 0} - Epsilon: {'player_0': 0.00039793907993813325, 'player_1': 0.05}\n",
      "Episode 780 - Rewards: {'player_0': 0, 'player_1': 0} - Epsilon: {'player_0': 0.0003939596891387519, 'player_1': 0.05}\n",
      "Episode 781 - Rewards: {'player_0': 0, 'player_1': 0} - Epsilon: {'player_0': 0.0003900200922473644, 'player_1': 0.05}\n"
     ]
    },
    {
     "name": "stderr",
     "output_type": "stream",
     "text": [
      " 98%|█████████▊| 783/800 [01:00<00:01,  9.21it/s]"
     ]
    },
    {
     "name": "stdout",
     "output_type": "stream",
     "text": [
      "Episode 782 - Rewards: {'player_0': 0, 'player_1': 0} - Epsilon: {'player_0': 0.0003861198913248908, 'player_1': 0.05}\n",
      "Episode 783 - Rewards: {'player_0': 0, 'player_1': 0} - Epsilon: {'player_0': 0.00038225869241164187, 'player_1': 0.05}\n"
     ]
    },
    {
     "name": "stderr",
     "output_type": "stream",
     "text": [
      " 98%|█████████▊| 785/800 [01:00<00:01,  9.93it/s]"
     ]
    },
    {
     "name": "stdout",
     "output_type": "stream",
     "text": [
      "Episode 784 - Rewards: {'player_0': 0, 'player_1': 0} - Epsilon: {'player_0': 0.00037843610548752546, 'player_1': 0.05}\n",
      "Episode 785 - Rewards: {'player_0': 0, 'player_1': 0} - Epsilon: {'player_0': 0.0003746517444326502, 'player_1': 0.05}\n",
      "Episode 786 - Rewards: {'player_0': 0, 'player_1': 0} - Epsilon: {'player_0': 0.00037090522698832374, 'player_1': 0.05}\n"
     ]
    },
    {
     "name": "stderr",
     "output_type": "stream",
     "text": [
      " 99%|█████████▊| 789/800 [01:01<00:00, 11.05it/s]"
     ]
    },
    {
     "name": "stdout",
     "output_type": "stream",
     "text": [
      "Episode 787 - Rewards: {'player_0': 0, 'player_1': 0} - Epsilon: {'player_0': 0.0003671961747184405, 'player_1': 0.05}\n",
      "Episode 788 - Rewards: {'player_0': 0, 'player_1': 0} - Epsilon: {'player_0': 0.0003635242129712561, 'player_1': 0.05}\n",
      "Episode 789 - Rewards: {'player_0': 0, 'player_1': 0} - Epsilon: {'player_0': 0.0003598889708415435, 'player_1': 0.05}\n"
     ]
    },
    {
     "name": "stderr",
     "output_type": "stream",
     "text": [
      " 99%|█████████▉| 791/800 [01:01<00:01,  6.79it/s]"
     ]
    },
    {
     "name": "stdout",
     "output_type": "stream",
     "text": [
      "Episode 790 - Rewards: {'player_0': 0, 'player_1': 0} - Epsilon: {'player_0': 0.00035629008113312804, 'player_1': 0.05}\n",
      "Episode 791 - Rewards: {'player_0': 0, 'player_1': 0} - Epsilon: {'player_0': 0.0003527271803217968, 'player_1': 0.05}\n"
     ]
    },
    {
     "name": "stderr",
     "output_type": "stream",
     "text": [
      " 99%|█████████▉| 792/800 [01:02<00:01,  6.28it/s]"
     ]
    },
    {
     "name": "stdout",
     "output_type": "stream",
     "text": [
      "Episode 792 - Rewards: {'player_0': 0, 'player_1': 0} - Epsilon: {'player_0': 0.0003491999085185788, 'player_1': 0.05}\n",
      "Episode 793 - Rewards: {'player_0': 0, 'player_1': 0} - Epsilon: {'player_0': 0.000345707909433393, 'player_1': 0.05}\n",
      "Episode 794 - Rewards: {'player_0': 0, 'player_1': 0} - Epsilon: {'player_0': 0.00034225083033905906, 'player_1': 0.05}\n"
     ]
    },
    {
     "name": "stderr",
     "output_type": "stream",
     "text": [
      "100%|█████████▉| 796/800 [01:02<00:00,  6.94it/s]"
     ]
    },
    {
     "name": "stdout",
     "output_type": "stream",
     "text": [
      "Episode 795 - Rewards: {'player_0': 0, 'player_1': 0} - Epsilon: {'player_0': 0.0003388283220356685, 'player_1': 0.05}\n",
      "Episode 796 - Rewards: {'player_0': 0, 'player_1': 0} - Epsilon: {'player_0': 0.0003354400388153118, 'player_1': 0.05}\n"
     ]
    },
    {
     "name": "stderr",
     "output_type": "stream",
     "text": [
      "100%|█████████▉| 798/800 [01:02<00:00,  6.81it/s]"
     ]
    },
    {
     "name": "stdout",
     "output_type": "stream",
     "text": [
      "Episode 797 - Rewards: {'player_0': 0, 'player_1': 0} - Epsilon: {'player_0': 0.00033208563842715866, 'player_1': 0.05}\n",
      "Episode 798 - Rewards: {'player_0': 0, 'player_1': 0} - Epsilon: {'player_0': 0.0003287647820428871, 'player_1': 0.05}\n"
     ]
    },
    {
     "name": "stderr",
     "output_type": "stream",
     "text": [
      "100%|█████████▉| 799/800 [04:33<00:55, 55.96s/it]"
     ]
    },
    {
     "name": "stdout",
     "output_type": "stream",
     "text": [
      "Episode 799 - Rewards: {'player_0': 0, 'player_1': 0} - Epsilon: {'player_0': 0.00032547713422245825, 'player_1': 0.05}\n"
     ]
    },
    {
     "name": "stderr",
     "output_type": "stream",
     "text": [
      "100%|██████████| 800/800 [04:34<00:00,  2.92it/s]"
     ]
    },
    {
     "name": "stdout",
     "output_type": "stream",
     "text": [
      "Episode 800 - Rewards: {'player_0': 0, 'player_1': 0} - Epsilon: {'player_0': 0.00032222236288023367, 'player_1': 0.05}\n"
     ]
    },
    {
     "name": "stderr",
     "output_type": "stream",
     "text": [
      "\n"
     ]
    }
   ],
   "source": [
    "# IMPORT DESIRED INTERACTION CLASS AND CONFIGURATION\n",
    "import sys\n",
    "import os\n",
    "import random\n",
    "\n",
    "import torch\n",
    "import numpy as np\n",
    "\n",
    "# Get the parent directory (where `configs/` and `interactions/` are located)\n",
    "parent_dir = os.path.abspath(os.path.join(os.getcwd(), \"..\"))\n",
    "\n",
    "# Add it to sys.path\n",
    "sys.path.append(parent_dir)\n",
    "\n",
    "\n",
    "# Now you should be able to import\n",
    "from interactions import dqn_interaction as dqn\n",
    "from configs.interaction_configs.i_dqn_LL_PettingZoo import dqn_chess_default_configs_dict as dqn_config\n",
    "from configs.agent_configs.a_lunarlander_cot_agent import lunarlander_cot_agent_configs as cot_ll_config\n",
    "from agents import llm_chain_of_thought_agent\n",
    "\n",
    "from pettingzoo.classic import tictactoe_v3\n",
    "from pettingzoo.classic import chess_v6\n",
    "\n",
    "env = chess_v6.env\n",
    "\n",
    "\n",
    "\n",
    "# Initialize an interaction using this configuration\n",
    "dqn_interaction = dqn.DQNInteraction(dqn_config, cot_ll_config)\n",
    "train_scores, trained_agents = dqn_interaction.train_pettingzoo(env, fixed_agent=\"player_1\")\n",
    "\n"
   ]
  },
  {
   "cell_type": "code",
   "execution_count": 3,
   "metadata": {},
   "outputs": [
    {
     "name": "stdout",
     "output_type": "stream",
     "text": [
      "Test Episode 1 - Rewards: {'player_0': 0, 'player_1': 0}\n",
      "Test Episode 2 - Rewards: {'player_0': 0, 'player_1': 0}\n",
      "Test Episode 3 - Rewards: {'player_0': 0, 'player_1': 0}\n",
      "Test Episode 4 - Rewards: {'player_0': 0, 'player_1': 0}\n",
      "Test Episode 5 - Rewards: {'player_0': 0, 'player_1': 0}\n",
      "Test Episode 6 - Rewards: {'player_0': 0, 'player_1': 0}\n",
      "Test Episode 7 - Rewards: {'player_0': 0, 'player_1': 0}\n",
      "Test Episode 8 - Rewards: {'player_0': 0, 'player_1': 0}\n",
      "Test Episode 9 - Rewards: {'player_0': 0, 'player_1': 0}\n",
      "Test Episode 10 - Rewards: {'player_0': 0, 'player_1': 0}\n",
      "Test Episode 11 - Rewards: {'player_0': 0, 'player_1': 0}\n",
      "Test Episode 12 - Rewards: {'player_0': 0, 'player_1': 0}\n",
      "Test Episode 13 - Rewards: {'player_0': 0, 'player_1': 0}\n",
      "Test Episode 14 - Rewards: {'player_0': 0, 'player_1': 0}\n",
      "Test Episode 15 - Rewards: {'player_0': 0, 'player_1': 0}\n",
      "Test Episode 16 - Rewards: {'player_0': 0, 'player_1': 0}\n",
      "Test Episode 17 - Rewards: {'player_0': 0, 'player_1': 0}\n",
      "Test Episode 18 - Rewards: {'player_0': 0, 'player_1': 0}\n",
      "Test Episode 19 - Rewards: {'player_0': 0, 'player_1': 0}\n",
      "Test Episode 20 - Rewards: {'player_0': 0, 'player_1': 0}\n"
     ]
    }
   ],
   "source": [
    "test_results = dqn_interaction.test_pettingzoo(trained_agents, env, num_episodes=20)\n",
    "for i, rewards in enumerate(test_results):\n",
    "    print(f\"Test Episode {i+1} - Rewards: {rewards}\")"
   ]
  },
  {
   "cell_type": "markdown",
   "metadata": {},
   "source": []
  }
 ],
 "metadata": {
  "kernelspec": {
   "display_name": "LLM-RL-Pruning",
   "language": "python",
   "name": "python3"
  },
  "language_info": {
   "codemirror_mode": {
    "name": "ipython",
    "version": 3
   },
   "file_extension": ".py",
   "mimetype": "text/x-python",
   "name": "python",
   "nbconvert_exporter": "python",
   "pygments_lexer": "ipython3",
   "version": "3.10.16"
  }
 },
 "nbformat": 4,
 "nbformat_minor": 2
}
