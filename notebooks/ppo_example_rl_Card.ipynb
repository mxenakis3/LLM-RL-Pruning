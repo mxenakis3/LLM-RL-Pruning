{
 "cells": [
  {
   "cell_type": "code",
   "execution_count": 1,
   "metadata": {},
   "outputs": [],
   "source": [
    "%load_ext autoreload\n",
    "%autoreload 2"
   ]
  },
  {
   "cell_type": "code",
   "execution_count": null,
   "metadata": {},
   "outputs": [],
   "source": [
    "# IMPORT DESIRED INTERACTION CLASS AND CONFIGURATION\n",
    "import sys\n",
    "import os\n",
    "\n",
    "# Get the parent directory (where `configs/` and `interactions/` are located)\n",
    "parent_dir = os.path.abspath(os.path.join(os.getcwd(), \"..\"))\n",
    "\n",
    "# Add it to sys.path\n",
    "sys.path.append(parent_dir)\n",
    "\n",
    "# Now you should be able to import\n",
    "from interactions import ppo_interaction as ppo\n",
    "# from configs.interaction_configs.ppo_interaction_configs import ppo_interaction_config\n",
    "# from configs.interaction_configs.ppo_interaction_configs import ppo_interaction_texasholdem_config\n",
    "from configs.ppo_configs import ppo_interaction_config_texas, texas_holdem_config, actor_configs_texas, critic_configs_texas\n",
    "# from configs.agent_configs.a_ppo_agents import actor_configs, critic_configs"
   ]
  },
  {
   "cell_type": "code",
   "execution_count": 4,
   "metadata": {},
   "outputs": [
    {
     "name": "stdout",
     "output_type": "stream",
     "text": [
      "self obs size: 76\n"
     ]
    },
    {
     "name": "stderr",
     "output_type": "stream",
     "text": [
      "  2%|▏         | 39/2000 [00:31<1:13:24,  2.25s/it]"
     ]
    },
    {
     "name": "stdout",
     "output_type": "stream",
     "text": [
      "[PPO UPDATE] avg_actor_loss=0.1311, avg_critic_loss=6.4218\n"
     ]
    },
    {
     "name": "stderr",
     "output_type": "stream",
     "text": [
      "  4%|▍         | 88/2000 [00:58<46:15,  1.45s/it]  "
     ]
    },
    {
     "name": "stdout",
     "output_type": "stream",
     "text": [
      "[PPO UPDATE] avg_actor_loss=0.0342, avg_critic_loss=4.0525\n"
     ]
    },
    {
     "name": "stderr",
     "output_type": "stream",
     "text": [
      "  7%|▋         | 136/2000 [01:31<44:51,  1.44s/it]"
     ]
    },
    {
     "name": "stdout",
     "output_type": "stream",
     "text": [
      "[PPO UPDATE] avg_actor_loss=0.2351, avg_critic_loss=2.0047\n"
     ]
    },
    {
     "name": "stderr",
     "output_type": "stream",
     "text": [
      " 10%|▉         | 192/2000 [02:13<1:25:54,  2.85s/it]"
     ]
    },
    {
     "name": "stdout",
     "output_type": "stream",
     "text": [
      "[PPO UPDATE] avg_actor_loss=0.2801, avg_critic_loss=4.4154\n"
     ]
    },
    {
     "name": "stderr",
     "output_type": "stream",
     "text": [
      " 11%|█▏        | 229/2000 [02:48<53:48,  1.82s/it]  "
     ]
    },
    {
     "name": "stdout",
     "output_type": "stream",
     "text": [
      "[PPO UPDATE] avg_actor_loss=-0.0249, avg_critic_loss=4.4816\n"
     ]
    },
    {
     "name": "stderr",
     "output_type": "stream",
     "text": [
      " 14%|█▎        | 272/2000 [03:24<1:03:46,  2.21s/it]"
     ]
    },
    {
     "name": "stdout",
     "output_type": "stream",
     "text": [
      "[PPO UPDATE] avg_actor_loss=-0.1649, avg_critic_loss=3.4050\n"
     ]
    },
    {
     "name": "stderr",
     "output_type": "stream",
     "text": [
      " 16%|█▌        | 311/2000 [04:05<1:31:18,  3.24s/it]"
     ]
    },
    {
     "name": "stdout",
     "output_type": "stream",
     "text": [
      "[PPO UPDATE] avg_actor_loss=0.0422, avg_critic_loss=2.6861\n"
     ]
    },
    {
     "name": "stderr",
     "output_type": "stream",
     "text": [
      " 18%|█▊        | 353/2000 [04:38<1:25:52,  3.13s/it]"
     ]
    },
    {
     "name": "stdout",
     "output_type": "stream",
     "text": [
      "[PPO UPDATE] avg_actor_loss=0.0267, avg_critic_loss=4.6534\n"
     ]
    },
    {
     "name": "stderr",
     "output_type": "stream",
     "text": [
      " 20%|█▉        | 398/2000 [05:09<52:35,  1.97s/it]  "
     ]
    },
    {
     "name": "stdout",
     "output_type": "stream",
     "text": [
      "[PPO UPDATE] avg_actor_loss=0.0256, avg_critic_loss=5.9305\n"
     ]
    },
    {
     "name": "stderr",
     "output_type": "stream",
     "text": [
      " 22%|██▏       | 440/2000 [05:41<48:20,  1.86s/it]"
     ]
    },
    {
     "name": "stdout",
     "output_type": "stream",
     "text": [
      "[PPO UPDATE] avg_actor_loss=0.1630, avg_critic_loss=4.6357\n"
     ]
    },
    {
     "name": "stderr",
     "output_type": "stream",
     "text": [
      " 24%|██▍       | 486/2000 [06:20<52:41,  2.09s/it]"
     ]
    },
    {
     "name": "stdout",
     "output_type": "stream",
     "text": [
      "[PPO UPDATE] avg_actor_loss=0.0754, avg_critic_loss=2.5086\n"
     ]
    },
    {
     "name": "stderr",
     "output_type": "stream",
     "text": [
      " 26%|██▋       | 526/2000 [07:00<1:13:21,  2.99s/it]"
     ]
    },
    {
     "name": "stdout",
     "output_type": "stream",
     "text": [
      "[PPO UPDATE] avg_actor_loss=-0.2497, avg_critic_loss=8.5396\n"
     ]
    },
    {
     "name": "stderr",
     "output_type": "stream",
     "text": [
      " 28%|██▊       | 569/2000 [07:39<59:34,  2.50s/it]  "
     ]
    },
    {
     "name": "stdout",
     "output_type": "stream",
     "text": [
      "[PPO UPDATE] avg_actor_loss=-0.1008, avg_critic_loss=9.1587\n"
     ]
    },
    {
     "name": "stderr",
     "output_type": "stream",
     "text": [
      " 31%|███       | 617/2000 [08:06<28:08,  1.22s/it]"
     ]
    },
    {
     "name": "stdout",
     "output_type": "stream",
     "text": [
      "[PPO UPDATE] avg_actor_loss=0.0248, avg_critic_loss=2.5656\n"
     ]
    },
    {
     "name": "stderr",
     "output_type": "stream",
     "text": [
      " 33%|███▎      | 663/2000 [08:39<43:25,  1.95s/it]"
     ]
    },
    {
     "name": "stdout",
     "output_type": "stream",
     "text": [
      "[PPO UPDATE] avg_actor_loss=0.0520, avg_critic_loss=2.9470\n"
     ]
    },
    {
     "name": "stderr",
     "output_type": "stream",
     "text": [
      " 35%|███▍      | 697/2000 [09:08<45:03,  2.08s/it]"
     ]
    },
    {
     "name": "stdout",
     "output_type": "stream",
     "text": [
      "[PPO UPDATE] avg_actor_loss=0.0269, avg_critic_loss=4.7091\n"
     ]
    },
    {
     "name": "stderr",
     "output_type": "stream",
     "text": [
      " 37%|███▋      | 731/2000 [09:39<52:19,  2.47s/it]  "
     ]
    },
    {
     "name": "stdout",
     "output_type": "stream",
     "text": [
      "[PPO UPDATE] avg_actor_loss=-0.1246, avg_critic_loss=10.6926\n"
     ]
    },
    {
     "name": "stderr",
     "output_type": "stream",
     "text": [
      " 39%|███▉      | 778/2000 [10:15<37:12,  1.83s/it]"
     ]
    },
    {
     "name": "stdout",
     "output_type": "stream",
     "text": [
      "[PPO UPDATE] avg_actor_loss=0.1719, avg_critic_loss=4.3434\n"
     ]
    },
    {
     "name": "stderr",
     "output_type": "stream",
     "text": [
      " 41%|████▏     | 826/2000 [10:49<33:45,  1.73s/it]"
     ]
    },
    {
     "name": "stdout",
     "output_type": "stream",
     "text": [
      "[PPO UPDATE] avg_actor_loss=-0.0433, avg_critic_loss=3.5957\n"
     ]
    },
    {
     "name": "stderr",
     "output_type": "stream",
     "text": [
      " 43%|████▎     | 864/2000 [11:22<41:06,  2.17s/it]"
     ]
    },
    {
     "name": "stdout",
     "output_type": "stream",
     "text": [
      "[PPO UPDATE] avg_actor_loss=0.2523, avg_critic_loss=3.9947\n"
     ]
    },
    {
     "name": "stderr",
     "output_type": "stream",
     "text": [
      " 46%|████▌     | 911/2000 [11:52<35:19,  1.95s/it]"
     ]
    },
    {
     "name": "stdout",
     "output_type": "stream",
     "text": [
      "[PPO UPDATE] avg_actor_loss=0.0208, avg_critic_loss=4.8583\n"
     ]
    },
    {
     "name": "stderr",
     "output_type": "stream",
     "text": [
      " 48%|████▊     | 954/2000 [12:25<31:33,  1.81s/it]"
     ]
    },
    {
     "name": "stdout",
     "output_type": "stream",
     "text": [
      "[PPO UPDATE] avg_actor_loss=0.0585, avg_critic_loss=2.9141\n"
     ]
    },
    {
     "name": "stderr",
     "output_type": "stream",
     "text": [
      " 50%|█████     | 1006/2000 [12:57<25:21,  1.53s/it]"
     ]
    },
    {
     "name": "stdout",
     "output_type": "stream",
     "text": [
      "[PPO UPDATE] avg_actor_loss=-0.2212, avg_critic_loss=2.5741\n"
     ]
    },
    {
     "name": "stderr",
     "output_type": "stream",
     "text": [
      " 53%|█████▎    | 1052/2000 [13:29<19:58,  1.26s/it]"
     ]
    },
    {
     "name": "stdout",
     "output_type": "stream",
     "text": [
      "[PPO UPDATE] avg_actor_loss=-0.2037, avg_critic_loss=9.4797\n"
     ]
    },
    {
     "name": "stderr",
     "output_type": "stream",
     "text": [
      " 55%|█████▍    | 1092/2000 [13:56<18:37,  1.23s/it]"
     ]
    },
    {
     "name": "stdout",
     "output_type": "stream",
     "text": [
      "[PPO UPDATE] avg_actor_loss=0.0267, avg_critic_loss=3.5891\n"
     ]
    },
    {
     "name": "stderr",
     "output_type": "stream",
     "text": [
      " 57%|█████▋    | 1136/2000 [14:27<21:34,  1.50s/it]"
     ]
    },
    {
     "name": "stdout",
     "output_type": "stream",
     "text": [
      "[PPO UPDATE] avg_actor_loss=0.2793, avg_critic_loss=3.4162\n"
     ]
    },
    {
     "name": "stderr",
     "output_type": "stream",
     "text": [
      " 59%|█████▉    | 1179/2000 [14:58<22:42,  1.66s/it]"
     ]
    },
    {
     "name": "stdout",
     "output_type": "stream",
     "text": [
      "[PPO UPDATE] avg_actor_loss=0.1121, avg_critic_loss=3.0874\n"
     ]
    },
    {
     "name": "stderr",
     "output_type": "stream",
     "text": [
      " 62%|██████▏   | 1234/2000 [15:31<22:34,  1.77s/it]"
     ]
    },
    {
     "name": "stdout",
     "output_type": "stream",
     "text": [
      "[PPO UPDATE] avg_actor_loss=-0.0380, avg_critic_loss=2.1805\n"
     ]
    },
    {
     "name": "stderr",
     "output_type": "stream",
     "text": [
      " 64%|██████▍   | 1285/2000 [16:02<19:15,  1.62s/it]"
     ]
    },
    {
     "name": "stdout",
     "output_type": "stream",
     "text": [
      "[PPO UPDATE] avg_actor_loss=0.3266, avg_critic_loss=2.0545\n"
     ]
    },
    {
     "name": "stderr",
     "output_type": "stream",
     "text": [
      " 66%|██████▋   | 1329/2000 [16:35<22:02,  1.97s/it]"
     ]
    },
    {
     "name": "stdout",
     "output_type": "stream",
     "text": [
      "[PPO UPDATE] avg_actor_loss=-0.0694, avg_critic_loss=4.7356\n"
     ]
    },
    {
     "name": "stderr",
     "output_type": "stream",
     "text": [
      " 68%|██████▊   | 1363/2000 [17:06<25:13,  2.38s/it]"
     ]
    },
    {
     "name": "stdout",
     "output_type": "stream",
     "text": [
      "[PPO UPDATE] avg_actor_loss=-0.0627, avg_critic_loss=5.3351\n"
     ]
    },
    {
     "name": "stderr",
     "output_type": "stream",
     "text": [
      " 71%|███████   | 1418/2000 [17:34<11:35,  1.19s/it]"
     ]
    },
    {
     "name": "stdout",
     "output_type": "stream",
     "text": [
      "[PPO UPDATE] avg_actor_loss=0.0198, avg_critic_loss=3.8077\n"
     ]
    },
    {
     "name": "stderr",
     "output_type": "stream",
     "text": [
      " 73%|███████▎  | 1468/2000 [18:01<10:14,  1.16s/it]"
     ]
    },
    {
     "name": "stdout",
     "output_type": "stream",
     "text": [
      "[PPO UPDATE] avg_actor_loss=0.0203, avg_critic_loss=2.2574\n"
     ]
    },
    {
     "name": "stderr",
     "output_type": "stream",
     "text": [
      " 76%|███████▌  | 1524/2000 [18:28<09:20,  1.18s/it]"
     ]
    },
    {
     "name": "stdout",
     "output_type": "stream",
     "text": [
      "[PPO UPDATE] avg_actor_loss=0.0187, avg_critic_loss=2.8304\n"
     ]
    },
    {
     "name": "stderr",
     "output_type": "stream",
     "text": [
      " 78%|███████▊  | 1568/2000 [18:59<10:37,  1.47s/it]"
     ]
    },
    {
     "name": "stdout",
     "output_type": "stream",
     "text": [
      "[PPO UPDATE] avg_actor_loss=0.1014, avg_critic_loss=2.1755\n"
     ]
    },
    {
     "name": "stderr",
     "output_type": "stream",
     "text": [
      " 80%|████████  | 1608/2000 [19:30<10:12,  1.56s/it]"
     ]
    },
    {
     "name": "stdout",
     "output_type": "stream",
     "text": [
      "[PPO UPDATE] avg_actor_loss=0.2392, avg_critic_loss=4.4636\n"
     ]
    },
    {
     "name": "stderr",
     "output_type": "stream",
     "text": [
      " 83%|████████▎ | 1652/2000 [20:02<08:08,  1.40s/it]"
     ]
    },
    {
     "name": "stdout",
     "output_type": "stream",
     "text": [
      "[PPO UPDATE] avg_actor_loss=0.0552, avg_critic_loss=4.7419\n"
     ]
    },
    {
     "name": "stderr",
     "output_type": "stream",
     "text": [
      " 85%|████████▌ | 1700/2000 [20:29<07:23,  1.48s/it]"
     ]
    },
    {
     "name": "stdout",
     "output_type": "stream",
     "text": [
      "[PPO UPDATE] avg_actor_loss=0.0188, avg_critic_loss=2.8789\n"
     ]
    },
    {
     "name": "stderr",
     "output_type": "stream",
     "text": [
      " 87%|████████▋ | 1746/2000 [21:00<06:29,  1.53s/it]"
     ]
    },
    {
     "name": "stdout",
     "output_type": "stream",
     "text": [
      "[PPO UPDATE] avg_actor_loss=-0.0580, avg_critic_loss=4.2493\n"
     ]
    },
    {
     "name": "stderr",
     "output_type": "stream",
     "text": [
      " 90%|█████████ | 1800/2000 [21:27<03:24,  1.02s/it]"
     ]
    },
    {
     "name": "stdout",
     "output_type": "stream",
     "text": [
      "[PPO UPDATE] avg_actor_loss=0.0191, avg_critic_loss=9.9907\n"
     ]
    },
    {
     "name": "stderr",
     "output_type": "stream",
     "text": [
      " 92%|█████████▏| 1843/2000 [21:58<04:36,  1.76s/it]"
     ]
    },
    {
     "name": "stdout",
     "output_type": "stream",
     "text": [
      "[PPO UPDATE] avg_actor_loss=-0.1705, avg_critic_loss=4.0204\n"
     ]
    },
    {
     "name": "stderr",
     "output_type": "stream",
     "text": [
      " 94%|█████████▍| 1879/2000 [22:30<03:36,  1.79s/it]"
     ]
    },
    {
     "name": "stdout",
     "output_type": "stream",
     "text": [
      "[PPO UPDATE] avg_actor_loss=0.0022, avg_critic_loss=3.8942\n"
     ]
    },
    {
     "name": "stderr",
     "output_type": "stream",
     "text": [
      " 96%|█████████▋| 1927/2000 [23:01<02:07,  1.75s/it]"
     ]
    },
    {
     "name": "stdout",
     "output_type": "stream",
     "text": [
      "[PPO UPDATE] avg_actor_loss=0.1448, avg_critic_loss=3.8009\n"
     ]
    },
    {
     "name": "stderr",
     "output_type": "stream",
     "text": [
      " 99%|█████████▉| 1979/2000 [23:29<00:22,  1.08s/it]"
     ]
    },
    {
     "name": "stdout",
     "output_type": "stream",
     "text": [
      "[PPO UPDATE] avg_actor_loss=0.0203, avg_critic_loss=2.4601\n"
     ]
    },
    {
     "name": "stderr",
     "output_type": "stream",
     "text": [
      "100%|██████████| 2000/2000 [23:29<00:00,  1.42it/s]"
     ]
    },
    {
     "name": "stdout",
     "output_type": "stream",
     "text": [
      "[11.0, -1.0, -5.0, -2.0, -2.0, 0.5, 0.5, -1.0, -1.0, 2.0, -0.5, -1.0, 0.5, 1.0, -1.0, -3.0, 1.0, 0.5, -2.0, 2.0, -1.0, 8.0, 1.0, 1.0, -1.0, 2.0, 1.0, -0.5, -2.0, -1.0, -3.0, -0.5, 0.5, 5.0, 1.0, -0.5, -0.5, 5.0, 2.0, 0.5, -1.0, -1.0, -0.5, 2.0, -3.0, 0.5, -1.0, 4.0, 3.0, -2.0, -0.5, -0.5, 1.0, -0.5, 0.5, 1.0, 8.0, -1.0, -0.5, -1.0, 1.0, 0.5, -1.0, -4.0, 0.5, -0.5, 0.5, 0.5, -3.0, 1.0, -1.0, 2.0, 2.0, -0.5, -2.0, 2.0, 2.0, 0.5, 0.5, -2.0, -0.5, -0.5, 1.0, -0.5, -0.5, 0.5, -2.0, 1.0, 3.0, 0.5, -1.0, 1.0, 2.0, 0.5, 1.0, -3.0, 0.5, 0.5, -1.0, -0.5, 2.0, -2.0, 3.0, -3.0, 1.0, 2.0, -0.5, -1.0, -1.0, -0.5, -0.5, 0.5, 1.0, -3.0, 0.5, -0.5, -0.5, -0.5, -0.5, 2.0, -2.0, -1.0, 1.0, -1.0, 3.0, -4.0, -1.0, 0.5, -0.5, -1.0, -0.5, 0.5, 1.0, -3.0, -1.0, -3.0, -0.5, -0.5, -0.5, -1.0, -0.5, 2.0, 2.0, 1.0, -0.5, -1.0, 0.5, -2.0, 1.0, -1.0, 0.5, -0.5, 1.0, -1.0, 1.0, -1.0, -1.0, 0.5, 0.5, 1.0, 0.5, -7.0, 1.0, 3.0, -1.0, 1.0, -1.0, 2.0, 4.0, 0.5, 0.5, -0.5, -1.0, 1.0, 3.0, 0.5, 0.5, -2.0, 0.5, 0.5, -5.0, -2.0, 1.0, -1.0, -2.0, -2.0, 2.0, -0.5, 0.5, 1.0, 1.0, -4.0, -3.0, -2.0, -10.0, 1.0, -2.0, -2.0, 2.0, 1.0, -0.5, 1.0, -0.5, 1.0, -3.0, 1.0, 1.0, -4.0, -1.0, -1.0, 2.0, -2.0, -0.5, -1.0, 2.0, 0.5, -1.0, 0.5, 1.0, -0.5, -0.5, 2.0, -0.5, 2.0, 0.5, 6.0, -3.0, -0.5, -1.0, -2.0, -2.0, 0.5, -5.0, 2.0, 1.0, -1.0, -0.5, 0.5, 0.5, 1.0, 6.0, -2.0, 0.5, 0.5, -0.5, 0.5, 0.5, 1.0, 2.0, 1.0, -0.5, -4.0, 0.5, 0.5, 1.0, 1.0, -0.5, -0.5, -1.0, -5.0, -1.0, 1.0, -3.0, 0.5, 2.0, 1.0, 1.0, -2.0, -4.0, 2.0, -1.0, 1.0, 1.0, 1.0, 4.0, 5.0, -2.0, -0.5, 1.0, -0.5, 0.5, -4.0, -1.0, -1.0, 3.0, -2.0, 0.5, 2.0, -2.0, 2.0, 1.0, -1.0, 0.5, 0.5, -0.5, 0.5, 4.0, -2.0, 3.0, 0.5, 4.0, 0.5, 1.0, -0.5, -1.0, -1.0, -2.0, 2.0, 0.5, 6.0, -0.5, 2.0, -1.0, 0.5, -5.0, 1.0, -1.0, -1.0, 2.0, -1.0, 0.5, -3.0, -0.5, -0.5, -3.0, -0.5, 1.0, 7.0, 2.0, 0.5, -1.0, -0.5, -3.0, -1.0, 1.0, 1.0, -3.0, 5.0, 1.0, -1.0, -1.0, 0.5, -0.5, 1.0, 5.0, -0.5, -1.0, 0.5, -0.5, -0.5, -1.0, 1.0, 0.5, -2.0, -1.0, 1.0, 1.0, 3.0, 0.5, 0.5, 4.0, -3.0, -8.0, -0.5, -0.5, 1.0, 1.0, -0.5, -3.0, -0.5, 1.0, 1.0, -2.0, -1.0, 0.5, -1.0, -1.0, 1.0, 0.5, -0.5, 7.0, -1.0, -1.0, -1.0, 5.0, -1.0, -1.0, -0.5, 0.5, -0.5, -0.5, -2.0, -0.5, -1.0, 1.0, 1.0, -3.0, 0.5, -1.0, 1.0, 0.5, 0.5, -4.0, 0.5, -2.0, 0.5, 0.5, 4.0, -2.0, 4.0, 0.5, -2.0, 6.0, -1.0, -0.5, 4.0, 2.0, -2.0, 9.0, 0.5, 2.0, -2.0, 2.0, -0.5, -0.5, 2.0, -0.5, 0.5, -2.0, -1.0, 0.5, -3.0, -0.5, 0.5, 0.5, -0.5, -2.0, -2.0, -1.0, -3.0, 1.0, -1.0, -1.0, -0.5, 2.0, 3.0, 2.0, 1.0, -4.0, 2.0, 1.0, -0.5, 1.0, 2.0, 1.0, 0.5, -0.5, -1.0, 0.5, 1.0, 0.5, -4.0, 1.0, -1.0, -2.0, 0.5, -2.0, 0.5, 1.0, 2.0, -0.5, 3.0, 0.5, 1.0, 3.0, 0.5, -1.0, -4.0, -0.5, 1.0, -1.0, 4.0, 0.5, 0.5, -5.0, -1.0, 0.5, -4.0, -1.0, 0.5, -1.0, 1.0, -0.5, -7.0, -1.0, -2.0, 6.0, 1.0, -1.0, -2.0, 4.0, 0.5, 1.0, 1.0, 0.5, 0.5, 0.5, 1.0, 2.0, 2.0, 2.0, -2.0, -9.0, -1.0, 2.0, -2.0, -1.0, -1.0, 1.0, -0.5, -1.0, -1.0, -1.0, 0.5, 1.0, -3.0, 2.0, -0.5, -1.0, -15.0, -2.0, -2.0, -1.0, 0.5, -1.0, 1.0, 0.5, -6.0, -2.0, -1.0, -0.5, 2.0, -3.0, -0.5, 0.5, 2.0, 0.5, 1.0, -1.0, -1.0, -0.5, -2.0, -0.5, 1.0, 1.0, 0.5, -2.0, -4.0, 0.5, -1.0, 1.0, -0.5, 1.0, 2.0, -3.0, -3.0, 6.0, 0.5, -2.0, 1.0, -1.0, 5.0, -2.0, -0.5, 0.5, 5.0, -0.5, -4.0, -1.0, 1.0, -0.5, 3.0, -1.0, 1.0, 0.5, 1.0, 0.5, -0.5, -0.5, -1.0, 1.0, 0.5, 2.0, -0.5, 1.0, 1.0, 1.0, -3.0, -0.5, -2.0, 2.0, 1.0, 1.0, -1.0, -1.0, 0.5, -1.0, -1.0, 1.0, 1.0, 1.0, 0.5, -1.0, -0.5, 0.5, -2.0, 1.0, 0.5, 0.5, -0.5, -2.0, 1.0, 2.0, 0.5, -0.5, -0.5, -0.5, 2.0, 1.0, 3.0, 3.0, 0.5, -1.0, -0.5, 0.5, -1.0, -1.0, 1.0, -0.5, -5.0, 0.5, 0.5, -2.0, 0.5, -0.5, -2.0, -2.0, 5.0, -0.5, 3.0, 3.0, -1.0, 3.0, -2.0, -1.0, 2.0, 1.0, 7.0, -2.0, 3.0, -1.0, 2.0, -3.0, 0.5, -7.0, 3.0, -0.5, -4.0, -4.0, -3.0, 0.5, 3.0, 1.0, -2.0, -4.0, -1.0, -0.5, 1.0, -1.0, 1.0, 4.0, -0.5, 1.0, 0.5, -2.0, 0.5, -1.0, -2.0, 1.0, 1.0, -1.0, 2.0, -1.0, -0.5, -4.0, -5.0, 1.0, 0.5, -1.0, 0.5, 6.0, 1.0, -2.0, 2.0, 2.0, 1.0, 5.0, 1.0, -2.0, 0.5, 7.0, -4.0, -3.0, 3.0, -1.0, 0.5, -1.0, 4.0, -1.0, 0.5, 0.5, 4.0, -0.5, 7.0, 12.0, -1.0, 1.0, 1.0, -2.0, -0.5, 2.0, 0.5, -0.5, -2.0, -3.0, 1.0, -1.0, 1.0, 1.0, 3.0, -2.0, 4.0, 3.0, 4.0, -1.0, -0.5, 1.0, -0.5, -1.0, 1.0, -2.0, -0.5, 1.0, -2.0, 0.5, -0.5, -0.5, -1.0, -0.5, 0.5, 1.0, -3.0, -0.5, -7.0, 2.0, -1.0, -0.5, 0.5, 1.0, 0.5, 2.0, 1.0, -0.5, -5.0, -6.0, -1.0, -0.5, 3.0, 3.0, -4.0, 1.0, 1.0, -1.0, 0.5, 8.0, 1.0, -1.0, 1.0, 0.5, 0.5, -2.0, -0.5, -0.5, -2.0, 1.0, -0.5, -1.0, 2.0, 1.0, 0.5, -1.0, 0.5, -1.0, 2.0, 5.0, 0.5, 1.0, -0.5, -1.0, -1.0, -1.0, -1.0, -0.5, 1.0, -1.0, 0.5, -5.0, -0.5, 2.0, -0.5, -1.0, -0.5, 2.0, 2.0, -1.0, -1.0, -2.0, -0.5, -1.0, -2.0, -4.0, 1.0, -4.0, 0.5, -0.5, 0.5, -4.0, 0.5, 2.0, -3.0, 2.0, 4.0, -1.0, -2.0, 0.5, -2.0, -0.5, 3.0, -0.5, 2.0, -1.0, -0.5, -7.0, -0.5, -0.5, -1.0, -2.0, -2.0, -3.0, -1.0, 1.0, 0.5, -1.0, -0.5, 1.0, -1.0, -0.5, -2.0, -0.5, 2.0, 0.5, 1.0, 4.0, -1.0, -0.5, -0.5, 5.0, 0.5, -1.0, 3.0, -2.0, -0.5, 2.0, 0.5, 1.0, 0.5, 2.0, 0.5, -0.5, 0.5, -8.0, 2.0, -1.0, -2.0, 2.0, 1.0, 1.0, -5.0, 3.0, 1.0, -0.5, 1.0, -0.5, -0.5, 1.0, 0.5, 1.0, 0.5, 0.5, 1.0, -1.0, -3.0, 1.0, -0.5, -3.0, -1.0, -2.0, 1.0, -1.0, 1.0, -2.0, -4.0, -0.5, 0.5, -1.0, 0.5, -4.0, 2.0, 1.0, -0.5, 2.0, -1.0, -2.0, 2.0, -0.5, 0.5, 0.5, -0.5, -1.0, -1.0, -0.5, -2.0, -4.0, -2.0, -0.5, 2.0, 2.0, 2.0, 1.0, 8.0, -2.0, 2.0, -1.0, -0.5, -0.5, -1.0, 7.0, 1.0, -1.0, 0.5, 0.5, -0.5, -0.5, 0.5, 2.0, -1.0, -1.0, -0.5, 1.0, 0.5, -1.0, -1.0, 0.5, 0.5, -4.0, -1.0, 0.5, 1.0, -1.0, 0.5, -2.0, -0.5, 0.5, -2.0, 2.0, 3.0, -0.5, -2.0, -1.0, -0.5, 4.0, 2.0, 0.5, 2.0, 0.5, -0.5, -1.0, 1.0, 1.0, -1.0, -2.0, -0.5, 1.0, -1.0, 1.0, -2.0, -0.5, 0.5, 0.5, 1.0, 0.5, 8.0, 1.0, -1.0, 0.5, 1.0, -1.0, -0.5, 2.0, 0.5, 0.5, -1.0, -0.5, -12.0, 0.5, 4.0, 2.0, 2.0, 4.0, 1.0, -1.0, 0.5, 4.0, 1.0, -8.0, 1.0, -0.5, 1.0, -0.5, -0.5, -3.0, 1.0, -0.5, -1.0, 0.5, 2.0, 2.0, -1.0, 1.0, -0.5, -0.5, -2.0, 3.0, -3.0, -1.0, 2.0, 0.5, -1.0, 0.5, -0.5, -4.0, 1.0, -1.0, -1.0, 2.0, 0.5, -0.5, -1.0, 0.5, -0.5, 1.0, 5.0, 6.0, 5.0, -0.5, -1.0, 1.0, -2.0, -1.0, 1.0, -0.5, 3.0, 2.0, 1.0, 1.0, -2.0, 0.5, -1.0, -0.5, 1.0, 0.5, 4.0, 3.0, -3.0, 0.5, 0.5, 2.0, 1.0, 0.5, 1.0, -0.5, 1.0, -0.5, -2.0, 0.5, 0.5, -3.0, -3.0, -1.0, 1.0, -5.0, -0.5, -2.0, -3.0, 2.0, 0.5, 5.0, -0.5, -0.5, -2.0, 1.0, -1.0, 0.5, 1.0, -3.0, 1.0, 1.0, 0.5, 4.0, -2.0, -0.5, 0.5, -0.5, -1.0, -0.5, 1.0, 0.5, 1.0, -5.0, -1.0, 3.0, 2.0, 0.5, -0.5, 2.0, 1.0, 0.5, 1.0, -0.5, 2.0, -2.0, 0.5, -1.0, -0.5, -2.0, -2.0, 5.0, 4.0, 0.5, 0.5, -0.5, -1.0, -0.5, 1.0, -5.0, 0.5, 0.5, -0.5, 3.0, -1.0, -1.0, 1.0, -2.0, 0.5, -2.0, -5.0, 0.5, 4.0, 2.0, 1.0, -0.5, -2.0, 2.0, 0.5, -0.5, 1.0, -0.5, -2.0, -0.5, 1.0, -2.0, 1.0, 0.5, -0.5, 1.0, 0.5, 1.0, 0.5, -3.0, -1.0, 1.0, -0.5, 3.0, 1.0, 0.5, -0.5, 2.0, 3.0, -0.5, -1.0, 3.0, -2.0, -1.0, 0.5, -0.5, -1.0, -0.5, -1.0, 2.0, 0.5, -3.0, -1.0, 1.0, 0.5, -2.0, 0.5, -2.0, 4.0, 2.0, -1.0, 5.0, 1.0, -0.5, 0.5, -0.5, 4.0, -0.5, 1.0, 1.0, 0.5, 1.0, -1.0, 2.0, -0.5, 0.5, 0.5, 2.0, -1.0, 0.5, 2.0, -0.5, 2.0, -0.5, -0.5, 2.0, 1.0, -0.5, -1.0, -1.0, 1.0, 2.0, -0.5, 0.5, -3.0, -3.0, -1.0, -1.0, -0.5, 2.0, -0.5, 1.0, 0.5, 1.0, -0.5, 4.0, -2.0, 1.0, 0.5, -1.0, 1.0, -1.0, 2.0, 2.0, -2.0, 1.0, 0.5, 1.0, 0.5, 1.0, 3.0, -2.0, 1.0, 1.0, -0.5, -0.5, -2.0, -8.0, 0.5, 1.0, -4.0, -1.0, -0.5, 1.0, 1.0, -7.0, -5.0, 1.0, -0.5, 0.5, -0.5, 0.5, -0.5, -0.5, 1.0, 2.0, -1.0, -2.0, 2.0, -2.0, -1.0, -0.5, -1.0, -1.0, 2.0, 1.0, 1.0, 0.5, -2.0, 4.0, 0.5, 3.0, 0.5, -4.0, -7.0, 0.5, -0.5, 0.5, -1.0, 2.0, -1.0, -4.0, 0.5, -5.0, 1.0, -1.0, 3.0, -0.5, 1.0, -2.0, 4.0, 0.0, -2.0, -2.0, 0.5, -0.5, -1.0, -0.5, 2.0, -0.5, -3.0, 0.5, 9.0, 0.5, 0.5, -2.0, -1.0, 0.5, 0.5, -1.0, 1.0, 1.0, -9.0, 1.0, 1.0, -2.0, -2.0, -2.0, -2.0, -1.0, -1.0, -1.0, 0.5, 1.0, -2.0, -2.0, 1.0, 2.0, -0.5, 1.0, 0.5, 2.0, -0.5, -1.0, 2.0, 1.0, 1.0, 1.0, -4.0, 1.0, -2.0, 0.5, -0.5, 2.0, 1.0, -1.0, -0.5, 1.0, 0.5, 0.5, -0.5, 3.0, 0.5, 0.5, -1.0, 1.0, 1.0, 1.0, 0.5, 3.0, 0.5, -0.5, -0.5, 1.0, -1.0, -1.0, 4.0, 2.0, 1.0, 0.5, -1.0, -1.0, -1.0, 1.0, 0.5, -1.0, 0.5, -2.0, 1.0, -3.0, 1.0, 1.0, -5.0, -0.5, 1.0, 3.0, -0.5, 1.0, 1.0, 2.0, 3.0, 1.0, -2.0, 2.0, -2.0, -1.0, 0.5, 0.5, 1.0, -0.5, 0.5, -2.0, 0.5, -0.5, -2.0, 0.5, 3.0, 1.0, -0.5, 4.0, -1.0, 1.0, 0.5, 2.0, 1.0, 3.0, -0.5, 1.0, -0.5, 0.5, -0.5, 3.0, -1.0, -0.5, -2.0, 0.5, -0.5, 0.5, -0.5, -0.5, 2.0, -0.5, -1.0, 1.0, -0.5, 2.0, -0.5, -1.0, -1.0, -1.0, 2.0, 1.0, 0.5, -0.5, 0.5, 4.0, 4.0, -0.5, -1.0, -0.5, 2.0, -1.0, 0.5, -5.0, 0.5, 0.5, 0.5, 0.5, 0.5, -4.0, 1.0, -1.0, 0.5, 4.0, 0.5, 0.5, 3.0, -1.0, -0.5, -4.0, 0.5, 2.0, 0.5, -1.0, -1.0, 1.0, 5.0, -0.5, -0.5, -1.0, 0.5, 4.0, 1.0, -0.5, 2.0, -4.0, -0.5, -1.0, -2.0, 2.0, -3.0, -0.5, 0.5, -2.0, -0.5, -4.0, -2.0, -0.5, -1.0, -0.5, 0.5, 1.0, -0.5, 1.0, 1.0, 0.5, 1.0, 5.0, 0.5, -5.0, 0.5, 1.0, 0.5, -2.0, -4.0, 1.0, -1.0, -0.5, -1.0, -0.5, 2.0, 0.5, 3.0, -1.0, 5.0, 1.0, 2.0, -0.5, -3.0, 1.0, 4.0, -1.0, -0.5, -2.0, 1.0, -1.0, -5.0, 0.5, -6.0, -0.5, 1.0, -0.5, -1.0, -1.0, -1.0, -1.0, 1.0, -1.0, 0.5, 1.0, -4.0, 1.0, -2.0, 0.5, -3.0, -1.0, 3.0, 1.0, 0.5, 1.0, 0.5, 1.0, -3.0, -0.5, -0.5, 4.0, 2.0, -2.0, -7.0, -2.0, -3.0, -2.0, -1.0, 5.0, -1.0, 1.0, -0.5, -1.0, -2.0, 1.0, 0.5, 0.5, -2.0, 2.0, 4.0, 0.5, 2.0, 4.0, 0.5, -2.0, -0.5, -0.5, -2.0, 2.0, -1.0, 1.0, -2.0, -5.0, 1.0, 1.0, 1.0, -1.0, 1.0, 0.5, -1.0, 0.5, 2.0, 1.0, -0.5, 7.0, -1.0, 0.5, 2.0, -0.5, -1.0, 1.0, 1.0, -2.0, -0.5, -0.5, -1.0, 2.0, -1.0, -1.0, -1.0, 1.0, -1.0, -1.0, 2.0, 0.5, -2.0, -0.5, -3.0, 0.5, 1.0, 0.5, 1.0, 1.0, 0.5, 1.0, -2.0, 0.5, 0.5, -1.0, 0.5, -0.5, 1.0, -0.5, 1.0, -0.5, 0.5, -1.0, -1.0, -1.0, 2.0, 3.0, -3.0, -1.0, -2.0, 0.5, 2.0, -2.0, 0.5, 0.5, 2.0, -2.0, -0.5, -0.5, -0.5, 0.5, 0.5, -3.0, 0.5, 1.0, 0.5, -0.5, -0.5, -2.0, -3.0, -1.0, -9.0, 1.0, -7.0, 4.0, 2.0, 2.0, -0.5, -1.0, -0.5, 2.0, -1.0, -0.5, 1.0, 0.5, 0.5, -1.0, 2.0, -1.0, -0.5, -3.0, -3.0, -1.0, -1.0, 14.0, 1.0, -1.0, 0.5, 5.0, 0.5, -1.0, 1.0, -2.0, 0.5, 3.0, 0.5, -1.0, 1.0, -3.0, 0.5, -0.5, -0.5, 0.5, -1.0, -1.0, 4.0, 2.0, -1.0, 1.0, 0.5, -0.5, -2.0, -1.0, -0.5, 1.0, -1.0, -0.5, 1.0, -0.5, 0.5, -0.5, -0.5, -5.0, -0.5, -1.0, -2.0, 0.5, 2.0, 0.5, 1.0, 0.5, 1.0, -1.0, -1.0, 1.0, -0.5, -1.0, -0.5, -3.0, -0.5, -2.0, -3.0, -1.0, -3.0, -0.5, 2.0, 0.5, 0.5, 1.0, -1.0, -1.0, -4.0, 7.0, -7.0, 1.0, 0.5, -0.5, -2.0, -0.5, 1.0, 1.0, 0.5, -1.0, -1.0, -1.0, -0.5, 0.5, 2.0, 4.0, 1.0, 0.5, 4.0, 1.0, 0.5, 6.0, 1.0, 1.0, -1.0, -3.0, 1.0, -2.0, -4.0, 1.0, -2.0, -1.0, -1.0, -1.0, -3.0, 0.5, 4.0, 7.0, 3.0, -1.0, 0.5, 0.5, 3.0, -1.0, 5.0, 0.5, 0.5, 1.0, -1.0, -0.5, -0.5, -0.5, -1.0, -0.5, -1.0, -1.0, 1.0, 2.0, -2.0, -1.0, 1.0, -0.5, -2.0, 1.0, 1.0, 2.0, 2.0, -1.0, 1.0, -2.0, 2.0, 1.0, 1.0, 0.5, -4.0, -0.5, 1.0, -1.0, -0.5, -0.5, -2.0, -2.0, -2.0, -0.5, -4.0, -10.0, -0.5, -1.0, 2.0, -0.5, -1.0, 1.0, -3.0, 1.0, 2.0, 4.0, -1.0, 0.5, -0.5, 3.0, -0.5, 2.0, 2.0, 2.0, 3.0, -2.0, -3.0, -2.0, -1.0, -0.5, -0.5, 0.5, -1.0, -0.5, 1.0, -1.0, -3.0, 0.5, -1.0, -0.5, 0.5, -0.5, -1.0, -4.0, -0.5, -1.0, -1.0, -1.0, -0.5, 2.0, 0.5, -1.0, -0.5, 2.0, -0.5, 4.0, 3.0, -0.5, -2.0, 1.0, 0.5, -1.0, -1.0, -1.0, 3.0, 1.0, 1.0, -0.5, -1.0, 1.0, -0.5, 1.0, 0.5, 1.0, -0.5, -3.0, 1.0, 0.5, -1.0, -6.0, 3.0, 3.0, -2.0, -0.5, 1.0, 0.5, -3.0, -0.5, -0.5]\n"
     ]
    },
    {
     "name": "stderr",
     "output_type": "stream",
     "text": [
      "\n"
     ]
    }
   ],
   "source": [
    "ppo_interaction = ppo.PPO_interaction(interaction_config=ppo_interaction_config_texas,\n",
    "                    env_configs = texas_holdem_config,\n",
    "                      actor_configs = actor_configs_texas,\n",
    "                      critic_configs = critic_configs_texas\n",
    "                  )\n",
    "\n",
    "train_scores, trained_agents = ppo_interaction.train_multiagent()\n",
    "print(train_scores)"
   ]
  },
  {
   "cell_type": "code",
   "execution_count": 15,
   "metadata": {},
   "outputs": [
    {
     "name": "stderr",
     "output_type": "stream",
     "text": [
      "  0%|          | 0/100 [00:00<?, ?it/s]"
     ]
    },
    {
     "name": "stderr",
     "output_type": "stream",
     "text": [
      "100%|██████████| 100/100 [00:01<00:00, 72.18it/s]"
     ]
    },
    {
     "name": "stdout",
     "output_type": "stream",
     "text": [
      "[0.5, -1.0, -0.5, -1.0, 1.0, -4.0, -0.5, -4.0, -0.5, -0.5, -0.5, 1.0, 1.0, -0.5, -5.0, 0.5, 0.5, 1.0, 1.0, 4.0, 0.5, 0.5, 2.0, -0.5, 1.0, 0.5, -2.0, -0.5, 1.0, -5.0, 0.5, -3.0, 0.5, -2.0, 6.0, -0.5, 2.0, -0.5, 5.0, -1.0, 0.5, -4.0, -0.5, -0.5, 1.0, -2.0, 0.5, -0.5, 2.0, 1.0, 0.5, 0.5, -1.0, 0.5, 1.0, 1.0, -2.0, -0.5, 2.0, 4.0, -0.5, -1.0, -1.0, 0.5, -0.5, -1.0, -2.0, 0.5, -1.0, 1.0, 1.0, -0.5, 1.0, 1.0, -2.0, -0.5, -2.0, -0.5, -0.5, -3.0, 1.0, -1.0, 0.5, 0.5, -2.0, -6.0, -2.0, 2.0, -2.0, -0.5, 2.0, 2.0, 1.0, 2.0, -0.5, -0.5, -1.0, -0.5, 0.5, 2.0]\n"
     ]
    },
    {
     "name": "stderr",
     "output_type": "stream",
     "text": [
      "\n"
     ]
    }
   ],
   "source": [
    "ppo_interaction.testing_episodes = 100\n",
    "test_scores = ppo_interaction.test_multiagent(trained_agents)\n",
    "print(test_scores)"
   ]
  },
  {
   "cell_type": "code",
   "execution_count": 5,
   "metadata": {},
   "outputs": [
    {
     "ename": "TypeError",
     "evalue": "unhashable type: 'dict'",
     "output_type": "error",
     "traceback": [
      "\u001b[0;31m---------------------------------------------------------------------------\u001b[0m",
      "\u001b[0;31mTypeError\u001b[0m                                 Traceback (most recent call last)",
      "Cell \u001b[0;32mIn[5], line 13\u001b[0m\n\u001b[1;32m     11\u001b[0m ax2\u001b[38;5;241m.\u001b[39mset_xlabel(\u001b[38;5;124m\"\u001b[39m\u001b[38;5;124mEpisodes\u001b[39m\u001b[38;5;124m\"\u001b[39m)\n\u001b[1;32m     12\u001b[0m ax2\u001b[38;5;241m.\u001b[39mset_ylabel(\u001b[38;5;124m\"\u001b[39m\u001b[38;5;124mScore\u001b[39m\u001b[38;5;124m\"\u001b[39m)\n\u001b[0;32m---> 13\u001b[0m \u001b[43max2\u001b[49m\u001b[38;5;241;43m.\u001b[39;49m\u001b[43mplot\u001b[49m\u001b[43m(\u001b[49m\u001b[43mtest_scores\u001b[49m\u001b[43m)\u001b[49m\n\u001b[1;32m     14\u001b[0m ax2\u001b[38;5;241m.\u001b[39mgrid(\u001b[38;5;28;01mTrue\u001b[39;00m)\n\u001b[1;32m     16\u001b[0m plt\u001b[38;5;241m.\u001b[39mtight_layout()\n",
      "File \u001b[0;32m~/.conda/envs/venv/lib/python3.10/site-packages/matplotlib/axes/_axes.py:1777\u001b[0m, in \u001b[0;36mAxes.plot\u001b[0;34m(self, scalex, scaley, data, *args, **kwargs)\u001b[0m\n\u001b[1;32m   1534\u001b[0m \u001b[38;5;250m\u001b[39m\u001b[38;5;124;03m\"\"\"\u001b[39;00m\n\u001b[1;32m   1535\u001b[0m \u001b[38;5;124;03mPlot y versus x as lines and/or markers.\u001b[39;00m\n\u001b[1;32m   1536\u001b[0m \n\u001b[0;32m   (...)\u001b[0m\n\u001b[1;32m   1774\u001b[0m \u001b[38;5;124;03m(``'green'``) or hex strings (``'#008000'``).\u001b[39;00m\n\u001b[1;32m   1775\u001b[0m \u001b[38;5;124;03m\"\"\"\u001b[39;00m\n\u001b[1;32m   1776\u001b[0m kwargs \u001b[38;5;241m=\u001b[39m cbook\u001b[38;5;241m.\u001b[39mnormalize_kwargs(kwargs, mlines\u001b[38;5;241m.\u001b[39mLine2D)\n\u001b[0;32m-> 1777\u001b[0m lines \u001b[38;5;241m=\u001b[39m [\u001b[38;5;241m*\u001b[39m\u001b[38;5;28mself\u001b[39m\u001b[38;5;241m.\u001b[39m_get_lines(\u001b[38;5;28mself\u001b[39m, \u001b[38;5;241m*\u001b[39margs, data\u001b[38;5;241m=\u001b[39mdata, \u001b[38;5;241m*\u001b[39m\u001b[38;5;241m*\u001b[39mkwargs)]\n\u001b[1;32m   1778\u001b[0m \u001b[38;5;28;01mfor\u001b[39;00m line \u001b[38;5;129;01min\u001b[39;00m lines:\n\u001b[1;32m   1779\u001b[0m     \u001b[38;5;28mself\u001b[39m\u001b[38;5;241m.\u001b[39madd_line(line)\n",
      "File \u001b[0;32m~/.conda/envs/venv/lib/python3.10/site-packages/matplotlib/axes/_base.py:297\u001b[0m, in \u001b[0;36m_process_plot_var_args.__call__\u001b[0;34m(self, axes, data, return_kwargs, *args, **kwargs)\u001b[0m\n\u001b[1;32m    295\u001b[0m     this \u001b[38;5;241m+\u001b[39m\u001b[38;5;241m=\u001b[39m args[\u001b[38;5;241m0\u001b[39m],\n\u001b[1;32m    296\u001b[0m     args \u001b[38;5;241m=\u001b[39m args[\u001b[38;5;241m1\u001b[39m:]\n\u001b[0;32m--> 297\u001b[0m \u001b[38;5;28;01myield from\u001b[39;00m \u001b[38;5;28;43mself\u001b[39;49m\u001b[38;5;241;43m.\u001b[39;49m\u001b[43m_plot_args\u001b[49m\u001b[43m(\u001b[49m\n\u001b[1;32m    298\u001b[0m \u001b[43m    \u001b[49m\u001b[43maxes\u001b[49m\u001b[43m,\u001b[49m\u001b[43m \u001b[49m\u001b[43mthis\u001b[49m\u001b[43m,\u001b[49m\u001b[43m \u001b[49m\u001b[43mkwargs\u001b[49m\u001b[43m,\u001b[49m\u001b[43m \u001b[49m\u001b[43mambiguous_fmt_datakey\u001b[49m\u001b[38;5;241;43m=\u001b[39;49m\u001b[43mambiguous_fmt_datakey\u001b[49m\u001b[43m,\u001b[49m\n\u001b[1;32m    299\u001b[0m \u001b[43m    \u001b[49m\u001b[43mreturn_kwargs\u001b[49m\u001b[38;5;241;43m=\u001b[39;49m\u001b[43mreturn_kwargs\u001b[49m\n\u001b[1;32m    300\u001b[0m \u001b[43m\u001b[49m\u001b[43m)\u001b[49m\n",
      "File \u001b[0;32m~/.conda/envs/venv/lib/python3.10/site-packages/matplotlib/axes/_base.py:491\u001b[0m, in \u001b[0;36m_process_plot_var_args._plot_args\u001b[0;34m(self, axes, tup, kwargs, return_kwargs, ambiguous_fmt_datakey)\u001b[0m\n\u001b[1;32m    489\u001b[0m     axes\u001b[38;5;241m.\u001b[39mxaxis\u001b[38;5;241m.\u001b[39mupdate_units(x)\n\u001b[1;32m    490\u001b[0m \u001b[38;5;28;01mif\u001b[39;00m axes\u001b[38;5;241m.\u001b[39myaxis \u001b[38;5;129;01mis\u001b[39;00m \u001b[38;5;129;01mnot\u001b[39;00m \u001b[38;5;28;01mNone\u001b[39;00m:\n\u001b[0;32m--> 491\u001b[0m     \u001b[43maxes\u001b[49m\u001b[38;5;241;43m.\u001b[39;49m\u001b[43myaxis\u001b[49m\u001b[38;5;241;43m.\u001b[39;49m\u001b[43mupdate_units\u001b[49m\u001b[43m(\u001b[49m\u001b[43my\u001b[49m\u001b[43m)\u001b[49m\n\u001b[1;32m    493\u001b[0m \u001b[38;5;28;01mif\u001b[39;00m x\u001b[38;5;241m.\u001b[39mshape[\u001b[38;5;241m0\u001b[39m] \u001b[38;5;241m!=\u001b[39m y\u001b[38;5;241m.\u001b[39mshape[\u001b[38;5;241m0\u001b[39m]:\n\u001b[1;32m    494\u001b[0m     \u001b[38;5;28;01mraise\u001b[39;00m \u001b[38;5;167;01mValueError\u001b[39;00m(\u001b[38;5;124mf\u001b[39m\u001b[38;5;124m\"\u001b[39m\u001b[38;5;124mx and y must have same first dimension, but \u001b[39m\u001b[38;5;124m\"\u001b[39m\n\u001b[1;32m    495\u001b[0m                      \u001b[38;5;124mf\u001b[39m\u001b[38;5;124m\"\u001b[39m\u001b[38;5;124mhave shapes \u001b[39m\u001b[38;5;132;01m{\u001b[39;00mx\u001b[38;5;241m.\u001b[39mshape\u001b[38;5;132;01m}\u001b[39;00m\u001b[38;5;124m and \u001b[39m\u001b[38;5;132;01m{\u001b[39;00my\u001b[38;5;241m.\u001b[39mshape\u001b[38;5;132;01m}\u001b[39;00m\u001b[38;5;124m\"\u001b[39m)\n",
      "File \u001b[0;32m~/.conda/envs/venv/lib/python3.10/site-packages/matplotlib/axis.py:1765\u001b[0m, in \u001b[0;36mAxis.update_units\u001b[0;34m(self, data)\u001b[0m\n\u001b[1;32m   1763\u001b[0m neednew \u001b[38;5;241m=\u001b[39m \u001b[38;5;28mself\u001b[39m\u001b[38;5;241m.\u001b[39m_converter \u001b[38;5;241m!=\u001b[39m converter\n\u001b[1;32m   1764\u001b[0m \u001b[38;5;28mself\u001b[39m\u001b[38;5;241m.\u001b[39m_set_converter(converter)\n\u001b[0;32m-> 1765\u001b[0m default \u001b[38;5;241m=\u001b[39m \u001b[38;5;28;43mself\u001b[39;49m\u001b[38;5;241;43m.\u001b[39;49m\u001b[43m_converter\u001b[49m\u001b[38;5;241;43m.\u001b[39;49m\u001b[43mdefault_units\u001b[49m\u001b[43m(\u001b[49m\u001b[43mdata\u001b[49m\u001b[43m,\u001b[49m\u001b[43m \u001b[49m\u001b[38;5;28;43mself\u001b[39;49m\u001b[43m)\u001b[49m\n\u001b[1;32m   1766\u001b[0m \u001b[38;5;28;01mif\u001b[39;00m default \u001b[38;5;129;01mis\u001b[39;00m \u001b[38;5;129;01mnot\u001b[39;00m \u001b[38;5;28;01mNone\u001b[39;00m \u001b[38;5;129;01mand\u001b[39;00m \u001b[38;5;28mself\u001b[39m\u001b[38;5;241m.\u001b[39munits \u001b[38;5;129;01mis\u001b[39;00m \u001b[38;5;28;01mNone\u001b[39;00m:\n\u001b[1;32m   1767\u001b[0m     \u001b[38;5;28mself\u001b[39m\u001b[38;5;241m.\u001b[39mset_units(default)\n",
      "File \u001b[0;32m~/.conda/envs/venv/lib/python3.10/site-packages/matplotlib/category.py:106\u001b[0m, in \u001b[0;36mStrCategoryConverter.default_units\u001b[0;34m(data, axis)\u001b[0m\n\u001b[1;32m    104\u001b[0m \u001b[38;5;66;03m# the conversion call stack is default_units -> axis_info -> convert\u001b[39;00m\n\u001b[1;32m    105\u001b[0m \u001b[38;5;28;01mif\u001b[39;00m axis\u001b[38;5;241m.\u001b[39munits \u001b[38;5;129;01mis\u001b[39;00m \u001b[38;5;28;01mNone\u001b[39;00m:\n\u001b[0;32m--> 106\u001b[0m     axis\u001b[38;5;241m.\u001b[39mset_units(\u001b[43mUnitData\u001b[49m\u001b[43m(\u001b[49m\u001b[43mdata\u001b[49m\u001b[43m)\u001b[49m)\n\u001b[1;32m    107\u001b[0m \u001b[38;5;28;01melse\u001b[39;00m:\n\u001b[1;32m    108\u001b[0m     axis\u001b[38;5;241m.\u001b[39munits\u001b[38;5;241m.\u001b[39mupdate(data)\n",
      "File \u001b[0;32m~/.conda/envs/venv/lib/python3.10/site-packages/matplotlib/category.py:182\u001b[0m, in \u001b[0;36mUnitData.__init__\u001b[0;34m(self, data)\u001b[0m\n\u001b[1;32m    180\u001b[0m \u001b[38;5;28mself\u001b[39m\u001b[38;5;241m.\u001b[39m_counter \u001b[38;5;241m=\u001b[39m itertools\u001b[38;5;241m.\u001b[39mcount()\n\u001b[1;32m    181\u001b[0m \u001b[38;5;28;01mif\u001b[39;00m data \u001b[38;5;129;01mis\u001b[39;00m \u001b[38;5;129;01mnot\u001b[39;00m \u001b[38;5;28;01mNone\u001b[39;00m:\n\u001b[0;32m--> 182\u001b[0m     \u001b[38;5;28;43mself\u001b[39;49m\u001b[38;5;241;43m.\u001b[39;49m\u001b[43mupdate\u001b[49m\u001b[43m(\u001b[49m\u001b[43mdata\u001b[49m\u001b[43m)\u001b[49m\n",
      "File \u001b[0;32m~/.conda/envs/venv/lib/python3.10/site-packages/matplotlib/category.py:215\u001b[0m, in \u001b[0;36mUnitData.update\u001b[0;34m(self, data)\u001b[0m\n\u001b[1;32m    213\u001b[0m \u001b[38;5;66;03m# check if convertible to number:\u001b[39;00m\n\u001b[1;32m    214\u001b[0m convertible \u001b[38;5;241m=\u001b[39m \u001b[38;5;28;01mTrue\u001b[39;00m\n\u001b[0;32m--> 215\u001b[0m \u001b[38;5;28;01mfor\u001b[39;00m val \u001b[38;5;129;01min\u001b[39;00m \u001b[43mOrderedDict\u001b[49m\u001b[38;5;241;43m.\u001b[39;49m\u001b[43mfromkeys\u001b[49m\u001b[43m(\u001b[49m\u001b[43mdata\u001b[49m\u001b[43m)\u001b[49m:\n\u001b[1;32m    216\u001b[0m     \u001b[38;5;66;03m# OrderedDict just iterates over unique values in data.\u001b[39;00m\n\u001b[1;32m    217\u001b[0m     _api\u001b[38;5;241m.\u001b[39mcheck_isinstance((\u001b[38;5;28mstr\u001b[39m, \u001b[38;5;28mbytes\u001b[39m), value\u001b[38;5;241m=\u001b[39mval)\n\u001b[1;32m    218\u001b[0m     \u001b[38;5;28;01mif\u001b[39;00m convertible:\n\u001b[1;32m    219\u001b[0m         \u001b[38;5;66;03m# this will only be called so long as convertible is True.\u001b[39;00m\n",
      "\u001b[0;31mTypeError\u001b[0m: unhashable type: 'dict'"
     ]
    },
    {
     "data": {
      "image/png": "[encoded data removed]",
      "text/plain": [
       "<Figure size 640x480 with 2 Axes>"
      ]
     },
     "metadata": {},
     "output_type": "display_data"
    }
   ],
   "source": [
    "import matplotlib.pyplot as plt\n",
    "\n",
    "fig, (ax1, ax2)  = plt.subplots(1, 2)\n",
    "ax1.set_title(\"Training Scores\")\n",
    "ax1.set_xlabel(\"Episodes\")\n",
    "ax1.set_ylabel(\"Score\")\n",
    "ax1.plot(train_scores)\n",
    "ax1.grid(True)\n",
    "\n",
    "ax2.set_title(\"Testing Scores\")\n",
    "ax2.set_xlabel(\"Episodes\")\n",
    "ax2.set_ylabel(\"Score\")\n",
    "ax2.plot(test_scores)\n",
    "ax2.grid(True)\n",
    "\n",
    "plt.tight_layout()\n",
    "\n",
    "plt.show()\n"
   ]
  },
  {
   "cell_type": "markdown",
   "metadata": {},
   "source": [
    "## PPO Example: LunarLander"
   ]
  },
  {
   "cell_type": "code",
   "execution_count": null,
   "metadata": {},
   "outputs": [],
   "source": [
    "ppo_interaction = ppo.PPO_interaction(interaction_config=ppo_interaction_config,\n",
    "                      actor_configs = actor_configs,\n",
    "                      critic_configs = critic_configs\n",
    "                  )\n",
    "\n",
    "train_scores, trained_agents = ppo_interaction.train()"
   ]
  },
  {
   "cell_type": "code",
   "execution_count": null,
   "metadata": {},
   "outputs": [],
   "source": [
    "test_scores = ppo_interaction.test()"
   ]
  },
  {
   "cell_type": "code",
   "execution_count": null,
   "metadata": {},
   "outputs": [],
   "source": [
    "import matplotlib.pyplot as plt\n",
    "\n",
    "fig, (ax1, ax2)  = plt.subplots(1, 2)\n",
    "ax1.set_title(\"Training Scores\")\n",
    "ax1.set_xlabel(\"Episodes\")\n",
    "ax1.set_ylabel(\"Score\")\n",
    "ax1.plot(train_scores)\n",
    "ax1.grid(True)\n",
    "\n",
    "ax2.set_title(\"Testing Scores\")\n",
    "ax2.set_xlabel(\"Episodes\")\n",
    "ax2.set_ylabel(\"Score\")\n",
    "ax2.plot(test_scores)\n",
    "ax2.grid(True)\n",
    "\n",
    "plt.tight_layout()\n",
    "\n",
    "plt.show()\n",
    "\n"
   ]
  }
 ],
 "metadata": {
  "kernelspec": {
   "display_name": "Python 3",
   "language": "python",
   "name": "python3"
  },
  "language_info": {
   "codemirror_mode": {
    "name": "ipython",
    "version": 3
   },
   "file_extension": ".py",
   "mimetype": "text/x-python",
   "name": "python",
   "nbconvert_exporter": "python",
   "pygments_lexer": "ipython3",
   "version": "3.10.16"
  }
 },
 "nbformat": 4,
 "nbformat_minor": 2
}
