{
 "cells": [
  {
   "cell_type": "code",
   "execution_count": 1,
   "metadata": {},
   "outputs": [],
   "source": [
    "%load_ext autoreload\n",
    "%autoreload 2"
   ]
  },
  {
   "cell_type": "code",
   "execution_count": 2,
   "metadata": {},
   "outputs": [
    {
     "name": "stdout",
     "output_type": "stream",
     "text": [
      "Now training: c, 0.05\n",
      "<configs.config_class.Config object at 0x0000013E3A2745E0>\n",
      "🖥  Using device: cpu\n",
      "self obs size: 76\n"
     ]
    },
    {
     "name": "stderr",
     "output_type": "stream",
     "text": [
      "100%|██████████| 7/7 [00:00<00:00, 273.44it/s]\n",
      "100%|██████████| 5/5 [00:00<00:00, 273.59it/s]\n"
     ]
    },
    {
     "name": "stdout",
     "output_type": "stream",
     "text": [
      "Now training: c, 0.15\n",
      "<configs.config_class.Config object at 0x0000013E3A2745E0>\n",
      "🖥  Using device: cpu\n",
      "self obs size: 76\n"
     ]
    },
    {
     "name": "stderr",
     "output_type": "stream",
     "text": [
      "100%|██████████| 7/7 [00:00<00:00, 620.47it/s]\n",
      "100%|██████████| 5/5 [00:00<00:00, 362.86it/s]\n"
     ]
    },
    {
     "name": "stdout",
     "output_type": "stream",
     "text": [
      "Now training: c, 0.3\n",
      "<configs.config_class.Config object at 0x0000013E6DEF3AC0>\n",
      "🖥  Using device: cpu\n",
      "self obs size: 76\n"
     ]
    },
    {
     "name": "stderr",
     "output_type": "stream",
     "text": [
      "100%|██████████| 7/7 [00:00<00:00, 363.16it/s]\n",
      "100%|██████████| 5/5 [00:00<00:00, 274.09it/s]\n"
     ]
    },
    {
     "name": "stdout",
     "output_type": "stream",
     "text": [
      "Now training: batch_size, 64\n",
      "<configs.config_class.Config object at 0x0000013E616CE8C0>\n",
      "🖥  Using device: cpu\n",
      "self obs size: 76\n"
     ]
    },
    {
     "name": "stderr",
     "output_type": "stream",
     "text": [
      "100%|██████████| 7/7 [00:00<00:00, 318.01it/s]\n",
      "100%|██████████| 5/5 [00:00<00:00, 416.58it/s]\n"
     ]
    },
    {
     "name": "stdout",
     "output_type": "stream",
     "text": [
      "Now training: batch_size, 128\n",
      "<configs.config_class.Config object at 0x0000013E6DCA8640>\n",
      "🖥  Using device: cpu\n",
      "self obs size: 76\n"
     ]
    },
    {
     "name": "stderr",
     "output_type": "stream",
     "text": [
      "100%|██████████| 7/7 [00:00<00:00, 385.01it/s]\n",
      "100%|██████████| 5/5 [00:00<00:00, 693.00it/s]\n"
     ]
    },
    {
     "name": "stdout",
     "output_type": "stream",
     "text": [
      "Now training: batch_size, 256\n",
      "<configs.config_class.Config object at 0x0000013E3A2745E0>\n",
      "🖥  Using device: cpu\n",
      "self obs size: 76\n"
     ]
    },
    {
     "name": "stderr",
     "output_type": "stream",
     "text": [
      "100%|██████████| 7/7 [00:00<00:00, 777.69it/s]\n",
      "100%|██████████| 5/5 [00:00<00:00, 392.97it/s]\n"
     ]
    },
    {
     "name": "stdout",
     "output_type": "stream",
     "text": [
      "Now training: num_epochs, 4\n",
      "<configs.config_class.Config object at 0x0000013E6DCC1120>\n",
      "🖥  Using device: cpu\n",
      "self obs size: 76\n"
     ]
    },
    {
     "name": "stderr",
     "output_type": "stream",
     "text": [
      "100%|██████████| 7/7 [00:00<00:00, 454.93it/s]\n",
      "100%|██████████| 5/5 [00:00<00:00, 488.62it/s]\n"
     ]
    },
    {
     "name": "stdout",
     "output_type": "stream",
     "text": [
      "Now training: num_epochs, 6\n",
      "<configs.config_class.Config object at 0x0000013E6DCA8640>\n",
      "🖥  Using device: cpu\n",
      "self obs size: 76\n"
     ]
    },
    {
     "name": "stderr",
     "output_type": "stream",
     "text": [
      "100%|██████████| 7/7 [00:00<00:00, 625.15it/s]\n",
      "100%|██████████| 5/5 [00:00<00:00, 543.54it/s]\n"
     ]
    },
    {
     "name": "stdout",
     "output_type": "stream",
     "text": [
      "Now training: num_epochs, 8\n",
      "<configs.config_class.Config object at 0x0000013E616CEB30>\n",
      "🖥  Using device: cpu\n",
      "self obs size: 76\n"
     ]
    },
    {
     "name": "stderr",
     "output_type": "stream",
     "text": [
      "100%|██████████| 7/7 [00:00<00:00, 384.35it/s]\n",
      "100%|██████████| 5/5 [00:00<00:00, 314.16it/s]\n"
     ]
    },
    {
     "name": "stdout",
     "output_type": "stream",
     "text": [
      "Now training: update_frequency, 1000\n",
      "<configs.config_class.Config object at 0x0000013E68F7E560>\n",
      "🖥  Using device: cpu\n",
      "self obs size: 76\n"
     ]
    },
    {
     "name": "stderr",
     "output_type": "stream",
     "text": [
      "100%|██████████| 7/7 [00:00<00:00, 308.78it/s]\n",
      "100%|██████████| 5/5 [00:00<00:00, 321.73it/s]\n"
     ]
    },
    {
     "name": "stdout",
     "output_type": "stream",
     "text": [
      "Now training: update_frequency, 4000\n",
      "<configs.config_class.Config object at 0x0000013E6DCC1210>\n",
      "🖥  Using device: cpu\n",
      "self obs size: 76\n"
     ]
    },
    {
     "name": "stderr",
     "output_type": "stream",
     "text": [
      "100%|██████████| 7/7 [00:00<00:00, 412.22it/s]\n",
      "100%|██████████| 5/5 [00:00<00:00, 357.17it/s]\n"
     ]
    },
    {
     "name": "stdout",
     "output_type": "stream",
     "text": [
      "Now training: update_frequency, 7000\n",
      "<configs.config_class.Config object at 0x0000013E616CEB30>\n",
      "🖥  Using device: cpu\n",
      "self obs size: 76\n"
     ]
    },
    {
     "name": "stderr",
     "output_type": "stream",
     "text": [
      "100%|██████████| 7/7 [00:00<00:00, 684.99it/s]\n",
      "100%|██████████| 5/5 [00:00<00:00, 323.65it/s]\n"
     ]
    },
    {
     "name": "stdout",
     "output_type": "stream",
     "text": [
      "Now training: learning_rate_actor, 3e-05\n",
      "<configs.config_class.Config object at 0x0000013E3A2764A0>\n",
      "🖥  Using device: cpu\n",
      "self obs size: 76\n"
     ]
    },
    {
     "name": "stderr",
     "output_type": "stream",
     "text": [
      "100%|██████████| 7/7 [00:00<00:00, 383.93it/s]\n",
      "100%|██████████| 5/5 [00:00<00:00, 534.05it/s]\n"
     ]
    },
    {
     "name": "stdout",
     "output_type": "stream",
     "text": [
      "Now training: learning_rate_actor, 0.0003\n",
      "<configs.config_class.Config object at 0x0000013E616CEB30>\n",
      "🖥  Using device: cpu\n",
      "self obs size: 76\n"
     ]
    },
    {
     "name": "stderr",
     "output_type": "stream",
     "text": [
      "100%|██████████| 7/7 [00:00<00:00, 266.84it/s]\n",
      "100%|██████████| 5/5 [00:00<00:00, 539.02it/s]\n"
     ]
    },
    {
     "name": "stdout",
     "output_type": "stream",
     "text": [
      "Now training: learning_rate_actor, 0.001\n",
      "<configs.config_class.Config object at 0x0000013E6DCC1120>\n",
      "🖥  Using device: cpu\n",
      "self obs size: 76\n"
     ]
    },
    {
     "name": "stderr",
     "output_type": "stream",
     "text": [
      "100%|██████████| 7/7 [00:00<00:00, 300.26it/s]\n",
      "100%|██████████| 5/5 [00:00<00:00, 416.42it/s]\n"
     ]
    },
    {
     "name": "stdout",
     "output_type": "stream",
     "text": [
      "Now training: hidden_layer, [256, 256]\n",
      "<configs.config_class.Config object at 0x0000013E3A277490>\n",
      "🖥  Using device: cpu\n",
      "self obs size: 76\n"
     ]
    },
    {
     "name": "stderr",
     "output_type": "stream",
     "text": [
      "100%|██████████| 7/7 [00:00<00:00, 500.01it/s]\n",
      "100%|██████████| 5/5 [00:00<00:00, 608.59it/s]\n"
     ]
    },
    {
     "name": "stdout",
     "output_type": "stream",
     "text": [
      "Now training: hidden_layer, [128, 128]\n",
      "<configs.config_class.Config object at 0x0000013E616CEB30>\n",
      "🖥  Using device: cpu\n",
      "self obs size: 76\n"
     ]
    },
    {
     "name": "stderr",
     "output_type": "stream",
     "text": [
      "100%|██████████| 7/7 [00:00<00:00, 855.68it/s]\n",
      "100%|██████████| 5/5 [00:00<00:00, 713.78it/s]\n"
     ]
    },
    {
     "name": "stdout",
     "output_type": "stream",
     "text": [
      "Now training: learning_rate_critic, 3e-05\n",
      "<configs.config_class.Config object at 0x0000013E3A2779A0>\n",
      "🖥  Using device: cpu\n",
      "self obs size: 76\n"
     ]
    },
    {
     "name": "stderr",
     "output_type": "stream",
     "text": [
      "100%|██████████| 7/7 [00:00<00:00, 622.67it/s]\n",
      "100%|██████████| 5/5 [00:00<00:00, 406.71it/s]\n"
     ]
    },
    {
     "name": "stdout",
     "output_type": "stream",
     "text": [
      "Now training: learning_rate_critic, 0.0003\n",
      "<configs.config_class.Config object at 0x0000013E616CE8C0>\n",
      "🖥  Using device: cpu\n",
      "self obs size: 76\n"
     ]
    },
    {
     "name": "stderr",
     "output_type": "stream",
     "text": [
      "100%|██████████| 7/7 [00:00<00:00, 491.00it/s]\n",
      "100%|██████████| 5/5 [00:00<00:00, 326.65it/s]\n"
     ]
    },
    {
     "name": "stdout",
     "output_type": "stream",
     "text": [
      "Now training: learning_rate_critic, 0.001\n",
      "<configs.config_class.Config object at 0x0000013E6A51BF70>\n",
      "🖥  Using device: cpu\n",
      "self obs size: 76\n"
     ]
    },
    {
     "name": "stderr",
     "output_type": "stream",
     "text": [
      "100%|██████████| 7/7 [00:00<00:00, 406.55it/s]\n",
      "100%|██████████| 5/5 [00:00<00:00, 625.03it/s]\n"
     ]
    },
    {
     "name": "stdout",
     "output_type": "stream",
     "text": [
      "Now training: hidden_layer, [256, 256]\n",
      "<configs.config_class.Config object at 0x0000013E3A2745E0>\n",
      "🖥  Using device: cpu\n",
      "self obs size: 76\n"
     ]
    },
    {
     "name": "stderr",
     "output_type": "stream",
     "text": [
      "100%|██████████| 7/7 [00:00<00:00, 299.38it/s]\n",
      "100%|██████████| 5/5 [00:00<00:00, 714.34it/s]\n"
     ]
    },
    {
     "name": "stdout",
     "output_type": "stream",
     "text": [
      "Now training: hidden_layer, [128, 128]\n",
      "<configs.config_class.Config object at 0x0000013E6DCA8640>\n",
      "🖥  Using device: cpu\n",
      "self obs size: 76\n"
     ]
    },
    {
     "name": "stderr",
     "output_type": "stream",
     "text": [
      "100%|██████████| 7/7 [00:00<00:00, 522.42it/s]\n",
      "100%|██████████| 5/5 [00:00<00:00, 540.38it/s]\n"
     ]
    },
    {
     "name": "stdout",
     "output_type": "stream",
     "text": [
      "{'c:0.05': [np.float64(0.5), np.float64(-0.5), np.float64(2.0), np.float64(1.0), np.float64(-4.0), np.float64(8.0), np.float64(-0.5)], 'c:0.15': [np.float64(0.5), np.float64(-0.5), np.float64(0.5), np.float64(1.0), np.float64(-1.0), np.float64(0.5), np.float64(-2.0)], 'c:0.3': [np.float64(3.0), np.float64(-3.0), np.float64(0.5), np.float64(-1.0), np.float64(-0.5), np.float64(0.5), np.float64(1.0)], 'batch_size:64': [np.float64(-3.0), np.float64(-0.5), np.float64(2.0), np.float64(-1.0), np.float64(1.0), np.float64(-3.0), np.float64(0.5)], 'batch_size:128': [np.float64(-0.5), np.float64(-1.0), np.float64(-9.0), np.float64(0.5), np.float64(-2.0), np.float64(-1.0), np.float64(1.0)], 'batch_size:256': [np.float64(0.5), np.float64(0.5), np.float64(1.0), np.float64(0.5), np.float64(-1.0), np.float64(1.0), np.float64(0.5)], 'num_epochs:4': [np.float64(3.0), np.float64(0.5), np.float64(2.0), np.float64(0.5), np.float64(-0.5), np.float64(-1.0), np.float64(-0.5)], 'num_epochs:6': [np.float64(0.5), np.float64(0.5), np.float64(-0.5), np.float64(-1.0), np.float64(-3.0), np.float64(-0.5), np.float64(-0.5)], 'num_epochs:8': [np.float64(-1.0), np.float64(0.5), np.float64(-3.0), np.float64(-0.5), np.float64(-1.0), np.float64(2.0), np.float64(-1.0)], 'update_frequency:1000': [np.float64(0.5), np.float64(2.0), np.float64(-3.0), np.float64(0.5), np.float64(-2.0), np.float64(1.0), np.float64(0.5)], 'update_frequency:4000': [np.float64(0.5), np.float64(1.0), np.float64(1.0), np.float64(3.0), np.float64(-2.0), np.float64(-2.0), np.float64(1.0)], 'update_frequency:7000': [np.float64(0.5), np.float64(-0.5), np.float64(-1.0), np.float64(-2.0), np.float64(1.0), np.float64(1.0), np.float64(-1.0)], 'learning_rate_actor:3e-05': [np.float64(0.5), np.float64(1.0), np.float64(-0.5), np.float64(1.0), np.float64(2.0), np.float64(-1.0), np.float64(3.0)], 'learning_rate_actor:0.0003': [np.float64(3.0), np.float64(-1.0), np.float64(1.0), np.float64(-3.0), np.float64(4.0), np.float64(-0.5), np.float64(-1.0)], 'learning_rate_actor:0.001': [np.float64(-1.0), np.float64(2.0), np.float64(0.5), np.float64(1.0), np.float64(0.5), np.float64(-2.0), np.float64(0.5)], 'hidden_layer:[256, 256]': [np.float64(4.0), np.float64(-2.0), np.float64(0.5), np.float64(0.5), np.float64(2.0), np.float64(1.0), np.float64(-1.0)], 'hidden_layer:[128, 128]': [np.float64(1.0), np.float64(0.5), np.float64(-1.0), np.float64(5.0), np.float64(-0.5), np.float64(-0.5), np.float64(0.5)], 'learning_rate_critic:3e-05': [np.float64(0.5), np.float64(1.0), np.float64(1.0), np.float64(-1.0), np.float64(-1.0), np.float64(-0.5), np.float64(-1.0)], 'learning_rate_critic:0.0003': [np.float64(3.0), np.float64(2.0), np.float64(-0.5), np.float64(-2.0), np.float64(0.5), np.float64(0.5), np.float64(0.5)], 'learning_rate_critic:0.001': [np.float64(-1.0), np.float64(0.5), np.float64(0.5), np.float64(-1.0), np.float64(3.0), np.float64(3.0), np.float64(2.0)]}\n",
      "{'c:0.05': [np.float64(-2.0), np.float64(1.0), np.float64(0.5), np.float64(1.0), np.float64(-0.5)], 'c:0.15': [np.float64(0.5), np.float64(3.0), np.float64(-3.0), np.float64(1.0), np.float64(0.5)], 'c:0.3': [np.float64(-3.0), np.float64(-2.0), np.float64(-2.0), np.float64(1.0), np.float64(-1.0)], 'batch_size:64': [np.float64(1.0), np.float64(-6.0), np.float64(-1.0), np.float64(-0.5), np.float64(1.0)], 'batch_size:128': [np.float64(-1.0), np.float64(0.5), np.float64(0.5), np.float64(-2.0), np.float64(-0.5)], 'batch_size:256': [np.float64(3.0), np.float64(4.0), np.float64(1.0), np.float64(2.0), np.float64(-2.0)], 'num_epochs:4': [np.float64(1.0), np.float64(-2.0), np.float64(-3.0), np.float64(1.0), np.float64(-0.5)], 'num_epochs:6': [np.float64(1.0), np.float64(-0.5), np.float64(-1.0), np.float64(1.0), np.float64(-2.0)], 'num_epochs:8': [np.float64(4.0), np.float64(0.5), np.float64(-3.0), np.float64(-3.0), np.float64(-2.0)], 'update_frequency:1000': [np.float64(-0.5), np.float64(-2.0), np.float64(0.5), np.float64(-1.0), np.float64(2.0)], 'update_frequency:4000': [np.float64(2.0), np.float64(0.5), np.float64(-1.0), np.float64(-0.5), np.float64(-2.0)], 'update_frequency:7000': [np.float64(-1.0), np.float64(-1.0), np.float64(-3.0), np.float64(1.0), np.float64(-2.0)], 'learning_rate_actor:3e-05': [np.float64(-0.5), np.float64(0.5), np.float64(-0.5), np.float64(-2.0), np.float64(1.0)], 'learning_rate_actor:0.0003': [np.float64(1.0), np.float64(-0.5), np.float64(-0.5), np.float64(0.5), np.float64(-1.0)], 'learning_rate_actor:0.001': [np.float64(3.0), np.float64(0.5), np.float64(-0.5), np.float64(-0.5), np.float64(-1.0)], 'hidden_layer:[256, 256]': [np.float64(-0.5), np.float64(-0.5), np.float64(-1.0), np.float64(-0.5), np.float64(-0.5)], 'hidden_layer:[128, 128]': [np.float64(0.5), np.float64(1.0), np.float64(2.0), np.float64(4.0), np.float64(0.5)], 'learning_rate_critic:3e-05': [np.float64(-2.0), np.float64(-0.5), np.float64(5.0), np.float64(-2.0), np.float64(1.0)], 'learning_rate_critic:0.0003': [np.float64(-0.5), np.float64(-0.5), np.float64(-4.0), np.float64(-10.0), np.float64(4.0)], 'learning_rate_critic:0.001': [np.float64(-1.0), np.float64(1.0), np.float64(-1.0), np.float64(-3.0), np.float64(0.5)]}\n"
     ]
    }
   ],
   "source": [
    "# IMPORT DESIRED INTERACTION CLASS AND CONFIGURATION\n",
    "import sys\n",
    "import os\n",
    "import numpy as np\n",
    "from itertools import product\n",
    "from copy import deepcopy\n",
    "import pickle\n",
    "\n",
    "# Get the parent directory (where `configs/` and `interactions/` are located)\n",
    "parent_dir = os.path.abspath(os.path.join(os.getcwd(), \"..\"))\n",
    "\n",
    "# Add it to sys.path\n",
    "sys.path.append(parent_dir)\n",
    "from configs.config_class import Config\n",
    "\n",
    "# Now you should be able to import\n",
    "from interactions import ppo_interaction as ppo\n",
    "# from configs.interaction_configs.ppo_interaction_configs import ppo_interaction_config\n",
    "# from configs.interaction_configs.ppo_interaction_configs import ppo_interaction_texasholdem_config\n",
    "# from configs.ppo_configs import ppo_interaction_config_texas, texas_holdem_config, actor_configs_texas, critic_configs_texas\n",
    "from configs.ppo_configs_dict import ppo_interaction_config_texas, texas_holdem_config, actor_configs_texas, critic_configs_texas\n",
    "from configs.llm_configs import texas_holdem_llm_agent_configs\n",
    "# from configs.agent_configs.a_ppo_agents import actor_configs, critic_configs\n",
    "\n",
    "base_cfg = ppo_interaction_config_texas\n",
    "base_actor = actor_configs_texas\n",
    "base_critic = critic_configs_texas\n",
    "\n",
    "param_dict_cfg = {\n",
    "\"c\" : [0.05, 0.15, 0.3],\n",
    "\"batch_size\" : [64, 128, 256],\n",
    "\"num_epochs\" : [4,6,8],\n",
    "\"update_frequency\" : [1000,4000,7000],\n",
    "}\n",
    "\n",
    "param_dict_actor = {\n",
    "\t\"learning_rate_actor\" : [3e-5, 3e-4, 1e-3],\n",
    "\t\"hidden_layer\" : [[256, 256], [128,128]],\n",
    "}\n",
    "\n",
    "param_dict_critic = {\n",
    "\t\"learning_rate_critic\" : [3e-5, 3e-4, 1e-3],\n",
    "\t\"hidden_layer\" : [[256, 256], [128,128]],\n",
    "}\n",
    "\n",
    "train_scores_total = {}\n",
    "test_scores_total = {}\n",
    "\n",
    "def update_scores(param, value, train_score, test_score):\n",
    "    train_scores_total[f\"{param}:{str(value)}\"] = train_score\n",
    "    test_scores_total[f\"{param}:{str(value)}\"] = test_score\n",
    "\n",
    "\n",
    "for param in param_dict_cfg:\n",
    "\tfor value in param_dict_cfg[param]:\n",
    "\t\tprint(f\"Now training: {param}, {value}\")\n",
    "\t\tcfg = deepcopy(base_cfg)\n",
    "\t\tcfg[param] = value\n",
    "\t\tprint(Config(cfg))\n",
    "\t\tppo_temp = ppo.PPO_interaction(interaction_configs=Config(cfg),\n",
    "\t\t\t\t\t\t\t\t\t\t\t\t\tenv_configs=Config(texas_holdem_config),\n",
    "\t\t\t\t\t\t\t\t\t\t\t\t\tactor_configs=Config(actor_configs_texas),\n",
    "\t\t\t\t\t\t\t\t\t\t\t\t\tcritic_configs=Config(critic_configs_texas),\n",
    "                      llm_configs=texas_holdem_llm_agent_configs)\n",
    "\t\ttrain_scores, trained_agents = ppo_temp.train_multiagent()\n",
    "\t\ttest_scores = ppo_temp.test_multiagent(trained_agents)\n",
    "\t\tupdate_scores(param, value, train_scores, test_scores)\n",
    "\n",
    "for param in param_dict_actor:\n",
    "\tfor value in param_dict_actor[param]:\n",
    "\t\tprint(f\"Now training: {param}, {value}\")\n",
    "\t\tcfg = deepcopy(actor_configs_texas)\n",
    "\t\tcfg[param] = value\n",
    "\t\tprint(Config(cfg))\n",
    "\t\tppo_temp = ppo.PPO_interaction(interaction_configs=Config(ppo_interaction_config_texas),\n",
    "\t\t\t\t\t\t\t\t\t\t\t\t\tenv_configs=Config(texas_holdem_config),\n",
    "\t\t\t\t\t\t\t\t\t\t\t\t\tactor_configs=Config(cfg),\n",
    "\t\t\t\t\t\t\t\t\t\t\t\t\tcritic_configs=Config(critic_configs_texas),\n",
    "                      llm_configs=texas_holdem_llm_agent_configs)\n",
    "\t\ttrain_scores, trained_agents = ppo_temp.train_multiagent()\n",
    "\t\ttest_scores = ppo_temp.test_multiagent(trained_agents)\n",
    "\t\tupdate_scores(param, value, train_scores, test_scores)\n",
    "\n",
    "for param in param_dict_critic:\n",
    "\tfor value in param_dict_critic[param]:\n",
    "\t\tprint(f\"Now training: {param}, {value}\")\n",
    "\t\tcfg = deepcopy(critic_configs_texas)\n",
    "\t\tcfg[param] = value\n",
    "\t\tprint(Config(cfg))\n",
    "\t\tppo_temp = ppo.PPO_interaction(interaction_configs=Config(ppo_interaction_config_texas),\n",
    "\t\t\t\t\t\t\t\t\t\t\t\t\tenv_configs=Config(texas_holdem_config),\n",
    "\t\t\t\t\t\t\t\t\t\t\t\t\tactor_configs=Config(actor_configs_texas),\n",
    "\t\t\t\t\t\t\t\t\t\t\t\t\tcritic_configs=Config(cfg),\n",
    "                      llm_configs=texas_holdem_llm_agent_configs)\n",
    "\t\ttrain_scores, trained_agents = ppo_temp.train_multiagent()\n",
    "\t\ttest_scores = ppo_temp.test_multiagent(trained_agents)\n",
    "\t\tupdate_scores(param, value, train_scores, test_scores)\n",
    "\n",
    "\n",
    "print(train_scores_total)\n",
    "print(test_scores_total)\n",
    "\n",
    "with open(\"train_scores.pkl\", \"wb\") as f:       # save\n",
    "    pickle.dump(train_scores_total, f, protocol=pickle.HIGHEST_PROTOCOL)\n",
    "\n",
    "with open(\"test_scores.pkl\", \"wb\") as f:       # save\n",
    "    pickle.dump(test_scores_total, f, protocol=pickle.HIGHEST_PROTOCOL)"
   ]
  },
  {
   "cell_type": "code",
   "execution_count": 3,
   "metadata": {},
   "outputs": [
    {
     "name": "stdout",
     "output_type": "stream",
     "text": [
      "Now training: c, 0.05\n",
      "<configs.config_class.Config object at 0x0000013E3B293A30>\n",
      "🖥  Using device: cpu\n",
      "self obs size: 76\n"
     ]
    },
    {
     "name": "stderr",
     "output_type": "stream",
     "text": [
      "100%|██████████| 7/7 [00:00<00:00, 684.78it/s]\n",
      "100%|██████████| 5/5 [00:00<00:00, 555.55it/s]\n"
     ]
    },
    {
     "name": "stdout",
     "output_type": "stream",
     "text": [
      "Now training: c, 0.15\n",
      "<configs.config_class.Config object at 0x0000013E6961DC60>\n",
      "🖥  Using device: cpu\n",
      "self obs size: 76\n"
     ]
    },
    {
     "name": "stderr",
     "output_type": "stream",
     "text": [
      "100%|██████████| 7/7 [00:00<00:00, 343.56it/s]\n",
      "100%|██████████| 5/5 [00:00<00:00, 492.13it/s]\n"
     ]
    },
    {
     "name": "stdout",
     "output_type": "stream",
     "text": [
      "Now training: c, 0.3\n",
      "<configs.config_class.Config object at 0x0000013E6A51BFA0>\n",
      "🖥  Using device: cpu\n",
      "self obs size: 76\n"
     ]
    },
    {
     "name": "stderr",
     "output_type": "stream",
     "text": [
      "100%|██████████| 7/7 [00:00<00:00, 406.31it/s]\n",
      "100%|██████████| 5/5 [00:00<00:00, 565.03it/s]\n"
     ]
    },
    {
     "name": "stdout",
     "output_type": "stream",
     "text": [
      "Now training: batch_size, 64\n",
      "<configs.config_class.Config object at 0x0000013E616CE8C0>\n",
      "🖥  Using device: cpu\n",
      "self obs size: 76\n"
     ]
    },
    {
     "name": "stderr",
     "output_type": "stream",
     "text": [
      "100%|██████████| 7/7 [00:00<00:00, 452.47it/s]\n",
      "100%|██████████| 5/5 [00:00<00:00, 540.56it/s]\n"
     ]
    },
    {
     "name": "stdout",
     "output_type": "stream",
     "text": [
      "Now training: batch_size, 128\n",
      "<configs.config_class.Config object at 0x0000013E6961DBD0>\n",
      "🖥  Using device: cpu\n",
      "self obs size: 76\n"
     ]
    },
    {
     "name": "stderr",
     "output_type": "stream",
     "text": [
      "100%|██████████| 7/7 [00:00<00:00, 573.65it/s]\n",
      "100%|██████████| 5/5 [00:00<00:00, 544.05it/s]\n"
     ]
    },
    {
     "name": "stdout",
     "output_type": "stream",
     "text": [
      "Now training: batch_size, 256\n",
      "<configs.config_class.Config object at 0x0000013E6A51BF40>\n",
      "🖥  Using device: cpu\n",
      "self obs size: 76\n"
     ]
    },
    {
     "name": "stderr",
     "output_type": "stream",
     "text": [
      "100%|██████████| 7/7 [00:00<00:00, 256.14it/s]\n",
      "100%|██████████| 5/5 [00:00<00:00, 454.59it/s]\n"
     ]
    },
    {
     "name": "stdout",
     "output_type": "stream",
     "text": [
      "Now training: num_epochs, 4\n",
      "<configs.config_class.Config object at 0x0000013E3A23F4F0>\n",
      "🖥  Using device: cpu\n",
      "self obs size: 76\n"
     ]
    },
    {
     "name": "stderr",
     "output_type": "stream",
     "text": [
      "100%|██████████| 7/7 [00:00<00:00, 277.48it/s]\n",
      "100%|██████████| 5/5 [00:00<00:00, 384.73it/s]\n"
     ]
    },
    {
     "name": "stdout",
     "output_type": "stream",
     "text": [
      "Now training: num_epochs, 6\n",
      "<configs.config_class.Config object at 0x0000013E6A51BF70>\n",
      "🖥  Using device: cpu\n",
      "self obs size: 76\n"
     ]
    },
    {
     "name": "stderr",
     "output_type": "stream",
     "text": [
      "100%|██████████| 7/7 [00:00<00:00, 307.49it/s]\n",
      "100%|██████████| 5/5 [00:00<00:00, 267.69it/s]\n"
     ]
    },
    {
     "name": "stdout",
     "output_type": "stream",
     "text": [
      "Now training: num_epochs, 8\n",
      "<configs.config_class.Config object at 0x0000013E616CE8C0>\n",
      "🖥  Using device: cpu\n",
      "self obs size: 76\n"
     ]
    },
    {
     "name": "stderr",
     "output_type": "stream",
     "text": [
      "100%|██████████| 7/7 [00:00<00:00, 777.73it/s]\n",
      "100%|██████████| 5/5 [00:00<00:00, 247.02it/s]\n"
     ]
    },
    {
     "name": "stdout",
     "output_type": "stream",
     "text": [
      "Now training: update_frequency, 1000\n",
      "<configs.config_class.Config object at 0x0000013E6961DD80>\n",
      "🖥  Using device: cpu\n",
      "self obs size: 76\n"
     ]
    },
    {
     "name": "stderr",
     "output_type": "stream",
     "text": [
      "100%|██████████| 7/7 [00:00<00:00, 395.27it/s]\n",
      "100%|██████████| 5/5 [00:00<00:00, 808.65it/s]\n"
     ]
    },
    {
     "name": "stdout",
     "output_type": "stream",
     "text": [
      "Now training: update_frequency, 4000\n",
      "<configs.config_class.Config object at 0x0000013E6A51BDF0>\n",
      "🖥  Using device: cpu\n",
      "self obs size: 76\n"
     ]
    },
    {
     "name": "stderr",
     "output_type": "stream",
     "text": [
      "100%|██████████| 7/7 [00:00<00:00, 461.66it/s]\n",
      "100%|██████████| 5/5 [00:00<00:00, 500.01it/s]\n"
     ]
    },
    {
     "name": "stdout",
     "output_type": "stream",
     "text": [
      "Now training: update_frequency, 7000\n",
      "<configs.config_class.Config object at 0x0000013E3A23F430>\n",
      "🖥  Using device: cpu\n",
      "self obs size: 76\n"
     ]
    },
    {
     "name": "stderr",
     "output_type": "stream",
     "text": [
      "100%|██████████| 7/7 [00:00<00:00, 463.17it/s]\n",
      "100%|██████████| 5/5 [00:00<00:00, 624.80it/s]\n"
     ]
    },
    {
     "name": "stdout",
     "output_type": "stream",
     "text": [
      "Now training: learning_rate_actor, 3e-05\n",
      "<configs.config_class.Config object at 0x0000013E6961DB10>\n",
      "🖥  Using device: cpu\n",
      "self obs size: 76\n"
     ]
    },
    {
     "name": "stderr",
     "output_type": "stream",
     "text": [
      "100%|██████████| 7/7 [00:00<00:00, 402.58it/s]\n",
      "100%|██████████| 5/5 [00:00<00:00, 544.11it/s]\n"
     ]
    },
    {
     "name": "stdout",
     "output_type": "stream",
     "text": [
      "Now training: learning_rate_actor, 0.0003\n",
      "<configs.config_class.Config object at 0x0000013E3A23F1C0>\n",
      "🖥  Using device: cpu\n",
      "self obs size: 76\n"
     ]
    },
    {
     "name": "stderr",
     "output_type": "stream",
     "text": [
      "100%|██████████| 7/7 [00:00<00:00, 427.78it/s]\n",
      "100%|██████████| 5/5 [00:00<00:00, 487.40it/s]\n"
     ]
    },
    {
     "name": "stdout",
     "output_type": "stream",
     "text": [
      "Now training: learning_rate_actor, 0.001\n",
      "<configs.config_class.Config object at 0x0000013E6A51BDF0>\n",
      "🖥  Using device: cpu\n",
      "self obs size: 76\n"
     ]
    },
    {
     "name": "stderr",
     "output_type": "stream",
     "text": [
      "100%|██████████| 7/7 [00:00<00:00, 559.87it/s]\n",
      "100%|██████████| 5/5 [00:00<00:00, 767.93it/s]\n"
     ]
    },
    {
     "name": "stdout",
     "output_type": "stream",
     "text": [
      "Now training: hidden_layer, [256, 256]\n",
      "<configs.config_class.Config object at 0x0000013E3A23F4F0>\n",
      "🖥  Using device: cpu\n",
      "self obs size: 76\n"
     ]
    },
    {
     "name": "stderr",
     "output_type": "stream",
     "text": [
      "100%|██████████| 7/7 [00:00<00:00, 455.29it/s]\n",
      "100%|██████████| 5/5 [00:00<00:00, 810.21it/s]\n"
     ]
    },
    {
     "name": "stdout",
     "output_type": "stream",
     "text": [
      "Now training: hidden_layer, [128, 128]\n",
      "<configs.config_class.Config object at 0x0000013E6DF23280>\n",
      "🖥  Using device: cpu\n",
      "self obs size: 76\n"
     ]
    },
    {
     "name": "stderr",
     "output_type": "stream",
     "text": [
      "100%|██████████| 7/7 [00:00<00:00, 312.57it/s]\n",
      "100%|██████████| 5/5 [00:00<00:00, 543.01it/s]\n"
     ]
    },
    {
     "name": "stdout",
     "output_type": "stream",
     "text": [
      "Now training: learning_rate_critic, 3e-05\n",
      "<configs.config_class.Config object at 0x0000013E6961DC30>\n",
      "🖥  Using device: cpu\n",
      "self obs size: 76\n"
     ]
    },
    {
     "name": "stderr",
     "output_type": "stream",
     "text": [
      "100%|██████████| 7/7 [00:00<00:00, 399.41it/s]\n",
      "100%|██████████| 5/5 [00:00<00:00, 714.51it/s]\n"
     ]
    },
    {
     "name": "stdout",
     "output_type": "stream",
     "text": [
      "Now training: learning_rate_critic, 0.0003\n",
      "<configs.config_class.Config object at 0x0000013E6A51BF70>\n",
      "🖥  Using device: cpu\n",
      "self obs size: 76\n"
     ]
    },
    {
     "name": "stderr",
     "output_type": "stream",
     "text": [
      "100%|██████████| 7/7 [00:00<00:00, 499.73it/s]\n",
      "100%|██████████| 5/5 [00:00<00:00, 499.89it/s]\n"
     ]
    },
    {
     "name": "stdout",
     "output_type": "stream",
     "text": [
      "Now training: learning_rate_critic, 0.001\n",
      "<configs.config_class.Config object at 0x0000013E6A51BC40>\n",
      "🖥  Using device: cpu\n",
      "self obs size: 76\n"
     ]
    },
    {
     "name": "stderr",
     "output_type": "stream",
     "text": [
      "100%|██████████| 7/7 [00:00<00:00, 499.99it/s]\n",
      "100%|██████████| 5/5 [00:00<00:00, 386.61it/s]\n"
     ]
    },
    {
     "name": "stdout",
     "output_type": "stream",
     "text": [
      "Now training: hidden_layer, [256, 256]\n",
      "<configs.config_class.Config object at 0x0000013E3A23F4F0>\n",
      "🖥  Using device: cpu\n",
      "self obs size: 76\n"
     ]
    },
    {
     "name": "stderr",
     "output_type": "stream",
     "text": [
      "100%|██████████| 7/7 [00:00<00:00, 453.76it/s]\n",
      "100%|██████████| 5/5 [00:00<00:00, 694.19it/s]\n"
     ]
    },
    {
     "name": "stdout",
     "output_type": "stream",
     "text": [
      "Now training: hidden_layer, [128, 128]\n",
      "<configs.config_class.Config object at 0x0000013E6A51BDF0>\n",
      "🖥  Using device: cpu\n",
      "self obs size: 76\n"
     ]
    },
    {
     "name": "stderr",
     "output_type": "stream",
     "text": [
      "100%|██████████| 7/7 [00:00<00:00, 460.32it/s]\n",
      "100%|██████████| 5/5 [00:00<00:00, 378.92it/s]"
     ]
    },
    {
     "name": "stdout",
     "output_type": "stream",
     "text": [
      "{'c:0.05': [np.float64(0.5), np.float64(1.0), np.float64(-1.0), np.float64(-2.0), np.float64(0.5), np.float64(1.0), np.float64(-1.0)], 'c:0.15': [np.float64(-2.0), np.float64(4.0), np.float64(1.0), np.float64(1.0), np.float64(-0.5), np.float64(-3.0), np.float64(-1.0)], 'c:0.3': [np.float64(-0.5), np.float64(-0.5), np.float64(-0.5), np.float64(-1.0), np.float64(-2.0), np.float64(6.0), np.float64(2.0)], 'batch_size:64': [np.float64(1.0), np.float64(0.5), np.float64(-1.0), np.float64(1.0), np.float64(1.0), np.float64(2.0), np.float64(1.0)], 'batch_size:128': [np.float64(-0.5), np.float64(-1.0), np.float64(0.5), np.float64(1.0), np.float64(-0.5), np.float64(-0.5), np.float64(-1.0)], 'batch_size:256': [np.float64(1.0), np.float64(-3.0), np.float64(-3.0), np.float64(-3.0), np.float64(2.0), np.float64(2.0), np.float64(-1.0)], 'num_epochs:4': [np.float64(-1.0), np.float64(1.0), np.float64(4.0), np.float64(-0.5), np.float64(-2.0), np.float64(1.0), np.float64(-0.5)], 'num_epochs:6': [np.float64(-0.5), np.float64(-3.0), np.float64(2.0), np.float64(1.0), np.float64(0.5), np.float64(-1.0), np.float64(1.0)], 'num_epochs:8': [np.float64(-0.5), np.float64(-1.0), np.float64(-0.5), np.float64(-0.5), np.float64(0.5), np.float64(0.5), np.float64(0.5)], 'update_frequency:1000': [np.float64(0.5), np.float64(-0.5), np.float64(0.5), np.float64(1.0), np.float64(-2.0), np.float64(-1.0), np.float64(-1.0)], 'update_frequency:4000': [np.float64(-1.0), np.float64(1.0), np.float64(-1.0), np.float64(-0.5), np.float64(0.5), np.float64(1.0), np.float64(-1.0)], 'update_frequency:7000': [np.float64(-0.5), np.float64(-1.0), np.float64(-0.5), np.float64(-1.0), np.float64(1.0), np.float64(-1.0), np.float64(-3.0)], 'learning_rate_actor:3e-05': [np.float64(0.5), np.float64(-1.0), np.float64(1.0), np.float64(1.0), np.float64(3.0), np.float64(-4.0), np.float64(0.5)], 'learning_rate_actor:0.0003': [np.float64(1.0), np.float64(-1.0), np.float64(-0.5), np.float64(0.5), np.float64(3.0), np.float64(-3.0), np.float64(1.0)], 'learning_rate_actor:0.001': [np.float64(-1.0), np.float64(1.0), np.float64(1.0), np.float64(-2.0), np.float64(-0.5), np.float64(1.0), np.float64(0.5)], 'hidden_layer:[256, 256]': [np.float64(1.0), np.float64(-2.0), np.float64(-0.5), np.float64(-3.0), np.float64(3.0), np.float64(-1.0), np.float64(0.5)], 'hidden_layer:[128, 128]': [np.float64(1.0), np.float64(-3.0), np.float64(-2.0), np.float64(-1.0), np.float64(1.0), np.float64(-1.0), np.float64(5.0)], 'learning_rate_critic:3e-05': [np.float64(1.0), np.float64(1.0), np.float64(-1.0), np.float64(-0.5), np.float64(0.5), np.float64(1.0), np.float64(-0.5)], 'learning_rate_critic:0.0003': [np.float64(1.0), np.float64(0.5), np.float64(0.5), np.float64(-1.0), np.float64(-3.0), np.float64(-0.5), np.float64(-2.0)], 'learning_rate_critic:0.001': [np.float64(-2.0), np.float64(1.0), np.float64(-1.0), np.float64(-1.0), np.float64(0.5), np.float64(-1.0), np.float64(5.0)]}\n",
      "{'c:0.05': [np.float64(3.0), np.float64(-0.5), np.float64(-2.0), np.float64(2.0), np.float64(-5.0)], 'c:0.15': [np.float64(6.0), np.float64(2.0), np.float64(0.5), np.float64(0.5), np.float64(-2.0)], 'c:0.3': [np.float64(1.0), np.float64(1.0), np.float64(-0.5), np.float64(0.5), np.float64(-1.0)], 'batch_size:64': [np.float64(1.0), np.float64(0.5), np.float64(-3.0), np.float64(1.0), np.float64(6.0)], 'batch_size:128': [np.float64(0.5), np.float64(2.0), np.float64(1.0), np.float64(-1.0), np.float64(0.5)], 'batch_size:256': [np.float64(-0.5), np.float64(-3.0), np.float64(1.0), np.float64(-1.0), np.float64(1.0)], 'num_epochs:4': [np.float64(-1.0), np.float64(-2.0), np.float64(-2.0), np.float64(1.0), np.float64(2.0)], 'num_epochs:6': [np.float64(0.5), np.float64(-1.0), np.float64(-0.5), np.float64(1.0), np.float64(-1.0)], 'num_epochs:8': [np.float64(-0.5), np.float64(4.0), np.float64(-0.5), np.float64(-1.0), np.float64(-11.0)], 'update_frequency:1000': [np.float64(0.5), np.float64(0.5), np.float64(4.0), np.float64(0.5), np.float64(-1.0)], 'update_frequency:4000': [np.float64(-0.5), np.float64(1.0), np.float64(-0.5), np.float64(3.0), np.float64(-0.5)], 'update_frequency:7000': [np.float64(1.0), np.float64(0.5), np.float64(0.5), np.float64(-0.5), np.float64(0.5)], 'learning_rate_actor:3e-05': [np.float64(3.0), np.float64(-0.5), np.float64(1.0), np.float64(2.0), np.float64(4.0)], 'learning_rate_actor:0.0003': [np.float64(1.0), np.float64(-1.0), np.float64(4.0), np.float64(-0.5), np.float64(-1.0)], 'learning_rate_actor:0.001': [np.float64(-0.5), np.float64(-0.5), np.float64(-0.5), np.float64(-0.5), np.float64(1.0)], 'hidden_layer:[256, 256]': [np.float64(-1.0), np.float64(0.5), np.float64(-1.0), np.float64(-0.5), np.float64(2.0)], 'hidden_layer:[128, 128]': [np.float64(1.0), np.float64(1.0), np.float64(-2.0), np.float64(-4.0), np.float64(4.0)], 'learning_rate_critic:3e-05': [np.float64(-2.0), np.float64(0.5), np.float64(1.0), np.float64(-1.0), np.float64(-0.5)], 'learning_rate_critic:0.0003': [np.float64(2.0), np.float64(-0.5), np.float64(1.0), np.float64(1.0), np.float64(2.0)], 'learning_rate_critic:0.001': [np.float64(-0.5), np.float64(1.0), np.float64(-2.0), np.float64(3.0), np.float64(2.0)]}\n"
     ]
    },
    {
     "name": "stderr",
     "output_type": "stream",
     "text": [
      "\n"
     ]
    }
   ],
   "source": [
    "\n",
    "base_cfg = ppo_interaction_config_texas\n",
    "base_actor = actor_configs_texas\n",
    "base_critic = critic_configs_texas\n",
    "\n",
    "param_dict_cfg = {\n",
    "\"c\" : [0.05, 0.15, 0.3],\n",
    "\"batch_size\" : [64, 128, 256],\n",
    "\"num_epochs\" : [4,6,8],\n",
    "\"update_frequency\" : [1000,4000,7000],\n",
    "}\n",
    "\n",
    "param_dict_actor = {\n",
    "\t\"learning_rate_actor\" : [3e-5, 3e-4, 1e-3],\n",
    "\t\"hidden_layer\" : [[256, 256], [128,128]],\n",
    "}\n",
    "\n",
    "param_dict_critic = {\n",
    "\t\"learning_rate_critic\" : [3e-5, 3e-4, 1e-3],\n",
    "\t\"hidden_layer\" : [[256, 256], [128,128]],\n",
    "}\n",
    "\n",
    "train_scores_total = {}\n",
    "test_scores_total = {}\n",
    "\n",
    "def update_scores(param, value, train_score, test_score):\n",
    "    train_scores_total[f\"{param}:{str(value)}\"] = train_score\n",
    "    test_scores_total[f\"{param}:{str(value)}\"] = test_score\n",
    "\n",
    "\n",
    "for param in param_dict_cfg:\n",
    "\tfor value in param_dict_cfg[param]:\n",
    "\t\tprint(f\"Now training: {param}, {value}\")\n",
    "\t\tcfg = deepcopy(base_cfg)\n",
    "\t\tcfg[param] = value\n",
    "\t\tprint(Config(cfg))\n",
    "\t\tppo_temp = ppo.PPO_interaction(interaction_configs=Config(cfg),\n",
    "\t\t\t\t\t\t\t\t\t\t\t\t\tenv_configs=Config(texas_holdem_config),\n",
    "\t\t\t\t\t\t\t\t\t\t\t\t\tactor_configs=Config(actor_configs_texas),\n",
    "\t\t\t\t\t\t\t\t\t\t\t\t\tcritic_configs=Config(critic_configs_texas),\n",
    "                      llm_configs=texas_holdem_llm_agent_configs)\n",
    "\t\ttrain_scores, trained_agents = ppo_temp.train_multiagent()\n",
    "\t\ttest_scores = ppo_temp.test_multiagent(trained_agents)\n",
    "\t\tupdate_scores(param, value, train_scores, test_scores)\n",
    "\n",
    "for param in param_dict_actor:\n",
    "\tfor value in param_dict_actor[param]:\n",
    "\t\tprint(f\"Now training: {param}, {value}\")\n",
    "\t\tcfg = deepcopy(actor_configs_texas)\n",
    "\t\tcfg[param] = value\n",
    "\t\tprint(Config(cfg))\n",
    "\t\tppo_temp = ppo.PPO_interaction(interaction_configs=Config(ppo_interaction_config_texas),\n",
    "\t\t\t\t\t\t\t\t\t\t\t\t\tenv_configs=Config(texas_holdem_config),\n",
    "\t\t\t\t\t\t\t\t\t\t\t\t\tactor_configs=Config(cfg),\n",
    "\t\t\t\t\t\t\t\t\t\t\t\t\tcritic_configs=Config(critic_configs_texas),\n",
    "                      llm_configs=texas_holdem_llm_agent_configs)\n",
    "\t\ttrain_scores, trained_agents = ppo_temp.train_multiagent()\n",
    "\t\ttest_scores = ppo_temp.test_multiagent(trained_agents)\n",
    "\t\tupdate_scores(param, value, train_scores, test_scores)\n",
    "\n",
    "\n",
    "for param in param_dict_critic:\n",
    "\tfor value in param_dict_critic[param]:\n",
    "\t\tprint(f\"Now training: {param}, {value}\")\n",
    "\t\tcfg = deepcopy(critic_configs_texas)\n",
    "\t\tcfg[param] = value\n",
    "\t\tprint(Config(cfg))\n",
    "\t\tppo_temp = ppo.PPO_interaction(interaction_configs=Config(ppo_interaction_config_texas),\n",
    "\t\t\t\t\t\t\t\t\t\t\t\t\tenv_configs=Config(texas_holdem_config),\n",
    "\t\t\t\t\t\t\t\t\t\t\t\t\tactor_configs=Config(actor_configs_texas),\n",
    "\t\t\t\t\t\t\t\t\t\t\t\t\tcritic_configs=Config(cfg),\n",
    "                      llm_configs=texas_holdem_llm_agent_configs)\n",
    "\t\ttrain_scores, trained_agents = ppo_temp.train_multiagent()\n",
    "\t\ttest_scores = ppo_temp.test_multiagent(trained_agents)\n",
    "\t\tupdate_scores(param, value, train_scores, test_scores)\n",
    "\n",
    "\n",
    "print(train_scores_total)\n",
    "print(test_scores_total)\n",
    "\n",
    "with open(\"train_scores1.pkl\", \"wb\") as f:       # save\n",
    "    pickle.dump(train_scores_total, f, protocol=pickle.HIGHEST_PROTOCOL)\n",
    "\n",
    "with open(\"test_scores1.pkl\", \"wb\") as f:       # save\n",
    "    pickle.dump(test_scores_total, f, protocol=pickle.HIGHEST_PROTOCOL)"
   ]
  },
  {
   "cell_type": "code",
   "execution_count": 4,
   "metadata": {},
   "outputs": [
    {
     "name": "stdout",
     "output_type": "stream",
     "text": [
      "Now training: c, 0.05\n",
      "<configs.config_class.Config object at 0x0000013E6DCA8640>\n",
      "🖥  Using device: cpu\n",
      "self obs size: 76\n"
     ]
    },
    {
     "name": "stderr",
     "output_type": "stream",
     "text": [
      "100%|██████████| 7/7 [00:00<00:00, 460.33it/s]\n",
      "100%|██████████| 5/5 [00:00<00:00, 544.21it/s]\n"
     ]
    },
    {
     "name": "stdout",
     "output_type": "stream",
     "text": [
      "Now training: c, 0.15\n",
      "<configs.config_class.Config object at 0x0000013E6DF56BC0>\n",
      "🖥  Using device: cpu\n",
      "self obs size: 76\n"
     ]
    },
    {
     "name": "stderr",
     "output_type": "stream",
     "text": [
      "100%|██████████| 7/7 [00:00<00:00, 299.31it/s]\n",
      "100%|██████████| 5/5 [00:00<00:00, 489.93it/s]\n"
     ]
    },
    {
     "name": "stdout",
     "output_type": "stream",
     "text": [
      "Now training: c, 0.3\n",
      "<configs.config_class.Config object at 0x0000013E6A539240>\n",
      "🖥  Using device: cpu\n",
      "self obs size: 76\n"
     ]
    },
    {
     "name": "stderr",
     "output_type": "stream",
     "text": [
      "100%|██████████| 7/7 [00:00<00:00, 759.29it/s]\n",
      "100%|██████████| 5/5 [00:00<00:00, 814.30it/s]\n"
     ]
    },
    {
     "name": "stdout",
     "output_type": "stream",
     "text": [
      "Now training: batch_size, 64\n",
      "<configs.config_class.Config object at 0x0000013E6A51BF10>\n",
      "🖥  Using device: cpu\n",
      "self obs size: 76\n"
     ]
    },
    {
     "name": "stderr",
     "output_type": "stream",
     "text": [
      "100%|██████████| 7/7 [00:00<00:00, 343.38it/s]\n",
      "100%|██████████| 5/5 [00:00<00:00, 297.15it/s]\n"
     ]
    },
    {
     "name": "stdout",
     "output_type": "stream",
     "text": [
      "Now training: batch_size, 128\n",
      "<configs.config_class.Config object at 0x0000013E3A23F3D0>\n",
      "🖥  Using device: cpu\n",
      "self obs size: 76\n"
     ]
    },
    {
     "name": "stderr",
     "output_type": "stream",
     "text": [
      "100%|██████████| 7/7 [00:00<00:00, 574.24it/s]\n",
      "100%|██████████| 5/5 [00:00<00:00, 323.49it/s]\n"
     ]
    },
    {
     "name": "stdout",
     "output_type": "stream",
     "text": [
      "Now training: batch_size, 256\n",
      "<configs.config_class.Config object at 0x0000013E6961DC30>\n",
      "🖥  Using device: cpu\n",
      "self obs size: 76\n"
     ]
    },
    {
     "name": "stderr",
     "output_type": "stream",
     "text": [
      "100%|██████████| 7/7 [00:00<00:00, 243.79it/s]\n",
      "100%|██████████| 5/5 [00:00<00:00, 500.02it/s]\n"
     ]
    },
    {
     "name": "stdout",
     "output_type": "stream",
     "text": [
      "Now training: num_epochs, 4\n",
      "<configs.config_class.Config object at 0x0000013E6A51BC40>\n",
      "🖥  Using device: cpu\n",
      "self obs size: 76\n"
     ]
    },
    {
     "name": "stderr",
     "output_type": "stream",
     "text": [
      "100%|██████████| 7/7 [00:00<00:00, 573.84it/s]\n",
      "100%|██████████| 5/5 [00:00<00:00, 961.95it/s]\n"
     ]
    },
    {
     "name": "stdout",
     "output_type": "stream",
     "text": [
      "Now training: num_epochs, 6\n",
      "<configs.config_class.Config object at 0x0000013E3A23F1C0>\n",
      "🖥  Using device: cpu\n",
      "self obs size: 76\n"
     ]
    },
    {
     "name": "stderr",
     "output_type": "stream",
     "text": [
      "100%|██████████| 7/7 [00:00<00:00, 425.32it/s]\n",
      "100%|██████████| 5/5 [00:00<00:00, 610.03it/s]\n"
     ]
    },
    {
     "name": "stdout",
     "output_type": "stream",
     "text": [
      "Now training: num_epochs, 8\n",
      "<configs.config_class.Config object at 0x0000013E3B2BFFA0>\n",
      "🖥  Using device: cpu\n",
      "self obs size: 76\n"
     ]
    },
    {
     "name": "stderr",
     "output_type": "stream",
     "text": [
      "100%|██████████| 7/7 [00:00<00:00, 459.72it/s]\n",
      "100%|██████████| 5/5 [00:00<00:00, 649.21it/s]\n"
     ]
    },
    {
     "name": "stdout",
     "output_type": "stream",
     "text": [
      "Now training: update_frequency, 1000\n",
      "<configs.config_class.Config object at 0x0000013E616CE8C0>\n",
      "🖥  Using device: cpu\n",
      "self obs size: 76\n"
     ]
    },
    {
     "name": "stderr",
     "output_type": "stream",
     "text": [
      "100%|██████████| 7/7 [00:00<00:00, 488.12it/s]\n",
      "100%|██████████| 5/5 [00:00<00:00, 609.23it/s]\n"
     ]
    },
    {
     "name": "stdout",
     "output_type": "stream",
     "text": [
      "Now training: update_frequency, 4000\n",
      "<configs.config_class.Config object at 0x0000013E6DCC1120>\n",
      "🖥  Using device: cpu\n",
      "self obs size: 76\n"
     ]
    },
    {
     "name": "stderr",
     "output_type": "stream",
     "text": [
      "100%|██████████| 7/7 [00:00<00:00, 853.27it/s]\n",
      "100%|██████████| 5/5 [00:00<00:00, 608.13it/s]\n"
     ]
    },
    {
     "name": "stdout",
     "output_type": "stream",
     "text": [
      "Now training: update_frequency, 7000\n",
      "<configs.config_class.Config object at 0x0000013E6A51BC40>\n",
      "🖥  Using device: cpu\n",
      "self obs size: 76\n"
     ]
    },
    {
     "name": "stderr",
     "output_type": "stream",
     "text": [
      "100%|██████████| 7/7 [00:00<00:00, 493.75it/s]\n",
      "100%|██████████| 5/5 [00:00<00:00, 768.75it/s]\n"
     ]
    },
    {
     "name": "stdout",
     "output_type": "stream",
     "text": [
      "Now training: learning_rate_actor, 3e-05\n",
      "<configs.config_class.Config object at 0x0000013E6A51BEE0>\n",
      "🖥  Using device: cpu\n",
      "self obs size: 76\n"
     ]
    },
    {
     "name": "stderr",
     "output_type": "stream",
     "text": [
      "100%|██████████| 7/7 [00:00<00:00, 454.03it/s]\n",
      "100%|██████████| 5/5 [00:00<00:00, 612.11it/s]\n"
     ]
    },
    {
     "name": "stdout",
     "output_type": "stream",
     "text": [
      "Now training: learning_rate_actor, 0.0003\n",
      "<configs.config_class.Config object at 0x0000013E6DCC1120>\n",
      "🖥  Using device: cpu\n",
      "self obs size: 76\n"
     ]
    },
    {
     "name": "stderr",
     "output_type": "stream",
     "text": [
      "100%|██████████| 7/7 [00:00<00:00, 424.40it/s]\n",
      "100%|██████████| 5/5 [00:00<00:00, 409.28it/s]\n"
     ]
    },
    {
     "name": "stdout",
     "output_type": "stream",
     "text": [
      "Now training: learning_rate_actor, 0.001\n",
      "<configs.config_class.Config object at 0x0000013E3A23F550>\n",
      "🖥  Using device: cpu\n",
      "self obs size: 76\n"
     ]
    },
    {
     "name": "stderr",
     "output_type": "stream",
     "text": [
      "100%|██████████| 7/7 [00:00<00:00, 418.75it/s]\n",
      "100%|██████████| 5/5 [00:00<00:00, 544.66it/s]\n"
     ]
    },
    {
     "name": "stdout",
     "output_type": "stream",
     "text": [
      "Now training: hidden_layer, [256, 256]\n",
      "<configs.config_class.Config object at 0x0000013E3B2939D0>\n",
      "🖥  Using device: cpu\n",
      "self obs size: 76\n"
     ]
    },
    {
     "name": "stderr",
     "output_type": "stream",
     "text": [
      "100%|██████████| 7/7 [00:00<00:00, 455.75it/s]\n",
      "100%|██████████| 5/5 [00:00<00:00, 409.51it/s]\n"
     ]
    },
    {
     "name": "stdout",
     "output_type": "stream",
     "text": [
      "Now training: hidden_layer, [128, 128]\n",
      "<configs.config_class.Config object at 0x0000013E6961DC00>\n",
      "🖥  Using device: cpu\n",
      "self obs size: 76\n"
     ]
    },
    {
     "name": "stderr",
     "output_type": "stream",
     "text": [
      "100%|██████████| 7/7 [00:00<00:00, 325.64it/s]\n",
      "100%|██████████| 5/5 [00:00<00:00, 270.78it/s]\n"
     ]
    },
    {
     "name": "stdout",
     "output_type": "stream",
     "text": [
      "Now training: learning_rate_critic, 3e-05\n",
      "<configs.config_class.Config object at 0x0000013E6A51BF40>\n",
      "🖥  Using device: cpu\n",
      "self obs size: 76\n"
     ]
    },
    {
     "name": "stderr",
     "output_type": "stream",
     "text": [
      "100%|██████████| 7/7 [00:00<00:00, 365.00it/s]\n",
      "100%|██████████| 5/5 [00:00<00:00, 500.13it/s]\n"
     ]
    },
    {
     "name": "stdout",
     "output_type": "stream",
     "text": [
      "Now training: learning_rate_critic, 0.0003\n",
      "<configs.config_class.Config object at 0x0000013E3A23F3D0>\n",
      "🖥  Using device: cpu\n",
      "self obs size: 76\n"
     ]
    },
    {
     "name": "stderr",
     "output_type": "stream",
     "text": [
      "100%|██████████| 7/7 [00:00<00:00, 437.32it/s]\n",
      "100%|██████████| 5/5 [00:00<00:00, 425.19it/s]\n"
     ]
    },
    {
     "name": "stdout",
     "output_type": "stream",
     "text": [
      "Now training: learning_rate_critic, 0.001\n",
      "<configs.config_class.Config object at 0x0000013E3B292DD0>\n",
      "🖥  Using device: cpu\n",
      "self obs size: 76\n"
     ]
    },
    {
     "name": "stderr",
     "output_type": "stream",
     "text": [
      "100%|██████████| 7/7 [00:00<00:00, 529.14it/s]\n",
      "100%|██████████| 5/5 [00:00<00:00, 609.89it/s]\n"
     ]
    },
    {
     "name": "stdout",
     "output_type": "stream",
     "text": [
      "Now training: hidden_layer, [256, 256]\n",
      "<configs.config_class.Config object at 0x0000013E6A51BF40>\n",
      "🖥  Using device: cpu\n",
      "self obs size: 76\n"
     ]
    },
    {
     "name": "stderr",
     "output_type": "stream",
     "text": [
      "100%|██████████| 7/7 [00:00<00:00, 407.05it/s]\n",
      "100%|██████████| 5/5 [00:00<00:00, 445.77it/s]\n"
     ]
    },
    {
     "name": "stdout",
     "output_type": "stream",
     "text": [
      "Now training: hidden_layer, [128, 128]\n",
      "<configs.config_class.Config object at 0x0000013E6DFB1000>\n",
      "🖥  Using device: cpu\n",
      "self obs size: 76\n"
     ]
    },
    {
     "name": "stderr",
     "output_type": "stream",
     "text": [
      "100%|██████████| 7/7 [00:00<00:00, 402.72it/s]\n",
      "100%|██████████| 5/5 [00:00<00:00, 378.57it/s]"
     ]
    },
    {
     "name": "stdout",
     "output_type": "stream",
     "text": [
      "{'c:0.05': [np.float64(1.0), np.float64(-0.5), np.float64(3.0), np.float64(-0.5), np.float64(-2.0), np.float64(-0.5), np.float64(-1.0)], 'c:0.15': [np.float64(-4.0), np.float64(-0.5), np.float64(4.0), np.float64(1.0), np.float64(0.5), np.float64(1.0), np.float64(1.0)], 'c:0.3': [np.float64(0.5), np.float64(-1.0), np.float64(0.5), np.float64(2.0), np.float64(-1.0), np.float64(0.5), np.float64(-0.5)], 'batch_size:64': [np.float64(-1.0), np.float64(-7.0), np.float64(-5.0), np.float64(-1.0), np.float64(1.0), np.float64(-2.0), np.float64(0.5)], 'batch_size:128': [np.float64(-0.5), np.float64(-0.5), np.float64(-1.0), np.float64(-3.0), np.float64(-1.0), np.float64(4.0), np.float64(-0.5)], 'batch_size:256': [np.float64(1.0), np.float64(-1.0), np.float64(0.5), np.float64(7.0), np.float64(3.0), np.float64(1.0), np.float64(-1.0)], 'num_epochs:4': [np.float64(-5.0), np.float64(0.5), np.float64(-1.0), np.float64(1.0), np.float64(-2.0), np.float64(0.5), np.float64(0.5)], 'num_epochs:6': [np.float64(1.0), np.float64(-0.5), np.float64(-0.5), np.float64(-2.0), np.float64(0.5), np.float64(4.0), np.float64(-2.0)], 'num_epochs:8': [np.float64(-5.0), np.float64(-0.5), np.float64(5.0), np.float64(0.5), np.float64(-1.0), np.float64(0.5), np.float64(0.5)], 'update_frequency:1000': [np.float64(1.0), np.float64(-2.0), np.float64(-0.5), np.float64(-1.0), np.float64(0.5), np.float64(1.0), np.float64(1.0)], 'update_frequency:4000': [np.float64(2.0), np.float64(0.5), np.float64(-1.0), np.float64(-0.5), np.float64(-1.0), np.float64(1.0), np.float64(-0.5)], 'update_frequency:7000': [np.float64(1.0), np.float64(1.0), np.float64(-0.5), np.float64(-1.0), np.float64(1.0), np.float64(0.5), np.float64(2.0)], 'learning_rate_actor:3e-05': [np.float64(-2.0), np.float64(-7.0), np.float64(0.5), np.float64(-1.0), np.float64(2.0), np.float64(3.0), np.float64(-2.0)], 'learning_rate_actor:0.0003': [np.float64(-0.5), np.float64(3.0), np.float64(-0.5), np.float64(-1.0), np.float64(0.5), np.float64(0.5), np.float64(4.0)], 'learning_rate_actor:0.001': [np.float64(0.5), np.float64(-0.5), np.float64(1.0), np.float64(3.0), np.float64(4.0), np.float64(3.0), np.float64(0.5)], 'hidden_layer:[256, 256]': [np.float64(-0.5), np.float64(0.5), np.float64(1.0), np.float64(4.0), np.float64(-2.0), np.float64(-2.0), np.float64(1.0)], 'hidden_layer:[128, 128]': [np.float64(1.0), np.float64(0.5), np.float64(-3.0), np.float64(-2.0), np.float64(3.0), np.float64(-4.0), np.float64(0.5)], 'learning_rate_critic:3e-05': [np.float64(2.0), np.float64(0.5), np.float64(0.5), np.float64(-0.5), np.float64(0.5), np.float64(-1.0), np.float64(0.5)], 'learning_rate_critic:0.0003': [np.float64(-0.5), np.float64(-0.5), np.float64(-3.0), np.float64(2.0), np.float64(2.0), np.float64(-1.0), np.float64(-0.5)], 'learning_rate_critic:0.001': [np.float64(-2.0), np.float64(0.5), np.float64(1.0), np.float64(-2.0), np.float64(0.5), np.float64(-0.5), np.float64(5.0)]}\n",
      "{'c:0.05': [np.float64(3.0), np.float64(-1.0), np.float64(2.0), np.float64(-1.0), np.float64(-0.5)], 'c:0.15': [np.float64(-0.5), np.float64(-0.5), np.float64(-3.0), np.float64(1.0), np.float64(2.0)], 'c:0.3': [np.float64(-2.0), np.float64(0.5), np.float64(-0.5), np.float64(0.5), np.float64(0.5)], 'batch_size:64': [np.float64(-3.0), np.float64(-0.5), np.float64(-5.0), np.float64(3.0), np.float64(2.0)], 'batch_size:128': [np.float64(-2.0), np.float64(0.5), np.float64(-1.0), np.float64(1.0), np.float64(5.0)], 'batch_size:256': [np.float64(0.5), np.float64(-1.0), np.float64(-1.0), np.float64(1.0), np.float64(-2.0)], 'num_epochs:4': [np.float64(1.0), np.float64(0.5), np.float64(-0.5), np.float64(-1.0), np.float64(-1.0)], 'num_epochs:6': [np.float64(-0.5), np.float64(3.0), np.float64(0.5), np.float64(0.5), np.float64(-5.0)], 'num_epochs:8': [np.float64(1.0), np.float64(-1.0), np.float64(4.0), np.float64(-0.5), np.float64(-1.0)], 'update_frequency:1000': [np.float64(2.0), np.float64(1.0), np.float64(-1.0), np.float64(3.0), np.float64(0.5)], 'update_frequency:4000': [np.float64(1.0), np.float64(-1.0), np.float64(1.0), np.float64(5.0), np.float64(1.0)], 'update_frequency:7000': [np.float64(0.5), np.float64(3.0), np.float64(-1.0), np.float64(1.0), np.float64(-1.0)], 'learning_rate_actor:3e-05': [np.float64(1.0), np.float64(-0.5), np.float64(-0.5), np.float64(1.0), np.float64(1.0)], 'learning_rate_actor:0.0003': [np.float64(-0.5), np.float64(-4.0), np.float64(2.0), np.float64(2.0), np.float64(1.0)], 'learning_rate_actor:0.001': [np.float64(-1.0), np.float64(3.0), np.float64(0.5), np.float64(-0.5), np.float64(-4.0)], 'hidden_layer:[256, 256]': [np.float64(0.5), np.float64(-0.5), np.float64(0.5), np.float64(-0.5), np.float64(-1.0)], 'hidden_layer:[128, 128]': [np.float64(-1.0), np.float64(-2.0), np.float64(-3.0), np.float64(1.0), np.float64(1.0)], 'learning_rate_critic:3e-05': [np.float64(3.0), np.float64(0.5), np.float64(-2.0), np.float64(-2.0), np.float64(0.5)], 'learning_rate_critic:0.0003': [np.float64(-0.5), np.float64(-1.0), np.float64(-4.0), np.float64(-1.0), np.float64(-3.0)], 'learning_rate_critic:0.001': [np.float64(-0.5), np.float64(2.0), np.float64(-1.0), np.float64(-4.0), np.float64(1.0)]}\n"
     ]
    },
    {
     "name": "stderr",
     "output_type": "stream",
     "text": [
      "\n"
     ]
    }
   ],
   "source": [
    "\n",
    "base_cfg = ppo_interaction_config_texas\n",
    "base_actor = actor_configs_texas\n",
    "base_critic = critic_configs_texas\n",
    "\n",
    "param_dict_cfg = {\n",
    "\"c\" : [0.05, 0.15, 0.3],\n",
    "\"batch_size\" : [64, 128, 256],\n",
    "\"num_epochs\" : [4,6,8],\n",
    "\"update_frequency\" : [1000,4000,7000],\n",
    "}\n",
    "\n",
    "param_dict_actor = {\n",
    "\t\"learning_rate_actor\" : [3e-5, 3e-4, 1e-3],\n",
    "\t\"hidden_layer\" : [[256, 256], [128,128]],\n",
    "}\n",
    "\n",
    "param_dict_critic = {\n",
    "\t\"learning_rate_critic\" : [3e-5, 3e-4, 1e-3],\n",
    "\t\"hidden_layer\" : [[256, 256], [128,128]],\n",
    "}\n",
    "\n",
    "train_scores_total = {}\n",
    "test_scores_total = {}\n",
    "\n",
    "def update_scores(param, value, train_score, test_score):\n",
    "    train_scores_total[f\"{param}:{str(value)}\"] = train_score\n",
    "    test_scores_total[f\"{param}:{str(value)}\"] = test_score\n",
    "\n",
    "\n",
    "for param in param_dict_cfg:\n",
    "\tfor value in param_dict_cfg[param]:\n",
    "\t\tprint(f\"Now training: {param}, {value}\")\n",
    "\t\tcfg = deepcopy(base_cfg)\n",
    "\t\tcfg[param] = value\n",
    "\t\tprint(Config(cfg))\n",
    "\t\tppo_temp = ppo.PPO_interaction(interaction_configs=Config(cfg),\n",
    "\t\t\t\t\t\t\t\t\t\t\t\t\tenv_configs=Config(texas_holdem_config),\n",
    "\t\t\t\t\t\t\t\t\t\t\t\t\tactor_configs=Config(actor_configs_texas),\n",
    "\t\t\t\t\t\t\t\t\t\t\t\t\tcritic_configs=Config(critic_configs_texas),\n",
    "                      llm_configs=texas_holdem_llm_agent_configs)\n",
    "\t\ttrain_scores, trained_agents = ppo_temp.train_multiagent()\n",
    "\t\ttest_scores = ppo_temp.test_multiagent(trained_agents)\n",
    "\t\tupdate_scores(param, value, train_scores, test_scores)\n",
    "\n",
    "for param in param_dict_actor:\n",
    "\tfor value in param_dict_actor[param]:\n",
    "\t\tprint(f\"Now training: {param}, {value}\")\n",
    "\t\tcfg = deepcopy(actor_configs_texas)\n",
    "\t\tcfg[param] = value\n",
    "\t\tprint(Config(cfg))\n",
    "\t\tppo_temp = ppo.PPO_interaction(interaction_configs=Config(ppo_interaction_config_texas),\n",
    "\t\t\t\t\t\t\t\t\t\t\t\t\tenv_configs=Config(texas_holdem_config),\n",
    "\t\t\t\t\t\t\t\t\t\t\t\t\tactor_configs=Config(cfg),\n",
    "\t\t\t\t\t\t\t\t\t\t\t\t\tcritic_configs=Config(critic_configs_texas),\n",
    "                      llm_configs=texas_holdem_llm_agent_configs)\n",
    "\t\ttrain_scores, trained_agents = ppo_temp.train_multiagent()\n",
    "\t\ttest_scores = ppo_temp.test_multiagent(trained_agents)\n",
    "\t\tupdate_scores(param, value, train_scores, test_scores)\n",
    "\n",
    "\n",
    "for param in param_dict_critic:\n",
    "\tfor value in param_dict_critic[param]:\n",
    "\t\tprint(f\"Now training: {param}, {value}\")\n",
    "\t\tcfg = deepcopy(critic_configs_texas)\n",
    "\t\tcfg[param] = value\n",
    "\t\tprint(Config(cfg))\n",
    "\t\tppo_temp = ppo.PPO_interaction(interaction_configs=Config(ppo_interaction_config_texas),\n",
    "\t\t\t\t\t\t\t\t\t\t\t\t\tenv_configs=Config(texas_holdem_config),\n",
    "\t\t\t\t\t\t\t\t\t\t\t\t\tactor_configs=Config(actor_configs_texas),\n",
    "\t\t\t\t\t\t\t\t\t\t\t\t\tcritic_configs=Config(cfg),\n",
    "                      llm_configs=texas_holdem_llm_agent_configs)\n",
    "\t\ttrain_scores, trained_agents = ppo_temp.train_multiagent()\n",
    "\t\ttest_scores = ppo_temp.test_multiagent(trained_agents)\n",
    "\t\tupdate_scores(param, value, train_scores, test_scores)\n",
    "\n",
    "\n",
    "print(train_scores_total)\n",
    "print(test_scores_total)\n",
    "\n",
    "with open(\"train_scores3.pkl\", \"wb\") as f:       # save\n",
    "    pickle.dump(train_scores_total, f, protocol=pickle.HIGHEST_PROTOCOL)\n",
    "\n",
    "with open(\"test_scores3.pkl\", \"wb\") as f:       # save\n",
    "    pickle.dump(test_scores_total, f, protocol=pickle.HIGHEST_PROTOCOL)"
   ]
  },
  {
   "cell_type": "code",
   "execution_count": 5,
   "metadata": {},
   "outputs": [
    {
     "name": "stdout",
     "output_type": "stream",
     "text": [
      "Now training: c, 0.05\n",
      "<configs.config_class.Config object at 0x0000013E6A51BF70>\n",
      "🖥  Using device: cpu\n",
      "self obs size: 76\n"
     ]
    },
    {
     "name": "stderr",
     "output_type": "stream",
     "text": [
      "100%|██████████| 7/7 [00:00<00:00, 636.33it/s]\n",
      "100%|██████████| 5/5 [00:00<00:00, 543.43it/s]\n"
     ]
    },
    {
     "name": "stdout",
     "output_type": "stream",
     "text": [
      "Now training: c, 0.15\n",
      "<configs.config_class.Config object at 0x0000013E6961DC30>\n",
      "🖥  Using device: cpu\n",
      "self obs size: 76\n"
     ]
    },
    {
     "name": "stderr",
     "output_type": "stream",
     "text": [
      "100%|██████████| 7/7 [00:00<00:00, 460.41it/s]\n",
      "100%|██████████| 5/5 [00:00<00:00, 625.10it/s]\n"
     ]
    },
    {
     "name": "stdout",
     "output_type": "stream",
     "text": [
      "Now training: c, 0.3\n",
      "<configs.config_class.Config object at 0x0000013E6DFB3190>\n",
      "🖥  Using device: cpu\n",
      "self obs size: 76\n"
     ]
    },
    {
     "name": "stderr",
     "output_type": "stream",
     "text": [
      "100%|██████████| 7/7 [00:00<00:00, 352.91it/s]\n",
      "100%|██████████| 5/5 [00:00<00:00, 294.20it/s]\n"
     ]
    },
    {
     "name": "stdout",
     "output_type": "stream",
     "text": [
      "Now training: batch_size, 64\n",
      "<configs.config_class.Config object at 0x0000013E6A51BF70>\n",
      "🖥  Using device: cpu\n",
      "self obs size: 76\n"
     ]
    },
    {
     "name": "stderr",
     "output_type": "stream",
     "text": [
      "100%|██████████| 7/7 [00:00<00:00, 171.99it/s]\n",
      "100%|██████████| 5/5 [00:00<00:00, 267.17it/s]\n"
     ]
    },
    {
     "name": "stdout",
     "output_type": "stream",
     "text": [
      "Now training: batch_size, 128\n",
      "<configs.config_class.Config object at 0x0000013E3A23F250>\n",
      "🖥  Using device: cpu\n",
      "self obs size: 76\n"
     ]
    },
    {
     "name": "stderr",
     "output_type": "stream",
     "text": [
      "100%|██████████| 7/7 [00:00<00:00, 565.65it/s]\n",
      "100%|██████████| 5/5 [00:00<00:00, 693.66it/s]\n"
     ]
    },
    {
     "name": "stdout",
     "output_type": "stream",
     "text": [
      "Now training: batch_size, 256\n",
      "<configs.config_class.Config object at 0x0000013E6DF23370>\n",
      "🖥  Using device: cpu\n",
      "self obs size: 76\n"
     ]
    },
    {
     "name": "stderr",
     "output_type": "stream",
     "text": [
      "100%|██████████| 7/7 [00:00<00:00, 346.09it/s]\n",
      "100%|██████████| 5/5 [00:00<00:00, 408.57it/s]\n"
     ]
    },
    {
     "name": "stdout",
     "output_type": "stream",
     "text": [
      "Now training: num_epochs, 4\n",
      "<configs.config_class.Config object at 0x0000013E3A23F430>\n",
      "🖥  Using device: cpu\n",
      "self obs size: 76\n"
     ]
    },
    {
     "name": "stderr",
     "output_type": "stream",
     "text": [
      "100%|██████████| 7/7 [00:00<00:00, 337.77it/s]\n",
      "100%|██████████| 5/5 [00:00<00:00, 444.93it/s]\n"
     ]
    },
    {
     "name": "stdout",
     "output_type": "stream",
     "text": [
      "Now training: num_epochs, 6\n",
      "<configs.config_class.Config object at 0x0000013E6961D990>\n",
      "🖥  Using device: cpu\n",
      "self obs size: 76\n"
     ]
    },
    {
     "name": "stderr",
     "output_type": "stream",
     "text": [
      "100%|██████████| 7/7 [00:00<00:00, 384.84it/s]\n",
      "100%|██████████| 5/5 [00:00<00:00, 802.71it/s]\n"
     ]
    },
    {
     "name": "stdout",
     "output_type": "stream",
     "text": [
      "Now training: num_epochs, 8\n",
      "<configs.config_class.Config object at 0x0000013E3B2C3550>\n",
      "🖥  Using device: cpu\n",
      "self obs size: 76\n"
     ]
    },
    {
     "name": "stderr",
     "output_type": "stream",
     "text": [
      "100%|██████████| 7/7 [00:00<00:00, 444.25it/s]\n",
      "100%|██████████| 5/5 [00:00<00:00, 328.64it/s]\n"
     ]
    },
    {
     "name": "stdout",
     "output_type": "stream",
     "text": [
      "Now training: update_frequency, 1000\n",
      "<configs.config_class.Config object at 0x0000013E3B2BC0A0>\n",
      "🖥  Using device: cpu\n",
      "self obs size: 76\n"
     ]
    },
    {
     "name": "stderr",
     "output_type": "stream",
     "text": [
      "100%|██████████| 7/7 [00:00<00:00, 190.41it/s]\n",
      "100%|██████████| 5/5 [00:00<00:00, 541.20it/s]\n"
     ]
    },
    {
     "name": "stdout",
     "output_type": "stream",
     "text": [
      "Now training: update_frequency, 4000\n",
      "<configs.config_class.Config object at 0x0000013E3B2BC0A0>\n",
      "🖥  Using device: cpu\n",
      "self obs size: 76\n"
     ]
    },
    {
     "name": "stderr",
     "output_type": "stream",
     "text": [
      "100%|██████████| 7/7 [00:00<00:00, 364.49it/s]\n",
      "100%|██████████| 5/5 [00:00<00:00, 802.22it/s]\n"
     ]
    },
    {
     "name": "stdout",
     "output_type": "stream",
     "text": [
      "Now training: update_frequency, 7000\n",
      "<configs.config_class.Config object at 0x0000013E6961E560>\n",
      "🖥  Using device: cpu\n",
      "self obs size: 76\n"
     ]
    },
    {
     "name": "stderr",
     "output_type": "stream",
     "text": [
      "100%|██████████| 7/7 [00:00<00:00, 760.23it/s]\n",
      "100%|██████████| 5/5 [00:00<00:00, 446.19it/s]\n"
     ]
    },
    {
     "name": "stdout",
     "output_type": "stream",
     "text": [
      "Now training: learning_rate_actor, 3e-05\n",
      "<configs.config_class.Config object at 0x0000013E3B2BC070>\n",
      "🖥  Using device: cpu\n",
      "self obs size: 76\n"
     ]
    },
    {
     "name": "stderr",
     "output_type": "stream",
     "text": [
      "100%|██████████| 7/7 [00:00<00:00, 310.91it/s]\n",
      "100%|██████████| 5/5 [00:00<00:00, 357.14it/s]\n"
     ]
    },
    {
     "name": "stdout",
     "output_type": "stream",
     "text": [
      "Now training: learning_rate_actor, 0.0003\n",
      "<configs.config_class.Config object at 0x0000013E3B2BC0A0>\n",
      "🖥  Using device: cpu\n",
      "self obs size: 76\n"
     ]
    },
    {
     "name": "stderr",
     "output_type": "stream",
     "text": [
      "100%|██████████| 7/7 [00:00<00:00, 252.80it/s]\n",
      "100%|██████████| 5/5 [00:00<00:00, 357.03it/s]\n"
     ]
    },
    {
     "name": "stdout",
     "output_type": "stream",
     "text": [
      "Now training: learning_rate_actor, 0.001\n",
      "<configs.config_class.Config object at 0x0000013E3A2764A0>\n",
      "🖥  Using device: cpu\n",
      "self obs size: 76\n"
     ]
    },
    {
     "name": "stderr",
     "output_type": "stream",
     "text": [
      "100%|██████████| 7/7 [00:00<00:00, 636.16it/s]\n",
      "100%|██████████| 5/5 [00:00<00:00, 500.01it/s]\n"
     ]
    },
    {
     "name": "stdout",
     "output_type": "stream",
     "text": [
      "Now training: hidden_layer, [256, 256]\n",
      "<configs.config_class.Config object at 0x0000013E6961DB40>\n",
      "🖥  Using device: cpu\n",
      "self obs size: 76\n"
     ]
    },
    {
     "name": "stderr",
     "output_type": "stream",
     "text": [
      "100%|██████████| 7/7 [00:00<00:00, 999.77it/s]\n",
      "100%|██████████| 5/5 [00:00<00:00, 384.50it/s]\n"
     ]
    },
    {
     "name": "stdout",
     "output_type": "stream",
     "text": [
      "Now training: hidden_layer, [128, 128]\n",
      "<configs.config_class.Config object at 0x0000013E3B2BC0A0>\n",
      "🖥  Using device: cpu\n",
      "self obs size: 76\n"
     ]
    },
    {
     "name": "stderr",
     "output_type": "stream",
     "text": [
      "100%|██████████| 7/7 [00:00<00:00, 538.55it/s]\n",
      "100%|██████████| 5/5 [00:00<00:00, 454.20it/s]\n"
     ]
    },
    {
     "name": "stdout",
     "output_type": "stream",
     "text": [
      "Now training: learning_rate_critic, 3e-05\n",
      "<configs.config_class.Config object at 0x0000013E6DF56F20>\n",
      "🖥  Using device: cpu\n",
      "self obs size: 76\n"
     ]
    },
    {
     "name": "stderr",
     "output_type": "stream",
     "text": [
      "100%|██████████| 7/7 [00:00<00:00, 874.36it/s]\n",
      "100%|██████████| 5/5 [00:00<00:00, 333.33it/s]\n"
     ]
    },
    {
     "name": "stdout",
     "output_type": "stream",
     "text": [
      "Now training: learning_rate_critic, 0.0003\n",
      "<configs.config_class.Config object at 0x0000013E3A2775B0>\n",
      "🖥  Using device: cpu\n",
      "self obs size: 76\n"
     ]
    },
    {
     "name": "stderr",
     "output_type": "stream",
     "text": [
      "100%|██████████| 7/7 [00:00<00:00, 700.17it/s]\n",
      "100%|██████████| 5/5 [00:00<00:00, 454.69it/s]\n"
     ]
    },
    {
     "name": "stdout",
     "output_type": "stream",
     "text": [
      "Now training: learning_rate_critic, 0.001\n",
      "<configs.config_class.Config object at 0x0000013E3A23F1C0>\n",
      "🖥  Using device: cpu\n",
      "self obs size: 76\n"
     ]
    },
    {
     "name": "stderr",
     "output_type": "stream",
     "text": [
      "100%|██████████| 7/7 [00:00<00:00, 636.71it/s]\n",
      "100%|██████████| 5/5 [00:00<00:00, 624.93it/s]\n"
     ]
    },
    {
     "name": "stdout",
     "output_type": "stream",
     "text": [
      "Now training: hidden_layer, [256, 256]\n",
      "<configs.config_class.Config object at 0x0000013E6961DBD0>\n",
      "🖥  Using device: cpu\n",
      "self obs size: 76\n"
     ]
    },
    {
     "name": "stderr",
     "output_type": "stream",
     "text": [
      "100%|██████████| 7/7 [00:00<00:00, 500.26it/s]\n",
      "100%|██████████| 5/5 [00:00<00:00, 384.64it/s]\n"
     ]
    },
    {
     "name": "stdout",
     "output_type": "stream",
     "text": [
      "Now training: hidden_layer, [128, 128]\n",
      "<configs.config_class.Config object at 0x0000013E6961E560>\n",
      "🖥  Using device: cpu\n",
      "self obs size: 76\n"
     ]
    },
    {
     "name": "stderr",
     "output_type": "stream",
     "text": [
      "100%|██████████| 7/7 [00:00<00:00, 499.94it/s]\n",
      "100%|██████████| 5/5 [00:00<00:00, 384.48it/s]\n"
     ]
    },
    {
     "name": "stdout",
     "output_type": "stream",
     "text": [
      "{'c:0.05': [np.float64(-0.5), np.float64(0.5), np.float64(0.5), np.float64(2.0), np.float64(-0.5), np.float64(-1.0), np.float64(-0.5)], 'c:0.15': [np.float64(-0.5), np.float64(-1.0), np.float64(-0.5), np.float64(-1.0), np.float64(-0.5), np.float64(2.0), np.float64(3.0)], 'c:0.3': [np.float64(0.5), np.float64(-3.0), np.float64(0.5), np.float64(-0.5), np.float64(1.0), np.float64(-0.5), np.float64(-4.0)], 'batch_size:64': [np.float64(-11.0), np.float64(-2.0), np.float64(-0.5), np.float64(-1.0), np.float64(0.5), np.float64(-0.5), np.float64(-5.0)], 'batch_size:128': [np.float64(0.5), np.float64(-0.5), np.float64(-0.5), np.float64(1.0), np.float64(-0.5), np.float64(-3.0), np.float64(-2.0)], 'batch_size:256': [np.float64(-1.0), np.float64(1.0), np.float64(2.0), np.float64(1.0), np.float64(-0.5), np.float64(-8.0), np.float64(-3.0)], 'num_epochs:4': [np.float64(-4.0), np.float64(-0.5), np.float64(-1.0), np.float64(4.0), np.float64(-0.5), np.float64(-0.5), np.float64(-4.0)], 'num_epochs:6': [np.float64(-1.0), np.float64(0.5), np.float64(6.0), np.float64(0.5), np.float64(-0.5), np.float64(4.0), np.float64(-0.5)], 'num_epochs:8': [np.float64(3.0), np.float64(1.0), np.float64(-1.0), np.float64(-0.5), np.float64(-1.0), np.float64(-1.0), np.float64(-0.5)], 'update_frequency:1000': [np.float64(14.0), np.float64(1.0), np.float64(1.0), np.float64(-0.5), np.float64(-1.0), np.float64(-1.0), np.float64(0.5)], 'update_frequency:4000': [np.float64(1.0), np.float64(-1.0), np.float64(-2.0), np.float64(1.0), np.float64(3.0), np.float64(6.0), np.float64(-1.0)], 'update_frequency:7000': [np.float64(0.5), np.float64(0.5), np.float64(0.5), np.float64(1.0), np.float64(0.5), np.float64(-0.5), np.float64(-0.5)], 'learning_rate_actor:3e-05': [np.float64(2.0), np.float64(-0.5), np.float64(2.0), np.float64(1.0), np.float64(3.0), np.float64(-0.5), np.float64(-1.0)], 'learning_rate_actor:0.0003': [np.float64(1.0), np.float64(1.0), np.float64(-0.5), np.float64(1.0), np.float64(-1.0), np.float64(2.0), np.float64(-3.0)], 'learning_rate_actor:0.001': [np.float64(-0.5), np.float64(0.5), np.float64(1.0), np.float64(-1.0), np.float64(1.0), np.float64(0.5), np.float64(-1.0)], 'hidden_layer:[256, 256]': [np.float64(0.5), np.float64(2.0), np.float64(-0.5), np.float64(1.0), np.float64(1.0), np.float64(-2.0), np.float64(1.0)], 'hidden_layer:[128, 128]': [np.float64(1.0), np.float64(-0.5), np.float64(4.0), np.float64(-0.5), np.float64(-0.5), np.float64(0.5), np.float64(-0.5)], 'learning_rate_critic:3e-05': [np.float64(-0.5), np.float64(1.0), np.float64(-0.5), np.float64(0.5), np.float64(0.5), np.float64(-1.0), np.float64(1.0)], 'learning_rate_critic:0.0003': [np.float64(0.5), np.float64(1.0), np.float64(0.5), np.float64(1.0), np.float64(0.5), np.float64(-1.0), np.float64(1.0)], 'learning_rate_critic:0.001': [np.float64(-0.5), np.float64(-2.0), np.float64(-0.5), np.float64(-1.0), np.float64(-0.5), np.float64(-0.5), np.float64(0.5)]}\n",
      "{'c:0.05': [np.float64(1.0), np.float64(-0.5), np.float64(0.5), np.float64(-2.0), np.float64(-5.0)], 'c:0.15': [np.float64(-1.0), np.float64(0.5), np.float64(1.0), np.float64(-0.5), np.float64(2.0)], 'c:0.3': [np.float64(1.0), np.float64(1.0), np.float64(0.5), np.float64(-0.5), np.float64(-2.0)], 'batch_size:64': [np.float64(-2.0), np.float64(-1.0), np.float64(5.0), np.float64(3.0), np.float64(-2.0)], 'batch_size:128': [np.float64(-3.0), np.float64(0.5), np.float64(3.0), np.float64(-1.0), np.float64(-0.5)], 'batch_size:256': [np.float64(1.0), np.float64(-1.0), np.float64(2.0), np.float64(1.0), np.float64(2.0)], 'num_epochs:4': [np.float64(-0.5), np.float64(-3.0), np.float64(-1.0), np.float64(2.0), np.float64(-0.5)], 'num_epochs:6': [np.float64(0.5), np.float64(0.5), np.float64(2.0), np.float64(-1.0), np.float64(-1.0)], 'num_epochs:8': [np.float64(-0.5), np.float64(2.0), np.float64(-0.5), np.float64(0.0), np.float64(-0.5)], 'update_frequency:1000': [np.float64(-1.0), np.float64(-1.0), np.float64(-2.0), np.float64(1.0), np.float64(-2.0)], 'update_frequency:4000': [np.float64(0.5), np.float64(-1.0), np.float64(-1.0), np.float64(-2.0), np.float64(-1.0)], 'update_frequency:7000': [np.float64(0.5), np.float64(0.5), np.float64(10.0), np.float64(0.5), np.float64(1.0)], 'learning_rate_actor:3e-05': [np.float64(-2.0), np.float64(-3.0), np.float64(-1.0), np.float64(-2.0), np.float64(0.5)], 'learning_rate_actor:0.0003': [np.float64(-1.0), np.float64(-0.5), np.float64(-1.0), np.float64(1.0), np.float64(-2.0)], 'learning_rate_actor:0.001': [np.float64(1.0), np.float64(-1.0), np.float64(-3.0), np.float64(-0.5), np.float64(-1.0)], 'hidden_layer:[256, 256]': [np.float64(3.0), np.float64(6.0), np.float64(0.5), np.float64(2.0), np.float64(1.0)], 'hidden_layer:[128, 128]': [np.float64(0.5), np.float64(-3.0), np.float64(-0.5), np.float64(0.5), np.float64(-3.0)], 'learning_rate_critic:3e-05': [np.float64(-1.0), np.float64(-4.0), np.float64(1.0), np.float64(-0.5), np.float64(1.0)], 'learning_rate_critic:0.0003': [np.float64(2.0), np.float64(0.5), np.float64(1.0), np.float64(-0.5), np.float64(6.0)], 'learning_rate_critic:0.001': [np.float64(1.0), np.float64(0.5), np.float64(-5.0), np.float64(-5.0), np.float64(-0.5)]}\n"
     ]
    }
   ],
   "source": [
    "\n",
    "base_cfg = ppo_interaction_config_texas\n",
    "base_actor = actor_configs_texas\n",
    "base_critic = critic_configs_texas\n",
    "\n",
    "param_dict_cfg = {\n",
    "\"c\" : [0.05, 0.15, 0.3],\n",
    "\"batch_size\" : [64, 128, 256],\n",
    "\"num_epochs\" : [4,6,8],\n",
    "\"update_frequency\" : [1000,4000,7000],\n",
    "}\n",
    "\n",
    "param_dict_actor = {\n",
    "\t\"learning_rate_actor\" : [3e-5, 3e-4, 1e-3],\n",
    "\t\"hidden_layer\" : [[256, 256], [128,128]],\n",
    "}\n",
    "\n",
    "param_dict_critic = {\n",
    "\t\"learning_rate_critic\" : [3e-5, 3e-4, 1e-3],\n",
    "\t\"hidden_layer\" : [[256, 256], [128,128]],\n",
    "}\n",
    "\n",
    "train_scores_total = {}\n",
    "test_scores_total = {}\n",
    "\n",
    "def update_scores(param, value, train_score, test_score):\n",
    "    train_scores_total[f\"{param}:{str(value)}\"] = train_score\n",
    "    test_scores_total[f\"{param}:{str(value)}\"] = test_score\n",
    "\n",
    "\n",
    "for param in param_dict_cfg:\n",
    "\tfor value in param_dict_cfg[param]:\n",
    "\t\tprint(f\"Now training: {param}, {value}\")\n",
    "\t\tcfg = deepcopy(base_cfg)\n",
    "\t\tcfg[param] = value\n",
    "\t\tprint(Config(cfg))\n",
    "\t\tppo_temp = ppo.PPO_interaction(interaction_configs=Config(cfg),\n",
    "\t\t\t\t\t\t\t\t\t\t\t\t\tenv_configs=Config(texas_holdem_config),\n",
    "\t\t\t\t\t\t\t\t\t\t\t\t\tactor_configs=Config(actor_configs_texas),\n",
    "\t\t\t\t\t\t\t\t\t\t\t\t\tcritic_configs=Config(critic_configs_texas),\n",
    "                      llm_configs=texas_holdem_llm_agent_configs)\n",
    "\t\ttrain_scores, trained_agents = ppo_temp.train_multiagent()\n",
    "\t\ttest_scores = ppo_temp.test_multiagent(trained_agents)\n",
    "\t\tupdate_scores(param, value, train_scores, test_scores)\n",
    "\n",
    "for param in param_dict_actor:\n",
    "\tfor value in param_dict_actor[param]:\n",
    "\t\tprint(f\"Now training: {param}, {value}\")\n",
    "\t\tcfg = deepcopy(actor_configs_texas)\n",
    "\t\tcfg[param] = value\n",
    "\t\tprint(Config(cfg))\n",
    "\t\tppo_temp = ppo.PPO_interaction(interaction_configs=Config(ppo_interaction_config_texas),\n",
    "\t\t\t\t\t\t\t\t\t\t\t\t\tenv_configs=Config(texas_holdem_config),\n",
    "\t\t\t\t\t\t\t\t\t\t\t\t\tactor_configs=Config(cfg),\n",
    "\t\t\t\t\t\t\t\t\t\t\t\t\tcritic_configs=Config(critic_configs_texas),\n",
    "                      llm_configs=texas_holdem_llm_agent_configs)\n",
    "\t\ttrain_scores, trained_agents = ppo_temp.train_multiagent()\n",
    "\t\ttest_scores = ppo_temp.test_multiagent(trained_agents)\n",
    "\t\tupdate_scores(param, value, train_scores, test_scores)\n",
    "\n",
    "\n",
    "for param in param_dict_critic:\n",
    "\tfor value in param_dict_critic[param]:\n",
    "\t\tprint(f\"Now training: {param}, {value}\")\n",
    "\t\tcfg = deepcopy(critic_configs_texas)\n",
    "\t\tcfg[param] = value\n",
    "\t\tprint(Config(cfg))\n",
    "\t\tppo_temp = ppo.PPO_interaction(interaction_configs=Config(ppo_interaction_config_texas),\n",
    "\t\t\t\t\t\t\t\t\t\t\t\t\tenv_configs=Config(texas_holdem_config),\n",
    "\t\t\t\t\t\t\t\t\t\t\t\t\tactor_configs=Config(actor_configs_texas),\n",
    "\t\t\t\t\t\t\t\t\t\t\t\t\tcritic_configs=Config(cfg),\n",
    "                      llm_configs=texas_holdem_llm_agent_configs)\n",
    "\t\ttrain_scores, trained_agents = ppo_temp.train_multiagent()\n",
    "\t\ttest_scores = ppo_temp.test_multiagent(trained_agents)\n",
    "\t\tupdate_scores(param, value, train_scores, test_scores)\n",
    "\n",
    "\n",
    "print(train_scores_total)\n",
    "print(test_scores_total)\n",
    "\n",
    "with open(\"train_scores4.pkl\", \"wb\") as f:       # save\n",
    "    pickle.dump(train_scores_total, f, protocol=pickle.HIGHEST_PROTOCOL)\n",
    "\n",
    "with open(\"test_scores4.pkl\", \"wb\") as f:       # save\n",
    "    pickle.dump(test_scores_total, f, protocol=pickle.HIGHEST_PROTOCOL)"
   ]
  },
  {
   "cell_type": "code",
   "execution_count": 6,
   "metadata": {},
   "outputs": [
    {
     "name": "stdout",
     "output_type": "stream",
     "text": [
      "Now training: c, 0.05\n",
      "<configs.config_class.Config object at 0x0000013E3B2C0DC0>\n",
      "🖥  Using device: cpu\n",
      "self obs size: 76\n"
     ]
    },
    {
     "name": "stderr",
     "output_type": "stream",
     "text": [
      "100%|██████████| 7/7 [00:00<00:00, 349.89it/s]\n",
      "100%|██████████| 5/5 [00:00<00:00, 294.12it/s]\n"
     ]
    },
    {
     "name": "stdout",
     "output_type": "stream",
     "text": [
      "Now training: c, 0.15\n",
      "<configs.config_class.Config object at 0x0000013E6961D990>\n",
      "🖥  Using device: cpu\n",
      "self obs size: 76\n"
     ]
    },
    {
     "name": "stderr",
     "output_type": "stream",
     "text": [
      "100%|██████████| 7/7 [00:00<00:00, 423.99it/s]\n",
      "100%|██████████| 5/5 [00:00<00:00, 357.18it/s]\n"
     ]
    },
    {
     "name": "stdout",
     "output_type": "stream",
     "text": [
      "Now training: c, 0.3\n",
      "<configs.config_class.Config object at 0x0000013E616CEB30>\n",
      "🖥  Using device: cpu\n",
      "self obs size: 76\n"
     ]
    },
    {
     "name": "stderr",
     "output_type": "stream",
     "text": [
      "100%|██████████| 7/7 [00:00<00:00, 241.42it/s]\n",
      "100%|██████████| 5/5 [00:00<00:00, 333.15it/s]\n"
     ]
    },
    {
     "name": "stdout",
     "output_type": "stream",
     "text": [
      "Now training: batch_size, 64\n",
      "<configs.config_class.Config object at 0x0000013E3A23F430>\n",
      "🖥  Using device: cpu\n",
      "self obs size: 76\n"
     ]
    },
    {
     "name": "stderr",
     "output_type": "stream",
     "text": [
      "100%|██████████| 7/7 [00:00<00:00, 466.73it/s]\n",
      "100%|██████████| 5/5 [00:00<00:00, 277.91it/s]\n"
     ]
    },
    {
     "name": "stdout",
     "output_type": "stream",
     "text": [
      "Now training: batch_size, 128\n",
      "<configs.config_class.Config object at 0x0000013E6A51BC10>\n",
      "🖥  Using device: cpu\n",
      "self obs size: 76\n"
     ]
    },
    {
     "name": "stderr",
     "output_type": "stream",
     "text": [
      "100%|██████████| 7/7 [00:00<00:00, 368.55it/s]\n",
      "100%|██████████| 5/5 [00:00<00:00, 356.66it/s]\n"
     ]
    },
    {
     "name": "stdout",
     "output_type": "stream",
     "text": [
      "Now training: batch_size, 256\n",
      "<configs.config_class.Config object at 0x0000013E3A23F4C0>\n",
      "🖥  Using device: cpu\n",
      "self obs size: 76\n"
     ]
    },
    {
     "name": "stderr",
     "output_type": "stream",
     "text": [
      "100%|██████████| 7/7 [00:00<00:00, 333.43it/s]\n",
      "100%|██████████| 5/5 [00:00<00:00, 312.49it/s]\n"
     ]
    },
    {
     "name": "stdout",
     "output_type": "stream",
     "text": [
      "Now training: num_epochs, 4\n",
      "<configs.config_class.Config object at 0x0000013E616FC340>\n",
      "🖥  Using device: cpu\n",
      "self obs size: 76\n"
     ]
    },
    {
     "name": "stderr",
     "output_type": "stream",
     "text": [
      "100%|██████████| 7/7 [00:00<00:00, 466.75it/s]\n",
      "100%|██████████| 5/5 [00:00<00:00, 399.61it/s]\n"
     ]
    },
    {
     "name": "stdout",
     "output_type": "stream",
     "text": [
      "Now training: num_epochs, 6\n",
      "<configs.config_class.Config object at 0x0000013E3B2BC0A0>\n",
      "🖥  Using device: cpu\n",
      "self obs size: 76\n"
     ]
    },
    {
     "name": "stderr",
     "output_type": "stream",
     "text": [
      "100%|██████████| 7/7 [00:00<00:00, 389.01it/s]\n",
      "100%|██████████| 5/5 [00:00<00:00, 238.11it/s]\n"
     ]
    },
    {
     "name": "stdout",
     "output_type": "stream",
     "text": [
      "Now training: num_epochs, 8\n",
      "<configs.config_class.Config object at 0x0000013E3B290E50>\n",
      "🖥  Using device: cpu\n",
      "self obs size: 76\n"
     ]
    },
    {
     "name": "stderr",
     "output_type": "stream",
     "text": [
      "100%|██████████| 7/7 [00:00<00:00, 279.93it/s]\n",
      "100%|██████████| 5/5 [00:00<00:00, 232.31it/s]\n"
     ]
    },
    {
     "name": "stdout",
     "output_type": "stream",
     "text": [
      "Now training: update_frequency, 1000\n",
      "<configs.config_class.Config object at 0x0000013E3A276410>\n",
      "🖥  Using device: cpu\n",
      "self obs size: 76\n"
     ]
    },
    {
     "name": "stderr",
     "output_type": "stream",
     "text": [
      "100%|██████████| 7/7 [00:00<00:00, 280.02it/s]\n",
      "100%|██████████| 5/5 [00:00<00:00, 1000.55it/s]\n"
     ]
    },
    {
     "name": "stdout",
     "output_type": "stream",
     "text": [
      "Now training: update_frequency, 4000\n",
      "<configs.config_class.Config object at 0x0000013E616CEB30>\n",
      "🖥  Using device: cpu\n",
      "self obs size: 76\n"
     ]
    },
    {
     "name": "stderr",
     "output_type": "stream",
     "text": [
      "100%|██████████| 7/7 [00:00<00:00, 285.45it/s]\n",
      "100%|██████████| 5/5 [00:00<00:00, 625.12it/s]\n"
     ]
    },
    {
     "name": "stdout",
     "output_type": "stream",
     "text": [
      "Now training: update_frequency, 7000\n",
      "<configs.config_class.Config object at 0x0000013E6DF22D40>\n",
      "🖥  Using device: cpu\n",
      "self obs size: 76\n"
     ]
    },
    {
     "name": "stderr",
     "output_type": "stream",
     "text": [
      "100%|██████████| 7/7 [00:00<00:00, 437.42it/s]\n",
      "100%|██████████| 5/5 [00:00<00:00, 454.57it/s]\n"
     ]
    },
    {
     "name": "stdout",
     "output_type": "stream",
     "text": [
      "Now training: learning_rate_actor, 3e-05\n",
      "<configs.config_class.Config object at 0x0000013E3B2BC0A0>\n",
      "🖥  Using device: cpu\n",
      "self obs size: 76\n"
     ]
    },
    {
     "name": "stderr",
     "output_type": "stream",
     "text": [
      "100%|██████████| 7/7 [00:00<00:00, 368.34it/s]\n",
      "100%|██████████| 5/5 [00:00<00:00, 714.19it/s]\n"
     ]
    },
    {
     "name": "stdout",
     "output_type": "stream",
     "text": [
      "Now training: learning_rate_actor, 0.0003\n",
      "<configs.config_class.Config object at 0x0000013E3A23F5E0>\n",
      "🖥  Using device: cpu\n",
      "self obs size: 76\n"
     ]
    },
    {
     "name": "stderr",
     "output_type": "stream",
     "text": [
      "100%|██████████| 7/7 [00:00<00:00, 437.59it/s]\n",
      "100%|██████████| 5/5 [00:00<00:00, 714.26it/s]\n"
     ]
    },
    {
     "name": "stdout",
     "output_type": "stream",
     "text": [
      "Now training: learning_rate_actor, 0.001\n",
      "<configs.config_class.Config object at 0x0000013E616FC340>\n",
      "🖥  Using device: cpu\n",
      "self obs size: 76\n"
     ]
    },
    {
     "name": "stderr",
     "output_type": "stream",
     "text": [
      "100%|██████████| 7/7 [00:00<00:00, 388.93it/s]\n",
      "100%|██████████| 5/5 [00:00<00:00, 454.45it/s]\n"
     ]
    },
    {
     "name": "stdout",
     "output_type": "stream",
     "text": [
      "Now training: hidden_layer, [256, 256]\n",
      "<configs.config_class.Config object at 0x0000013E3B2BC0A0>\n",
      "🖥  Using device: cpu\n",
      "self obs size: 76\n"
     ]
    },
    {
     "name": "stderr",
     "output_type": "stream",
     "text": [
      "100%|██████████| 7/7 [00:00<00:00, 266.22it/s]\n",
      "100%|██████████| 5/5 [00:00<00:00, 333.44it/s]\n"
     ]
    },
    {
     "name": "stdout",
     "output_type": "stream",
     "text": [
      "Now training: hidden_layer, [128, 128]\n",
      "<configs.config_class.Config object at 0x0000013E3B2C22F0>\n",
      "🖥  Using device: cpu\n",
      "self obs size: 76\n"
     ]
    },
    {
     "name": "stderr",
     "output_type": "stream",
     "text": [
      "100%|██████████| 7/7 [00:00<00:00, 411.82it/s]\n",
      "100%|██████████| 5/5 [00:00<00:00, 624.69it/s]\n"
     ]
    },
    {
     "name": "stdout",
     "output_type": "stream",
     "text": [
      "Now training: learning_rate_critic, 3e-05\n",
      "<configs.config_class.Config object at 0x0000013E3B292200>\n",
      "🖥  Using device: cpu\n",
      "self obs size: 76\n"
     ]
    },
    {
     "name": "stderr",
     "output_type": "stream",
     "text": [
      "100%|██████████| 7/7 [00:00<00:00, 537.31it/s]\n",
      "100%|██████████| 5/5 [00:00<00:00, 555.60it/s]\n"
     ]
    },
    {
     "name": "stdout",
     "output_type": "stream",
     "text": [
      "Now training: learning_rate_critic, 0.0003\n",
      "<configs.config_class.Config object at 0x0000013E6DF23670>\n",
      "🖥  Using device: cpu\n",
      "self obs size: 76\n"
     ]
    },
    {
     "name": "stderr",
     "output_type": "stream",
     "text": [
      "100%|██████████| 7/7 [00:00<00:00, 538.46it/s]\n",
      "100%|██████████| 5/5 [00:00<00:00, 1000.79it/s]\n"
     ]
    },
    {
     "name": "stdout",
     "output_type": "stream",
     "text": [
      "Now training: learning_rate_critic, 0.001\n",
      "<configs.config_class.Config object at 0x0000013E3B2BFFA0>\n",
      "🖥  Using device: cpu\n",
      "self obs size: 76\n"
     ]
    },
    {
     "name": "stderr",
     "output_type": "stream",
     "text": [
      "100%|██████████| 7/7 [00:00<00:00, 538.44it/s]\n",
      "100%|██████████| 5/5 [00:00<00:00, 624.90it/s]\n"
     ]
    },
    {
     "name": "stdout",
     "output_type": "stream",
     "text": [
      "Now training: hidden_layer, [256, 256]\n",
      "<configs.config_class.Config object at 0x0000013E6961E560>\n",
      "🖥  Using device: cpu\n",
      "self obs size: 76\n"
     ]
    },
    {
     "name": "stderr",
     "output_type": "stream",
     "text": [
      "100%|██████████| 7/7 [00:00<00:00, 264.03it/s]\n",
      "100%|██████████| 5/5 [00:00<00:00, 499.98it/s]\n"
     ]
    },
    {
     "name": "stdout",
     "output_type": "stream",
     "text": [
      "Now training: hidden_layer, [128, 128]\n",
      "<configs.config_class.Config object at 0x0000013E3A23F3D0>\n",
      "🖥  Using device: cpu\n",
      "self obs size: 76\n"
     ]
    },
    {
     "name": "stderr",
     "output_type": "stream",
     "text": [
      "100%|██████████| 7/7 [00:00<00:00, 411.77it/s]\n",
      "100%|██████████| 5/5 [00:00<00:00, 454.81it/s]"
     ]
    },
    {
     "name": "stdout",
     "output_type": "stream",
     "text": [
      "{'c:0.05': [np.float64(1.0), np.float64(0.5), np.float64(-1.0), np.float64(0.5), np.float64(3.0), np.float64(2.0), np.float64(1.0)], 'c:0.15': [np.float64(-1.0), np.float64(2.0), np.float64(1.0), np.float64(1.0), np.float64(1.0), np.float64(0.5), np.float64(1.0)], 'c:0.3': [np.float64(-1.0), np.float64(-1.0), np.float64(-1.0), np.float64(3.0), np.float64(-4.0), np.float64(1.0), np.float64(-0.5)], 'batch_size:64': [np.float64(5.0), np.float64(0.5), np.float64(-1.0), np.float64(1.0), np.float64(1.0), np.float64(0.5), np.float64(-5.0)], 'batch_size:128': [np.float64(-1.0), np.float64(-2.0), np.float64(2.0), np.float64(0.5), np.float64(1.0), np.float64(-3.0), np.float64(-1.0)], 'batch_size:256': [np.float64(-0.5), np.float64(0.5), np.float64(5.0), np.float64(-1.0), np.float64(1.0), np.float64(-0.5), np.float64(3.0)], 'num_epochs:4': [np.float64(-0.5), np.float64(-1.0), np.float64(1.0), np.float64(1.0), np.float64(-2.0), np.float64(1.0), np.float64(-2.0)], 'num_epochs:6': [np.float64(-1.0), np.float64(-0.5), np.float64(-4.0), np.float64(0.5), np.float64(-0.5), np.float64(-1.0), np.float64(-1.0)], 'num_epochs:8': [np.float64(-2.0), np.float64(3.0), np.float64(0.5), np.float64(-4.0), np.float64(-1.0), np.float64(-1.0), np.float64(-1.0)], 'update_frequency:1000': [np.float64(-3.0), np.float64(-3.0), np.float64(-0.5), np.float64(-3.0), np.float64(0.5), np.float64(2.0), np.float64(-2.0)], 'update_frequency:4000': [np.float64(0.5), np.float64(-1.0), np.float64(2.0), np.float64(2.0), np.float64(-2.0), np.float64(-0.5), np.float64(2.0)], 'update_frequency:7000': [np.float64(0.5), np.float64(1.0), np.float64(-4.0), np.float64(-0.5), np.float64(1.0), np.float64(-1.0), np.float64(-1.0)], 'learning_rate_actor:3e-05': [np.float64(-1.0), np.float64(-0.5), np.float64(3.0), np.float64(-0.5), np.float64(3.0), np.float64(1.0), np.float64(1.0)], 'learning_rate_actor:0.0003': [np.float64(-2.0), np.float64(-2.0), np.float64(0.5), np.float64(0.5), np.float64(2.0), np.float64(2.0), np.float64(0.5)], 'learning_rate_actor:0.001': [np.float64(1.0), np.float64(-3.0), np.float64(-3.0), np.float64(0.5), np.float64(5.0), np.float64(0.5), np.float64(2.0)], 'hidden_layer:[256, 256]': [np.float64(3.0), np.float64(1.0), np.float64(-0.5), np.float64(-1.0), np.float64(15.0), np.float64(1.0), np.float64(2.0)], 'hidden_layer:[128, 128]': [np.float64(2.0), np.float64(-1.0), np.float64(-2.0), np.float64(2.0), np.float64(1.0), np.float64(-0.5), np.float64(-1.0)], 'learning_rate_critic:3e-05': [np.float64(0.5), np.float64(1.0), np.float64(1.0), np.float64(-0.5), np.float64(-0.5), np.float64(-2.0), np.float64(-1.0)], 'learning_rate_critic:0.0003': [np.float64(0.5), np.float64(4.0), np.float64(-0.5), np.float64(-1.0), np.float64(-0.5), np.float64(-3.0), np.float64(-0.5)], 'learning_rate_critic:0.001': [np.float64(2.0), np.float64(1.0), np.float64(-1.0), np.float64(-1.0), np.float64(0.5), np.float64(1.0), np.float64(-1.0)]}\n",
      "{'c:0.05': [np.float64(1.0), np.float64(-0.5), np.float64(-3.0), np.float64(-1.0), np.float64(0.5)], 'c:0.15': [np.float64(-7.0), np.float64(4.0), np.float64(-0.5), np.float64(-1.0), np.float64(1.0)], 'c:0.3': [np.float64(-0.5), np.float64(-4.0), np.float64(-1.0), np.float64(-1.0), np.float64(2.0)], 'batch_size:64': [np.float64(-1.0), np.float64(2.0), np.float64(1.0), np.float64(-2.0), np.float64(2.0)], 'batch_size:128': [np.float64(0.5), np.float64(-1.0), np.float64(5.0), np.float64(0.5), np.float64(-2.0)], 'batch_size:256': [np.float64(-0.5), np.float64(-5.0), np.float64(-4.0), np.float64(-1.0), np.float64(5.0)], 'num_epochs:4': [np.float64(-2.0), np.float64(2.0), np.float64(-3.0), np.float64(-1.0), np.float64(-0.5)], 'num_epochs:6': [np.float64(-1.0), np.float64(-0.5), np.float64(1.0), np.float64(8.0), np.float64(-1.0)], 'num_epochs:8': [np.float64(4.0), np.float64(3.0), np.float64(1.0), np.float64(1.0), np.float64(3.0)], 'update_frequency:1000': [np.float64(1.0), np.float64(1.0), np.float64(0.5), np.float64(-1.0), np.float64(0.5)], 'update_frequency:4000': [np.float64(-1.0), np.float64(-2.0), np.float64(-0.5), np.float64(1.0), np.float64(1.0)], 'update_frequency:7000': [np.float64(2.0), np.float64(-0.5), np.float64(-1.0), np.float64(-2.0), np.float64(2.0)], 'learning_rate_actor:3e-05': [np.float64(0.5), np.float64(0.5), np.float64(0.5), np.float64(-2.0), np.float64(4.0)], 'learning_rate_actor:0.0003': [np.float64(-0.5), np.float64(0.5), np.float64(1.0), np.float64(0.5), np.float64(-2.0)], 'learning_rate_actor:0.001': [np.float64(-2.0), np.float64(-2.0), np.float64(-2.0), np.float64(0.5), np.float64(1.0)], 'hidden_layer:[256, 256]': [np.float64(1.0), np.float64(-2.0), np.float64(-1.0), np.float64(-0.5), np.float64(2.0)], 'hidden_layer:[128, 128]': [np.float64(-0.5), np.float64(-0.5), np.float64(-3.0), np.float64(0.5), np.float64(2.0)], 'learning_rate_critic:3e-05': [np.float64(-3.0), np.float64(0.5), np.float64(1.0), np.float64(6.0), np.float64(4.0)], 'learning_rate_critic:0.0003': [np.float64(0.5), np.float64(0.5), np.float64(-1.0), np.float64(1.0), np.float64(0.5)], 'learning_rate_critic:0.001': [np.float64(4.0), np.float64(1.0), np.float64(2.0), np.float64(-0.5), np.float64(0.5)]}\n"
     ]
    },
    {
     "name": "stderr",
     "output_type": "stream",
     "text": [
      "\n"
     ]
    }
   ],
   "source": [
    "\n",
    "base_cfg = ppo_interaction_config_texas\n",
    "base_actor = actor_configs_texas\n",
    "base_critic = critic_configs_texas\n",
    "\n",
    "param_dict_cfg = {\n",
    "\"c\" : [0.05, 0.15, 0.3],\n",
    "\"batch_size\" : [64, 128, 256],\n",
    "\"num_epochs\" : [4,6,8],\n",
    "\"update_frequency\" : [1000,4000,7000],\n",
    "}\n",
    "\n",
    "param_dict_actor = {\n",
    "\t\"learning_rate_actor\" : [3e-5, 3e-4, 1e-3],\n",
    "\t\"hidden_layer\" : [[256, 256], [128,128]],\n",
    "}\n",
    "\n",
    "param_dict_critic = {\n",
    "\t\"learning_rate_critic\" : [3e-5, 3e-4, 1e-3],\n",
    "\t\"hidden_layer\" : [[256, 256], [128,128]],\n",
    "}\n",
    "\n",
    "train_scores_total = {}\n",
    "test_scores_total = {}\n",
    "\n",
    "def update_scores(param, value, train_score, test_score):\n",
    "    train_scores_total[f\"{param}:{str(value)}\"] = train_score\n",
    "    test_scores_total[f\"{param}:{str(value)}\"] = test_score\n",
    "\n",
    "\n",
    "for param in param_dict_cfg:\n",
    "\tfor value in param_dict_cfg[param]:\n",
    "\t\tprint(f\"Now training: {param}, {value}\")\n",
    "\t\tcfg = deepcopy(base_cfg)\n",
    "\t\tcfg[param] = value\n",
    "\t\tprint(Config(cfg))\n",
    "\t\tppo_temp = ppo.PPO_interaction(interaction_configs=Config(cfg),\n",
    "\t\t\t\t\t\t\t\t\t\t\t\t\tenv_configs=Config(texas_holdem_config),\n",
    "\t\t\t\t\t\t\t\t\t\t\t\t\tactor_configs=Config(actor_configs_texas),\n",
    "\t\t\t\t\t\t\t\t\t\t\t\t\tcritic_configs=Config(critic_configs_texas),\n",
    "                      llm_configs=texas_holdem_llm_agent_configs)\n",
    "\t\ttrain_scores, trained_agents = ppo_temp.train_multiagent()\n",
    "\t\ttest_scores = ppo_temp.test_multiagent(trained_agents)\n",
    "\t\tupdate_scores(param, value, train_scores, test_scores)\n",
    "\n",
    "for param in param_dict_actor:\n",
    "\tfor value in param_dict_actor[param]:\n",
    "\t\tprint(f\"Now training: {param}, {value}\")\n",
    "\t\tcfg = deepcopy(actor_configs_texas)\n",
    "\t\tcfg[param] = value\n",
    "\t\tprint(Config(cfg))\n",
    "\t\tppo_temp = ppo.PPO_interaction(interaction_configs=Config(ppo_interaction_config_texas),\n",
    "\t\t\t\t\t\t\t\t\t\t\t\t\tenv_configs=Config(texas_holdem_config),\n",
    "\t\t\t\t\t\t\t\t\t\t\t\t\tactor_configs=Config(cfg),\n",
    "\t\t\t\t\t\t\t\t\t\t\t\t\tcritic_configs=Config(critic_configs_texas),\n",
    "                      llm_configs=texas_holdem_llm_agent_configs)\n",
    "\t\ttrain_scores, trained_agents = ppo_temp.train_multiagent()\n",
    "\t\ttest_scores = ppo_temp.test_multiagent(trained_agents)\n",
    "\t\tupdate_scores(param, value, train_scores, test_scores)\n",
    "\n",
    "\n",
    "for param in param_dict_critic:\n",
    "\tfor value in param_dict_critic[param]:\n",
    "\t\tprint(f\"Now training: {param}, {value}\")\n",
    "\t\tcfg = deepcopy(critic_configs_texas)\n",
    "\t\tcfg[param] = value\n",
    "\t\tprint(Config(cfg))\n",
    "\t\tppo_temp = ppo.PPO_interaction(interaction_configs=Config(ppo_interaction_config_texas),\n",
    "\t\t\t\t\t\t\t\t\t\t\t\t\tenv_configs=Config(texas_holdem_config),\n",
    "\t\t\t\t\t\t\t\t\t\t\t\t\tactor_configs=Config(actor_configs_texas),\n",
    "\t\t\t\t\t\t\t\t\t\t\t\t\tcritic_configs=Config(cfg),\n",
    "                      llm_configs=texas_holdem_llm_agent_configs)\n",
    "\t\ttrain_scores, trained_agents = ppo_temp.train_multiagent()\n",
    "\t\ttest_scores = ppo_temp.test_multiagent(trained_agents)\n",
    "\t\tupdate_scores(param, value, train_scores, test_scores)\n",
    "\n",
    "\n",
    "print(train_scores_total)\n",
    "print(test_scores_total)\n",
    "\n",
    "with open(\"train_scores.pkl\", \"wb\") as f:       # save\n",
    "    pickle.dump(train_scores_total, f, protocol=pickle.HIGHEST_PROTOCOL)\n",
    "\n",
    "with open(\"test_scores.pkl\", \"wb\") as f:       # save\n",
    "    pickle.dump(test_scores_total, f, protocol=pickle.HIGHEST_PROTOCOL)"
   ]
  },
  {
   "cell_type": "code",
   "execution_count": null,
   "metadata": {},
   "outputs": [
    {
     "name": "stdout",
     "output_type": "stream",
     "text": [
      "{'c:0.05': [[np.float64(1.0), np.float64(-0.5), np.float64(-3.0), np.float64(-1.0), np.float64(0.5)], [np.float64(3.0), np.float64(-0.5), np.float64(-2.0), np.float64(2.0), np.float64(-5.0)]], 'c:0.15': [[np.float64(-7.0), np.float64(4.0), np.float64(-0.5), np.float64(-1.0), np.float64(1.0)], [np.float64(6.0), np.float64(2.0), np.float64(0.5), np.float64(0.5), np.float64(-2.0)]], 'c:0.3': [[np.float64(-0.5), np.float64(-4.0), np.float64(-1.0), np.float64(-1.0), np.float64(2.0)], [np.float64(1.0), np.float64(1.0), np.float64(-0.5), np.float64(0.5), np.float64(-1.0)]], 'batch_size:64': [[np.float64(-1.0), np.float64(2.0), np.float64(1.0), np.float64(-2.0), np.float64(2.0)], [np.float64(1.0), np.float64(0.5), np.float64(-3.0), np.float64(1.0), np.float64(6.0)]], 'batch_size:128': [[np.float64(0.5), np.float64(-1.0), np.float64(5.0), np.float64(0.5), np.float64(-2.0)], [np.float64(0.5), np.float64(2.0), np.float64(1.0), np.float64(-1.0), np.float64(0.5)]], 'batch_size:256': [[np.float64(-0.5), np.float64(-5.0), np.float64(-4.0), np.float64(-1.0), np.float64(5.0)], [np.float64(-0.5), np.float64(-3.0), np.float64(1.0), np.float64(-1.0), np.float64(1.0)]], 'num_epochs:4': [[np.float64(-2.0), np.float64(2.0), np.float64(-3.0), np.float64(-1.0), np.float64(-0.5)], [np.float64(-1.0), np.float64(-2.0), np.float64(-2.0), np.float64(1.0), np.float64(2.0)]], 'num_epochs:6': [[np.float64(-1.0), np.float64(-0.5), np.float64(1.0), np.float64(8.0), np.float64(-1.0)], [np.float64(0.5), np.float64(-1.0), np.float64(-0.5), np.float64(1.0), np.float64(-1.0)]], 'num_epochs:8': [[np.float64(4.0), np.float64(3.0), np.float64(1.0), np.float64(1.0), np.float64(3.0)], [np.float64(-0.5), np.float64(4.0), np.float64(-0.5), np.float64(-1.0), np.float64(-11.0)]], 'update_frequency:1000': [[np.float64(1.0), np.float64(1.0), np.float64(0.5), np.float64(-1.0), np.float64(0.5)], [np.float64(0.5), np.float64(0.5), np.float64(4.0), np.float64(0.5), np.float64(-1.0)]], 'update_frequency:4000': [[np.float64(-1.0), np.float64(-2.0), np.float64(-0.5), np.float64(1.0), np.float64(1.0)], [np.float64(-0.5), np.float64(1.0), np.float64(-0.5), np.float64(3.0), np.float64(-0.5)]], 'update_frequency:7000': [[np.float64(2.0), np.float64(-0.5), np.float64(-1.0), np.float64(-2.0), np.float64(2.0)], [np.float64(1.0), np.float64(0.5), np.float64(0.5), np.float64(-0.5), np.float64(0.5)]], 'learning_rate_actor:3e-05': [[np.float64(0.5), np.float64(0.5), np.float64(0.5), np.float64(-2.0), np.float64(4.0)], [np.float64(3.0), np.float64(-0.5), np.float64(1.0), np.float64(2.0), np.float64(4.0)]], 'learning_rate_actor:0.0003': [[np.float64(-0.5), np.float64(0.5), np.float64(1.0), np.float64(0.5), np.float64(-2.0)], [np.float64(1.0), np.float64(-1.0), np.float64(4.0), np.float64(-0.5), np.float64(-1.0)]], 'learning_rate_actor:0.001': [[np.float64(-2.0), np.float64(-2.0), np.float64(-2.0), np.float64(0.5), np.float64(1.0)], [np.float64(-0.5), np.float64(-0.5), np.float64(-0.5), np.float64(-0.5), np.float64(1.0)]], 'hidden_layer:[256, 256]': [[np.float64(1.0), np.float64(-2.0), np.float64(-1.0), np.float64(-0.5), np.float64(2.0)], [np.float64(-1.0), np.float64(0.5), np.float64(-1.0), np.float64(-0.5), np.float64(2.0)]], 'hidden_layer:[128, 128]': [[np.float64(-0.5), np.float64(-0.5), np.float64(-3.0), np.float64(0.5), np.float64(2.0)], [np.float64(1.0), np.float64(1.0), np.float64(-2.0), np.float64(-4.0), np.float64(4.0)]], 'learning_rate_critic:3e-05': [[np.float64(-3.0), np.float64(0.5), np.float64(1.0), np.float64(6.0), np.float64(4.0)], [np.float64(-2.0), np.float64(0.5), np.float64(1.0), np.float64(-1.0), np.float64(-0.5)]], 'learning_rate_critic:0.0003': [[np.float64(0.5), np.float64(0.5), np.float64(-1.0), np.float64(1.0), np.float64(0.5)], [np.float64(2.0), np.float64(-0.5), np.float64(1.0), np.float64(1.0), np.float64(2.0)]], 'learning_rate_critic:0.001': [[np.float64(4.0), np.float64(1.0), np.float64(2.0), np.float64(-0.5), np.float64(0.5)], [np.float64(-0.5), np.float64(1.0), np.float64(-2.0), np.float64(3.0), np.float64(2.0)]]}\n",
      "{'c:0.05': array([ 2.  , -0.5 , -2.5 ,  0.5 , -2.25]), 'c:0.15': array([-0.5 ,  3.  ,  0.  , -0.25, -0.5 ]), 'c:0.3': array([ 0.25, -1.5 , -0.75, -0.25,  0.5 ]), 'batch_size:64': array([ 0.  ,  1.25, -1.  , -0.5 ,  4.  ]), 'batch_size:128': array([ 0.5 ,  0.5 ,  3.  , -0.25, -0.75]), 'batch_size:256': array([-0.5, -4. , -1.5, -1. ,  3. ]), 'num_epochs:4': array([-1.5 ,  0.  , -2.5 ,  0.  ,  0.75]), 'num_epochs:6': array([-0.25, -0.75,  0.25,  4.5 , -1.  ]), 'num_epochs:8': array([ 1.75,  3.5 ,  0.25,  0.  , -4.  ]), 'update_frequency:1000': array([ 0.75,  0.75,  2.25, -0.25, -0.25]), 'update_frequency:4000': array([-0.75, -0.5 , -0.5 ,  2.  ,  0.25]), 'update_frequency:7000': array([ 1.5 ,  0.  , -0.25, -1.25,  1.25]), 'learning_rate_actor:3e-05': array([1.75, 0.  , 0.75, 0.  , 4.  ]), 'learning_rate_actor:0.0003': array([ 0.25, -0.25,  2.5 ,  0.  , -1.5 ]), 'learning_rate_actor:0.001': array([-1.25, -1.25, -1.25,  0.  ,  1.  ]), 'hidden_layer:[256, 256]': array([ 0.  , -0.75, -1.  , -0.5 ,  2.  ]), 'hidden_layer:[128, 128]': array([ 0.25,  0.25, -2.5 , -1.75,  3.  ]), 'learning_rate_critic:3e-05': array([-2.5 ,  0.5 ,  1.  ,  2.5 ,  1.75]), 'learning_rate_critic:0.0003': array([1.25, 0.  , 0.  , 1.  , 1.25]), 'learning_rate_critic:0.001': array([1.75, 1.  , 0.  , 1.25, 1.25])}\n",
      "{'c:0.05': [[np.float64(1.0), np.float64(0.5), np.float64(-1.0), np.float64(0.5), np.float64(3.0), np.float64(2.0), np.float64(1.0)], [np.float64(0.5), np.float64(1.0), np.float64(-1.0), np.float64(-2.0), np.float64(0.5), np.float64(1.0), np.float64(-1.0)]], 'c:0.15': [[np.float64(-1.0), np.float64(2.0), np.float64(1.0), np.float64(1.0), np.float64(1.0), np.float64(0.5), np.float64(1.0)], [np.float64(-2.0), np.float64(4.0), np.float64(1.0), np.float64(1.0), np.float64(-0.5), np.float64(-3.0), np.float64(-1.0)]], 'c:0.3': [[np.float64(-1.0), np.float64(-1.0), np.float64(-1.0), np.float64(3.0), np.float64(-4.0), np.float64(1.0), np.float64(-0.5)], [np.float64(-0.5), np.float64(-0.5), np.float64(-0.5), np.float64(-1.0), np.float64(-2.0), np.float64(6.0), np.float64(2.0)]], 'batch_size:64': [[np.float64(5.0), np.float64(0.5), np.float64(-1.0), np.float64(1.0), np.float64(1.0), np.float64(0.5), np.float64(-5.0)], [np.float64(1.0), np.float64(0.5), np.float64(-1.0), np.float64(1.0), np.float64(1.0), np.float64(2.0), np.float64(1.0)]], 'batch_size:128': [[np.float64(-1.0), np.float64(-2.0), np.float64(2.0), np.float64(0.5), np.float64(1.0), np.float64(-3.0), np.float64(-1.0)], [np.float64(-0.5), np.float64(-1.0), np.float64(0.5), np.float64(1.0), np.float64(-0.5), np.float64(-0.5), np.float64(-1.0)]], 'batch_size:256': [[np.float64(-0.5), np.float64(0.5), np.float64(5.0), np.float64(-1.0), np.float64(1.0), np.float64(-0.5), np.float64(3.0)], [np.float64(1.0), np.float64(-3.0), np.float64(-3.0), np.float64(-3.0), np.float64(2.0), np.float64(2.0), np.float64(-1.0)]], 'num_epochs:4': [[np.float64(-0.5), np.float64(-1.0), np.float64(1.0), np.float64(1.0), np.float64(-2.0), np.float64(1.0), np.float64(-2.0)], [np.float64(-1.0), np.float64(1.0), np.float64(4.0), np.float64(-0.5), np.float64(-2.0), np.float64(1.0), np.float64(-0.5)]], 'num_epochs:6': [[np.float64(-1.0), np.float64(-0.5), np.float64(-4.0), np.float64(0.5), np.float64(-0.5), np.float64(-1.0), np.float64(-1.0)], [np.float64(-0.5), np.float64(-3.0), np.float64(2.0), np.float64(1.0), np.float64(0.5), np.float64(-1.0), np.float64(1.0)]], 'num_epochs:8': [[np.float64(-2.0), np.float64(3.0), np.float64(0.5), np.float64(-4.0), np.float64(-1.0), np.float64(-1.0), np.float64(-1.0)], [np.float64(-0.5), np.float64(-1.0), np.float64(-0.5), np.float64(-0.5), np.float64(0.5), np.float64(0.5), np.float64(0.5)]], 'update_frequency:1000': [[np.float64(-3.0), np.float64(-3.0), np.float64(-0.5), np.float64(-3.0), np.float64(0.5), np.float64(2.0), np.float64(-2.0)], [np.float64(0.5), np.float64(-0.5), np.float64(0.5), np.float64(1.0), np.float64(-2.0), np.float64(-1.0), np.float64(-1.0)]], 'update_frequency:4000': [[np.float64(0.5), np.float64(-1.0), np.float64(2.0), np.float64(2.0), np.float64(-2.0), np.float64(-0.5), np.float64(2.0)], [np.float64(-1.0), np.float64(1.0), np.float64(-1.0), np.float64(-0.5), np.float64(0.5), np.float64(1.0), np.float64(-1.0)]], 'update_frequency:7000': [[np.float64(0.5), np.float64(1.0), np.float64(-4.0), np.float64(-0.5), np.float64(1.0), np.float64(-1.0), np.float64(-1.0)], [np.float64(-0.5), np.float64(-1.0), np.float64(-0.5), np.float64(-1.0), np.float64(1.0), np.float64(-1.0), np.float64(-3.0)]], 'learning_rate_actor:3e-05': [[np.float64(-1.0), np.float64(-0.5), np.float64(3.0), np.float64(-0.5), np.float64(3.0), np.float64(1.0), np.float64(1.0)], [np.float64(0.5), np.float64(-1.0), np.float64(1.0), np.float64(1.0), np.float64(3.0), np.float64(-4.0), np.float64(0.5)]], 'learning_rate_actor:0.0003': [[np.float64(-2.0), np.float64(-2.0), np.float64(0.5), np.float64(0.5), np.float64(2.0), np.float64(2.0), np.float64(0.5)], [np.float64(1.0), np.float64(-1.0), np.float64(-0.5), np.float64(0.5), np.float64(3.0), np.float64(-3.0), np.float64(1.0)]], 'learning_rate_actor:0.001': [[np.float64(1.0), np.float64(-3.0), np.float64(-3.0), np.float64(0.5), np.float64(5.0), np.float64(0.5), np.float64(2.0)], [np.float64(-1.0), np.float64(1.0), np.float64(1.0), np.float64(-2.0), np.float64(-0.5), np.float64(1.0), np.float64(0.5)]], 'hidden_layer:[256, 256]': [[np.float64(3.0), np.float64(1.0), np.float64(-0.5), np.float64(-1.0), np.float64(15.0), np.float64(1.0), np.float64(2.0)], [np.float64(1.0), np.float64(-2.0), np.float64(-0.5), np.float64(-3.0), np.float64(3.0), np.float64(-1.0), np.float64(0.5)]], 'hidden_layer:[128, 128]': [[np.float64(2.0), np.float64(-1.0), np.float64(-2.0), np.float64(2.0), np.float64(1.0), np.float64(-0.5), np.float64(-1.0)], [np.float64(1.0), np.float64(-3.0), np.float64(-2.0), np.float64(-1.0), np.float64(1.0), np.float64(-1.0), np.float64(5.0)]], 'learning_rate_critic:3e-05': [[np.float64(0.5), np.float64(1.0), np.float64(1.0), np.float64(-0.5), np.float64(-0.5), np.float64(-2.0), np.float64(-1.0)], [np.float64(1.0), np.float64(1.0), np.float64(-1.0), np.float64(-0.5), np.float64(0.5), np.float64(1.0), np.float64(-0.5)]], 'learning_rate_critic:0.0003': [[np.float64(0.5), np.float64(4.0), np.float64(-0.5), np.float64(-1.0), np.float64(-0.5), np.float64(-3.0), np.float64(-0.5)], [np.float64(1.0), np.float64(0.5), np.float64(0.5), np.float64(-1.0), np.float64(-3.0), np.float64(-0.5), np.float64(-2.0)]], 'learning_rate_critic:0.001': [[np.float64(2.0), np.float64(1.0), np.float64(-1.0), np.float64(-1.0), np.float64(0.5), np.float64(1.0), np.float64(-1.0)], [np.float64(-2.0), np.float64(1.0), np.float64(-1.0), np.float64(-1.0), np.float64(0.5), np.float64(-1.0), np.float64(5.0)]]}\n",
      "{'c:0.05': array([ 0.75,  0.75, -1.  , -0.75,  1.75,  1.5 ,  0.  ]), 'c:0.15': array([-1.5 ,  3.  ,  1.  ,  1.  ,  0.25, -1.25,  0.  ]), 'c:0.3': array([-0.75, -0.75, -0.75,  1.  , -3.  ,  3.5 ,  0.75]), 'batch_size:64': array([ 3.  ,  0.5 , -1.  ,  1.  ,  1.  ,  1.25, -2.  ]), 'batch_size:128': array([-0.75, -1.5 ,  1.25,  0.75,  0.25, -1.75, -1.  ]), 'batch_size:256': array([ 0.25, -1.25,  1.  , -2.  ,  1.5 ,  0.75,  1.  ]), 'num_epochs:4': array([-0.75,  0.  ,  2.5 ,  0.25, -2.  ,  1.  , -1.25]), 'num_epochs:6': array([-0.75, -1.75, -1.  ,  0.75,  0.  , -1.  ,  0.  ]), 'num_epochs:8': array([-1.25,  1.  ,  0.  , -2.25, -0.25, -0.25, -0.25]), 'update_frequency:1000': array([-1.25, -1.75,  0.  , -1.  , -0.75,  0.5 , -1.5 ]), 'update_frequency:4000': array([-0.25,  0.  ,  0.5 ,  0.75, -0.75,  0.25,  0.5 ]), 'update_frequency:7000': array([ 0.  ,  0.  , -2.25, -0.75,  1.  , -1.  , -2.  ]), 'learning_rate_actor:3e-05': array([-0.25, -0.75,  2.  ,  0.25,  3.  , -1.5 ,  0.75]), 'learning_rate_actor:0.0003': array([-0.5 , -1.5 ,  0.  ,  0.5 ,  2.5 , -0.5 ,  0.75]), 'learning_rate_actor:0.001': array([ 0.  , -1.  , -1.  , -0.75,  2.25,  0.75,  1.25]), 'hidden_layer:[256, 256]': array([ 2.  , -0.5 , -0.5 , -2.  ,  9.  ,  0.  ,  1.25]), 'hidden_layer:[128, 128]': array([ 1.5 , -2.  , -2.  ,  0.5 ,  1.  , -0.75,  2.  ]), 'learning_rate_critic:3e-05': array([ 0.75,  1.  ,  0.  , -0.5 ,  0.  , -0.5 , -0.75]), 'learning_rate_critic:0.0003': array([ 0.75,  2.25,  0.  , -1.  , -1.75, -1.75, -1.25]), 'learning_rate_critic:0.001': array([ 0. ,  1. , -1. , -1. ,  0.5,  0. ,  2. ])}\n"
     ]
    }
   ],
   "source": [
    "tests = [r\"C:\\Users\\achen\\Dropbox\\code\\LLM-RL-Pruning\\notebooks\\test_scores.pkl\",\n",
    "         r\"C:\\Users\\achen\\Dropbox\\code\\LLM-RL-Pruning\\notebooks\\test_scores1.pkl\",\n",
    "         r\"C:\\Users\\achen\\Dropbox\\code\\LLM-RL-Pruning\\notebooks\\test_scores3.pkl\",\n",
    "         r\"C:\\Users\\achen\\Dropbox\\code\\LLM-RL-Pruning\\notebooks\\test_scores4.pkl\",\n",
    "         ]\n",
    "trains = [r\"C:\\Users\\achen\\Dropbox\\code\\LLM-RL-Pruning\\notebooks\\train_scores.pkl\",\n",
    "          r\"C:\\Users\\achen\\Dropbox\\code\\LLM-RL-Pruning\\notebooks\\train_scores1.pkl\",\n",
    "          r\"C:\\Users\\achen\\Dropbox\\code\\LLM-RL-Pruning\\notebooks\\train_scores3.pkl\",\n",
    "          r\"C:\\Users\\achen\\Dropbox\\code\\LLM-RL-Pruning\\notebooks\\train_scores4.pkl\",\n",
    "          ]\n",
    "\n",
    "test_arr = []\n",
    "trains_arr = []\n",
    "\n",
    "test_final = {}\n",
    "trains_final = {}\n",
    "for i in tests:\n",
    "\twith open(i, \"rb\") as f:       # load\n",
    "\t\ttest_scores = pickle.load(f)\n",
    "\n",
    "\t\ttest_arr.append(test_scores)\n",
    "\n",
    "for test in test_arr:\n",
    "\tfor param in test:\n",
    "\t\tif param in test_final:\n",
    "\t\t\ttest_final[param].append(test[param])\n",
    "\t\telse:\n",
    "\t\t\ttest_final[param] = [test[param]]\n",
    "\n",
    "print(test_final)\n",
    "for key in test_final:\n",
    "    test_final[key] = np.vstack(test_final[key])\n",
    "    test_final[key] = np.mean(test_final[key], axis = 0)\n",
    "print(test_final)\n",
    "\n",
    "\n",
    "for i in trains:\n",
    "\twith open(i, \"rb\") as f:       # load\n",
    "\t\ttrain_scores = pickle.load(f)\n",
    "\t\ttrains_arr.append(train_scores)\n",
    "\n",
    "for train in trains_arr:\n",
    "\tfor param in train:\n",
    "\t\tif param in trains_final:\n",
    "\t\t\ttrains_final[param].append(train[param])\n",
    "\t\telse:\n",
    "\t\t\ttrains_final[param] = [train[param]]\n",
    "\n",
    "print(trains_final)\n",
    "for key in trains_final:\n",
    "    trains_final[key] = np.vstack(trains_final[key])\n",
    "    trains_final[key] = np.mean(trains_final[key], axis = 0)\n",
    "\n",
    "print(trains_final)\n"
   ]
  },
  {
   "cell_type": "code",
   "execution_count": 39,
   "metadata": {},
   "outputs": [
    {
     "data": {
      "image/png": "[encoded data removed]",
      "text/plain": [
       "<Figure size 640x480 with 1 Axes>"
      ]
     },
     "metadata": {},
     "output_type": "display_data"
    },
    {
     "data": {
      "image/png": "[encoded data removed]",
      "text/plain": [
       "<Figure size 640x480 with 1 Axes>"
      ]
     },
     "metadata": {},
     "output_type": "display_data"
    }
   ],
   "source": [
    "import matplotlib.pyplot as plt\n",
    "\n",
    "window = 10000\n",
    "rolling = np.convolve(train_scores,\n",
    "                      np.ones(window)/window, mode='valid')\n",
    "plt.plot(rolling)\n",
    "plt.axhline(0,color='k',ls='--')\n",
    "plt.ylabel('BB / hand ({}-hand MA)'.format(window))\n",
    "plt.xlabel('Hand number')\n",
    "plt.show()\n",
    "\n",
    "window = 500\n",
    "rolling = np.convolve(test_scores,\n",
    "                      np.ones(window)/window, mode='valid')\n",
    "plt.plot(rolling)\n",
    "plt.axhline(0,color='k',ls='--')\n",
    "plt.ylabel('BB / hand ({}-hand MA)'.format(window))\n",
    "plt.xlabel('Hand number')\n",
    "plt.show()\n",
    "\n",
    "\n",
    "# fig, (ax1, ax2)  = plt.subplots(1, 2)\n",
    "# ax1.set_title(\"Training Scores\")\n",
    "# ax1.set_xlabel(\"Episodes\")\n",
    "# ax1.set_ylabel(\"Score\")\n",
    "# ax1.plot(train_scores)\n",
    "# ax1.grid(True)\n",
    "\n",
    "# ax2.set_title(\"Testing Scores\")\n",
    "# ax2.set_xlabel(\"Episodes\")\n",
    "# ax2.set_ylabel(\"Score\")\n",
    "# ax2.plot(test_scores)\n",
    "# ax2.grid(True)\n",
    "\n",
    "# plt.tight_layout()\n",
    "\n",
    "# plt.show()\n"
   ]
  },
  {
   "cell_type": "code",
   "execution_count": null,
   "metadata": {},
   "outputs": [
    {
     "data": {
      "image/png": "[encoded data removed]",
      "text/plain": [
       "<Figure size 640x480 with 1 Axes>"
      ]
     },
     "metadata": {},
     "output_type": "display_data"
    },
    {
     "data": {
      "image/png": "[encoded data removed]",
      "text/plain": [
       "<Figure size 640x480 with 1 Axes>"
      ]
     },
     "metadata": {},
     "output_type": "display_data"
    }
   ],
   "source": []
  },
  {
   "cell_type": "code",
   "execution_count": null,
   "metadata": {},
   "outputs": [
    {
     "data": {
      "image/png": "[encoded data removed]",
      "text/plain": [
       "<Figure size 640x480 with 1 Axes>"
      ]
     },
     "metadata": {},
     "output_type": "display_data"
    },
    {
     "data": {
      "image/png": "[encoded data removed]",
      "text/plain": [
       "<Figure size 640x480 with 1 Axes>"
      ]
     },
     "metadata": {},
     "output_type": "display_data"
    }
   ],
   "source": [
    "\n"
   ]
  },
  {
   "cell_type": "markdown",
   "metadata": {},
   "source": [
    "## PPO Example: LunarLander"
   ]
  },
  {
   "cell_type": "code",
   "execution_count": null,
   "metadata": {},
   "outputs": [],
   "source": [
    "ppo_interaction = ppo.PPO_interaction(interaction_config=ppo_interaction_config,\n",
    "                      actor_configs = actor_configs,\n",
    "                      critic_configs = critic_configs\n",
    "                  )\n",
    "\n",
    "train_scores, trained_agents = ppo_interaction.train()"
   ]
  },
  {
   "cell_type": "code",
   "execution_count": null,
   "metadata": {},
   "outputs": [],
   "source": [
    "test_scores = ppo_interaction.test()"
   ]
  },
  {
   "cell_type": "code",
   "execution_count": null,
   "metadata": {},
   "outputs": [],
   "source": [
    "import matplotlib.pyplot as plt\n",
    "\n",
    "fig, (ax1, ax2)  = plt.subplots(1, 2)\n",
    "ax1.set_title(\"Training Scores\")\n",
    "ax1.set_xlabel(\"Episodes\")\n",
    "ax1.set_ylabel(\"Score\")\n",
    "ax1.plot(train_scores)\n",
    "ax1.grid(True)\n",
    "\n",
    "ax2.set_title(\"Testing Scores\")\n",
    "ax2.set_xlabel(\"Episodes\")\n",
    "ax2.set_ylabel(\"Score\")\n",
    "ax2.plot(test_scores)\n",
    "ax2.grid(True)\n",
    "\n",
    "plt.tight_layout()\n",
    "\n",
    "plt.show()\n",
    "\n"
   ]
  }
 ],
 "metadata": {
  "kernelspec": {
   "display_name": "LLM-RL-Pruning",
   "language": "python",
   "name": "python3"
  },
  "language_info": {
   "codemirror_mode": {
    "name": "ipython",
    "version": 3
   },
   "file_extension": ".py",
   "mimetype": "text/x-python",
   "name": "python",
   "nbconvert_exporter": "python",
   "pygments_lexer": "ipython3",
   "version": "3.10.16"
  }
 },
 "nbformat": 4,
 "nbformat_minor": 2
}
