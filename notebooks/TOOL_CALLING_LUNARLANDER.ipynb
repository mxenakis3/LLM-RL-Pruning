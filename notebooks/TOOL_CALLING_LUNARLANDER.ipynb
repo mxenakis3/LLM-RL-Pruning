{
 "cells": [
  {
   "cell_type": "code",
   "execution_count": 1,
   "id": "0f743da4",
   "metadata": {},
   "outputs": [],
   "source": [
    "# IMPORT DESIRED INTERACTION CLASS AND CONFIGURATION\n",
    "import sys\n",
    "import os\n",
    "#from dotenv import load_dotenv\n",
    "\n",
    "# Load in OpenAI API key\n",
    "#load_dotenv()\n",
    "#openai_key = os.getenv(\"OPENAI_API_KEY\")\n",
    "\n",
    "# Get the parent directory (where `configs/` and `interactions/` are located)\n",
    "parent_dir = os.path.abspath(os.path.join(os.getcwd(), \"..\"))\n",
    "\n",
    "# Add it to sys.path\n",
    "sys.path.append(parent_dir)\n",
    "\n",
    "\n",
    "# Now you should be able to import interactions folder\n",
    "from interactions import dqn_interaction as dqn\n"
   ]
  },
  {
   "cell_type": "code",
   "execution_count": 2,
   "id": "0a33ab8e",
   "metadata": {},
   "outputs": [
    {
     "ename": "ModuleNotFoundError",
     "evalue": "No module named 'configs.lunar_tool_calling_configs'",
     "output_type": "error",
     "traceback": [
      "\u001b[1;31m---------------------------------------------------------------------------\u001b[0m",
      "\u001b[1;31mModuleNotFoundError\u001b[0m                       Traceback (most recent call last)",
      "Cell \u001b[1;32mIn[2], line 10\u001b[0m\n\u001b[0;32m      8\u001b[0m \u001b[38;5;28;01mfor\u001b[39;00m x \u001b[38;5;129;01min\u001b[39;00m \u001b[38;5;28mrange\u001b[39m(\u001b[38;5;241m3\u001b[39m):\n\u001b[0;32m      9\u001b[0m   dqn_interaction \u001b[38;5;241m=\u001b[39m dqn\u001b[38;5;241m.\u001b[39mDQNInteraction(dqn_lunar_lander_default_configs_dict, lunar_tool_calling_configs\u001b[38;5;241m.\u001b[39magent_configs)\n\u001b[1;32m---> 10\u001b[0m   train_scores, trained_agent \u001b[38;5;241m=\u001b[39m \u001b[43mdqn_interaction\u001b[49m\u001b[38;5;241;43m.\u001b[39;49m\u001b[43mtrain\u001b[49m\u001b[43m(\u001b[49m\u001b[43m)\u001b[49m\n\u001b[0;32m     11\u001b[0m   nollm_training_trials\u001b[38;5;241m.\u001b[39mappend(train_scores)\n\u001b[0;32m     12\u001b[0m   nollm_trained_agents\u001b[38;5;241m.\u001b[39mappend(trained_agent)\n",
      "File \u001b[1;32mc:\\Users\\Matheo\\Desktop\\LLM-RL-Pruning\\interactions\\dqn_interaction.py:24\u001b[0m, in \u001b[0;36mDQNInteraction.train\u001b[1;34m(self)\u001b[0m\n\u001b[0;32m     22\u001b[0m \u001b[38;5;250m\u001b[39m\u001b[38;5;124;03m\"\"\"Dispatch training to the correct method based on the environment.\"\"\"\u001b[39;00m\n\u001b[0;32m     23\u001b[0m \u001b[38;5;28;01mif\u001b[39;00m \u001b[38;5;28mself\u001b[39m\u001b[38;5;241m.\u001b[39mconfig\u001b[38;5;241m.\u001b[39menv\u001b[38;5;241m.\u001b[39mlower() \u001b[38;5;241m==\u001b[39m \u001b[38;5;124m\"\u001b[39m\u001b[38;5;124mlunarlander-v3\u001b[39m\u001b[38;5;124m\"\u001b[39m:\n\u001b[1;32m---> 24\u001b[0m \t\u001b[38;5;28;01mreturn\u001b[39;00m \u001b[38;5;28;43mself\u001b[39;49m\u001b[38;5;241;43m.\u001b[39;49m\u001b[43mtrain_lunarlander\u001b[49m\u001b[43m(\u001b[49m\u001b[43m)\u001b[49m\n\u001b[0;32m     25\u001b[0m \u001b[38;5;28;01melse\u001b[39;00m:\n\u001b[0;32m     26\u001b[0m \t\u001b[38;5;28;01mreturn\u001b[39;00m \u001b[38;5;28mself\u001b[39m\u001b[38;5;241m.\u001b[39mtrain_pettingzoo()\n",
      "File \u001b[1;32mc:\\Users\\Matheo\\Desktop\\LLM-RL-Pruning\\interactions\\dqn_interaction.py:50\u001b[0m, in \u001b[0;36mDQNInteraction.train_lunarlander\u001b[1;34m(self)\u001b[0m\n\u001b[0;32m     48\u001b[0m agent \u001b[38;5;241m=\u001b[39m DeepQNetwork(config \u001b[38;5;241m=\u001b[39m \u001b[38;5;28mself\u001b[39m\u001b[38;5;241m.\u001b[39mconfig)\n\u001b[0;32m     49\u001b[0m \u001b[38;5;66;03m# llm_agent = llm_chain_of_thought_agent.Chain_of_Thought(config = self.llm_config)\u001b[39;00m\n\u001b[1;32m---> 50\u001b[0m llm_agent \u001b[38;5;241m=\u001b[39m \u001b[43mtool_calling_agent_ex\u001b[49m\u001b[38;5;241;43m.\u001b[39;49m\u001b[43mChain_of_Thought\u001b[49m\u001b[43m(\u001b[49m\u001b[43mconfig\u001b[49m\u001b[43m \u001b[49m\u001b[38;5;241;43m=\u001b[39;49m\u001b[43m \u001b[49m\u001b[38;5;28;43mself\u001b[39;49m\u001b[38;5;241;43m.\u001b[39;49m\u001b[43mllm_config\u001b[49m\u001b[43m)\u001b[49m\n\u001b[0;32m     52\u001b[0m \u001b[38;5;66;03m# INIT SCORE TUPLES\u001b[39;00m\n\u001b[0;32m     53\u001b[0m episode_scores \u001b[38;5;241m=\u001b[39m []\n",
      "File \u001b[1;32mc:\\Users\\Matheo\\Desktop\\LLM-RL-Pruning\\agents\\tool_calling_agent_ex.py:19\u001b[0m, in \u001b[0;36mChain_of_Thought.__init__\u001b[1;34m(self, config)\u001b[0m\n\u001b[0;32m     17\u001b[0m \u001b[38;5;28mself\u001b[39m\u001b[38;5;241m.\u001b[39msystem_message \u001b[38;5;241m=\u001b[39m config\u001b[38;5;241m.\u001b[39msystem_message\n\u001b[0;32m     18\u001b[0m \u001b[38;5;28mself\u001b[39m\u001b[38;5;241m.\u001b[39mtool_schemas \u001b[38;5;241m=\u001b[39m config\u001b[38;5;241m.\u001b[39mtool_schemas\n\u001b[1;32m---> 19\u001b[0m \u001b[38;5;28mself\u001b[39m\u001b[38;5;241m.\u001b[39mfunctions_module \u001b[38;5;241m=\u001b[39m \u001b[43mimportlib\u001b[49m\u001b[38;5;241;43m.\u001b[39;49m\u001b[43mimport_module\u001b[49m\u001b[43m(\u001b[49m\u001b[43mconfig\u001b[49m\u001b[38;5;241;43m.\u001b[39;49m\u001b[43mmodule_name\u001b[49m\u001b[43m)\u001b[49m\n\u001b[0;32m     20\u001b[0m \u001b[38;5;66;03m# Initialize messages for chat\u001b[39;00m\n\u001b[0;32m     21\u001b[0m \u001b[38;5;28mself\u001b[39m\u001b[38;5;241m.\u001b[39mcot_prompts \u001b[38;5;241m=\u001b[39m config\u001b[38;5;241m.\u001b[39mcot_prompts\n",
      "File \u001b[1;32m~\\anaconda3\\Lib\\importlib\\__init__.py:126\u001b[0m, in \u001b[0;36mimport_module\u001b[1;34m(name, package)\u001b[0m\n\u001b[0;32m    124\u001b[0m             \u001b[38;5;28;01mbreak\u001b[39;00m\n\u001b[0;32m    125\u001b[0m         level \u001b[38;5;241m+\u001b[39m\u001b[38;5;241m=\u001b[39m \u001b[38;5;241m1\u001b[39m\n\u001b[1;32m--> 126\u001b[0m \u001b[38;5;28;01mreturn\u001b[39;00m \u001b[43m_bootstrap\u001b[49m\u001b[38;5;241;43m.\u001b[39;49m\u001b[43m_gcd_import\u001b[49m\u001b[43m(\u001b[49m\u001b[43mname\u001b[49m\u001b[43m[\u001b[49m\u001b[43mlevel\u001b[49m\u001b[43m:\u001b[49m\u001b[43m]\u001b[49m\u001b[43m,\u001b[49m\u001b[43m \u001b[49m\u001b[43mpackage\u001b[49m\u001b[43m,\u001b[49m\u001b[43m \u001b[49m\u001b[43mlevel\u001b[49m\u001b[43m)\u001b[49m\n",
      "File \u001b[1;32m<frozen importlib._bootstrap>:1204\u001b[0m, in \u001b[0;36m_gcd_import\u001b[1;34m(name, package, level)\u001b[0m\n",
      "File \u001b[1;32m<frozen importlib._bootstrap>:1176\u001b[0m, in \u001b[0;36m_find_and_load\u001b[1;34m(name, import_)\u001b[0m\n",
      "File \u001b[1;32m<frozen importlib._bootstrap>:1140\u001b[0m, in \u001b[0;36m_find_and_load_unlocked\u001b[1;34m(name, import_)\u001b[0m\n",
      "\u001b[1;31mModuleNotFoundError\u001b[0m: No module named 'configs.lunar_tool_calling_configs'"
     ]
    }
   ],
   "source": [
    "# Import Interaction Configs\n",
    "from configs.interaction_configs.i_dqn_LL_default import dqn_lunar_lander_default_configs_dict\n",
    "from configs.agent_configs import lunar_tool_calling_configs\n",
    "\n",
    "nollm_training_trials = []\n",
    "nollm_trained_agents = []\n",
    "\n",
    "for x in range(3):\n",
    "  dqn_interaction = dqn.DQNInteraction(dqn_lunar_lander_default_configs_dict, lunar_tool_calling_configs.agent_configs)\n",
    "  train_scores, trained_agent = dqn_interaction.train()\n",
    "  nollm_training_trials.append(train_scores)\n",
    "  nollm_trained_agents.append(trained_agent)"
   ]
  }
 ],
 "metadata": {
  "kernelspec": {
   "display_name": "venv",
   "language": "python",
   "name": "python3"
  },
  "language_info": {
   "codemirror_mode": {
    "name": "ipython",
    "version": 3
   },
   "file_extension": ".py",
   "mimetype": "text/x-python",
   "name": "python",
   "nbconvert_exporter": "python",
   "pygments_lexer": "ipython3",
   "version": "3.11.5"
  }
 },
 "nbformat": 4,
 "nbformat_minor": 5
}
