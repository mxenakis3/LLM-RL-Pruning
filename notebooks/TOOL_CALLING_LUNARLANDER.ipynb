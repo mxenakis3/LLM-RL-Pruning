{
 "cells": [
  {
   "cell_type": "code",
   "execution_count": 1,
   "id": "0f743da4",
   "metadata": {},
   "outputs": [
    {
     "name": "stderr",
     "output_type": "stream",
     "text": [
      "/home/hice1/slin468/.local/lib/python3.10/site-packages/tqdm/auto.py:21: TqdmWarning: IProgress not found. Please update jupyter and ipywidgets. See https://ipywidgets.readthedocs.io/en/stable/user_install.html\n",
      "  from .autonotebook import tqdm as notebook_tqdm\n",
      "2025-04-23 15:47:00,122\tINFO util.py:154 -- Missing packages: ['ipywidgets']. Run `pip install -U ipywidgets`, then restart the notebook server for rich notebook output.\n"
     ]
    }
   ],
   "source": [
    "# IMPORT DESIRED INTERACTION CLASS AND CONFIGURATION\n",
    "import sys\n",
    "import os\n",
    "#from dotenv import load_dotenv\n",
    "\n",
    "# Load in OpenAI API key\n",
    "#load_dotenv()\n",
    "#openai_key = os.getenv(\"OPENAI_API_KEY\")\n",
    "\n",
    "# Get the parent directory (where `configs/` and `interactions/` are located)\n",
    "parent_dir = os.path.abspath(os.path.join(os.getcwd(), \"..\"))\n",
    "\n",
    "# Add it to sys.path\n",
    "sys.path.append(parent_dir)\n",
    "\n",
    "\n",
    "# Now you should be able to import interactions folder\n",
    "from interactions import dqn_interaction as dqn\n",
    "\n"
   ]
  },
  {
   "cell_type": "code",
   "execution_count": 2,
   "id": "0a33ab8e",
   "metadata": {},
   "outputs": [
    {
     "name": "stdout",
     "output_type": "stream",
     "text": [
      "INFO 04-23 15:47:06 __init__.py:207] Automatically detected platform cuda.\n",
      "INFO 04-23 15:47:06 api_server.py:912] vLLM API server version 0.7.3\n",
      "INFO 04-23 15:47:06 api_server.py:913] args: Namespace(host='0.0.0.0', port=8000, uvicorn_log_level='info', allow_credentials=False, allowed_origins=['*'], allowed_methods=['*'], allowed_headers=['*'], api_key='local-key', lora_modules=None, prompt_adapters=None, chat_template=None, chat_template_content_format='auto', response_role='assistant', ssl_keyfile=None, ssl_certfile=None, ssl_ca_certs=None, ssl_cert_reqs=0, root_path=None, middleware=[], return_tokens_as_token_ids=False, disable_frontend_multiprocessing=False, enable_request_id_headers=False, enable_auto_tool_choice=True, enable_reasoning=False, reasoning_parser=None, tool_call_parser='llama3_json', tool_parser_plugin='', model='deepseek-ai/deepseek-llm-7b-chat', task='auto', tokenizer=None, skip_tokenizer_init=False, revision=None, code_revision=None, tokenizer_revision=None, tokenizer_mode='auto', trust_remote_code=False, allowed_local_media_path=None, download_dir=None, load_format='auto', config_format=<ConfigFormat.AUTO: 'auto'>, dtype='auto', kv_cache_dtype='auto', max_model_len=None, guided_decoding_backend='xgrammar', logits_processor_pattern=None, model_impl='auto', distributed_executor_backend=None, pipeline_parallel_size=1, tensor_parallel_size=1, max_parallel_loading_workers=None, ray_workers_use_nsight=False, block_size=None, enable_prefix_caching=None, disable_sliding_window=False, use_v2_block_manager=True, num_lookahead_slots=0, seed=0, swap_space=4, cpu_offload_gb=0, gpu_memory_utilization=0.9, num_gpu_blocks_override=None, max_num_batched_tokens=None, max_num_partial_prefills=1, max_long_partial_prefills=1, long_prefill_token_threshold=0, max_num_seqs=None, max_logprobs=20, disable_log_stats=False, quantization=None, rope_scaling=None, rope_theta=None, hf_overrides=None, enforce_eager=False, max_seq_len_to_capture=8192, disable_custom_all_reduce=False, tokenizer_pool_size=0, tokenizer_pool_type='ray', tokenizer_pool_extra_config=None, limit_mm_per_prompt=None, mm_processor_kwargs=None, disable_mm_preprocessor_cache=False, enable_lora=False, enable_lora_bias=False, max_loras=1, max_lora_rank=16, lora_extra_vocab_size=256, lora_dtype='auto', long_lora_scaling_factors=None, max_cpu_loras=None, fully_sharded_loras=False, enable_prompt_adapter=False, max_prompt_adapters=1, max_prompt_adapter_token=0, device='auto', num_scheduler_steps=1, multi_step_stream_outputs=True, scheduler_delay_factor=0.0, enable_chunked_prefill=None, speculative_model=None, speculative_model_quantization=None, num_speculative_tokens=None, speculative_disable_mqa_scorer=False, speculative_draft_tensor_parallel_size=None, speculative_max_model_len=None, speculative_disable_by_batch_size=None, ngram_prompt_lookup_max=None, ngram_prompt_lookup_min=None, spec_decoding_acceptance_method='rejection_sampler', typical_acceptance_sampler_posterior_threshold=None, typical_acceptance_sampler_posterior_alpha=None, disable_logprobs_during_spec_decoding=None, model_loader_extra_config=None, ignore_patterns=[], preemption_mode=None, served_model_name=None, qlora_adapter_name_or_path=None, otlp_traces_endpoint=None, collect_detailed_traces=None, disable_async_output_proc=False, scheduling_policy='fcfs', scheduler_cls='vllm.core.scheduler.Scheduler', override_neuron_config=None, override_pooler_config=None, compilation_config=None, kv_transfer_config=None, worker_cls='auto', generation_config=None, override_generation_config=None, enable_sleep_mode=False, calculate_kv_scales=False, additional_config=None, disable_log_requests=False, max_log_len=None, disable_fastapi_docs=False, enable_prompt_tokens_details=False)\n",
      "INFO 04-23 15:47:06 api_server.py:209] Started engine process with PID 2251379\n",
      "INFO 04-23 15:47:11 __init__.py:207] Automatically detected platform cuda.\n",
      "INFO 04-23 15:47:13 config.py:549] This model supports multiple tasks: {'embed', 'reward', 'score', 'generate', 'classify'}. Defaulting to 'generate'.\n",
      "INFO 04-23 15:47:19 config.py:549] This model supports multiple tasks: {'classify', 'reward', 'score', 'generate', 'embed'}. Defaulting to 'generate'.\n",
      "INFO 04-23 15:47:19 llm_engine.py:234] Initializing a V0 LLM engine (v0.7.3) with config: model='deepseek-ai/deepseek-llm-7b-chat', speculative_config=None, tokenizer='deepseek-ai/deepseek-llm-7b-chat', skip_tokenizer_init=False, tokenizer_mode=auto, revision=None, override_neuron_config=None, tokenizer_revision=None, trust_remote_code=False, dtype=torch.bfloat16, max_seq_len=4096, download_dir=None, load_format=auto, tensor_parallel_size=1, pipeline_parallel_size=1, disable_custom_all_reduce=False, quantization=None, enforce_eager=False, kv_cache_dtype=auto,  device_config=cuda, decoding_config=DecodingConfig(guided_decoding_backend='xgrammar'), observability_config=ObservabilityConfig(otlp_traces_endpoint=None, collect_model_forward_time=False, collect_model_execute_time=False), seed=0, served_model_name=deepseek-ai/deepseek-llm-7b-chat, num_scheduler_steps=1, multi_step_stream_outputs=True, enable_prefix_caching=False, chunked_prefill_enabled=False, use_async_output_proc=True, disable_mm_preprocessor_cache=False, mm_processor_kwargs=None, pooler_config=None, compilation_config={\"splitting_ops\":[],\"compile_sizes\":[],\"cudagraph_capture_sizes\":[256,248,240,232,224,216,208,200,192,184,176,168,160,152,144,136,128,120,112,104,96,88,80,72,64,56,48,40,32,24,16,8,4,2,1],\"max_capture_size\":256}, use_cached_outputs=True, \n",
      "INFO 04-23 15:47:21 cuda.py:229] Using Flash Attention backend.\n",
      "INFO 04-23 15:47:22 model_runner.py:1110] Starting to load model deepseek-ai/deepseek-llm-7b-chat...\n",
      "INFO 04-23 15:47:22 weight_utils.py:254] Using model weights format ['*.bin']\n"
     ]
    },
    {
     "name": "stderr",
     "output_type": "stream",
     "text": [
      "Loading pt checkpoint shards:   0% Completed | 0/2 [00:00<?, ?it/s]\n",
      "Loading pt checkpoint shards:  50% Completed | 1/2 [00:01<00:01,  1.34s/it]\n",
      "Loading pt checkpoint shards: 100% Completed | 2/2 [00:04<00:00,  2.60s/it]\n",
      "Loading pt checkpoint shards: 100% Completed | 2/2 [00:04<00:00,  2.41s/it]\n",
      "\n"
     ]
    },
    {
     "name": "stdout",
     "output_type": "stream",
     "text": [
      "INFO 04-23 15:47:27 model_runner.py:1115] Loading model weights took 12.8726 GB\n",
      "INFO 04-23 15:47:28 worker.py:267] Memory profiling takes 0.46 seconds\n",
      "INFO 04-23 15:47:28 worker.py:267] the current vLLM instance can use total_gpu_memory (79.22GiB) x gpu_memory_utilization (0.90) = 71.29GiB\n",
      "INFO 04-23 15:47:28 worker.py:267] model weights take 12.87GiB; non_torch_memory takes 0.16GiB; PyTorch activation peak memory takes 0.99GiB; the rest of the memory reserved for KV Cache is 57.27GiB.\n",
      "INFO 04-23 15:47:28 executor_base.py:111] # cuda blocks: 7819, # CPU blocks: 546\n",
      "INFO 04-23 15:47:28 executor_base.py:116] Maximum concurrency for 4096 tokens per request: 30.54x\n",
      "INFO 04-23 15:47:30 model_runner.py:1434] Capturing cudagraphs for decoding. This may lead to unexpected consequences if the model is not static. To run the model in eager mode, set 'enforce_eager=True' or use '--enforce-eager' in the CLI. If out-of-memory error occurs during cudagraph capture, consider decreasing `gpu_memory_utilization` or switching to eager mode. You can also reduce the `max_num_seqs` as needed to decrease memory usage.\n"
     ]
    },
    {
     "name": "stderr",
     "output_type": "stream",
     "text": [
      "Capturing CUDA graph shapes: 100%|██████████| 35/35 [00:11<00:00,  3.05it/s]\n"
     ]
    },
    {
     "name": "stdout",
     "output_type": "stream",
     "text": [
      "INFO 04-23 15:47:42 model_runner.py:1562] Graph capturing finished in 11 secs, took 0.30 GiB\n",
      "INFO 04-23 15:47:42 llm_engine.py:436] init engine (profile, create kv cache, warmup model) took 14.71 seconds\n",
      "INFO 04-23 15:47:42 serving_chat.py:76] \"auto\" tool choice has been enabled please note that while the parallel_tool_calls client option is preset for compatibility reasons, it will be ignored.\n",
      "INFO 04-23 15:47:42 api_server.py:958] Starting vLLM API server on http://0.0.0.0:8000\n",
      "INFO 04-23 15:47:42 launcher.py:23] Available routes are:\n",
      "INFO 04-23 15:47:42 launcher.py:31] Route: /openapi.json, Methods: GET, HEAD\n",
      "INFO 04-23 15:47:42 launcher.py:31] Route: /docs, Methods: GET, HEAD\n",
      "INFO 04-23 15:47:42 launcher.py:31] Route: /docs/oauth2-redirect, Methods: GET, HEAD\n",
      "INFO 04-23 15:47:42 launcher.py:31] Route: /redoc, Methods: GET, HEAD\n",
      "INFO 04-23 15:47:42 launcher.py:31] Route: /health, Methods: GET\n",
      "INFO 04-23 15:47:42 launcher.py:31] Route: /ping, Methods: GET, POST\n",
      "INFO 04-23 15:47:42 launcher.py:31] Route: /tokenize, Methods: POST\n",
      "INFO 04-23 15:47:42 launcher.py:31] Route: /detokenize, Methods: POST\n",
      "INFO 04-23 15:47:42 launcher.py:31] Route: /v1/models, Methods: GET\n",
      "INFO 04-23 15:47:42 launcher.py:31] Route: /version, Methods: GET\n",
      "INFO 04-23 15:47:42 launcher.py:31] Route: /v1/chat/completions, Methods: POST\n",
      "INFO 04-23 15:47:42 launcher.py:31] Route: /v1/completions, Methods: POST\n",
      "INFO 04-23 15:47:42 launcher.py:31] Route: /v1/embeddings, Methods: POST\n",
      "INFO 04-23 15:47:42 launcher.py:31] Route: /pooling, Methods: POST\n",
      "INFO 04-23 15:47:42 launcher.py:31] Route: /score, Methods: POST\n",
      "INFO 04-23 15:47:42 launcher.py:31] Route: /v1/score, Methods: POST\n",
      "INFO 04-23 15:47:42 launcher.py:31] Route: /v1/audio/transcriptions, Methods: POST\n",
      "INFO 04-23 15:47:42 launcher.py:31] Route: /rerank, Methods: POST\n",
      "INFO 04-23 15:47:42 launcher.py:31] Route: /v1/rerank, Methods: POST\n",
      "INFO 04-23 15:47:42 launcher.py:31] Route: /v2/rerank, Methods: POST\n",
      "INFO 04-23 15:47:42 launcher.py:31] Route: /invocations, Methods: POST\n"
     ]
    },
    {
     "name": "stderr",
     "output_type": "stream",
     "text": [
      "INFO:     Started server process [2251298]\n",
      "INFO:     Waiting for application startup.\n",
      "INFO:     Application startup complete.\n"
     ]
    },
    {
     "name": "stdout",
     "output_type": "stream",
     "text": [
      "INFO:     127.0.0.1:33806 - \"GET /health HTTP/1.1\" 200 OK\n"
     ]
    },
    {
     "name": "stderr",
     "output_type": "stream",
     "text": [
      "100%|██████████| 50/50 [00:39<00:00,  1.27it/s]\n",
      "100%|██████████| 50/50 [00:33<00:00,  1.51it/s]\n",
      "100%|██████████| 50/50 [00:33<00:00,  1.50it/s]\n"
     ]
    }
   ],
   "source": [
    "# Import Interaction Configs\n",
    "from configs.interaction_configs.i_dqn_LL_default import dqn_lunar_lander_default_configs_dict\n",
    "from configs.agent_configs import lunar_tool_calling_configs\n",
    "\n",
    "nollm_training_trials = []\n",
    "nollm_trained_agents = []\n",
    "\n",
    "for x in range(3):\n",
    "  dqn_interaction = dqn.DQNInteraction(dqn_lunar_lander_default_configs_dict, lunar_tool_calling_configs.agent_configs)\n",
    "  train_scores, trained_agent = dqn_interaction.train()\n",
    "  nollm_training_trials.append(train_scores)\n",
    "  nollm_trained_agents.append(trained_agent)"
   ]
  }
 ],
 "metadata": {
  "kernelspec": {
   "display_name": "venv",
   "language": "python",
   "name": "python3"
  },
  "language_info": {
   "codemirror_mode": {
    "name": "ipython",
    "version": 3
   },
   "file_extension": ".py",
   "mimetype": "text/x-python",
   "name": "python",
   "nbconvert_exporter": "python",
   "pygments_lexer": "ipython3",
   "version": "3.10.9"
  }
 },
 "nbformat": 4,
 "nbformat_minor": 5
}
