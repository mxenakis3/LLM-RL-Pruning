{
 "cells": [
  {
   "cell_type": "code",
   "execution_count": 1,
   "id": "0f743da4",
   "metadata": {},
   "outputs": [],
   "source": [
    "# IMPORT DESIRED INTERACTION CLASS AND CONFIGURATION\n",
    "import sys\n",
    "import os\n",
    "#from dotenv import load_dotenv\n",
    "\n",
    "# Load in OpenAI API key\n",
    "#load_dotenv()\n",
    "#openai_key = os.getenv(\"OPENAI_API_KEY\")\n",
    "\n",
    "# Get the parent directory (where `configs/` and `interactions/` are located)\n",
    "parent_dir = os.path.abspath(os.path.join(os.getcwd(), \"..\"))\n",
    "\n",
    "# Add it to sys.path\n",
    "sys.path.append(parent_dir)\n",
    "\n",
    "\n",
    "# Now you should be able to import interactions folder\n",
    "from interactions import dqn_interaction as dqn\n",
    "\n"
   ]
  },
  {
   "cell_type": "code",
   "execution_count": 3,
   "id": "0a33ab8e",
   "metadata": {},
   "outputs": [
    {
     "ename": "ModuleNotFoundError",
     "evalue": "No module named 'configs.interaction_configs.i_dqn_LL_default'",
     "output_type": "error",
     "traceback": [
      "\u001b[0;31m---------------------------------------------------------------------------\u001b[0m",
      "\u001b[0;31mModuleNotFoundError\u001b[0m                       Traceback (most recent call last)",
      "Cell \u001b[0;32mIn[3], line 2\u001b[0m\n\u001b[1;32m      1\u001b[0m \u001b[39m# Import Interaction Configs\u001b[39;00m\n\u001b[0;32m----> 2\u001b[0m \u001b[39mfrom\u001b[39;00m\u001b[39m \u001b[39m\u001b[39mconfigs\u001b[39;00m\u001b[39m.\u001b[39;00m\u001b[39minteraction_configs\u001b[39;00m\u001b[39m.\u001b[39;00m\u001b[39mi_dqn_LL_default\u001b[39;00m\u001b[39m \u001b[39m\u001b[39mimport\u001b[39;00m dqn_lunar_lander_default_configs_dict\n\u001b[1;32m      3\u001b[0m \u001b[39mfrom\u001b[39;00m\u001b[39m \u001b[39m\u001b[39mconfigs\u001b[39;00m\u001b[39m.\u001b[39;00m\u001b[39magent_configs\u001b[39;00m\u001b[39m \u001b[39m\u001b[39mimport\u001b[39;00m lunar_tool_calling_configs\n\u001b[1;32m      5\u001b[0m nollm_training_trials \u001b[39m=\u001b[39m []\n",
      "\u001b[0;31mModuleNotFoundError\u001b[0m: No module named 'configs.interaction_configs.i_dqn_LL_default'"
     ]
    }
   ],
   "source": [
    "# Import Interaction Configs\n",
    "from configs.interaction_configs.i_dqn_LL_default import dqn_lunar_lander_default_configs_dict\n",
    "from configs.agent_configs import lunar_tool_calling_configs\n",
    "\n",
    "nollm_training_trials = []\n",
    "nollm_trained_agents = []\n",
    "\n",
    "for x in range(3):\n",
    "  dqn_interaction = dqn.DQNInteraction(dqn_lunar_lander_default_configs_dict, lunar_tool_calling_configs.agent_configs)\n",
    "  \n",
    "  train_scores, trained_agent = dqn_interaction.train()\n",
    "  nollm_training_trials.append(train_scores)\n",
    "  nollm_trained_agents.append(trained_agent)"
   ]
  }
 ],
 "metadata": {
  "kernelspec": {
   "display_name": "venv",
   "language": "python",
   "name": "python3"
  },
  "language_info": {
   "codemirror_mode": {
    "name": "ipython",
    "version": 3
   },
   "file_extension": ".py",
   "mimetype": "text/x-python",
   "name": "python",
   "nbconvert_exporter": "python",
   "pygments_lexer": "ipython3",
   "version": "3.10.9"
  }
 },
 "nbformat": 4,
 "nbformat_minor": 5
}
