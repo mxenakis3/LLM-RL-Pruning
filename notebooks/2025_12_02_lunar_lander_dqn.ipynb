{
 "cells": [
  {
   "cell_type": "markdown",
   "metadata": {},
   "source": [
    "# Example Notebook\n",
    "This shows how to use the classes."
   ]
  },
  {
   "cell_type": "markdown",
   "metadata": {},
   "source": [
    "## Load Interaction and Configs\n",
    "The interaction class allows the environment object and the agent object to interface with one another\n",
    "The interaction class is parameterized by a configuration file. This is where you define parameters for:\n",
    "\n",
    "AGENT: # hidden layers, # nodes per layer, size of memory, etc. \n",
    "\n",
    "INTERACTION: how many training episodes, type of epsilon decay, number of testing episodes, etc. "
   ]
  },
  {
   "cell_type": "code",
   "execution_count": null,
   "metadata": {},
   "outputs": [
    {
     "name": "stdout",
     "output_type": "stream",
     "text": [
      "Test\n"
     ]
    }
   ],
   "source": [
    "# IMPORT DESIRED INTERACTION CLASS AND CONFIGURATION\n",
    "import sys\n",
    "import os\n",
    "\n",
    "# Get the parent directory (where `configs/` and `interactions/` are located)\n",
    "parent_dir = os.path.abspath(os.path.join(os.getcwd(), \"..\"))\n",
    "\n",
    "# Add it to sys.path\n",
    "sys.path.append(parent_dir)\n",
    "\n",
    "# Now you should be able to import\n",
    "from interactions import dqn_interaction as dqn\n",
    "from configs.dqn_LL_default import dqn_lunar_lander_default_configs_dict #THIS IS A CONFIG FILE FOR A DQN INTERACTION\n"
   ]
  },
  {
   "cell_type": "code",
   "execution_count": 2,
   "metadata": {},
   "outputs": [],
   "source": [
    "# OPTIONAL: MODIFY CONFIG PARAMETERS\n",
    "dqn_lunar_lander_default_configs_dict.gamma = 0.99"
   ]
  },
  {
   "cell_type": "code",
   "execution_count": null,
   "metadata": {},
   "outputs": [
    {
     "name": "stderr",
     "output_type": "stream",
     "text": [
      "  1%|          | 11/2000 [00:00<00:19, 103.65it/s]"
     ]
    },
    {
     "name": "stdout",
     "output_type": "stream",
     "text": [
      "step: 64 \n",
      " updating target net\n",
      "step: 128 \n",
      " updating target net\n",
      "step: 192 \n",
      " updating target net\n",
      "step: 256 \n",
      " updating target net\n",
      "step: 320 \n",
      " updating target net\n",
      "step: 384 \n",
      " updating target net\n",
      "step: 448 \n",
      " updating target net\n",
      "step: 512 \n",
      " updating target net\n",
      "step: 576 \n",
      " updating target net\n",
      "step: 640 \n",
      " updating target net\n",
      "step: 704 \n",
      " updating target net\n",
      "step: 768 \n",
      " updating target net\n",
      "step: 832 \n",
      " updating target net\n",
      "step: 896 \n",
      " updating target net\n",
      "step: 960 \n",
      " updating target net\n",
      "step: 1024 \n",
      " updating target net\n",
      "step: 1088 \n",
      " updating target net\n",
      "step: 1152 \n",
      " updating target net\n",
      "step: 1216 \n",
      " updating target net\n",
      "step: 1280 \n",
      " updating target net\n",
      "step: 1344 \n",
      " updating target net\n",
      "step: 1408 \n",
      " updating target net\n",
      "step: 1472 \n",
      " updating target net\n",
      "step: 1536 \n",
      " updating target net\n",
      "step: 1600 \n",
      " updating target net\n",
      "step: 1664 \n",
      " updating target net\n",
      "step: 1728 \n",
      " updating target net\n"
     ]
    },
    {
     "name": "stderr",
     "output_type": "stream",
     "text": [
      "  2%|▏         | 31/2000 [00:00<00:23, 83.57it/s] "
     ]
    },
    {
     "name": "stdout",
     "output_type": "stream",
     "text": [
      "step: 1792 \n",
      " updating target net\n",
      "step: 1856 \n",
      " updating target net\n",
      "step: 1920 \n",
      " updating target net\n",
      "step: 1984 \n",
      " updating target net\n",
      "step: 2048 \n",
      " updating target net\n",
      "step: 2112 \n",
      " updating target net\n",
      "step: 2176 \n",
      " updating target net\n",
      "step: 2240 \n",
      " updating target net\n",
      "step: 2304 \n",
      " updating target net\n",
      "step: 2368 \n",
      " updating target net\n",
      "step: 2432 \n",
      " updating target net\n",
      "step: 2496 \n",
      " updating target net\n",
      "step: 2560 \n",
      " updating target net\n",
      "step: 2624 \n",
      " updating target net\n",
      "step: 2688 \n",
      " updating target net\n",
      "step: 2752 \n",
      " updating target net\n",
      "step: 2816 \n",
      " updating target net\n",
      "step: 2880 \n",
      " updating target net\n",
      "step: 2944 \n",
      " updating target net\n",
      "step: 3008 \n",
      " updating target net\n",
      "step: 3072 \n",
      " updating target net\n",
      "step: 3136 \n",
      " updating target net\n",
      "step: 3200 \n",
      " updating target net\n"
     ]
    },
    {
     "name": "stderr",
     "output_type": "stream",
     "text": [
      "  2%|▏         | 40/2000 [00:00<00:29, 66.10it/s]"
     ]
    },
    {
     "name": "stdout",
     "output_type": "stream",
     "text": [
      "step: 3264 \n",
      " updating target net\n",
      "step: 3328 \n",
      " updating target net\n",
      "step: 3392 \n",
      " updating target net\n",
      "step: 3456 \n",
      " updating target net\n",
      "step: 3520 \n",
      " updating target net\n",
      "step: 3584 \n",
      " updating target net\n",
      "step: 3648 \n",
      " updating target net\n",
      "step: 3712 \n",
      " updating target net\n",
      "step: 3776 \n",
      " updating target net\n",
      "step: 3840 \n",
      " updating target net\n",
      "step: 3904 \n",
      " updating target net\n",
      "step: 3968 \n",
      " updating target net\n",
      "step: 4032 \n",
      " updating target net\n",
      "step: 4096 \n",
      " updating target net\n",
      "step: 4160 \n",
      " updating target net\n",
      "step: 4224 \n",
      " updating target net\n",
      "step: 4288 \n",
      " updating target net\n",
      "step: 4352 \n",
      " updating target net\n",
      "step: 4416 \n",
      " updating target net\n",
      "step: 4480 \n",
      " updating target net\n"
     ]
    },
    {
     "name": "stderr",
     "output_type": "stream",
     "text": [
      "  2%|▏         | 48/2000 [00:00<00:33, 59.12it/s]"
     ]
    },
    {
     "name": "stdout",
     "output_type": "stream",
     "text": [
      "step: 4544 \n",
      " updating target net\n",
      "step: 4608 \n",
      " updating target net\n",
      "step: 4672 \n",
      " updating target net\n",
      "step: 4736 \n",
      " updating target net\n",
      "step: 4800 \n",
      " updating target net\n",
      "step: 4864 \n",
      " updating target net\n",
      "step: 4928 \n",
      " updating target net\n",
      "step: 4992 \n",
      " updating target net\n",
      "step: 5056 \n",
      " updating target net\n",
      "step: 5120 \n",
      " updating target net\n",
      "step: 5184 \n",
      " updating target net\n",
      "step: 5248 \n",
      " updating target net\n",
      "step: 5312 \n",
      " updating target net\n",
      "step: 5376 \n",
      " updating target net\n",
      "step: 5440 \n",
      " updating target net\n",
      "step: 5504 \n",
      " updating target net\n",
      "step: 5568 \n",
      " updating target net\n",
      "step: 5632 \n",
      " updating target net\n",
      "step: 5696 \n",
      " updating target net\n"
     ]
    },
    {
     "name": "stderr",
     "output_type": "stream",
     "text": [
      "  3%|▎         | 62/2000 [00:01<00:37, 51.92it/s]"
     ]
    },
    {
     "name": "stdout",
     "output_type": "stream",
     "text": [
      "step: 5760 \n",
      " updating target net\n",
      "step: 5824 \n",
      " updating target net\n",
      "step: 5888 \n",
      " updating target net\n",
      "step: 5952 \n",
      " updating target net\n",
      "step: 6016 \n",
      " updating target net\n",
      "step: 6080 \n",
      " updating target net\n",
      "step: 6144 \n",
      " updating target net\n",
      "step: 6208 \n",
      " updating target net\n",
      "step: 6272 \n",
      " updating target net\n",
      "step: 6336 \n",
      " updating target net\n",
      "step: 6400 \n",
      " updating target net\n",
      "step: 6464 \n",
      " updating target net\n",
      "step: 6528 \n",
      " updating target net\n",
      "step: 6592 \n",
      " updating target net\n",
      "step: 6656 \n",
      " updating target net\n",
      "step: 6720 \n",
      " updating target net\n",
      "step: 6784 \n",
      " updating target net\n",
      "step: 6848 \n",
      " updating target net\n",
      "step: 6912 \n",
      " updating target net\n"
     ]
    },
    {
     "name": "stderr",
     "output_type": "stream",
     "text": [
      "  3%|▎         | 68/2000 [00:01<00:40, 47.82it/s]"
     ]
    },
    {
     "name": "stdout",
     "output_type": "stream",
     "text": [
      "step: 6976 \n",
      " updating target net\n",
      "step: 7040 \n",
      " updating target net\n",
      "step: 7104 \n",
      " updating target net\n",
      "step: 7168 \n",
      " updating target net\n",
      "step: 7232 \n",
      " updating target net\n",
      "step: 7296 \n",
      " updating target net\n",
      "step: 7360 \n",
      " updating target net\n",
      "step: 7424 \n",
      " updating target net\n",
      "step: 7488 \n",
      " updating target net\n",
      "step: 7552 \n",
      " updating target net\n",
      "step: 7616 \n",
      " updating target net\n",
      "step: 7680 \n",
      " updating target net\n",
      "step: 7744 \n",
      " updating target net\n",
      "step: 7808 \n",
      " updating target net\n",
      "step: 7872 \n",
      " updating target net\n",
      "step: 7936 \n",
      " updating target net\n",
      "step: 8000 \n",
      " updating target net\n",
      "step: 8064 \n",
      " updating target net\n",
      "step: 8128 \n",
      " updating target net\n",
      "step: 8192 \n",
      " updating target net\n"
     ]
    },
    {
     "name": "stderr",
     "output_type": "stream",
     "text": [
      "  4%|▍         | 78/2000 [00:01<00:43, 44.69it/s]"
     ]
    },
    {
     "name": "stdout",
     "output_type": "stream",
     "text": [
      "step: 8256 \n",
      " updating target net\n",
      "step: 8320 \n",
      " updating target net\n",
      "step: 8384 \n",
      " updating target net\n",
      "step: 8448 \n",
      " updating target net\n",
      "step: 8512 \n",
      " updating target net\n",
      "step: 8576 \n",
      " updating target net\n",
      "step: 8640 \n",
      " updating target net\n",
      "step: 8704 \n",
      " updating target net\n",
      "step: 8768 \n",
      " updating target net\n",
      "step: 8832 \n",
      " updating target net\n",
      "step: 8896 \n",
      " updating target net\n",
      "step: 8960 \n",
      " updating target net\n",
      "step: 9024 \n",
      " updating target net\n",
      "step: 9088 \n",
      " updating target net\n",
      "step: 9152 \n",
      " updating target net\n",
      "step: 9216 \n",
      " updating target net\n",
      "step: 9280 \n",
      " updating target net\n",
      "step: 9344 \n",
      " updating target net\n",
      "step: 9408 \n",
      " updating target net\n"
     ]
    },
    {
     "name": "stderr",
     "output_type": "stream",
     "text": [
      "  4%|▍         | 83/2000 [00:01<00:50, 38.30it/s]"
     ]
    },
    {
     "name": "stdout",
     "output_type": "stream",
     "text": [
      "step: 9472 \n",
      " updating target net\n",
      "step: 9536 \n",
      " updating target net\n",
      "step: 9600 \n",
      " updating target net\n",
      "step: 9664 \n",
      " updating target net\n",
      "step: 9728 \n",
      " updating target net\n",
      "step: 9792 \n",
      " updating target net\n",
      "step: 9856 \n",
      " updating target net\n",
      "step: 9920 \n",
      " updating target net\n",
      "step: 9984 \n",
      " updating target net\n",
      "step: 10048 \n",
      " updating target net\n",
      "step: 10112 \n",
      " updating target net\n",
      "step: 10176 \n",
      " updating target net\n",
      "step: 10240 \n",
      " updating target net\n",
      "step: 10304 \n",
      " updating target net\n",
      "step: 10368 \n",
      " updating target net\n",
      "step: 10432 \n",
      " updating target net\n"
     ]
    },
    {
     "name": "stderr",
     "output_type": "stream",
     "text": [
      "  5%|▍         | 92/2000 [00:01<00:48, 39.73it/s]"
     ]
    },
    {
     "name": "stdout",
     "output_type": "stream",
     "text": [
      "step: 10496 \n",
      " updating target net\n",
      "step: 10560 \n",
      " updating target net\n",
      "step: 10624 \n",
      " updating target net\n",
      "step: 10688 \n",
      " updating target net\n",
      "step: 10752 \n",
      " updating target net\n",
      "step: 10816 \n",
      " updating target net\n",
      "step: 10880 \n",
      " updating target net\n",
      "step: 10944 \n",
      " updating target net\n",
      "step: 11008 \n",
      " updating target net\n",
      "step: 11072 \n",
      " updating target net\n",
      "step: 11136 \n",
      " updating target net\n",
      "step: 11200 \n",
      " updating target net\n",
      "step: 11264 \n",
      " updating target net\n",
      "step: 11328 \n",
      " updating target net\n",
      "step: 11392 \n",
      " updating target net\n",
      "step: 11456 \n",
      " updating target net\n",
      "step: 11520 \n",
      " updating target net\n",
      "step: 11584 \n",
      " updating target net\n"
     ]
    },
    {
     "name": "stderr",
     "output_type": "stream",
     "text": [
      "  5%|▌         | 103/2000 [00:02<00:42, 45.11it/s]"
     ]
    },
    {
     "name": "stdout",
     "output_type": "stream",
     "text": [
      "step: 11648 \n",
      " updating target net\n",
      "step: 11712 \n",
      " updating target net\n",
      "step: 11776 \n",
      " updating target net\n",
      "step: 11840 \n",
      " updating target net\n",
      "step: 11904 \n",
      " updating target net\n",
      "step: 11968 \n",
      " updating target net\n",
      "step: 12032 \n",
      " updating target net\n",
      "step: 12096 \n",
      " updating target net\n",
      "step: 12160 \n",
      " updating target net\n",
      "step: 12224 \n",
      " updating target net\n",
      "step: 12288 \n",
      " updating target net\n",
      "step: 12352 \n",
      " updating target net\n",
      "step: 12416 \n",
      " updating target net\n",
      "step: 12480 \n",
      " updating target net\n"
     ]
    },
    {
     "name": "stderr",
     "output_type": "stream",
     "text": [
      "  6%|▌         | 114/2000 [00:02<00:40, 46.42it/s]"
     ]
    },
    {
     "name": "stdout",
     "output_type": "stream",
     "text": [
      "step: 12544 \n",
      " updating target net\n",
      "step: 12608 \n",
      " updating target net\n",
      "step: 12672 \n",
      " updating target net\n",
      "step: 12736 \n",
      " updating target net\n",
      "step: 12800 \n",
      " updating target net\n",
      "step: 12864 \n",
      " updating target net\n",
      "step: 12928 \n",
      " updating target net\n",
      "step: 12992 \n",
      " updating target net\n",
      "step: 13056 \n",
      " updating target net\n",
      "step: 13120 \n",
      " updating target net\n",
      "step: 13184 \n",
      " updating target net\n",
      "step: 13248 \n",
      " updating target net\n",
      "step: 13312 \n",
      " updating target net\n"
     ]
    },
    {
     "name": "stderr",
     "output_type": "stream",
     "text": [
      "  6%|▌         | 120/2000 [00:02<00:37, 50.05it/s]"
     ]
    },
    {
     "name": "stdout",
     "output_type": "stream",
     "text": [
      "step: 13376 \n",
      " updating target net\n",
      "step: 13440 \n",
      " updating target net\n",
      "step: 13504 \n",
      " updating target net\n",
      "step: 13568 \n",
      " updating target net\n",
      "step: 13632 \n",
      " updating target net\n",
      "step: 13696 \n",
      " updating target net\n",
      "step: 13760 \n",
      " updating target net\n",
      "step: 13824 \n",
      " updating target net\n"
     ]
    },
    {
     "name": "stderr",
     "output_type": "stream",
     "text": [
      "  7%|▋         | 132/2000 [00:02<00:40, 45.95it/s]"
     ]
    },
    {
     "name": "stdout",
     "output_type": "stream",
     "text": [
      "step: 13888 \n",
      " updating target net\n",
      "step: 13952 \n",
      " updating target net\n",
      "step: 14016 \n",
      " updating target net\n",
      "step: 14080 \n",
      " updating target net\n",
      "step: 14144 \n",
      " updating target net\n",
      "step: 14208 \n",
      " updating target net\n",
      "step: 14272 \n",
      " updating target net\n",
      "step: 14336 \n",
      " updating target net\n",
      "step: 14400 \n",
      " updating target net\n",
      "step: 14464 \n",
      " updating target net\n",
      "step: 14528 \n",
      " updating target net\n",
      "step: 14592 \n",
      " updating target net\n"
     ]
    },
    {
     "name": "stderr",
     "output_type": "stream",
     "text": [
      "  7%|▋         | 143/2000 [00:02<00:38, 48.14it/s]"
     ]
    },
    {
     "name": "stdout",
     "output_type": "stream",
     "text": [
      "step: 14656 \n",
      " updating target net\n",
      "step: 14720 \n",
      " updating target net\n",
      "step: 14784 \n",
      " updating target net\n",
      "step: 14848 \n",
      " updating target net\n",
      "step: 14912 \n",
      " updating target net\n",
      "step: 14976 \n",
      " updating target net\n",
      "step: 15040 \n",
      " updating target net\n",
      "step: 15104 \n",
      " updating target net\n",
      "step: 15168 \n",
      " updating target net\n",
      "step: 15232 \n",
      " updating target net\n",
      "step: 15296 \n",
      " updating target net\n",
      "step: 15360 \n",
      " updating target net\n",
      "step: 15424 \n",
      " updating target net\n",
      "step: 15488 \n",
      " updating target net\n"
     ]
    },
    {
     "name": "stderr",
     "output_type": "stream",
     "text": [
      "  8%|▊         | 155/2000 [00:03<00:37, 49.20it/s]"
     ]
    },
    {
     "name": "stdout",
     "output_type": "stream",
     "text": [
      "step: 15552 \n",
      " updating target net\n",
      "step: 15616 \n",
      " updating target net\n",
      "step: 15680 \n",
      " updating target net\n",
      "step: 15744 \n",
      " updating target net\n",
      "step: 15808 \n",
      " updating target net\n",
      "step: 15872 \n",
      " updating target net\n",
      "step: 15936 \n",
      " updating target net\n",
      "step: 16000 \n",
      " updating target net\n",
      "step: 16064 \n",
      " updating target net\n",
      "step: 16128 \n",
      " updating target net\n",
      "step: 16192 \n",
      " updating target net\n",
      "step: 16256 \n",
      " updating target net\n",
      "step: 16320 \n",
      " updating target net\n"
     ]
    },
    {
     "name": "stderr",
     "output_type": "stream",
     "text": [
      "  8%|▊         | 168/2000 [00:03<00:35, 51.62it/s]"
     ]
    },
    {
     "name": "stdout",
     "output_type": "stream",
     "text": [
      "step: 16384 \n",
      " updating target net\n",
      "step: 16448 \n",
      " updating target net\n",
      "step: 16512 \n",
      " updating target net\n",
      "step: 16576 \n",
      " updating target net\n",
      "step: 16640 \n",
      " updating target net\n",
      "step: 16704 \n",
      " updating target net\n",
      "step: 16768 \n",
      " updating target net\n",
      "step: 16832 \n",
      " updating target net\n",
      "step: 16896 \n",
      " updating target net\n",
      "step: 16960 \n",
      " updating target net\n",
      "step: 17024 \n",
      " updating target net\n",
      "step: 17088 \n",
      " updating target net\n",
      "step: 17152 \n",
      " updating target net\n"
     ]
    },
    {
     "name": "stderr",
     "output_type": "stream",
     "text": [
      "  9%|▉         | 180/2000 [00:03<00:35, 51.00it/s]"
     ]
    },
    {
     "name": "stdout",
     "output_type": "stream",
     "text": [
      "step: 17216 \n",
      " updating target net\n",
      "step: 17280 \n",
      " updating target net\n",
      "step: 17344 \n",
      " updating target net\n",
      "step: 17408 \n",
      " updating target net\n",
      "step: 17472 \n",
      " updating target net\n",
      "step: 17536 \n",
      " updating target net\n",
      "step: 17600 \n",
      " updating target net\n",
      "step: 17664 \n",
      " updating target net\n",
      "step: 17728 \n",
      " updating target net\n",
      "step: 17792 \n",
      " updating target net\n",
      "step: 17856 \n",
      " updating target net\n",
      "step: 17920 \n",
      " updating target net\n",
      "step: 17984 \n",
      " updating target net\n"
     ]
    },
    {
     "name": "stderr",
     "output_type": "stream",
     "text": [
      "  9%|▉         | 186/2000 [00:03<00:35, 51.55it/s]"
     ]
    },
    {
     "name": "stdout",
     "output_type": "stream",
     "text": [
      "step: 18048 \n",
      " updating target net\n",
      "step: 18112 \n",
      " updating target net\n",
      "step: 18176 \n",
      " updating target net\n",
      "step: 18240 \n",
      " updating target net\n",
      "step: 18304 \n",
      " updating target net\n",
      "step: 18368 \n",
      " updating target net\n",
      "step: 18432 \n",
      " updating target net\n",
      "step: 18496 \n",
      " updating target net\n",
      "step: 18560 \n",
      " updating target net\n",
      "step: 18624 \n",
      " updating target net\n",
      "step: 18688 \n",
      " updating target net\n"
     ]
    },
    {
     "name": "stderr",
     "output_type": "stream",
     "text": [
      " 10%|▉         | 198/2000 [00:03<00:35, 50.60it/s]"
     ]
    },
    {
     "name": "stdout",
     "output_type": "stream",
     "text": [
      "step: 18752 \n",
      " updating target net\n",
      "step: 18816 \n",
      " updating target net\n",
      "step: 18880 \n",
      " updating target net\n",
      "step: 18944 \n",
      " updating target net\n",
      "step: 19008 \n",
      " updating target net\n",
      "step: 19072 \n",
      " updating target net\n",
      "step: 19136 \n",
      " updating target net\n",
      "step: 19200 \n",
      " updating target net\n",
      "step: 19264 \n",
      " updating target net\n",
      "step: 19328 \n",
      " updating target net\n",
      "step: 19392 \n",
      " updating target net\n",
      "step: 19456 \n",
      " updating target net\n"
     ]
    },
    {
     "name": "stderr",
     "output_type": "stream",
     "text": [
      " 10%|█         | 210/2000 [00:04<00:34, 52.53it/s]"
     ]
    },
    {
     "name": "stdout",
     "output_type": "stream",
     "text": [
      "step: 19520 \n",
      " updating target net\n",
      "step: 19584 \n",
      " updating target net\n",
      "step: 19648 \n",
      " updating target net\n",
      "step: 19712 \n",
      " updating target net\n",
      "step: 19776 \n",
      " updating target net\n",
      "step: 19840 \n",
      " updating target net\n",
      "step: 19904 \n",
      " updating target net\n",
      "step: 19968 \n",
      " updating target net\n",
      "step: 20032 \n",
      " updating target net\n",
      "step: 20096 \n",
      " updating target net\n",
      "step: 20160 \n",
      " updating target net\n",
      "step: 20224 \n",
      " updating target net\n",
      "step: 20288 \n",
      " updating target net\n"
     ]
    },
    {
     "name": "stderr",
     "output_type": "stream",
     "text": [
      " 11%|█         | 222/2000 [00:04<00:37, 47.94it/s]"
     ]
    },
    {
     "name": "stdout",
     "output_type": "stream",
     "text": [
      "step: 20352 \n",
      " updating target net\n",
      "step: 20416 \n",
      " updating target net\n",
      "step: 20480 \n",
      " updating target net\n",
      "step: 20544 \n",
      " updating target net\n",
      "step: 20608 \n",
      " updating target net\n",
      "step: 20672 \n",
      " updating target net\n",
      "step: 20736 \n",
      " updating target net\n",
      "step: 20800 \n",
      " updating target net\n",
      "step: 20864 \n",
      " updating target net\n",
      "step: 20928 \n",
      " updating target net\n",
      "step: 20992 \n",
      " updating target net\n",
      "step: 21056 \n",
      " updating target net\n"
     ]
    },
    {
     "name": "stderr",
     "output_type": "stream",
     "text": [
      " 12%|█▏        | 233/2000 [00:04<00:36, 48.98it/s]"
     ]
    },
    {
     "name": "stdout",
     "output_type": "stream",
     "text": [
      "step: 21120 \n",
      " updating target net\n",
      "step: 21184 \n",
      " updating target net\n",
      "step: 21248 \n",
      " updating target net\n",
      "step: 21312 \n",
      " updating target net\n",
      "step: 21376 \n",
      " updating target net\n",
      "step: 21440 \n",
      " updating target net\n",
      "step: 21504 \n",
      " updating target net\n",
      "step: 21568 \n",
      " updating target net\n",
      "step: 21632 \n",
      " updating target net\n",
      "step: 21696 \n",
      " updating target net\n",
      "step: 21760 \n",
      " updating target net\n",
      "step: 21824 \n",
      " updating target net\n",
      "step: 21888 \n",
      " updating target net\n",
      "step: 21952 \n",
      " updating target net\n",
      "step: 22016 \n",
      " updating target net\n"
     ]
    },
    {
     "name": "stderr",
     "output_type": "stream",
     "text": [
      " 12%|█▏        | 239/2000 [00:04<00:38, 45.23it/s]"
     ]
    },
    {
     "name": "stdout",
     "output_type": "stream",
     "text": [
      "step: 22080 \n",
      " updating target net\n",
      "step: 22144 \n",
      " updating target net\n",
      "step: 22208 \n",
      " updating target net\n",
      "step: 22272 \n",
      " updating target net\n",
      "step: 22336 \n",
      " updating target net\n",
      "step: 22400 \n",
      " updating target net\n",
      "step: 22464 \n",
      " updating target net\n",
      "step: 22528 \n",
      " updating target net\n",
      "step: 22592 \n",
      " updating target net\n"
     ]
    },
    {
     "name": "stderr",
     "output_type": "stream",
     "text": [
      " 12%|█▏        | 249/2000 [00:05<00:39, 44.53it/s]"
     ]
    },
    {
     "name": "stdout",
     "output_type": "stream",
     "text": [
      "step: 22656 \n",
      " updating target net\n",
      "step: 22720 \n",
      " updating target net\n",
      "step: 22784 \n",
      " updating target net\n",
      "step: 22848 \n",
      " updating target net\n",
      "step: 22912 \n",
      " updating target net\n",
      "step: 22976 \n",
      " updating target net\n",
      "step: 23040 \n",
      " updating target net\n",
      "step: 23104 \n",
      " updating target net\n",
      "step: 23168 \n",
      " updating target net\n",
      "step: 23232 \n",
      " updating target net\n",
      "step: 23296 \n",
      " updating target net\n"
     ]
    },
    {
     "name": "stderr",
     "output_type": "stream",
     "text": [
      " 13%|█▎        | 260/2000 [00:05<00:37, 46.46it/s]"
     ]
    },
    {
     "name": "stdout",
     "output_type": "stream",
     "text": [
      "step: 23360 \n",
      " updating target net\n",
      "step: 23424 \n",
      " updating target net\n",
      "step: 23488 \n",
      " updating target net\n",
      "step: 23552 \n",
      " updating target net\n",
      "step: 23616 \n",
      " updating target net\n",
      "step: 23680 \n",
      " updating target net\n",
      "step: 23744 \n",
      " updating target net\n",
      "step: 23808 \n",
      " updating target net\n",
      "step: 23872 \n",
      " updating target net\n",
      "step: 23936 \n",
      " updating target net\n",
      "step: 24000 \n",
      " updating target net\n",
      "step: 24064 \n",
      " updating target net\n"
     ]
    },
    {
     "name": "stderr",
     "output_type": "stream",
     "text": [
      " 14%|█▎        | 270/2000 [00:05<00:38, 45.01it/s]"
     ]
    },
    {
     "name": "stdout",
     "output_type": "stream",
     "text": [
      "step: 24128 \n",
      " updating target net\n",
      "step: 24192 \n",
      " updating target net\n",
      "step: 24256 \n",
      " updating target net\n",
      "step: 24320 \n",
      " updating target net\n",
      "step: 24384 \n",
      " updating target net\n",
      "step: 24448 \n",
      " updating target net\n",
      "step: 24512 \n",
      " updating target net\n",
      "step: 24576 \n",
      " updating target net\n",
      "step: 24640 \n",
      " updating target net\n",
      "step: 24704 \n",
      " updating target net\n",
      "step: 24768 \n",
      " updating target net\n"
     ]
    },
    {
     "name": "stderr",
     "output_type": "stream",
     "text": [
      " 14%|█▍        | 281/2000 [00:05<00:36, 47.41it/s]"
     ]
    },
    {
     "name": "stdout",
     "output_type": "stream",
     "text": [
      "step: 24832 \n",
      " updating target net\n",
      "step: 24896 \n",
      " updating target net\n",
      "step: 24960 \n",
      " updating target net\n",
      "step: 25024 \n",
      " updating target net\n",
      "step: 25088 \n",
      " updating target net\n",
      "step: 25152 \n",
      " updating target net\n",
      "step: 25216 \n",
      " updating target net\n",
      "step: 25280 \n",
      " updating target net\n",
      "step: 25344 \n",
      " updating target net\n",
      "step: 25408 \n",
      " updating target net\n",
      "step: 25472 \n",
      " updating target net\n"
     ]
    },
    {
     "name": "stderr",
     "output_type": "stream",
     "text": [
      " 15%|█▍        | 292/2000 [00:05<00:34, 48.82it/s]"
     ]
    },
    {
     "name": "stdout",
     "output_type": "stream",
     "text": [
      "step: 25536 \n",
      " updating target net\n",
      "step: 25600 \n",
      " updating target net\n",
      "step: 25664 \n",
      " updating target net\n",
      "step: 25728 \n",
      " updating target net\n",
      "step: 25792 \n",
      " updating target net\n",
      "step: 25856 \n",
      " updating target net\n",
      "step: 25920 \n",
      " updating target net\n",
      "step: 25984 \n",
      " updating target net\n",
      "step: 26048 \n",
      " updating target net\n",
      "step: 26112 \n",
      " updating target net\n",
      "step: 26176 \n",
      " updating target net\n",
      "step: 26240 \n",
      " updating target net\n"
     ]
    },
    {
     "name": "stderr",
     "output_type": "stream",
     "text": [
      " 15%|█▌        | 304/2000 [00:06<00:33, 50.43it/s]"
     ]
    },
    {
     "name": "stdout",
     "output_type": "stream",
     "text": [
      "step: 26304 \n",
      " updating target net\n",
      "step: 26368 \n",
      " updating target net\n",
      "step: 26432 \n",
      " updating target net\n",
      "step: 26496 \n",
      " updating target net\n",
      "step: 26560 \n",
      " updating target net\n",
      "step: 26624 \n",
      " updating target net\n",
      "step: 26688 \n",
      " updating target net\n",
      "step: 26752 \n",
      " updating target net\n",
      "step: 26816 \n",
      " updating target net\n",
      "step: 26880 \n",
      " updating target net\n",
      "step: 26944 \n",
      " updating target net\n"
     ]
    },
    {
     "name": "stderr",
     "output_type": "stream",
     "text": [
      " 16%|█▌        | 315/2000 [00:06<00:34, 49.33it/s]"
     ]
    },
    {
     "name": "stdout",
     "output_type": "stream",
     "text": [
      "step: 27008 \n",
      " updating target net\n",
      "step: 27072 \n",
      " updating target net\n",
      "step: 27136 \n",
      " updating target net\n",
      "step: 27200 \n",
      " updating target net\n",
      "step: 27264 \n",
      " updating target net\n",
      "step: 27328 \n",
      " updating target net\n",
      "step: 27392 \n",
      " updating target net\n",
      "step: 27456 \n",
      " updating target net\n",
      "step: 27520 \n",
      " updating target net\n",
      "step: 27584 \n",
      " updating target net\n",
      "step: 27648 \n",
      " updating target net\n",
      "step: 27712 \n",
      " updating target net\n"
     ]
    },
    {
     "name": "stderr",
     "output_type": "stream",
     "text": [
      " 16%|█▌        | 321/2000 [00:06<00:32, 51.32it/s]"
     ]
    },
    {
     "name": "stdout",
     "output_type": "stream",
     "text": [
      "step: 27776 \n",
      " updating target net\n",
      "step: 27840 \n",
      " updating target net\n",
      "step: 27904 \n",
      " updating target net\n",
      "step: 27968 \n",
      " updating target net\n",
      "step: 28032 \n",
      " updating target net\n",
      "step: 28096 \n",
      " updating target net\n",
      "step: 28160 \n",
      " updating target net\n",
      "step: 28224 \n",
      " updating target net\n",
      "step: 28288 \n",
      " updating target net\n",
      "step: 28352 \n",
      " updating target net\n",
      "step: 28416 \n",
      " updating target net\n"
     ]
    },
    {
     "name": "stderr",
     "output_type": "stream",
     "text": [
      " 16%|█▋        | 327/2000 [00:06<00:35, 47.16it/s]"
     ]
    },
    {
     "name": "stdout",
     "output_type": "stream",
     "text": [
      "step: 28480 \n",
      " updating target net\n",
      "step: 28544 \n",
      " updating target net\n",
      "step: 28608 \n",
      " updating target net\n",
      "step: 28672 \n",
      " updating target net\n",
      "step: 28736 \n",
      " updating target net\n",
      "step: 28800 \n",
      " updating target net\n",
      "step: 28864 \n",
      " updating target net\n",
      "step: 28928 \n",
      " updating target net\n",
      "step: 28992 \n",
      " updating target net\n"
     ]
    },
    {
     "name": "stderr",
     "output_type": "stream",
     "text": [
      " 17%|█▋        | 337/2000 [00:07<00:47, 34.97it/s]"
     ]
    },
    {
     "name": "stdout",
     "output_type": "stream",
     "text": [
      "step: 29056 \n",
      " updating target net\n",
      "step: 29120 \n",
      " updating target net\n",
      "step: 29184 \n",
      " updating target net\n",
      "step: 29248 \n",
      " updating target net\n",
      "step: 29312 \n",
      " updating target net\n",
      "step: 29376 \n",
      " updating target net\n"
     ]
    },
    {
     "name": "stderr",
     "output_type": "stream",
     "text": [
      " 17%|█▋        | 341/2000 [00:07<00:49, 33.43it/s]"
     ]
    },
    {
     "name": "stdout",
     "output_type": "stream",
     "text": [
      "step: 29440 \n",
      " updating target net\n",
      "step: 29504 \n",
      " updating target net\n",
      "step: 29568 \n",
      " updating target net\n",
      "step: 29632 \n",
      " updating target net\n",
      "step: 29696 \n",
      " updating target net\n",
      "step: 29760 \n",
      " updating target net\n",
      "step: 29824 \n",
      " updating target net\n",
      "step: 29888 \n",
      " updating target net\n",
      "step: 29952 \n",
      " updating target net\n",
      "step: 30016 \n",
      " updating target net\n"
     ]
    },
    {
     "name": "stderr",
     "output_type": "stream",
     "text": [
      " 17%|█▋        | 349/2000 [00:07<00:49, 33.40it/s]"
     ]
    },
    {
     "name": "stdout",
     "output_type": "stream",
     "text": [
      "step: 30080 \n",
      " updating target net\n",
      "step: 30144 \n",
      " updating target net\n",
      "step: 30208 \n",
      " updating target net\n",
      "step: 30272 \n",
      " updating target net\n",
      "step: 30336 \n",
      " updating target net\n",
      "step: 30400 \n",
      " updating target net\n",
      "step: 30464 \n",
      " updating target net\n",
      "step: 30528 \n",
      " updating target net\n",
      "step: 30592 \n",
      " updating target net\n",
      "step: 30656 \n",
      " updating target net\n"
     ]
    },
    {
     "name": "stderr",
     "output_type": "stream",
     "text": [
      " 18%|█▊        | 357/2000 [00:07<00:47, 34.64it/s]"
     ]
    },
    {
     "name": "stdout",
     "output_type": "stream",
     "text": [
      "step: 30720 \n",
      " updating target net\n",
      "step: 30784 \n",
      " updating target net\n",
      "step: 30848 \n",
      " updating target net\n",
      "step: 30912 \n",
      " updating target net\n",
      "step: 30976 \n",
      " updating target net\n",
      "step: 31040 \n",
      " updating target net\n",
      "step: 31104 \n",
      " updating target net\n",
      "step: 31168 \n",
      " updating target net\n",
      "step: 31232 \n",
      " updating target net\n",
      "step: 31296 \n",
      " updating target net\n"
     ]
    },
    {
     "name": "stderr",
     "output_type": "stream",
     "text": [
      " 18%|█▊        | 362/2000 [00:07<00:46, 35.51it/s]"
     ]
    },
    {
     "name": "stdout",
     "output_type": "stream",
     "text": [
      "step: 31360 \n",
      " updating target net\n",
      "step: 31424 \n",
      " updating target net\n",
      "step: 31488 \n",
      " updating target net\n",
      "step: 31552 \n",
      " updating target net\n",
      "step: 31616 \n",
      " updating target net\n",
      "step: 31680 \n",
      " updating target net\n",
      "step: 31744 \n",
      " updating target net\n",
      "step: 31808 \n",
      " updating target net\n",
      "step: 31872 \n",
      " updating target net\n",
      "step: 31936 \n",
      " updating target net\n",
      "step: 32000 \n",
      " updating target net\n",
      "step: 32064 \n",
      " updating target net\n",
      "step: 32128 \n",
      " updating target net\n"
     ]
    },
    {
     "name": "stderr",
     "output_type": "stream",
     "text": [
      " 19%|█▊        | 371/2000 [00:07<00:43, 37.55it/s]"
     ]
    },
    {
     "name": "stdout",
     "output_type": "stream",
     "text": [
      "step: 32192 \n",
      " updating target net\n",
      "step: 32256 \n",
      " updating target net\n",
      "step: 32320 \n",
      " updating target net\n",
      "step: 32384 \n",
      " updating target net\n",
      "step: 32448 \n",
      " updating target net\n",
      "step: 32512 \n",
      " updating target net\n",
      "step: 32576 \n",
      " updating target net\n",
      "step: 32640 \n",
      " updating target net\n",
      "step: 32704 \n",
      " updating target net\n",
      "step: 32768 \n",
      " updating target net\n",
      "step: 32832 \n",
      " updating target net\n",
      "step: 32896 \n",
      " updating target net\n",
      "step: 32960 \n",
      " updating target net\n"
     ]
    },
    {
     "name": "stderr",
     "output_type": "stream",
     "text": [
      " 19%|█▉        | 380/2000 [00:08<00:42, 37.96it/s]"
     ]
    },
    {
     "name": "stdout",
     "output_type": "stream",
     "text": [
      "step: 33024 \n",
      " updating target net\n",
      "step: 33088 \n",
      " updating target net\n",
      "step: 33152 \n",
      " updating target net\n",
      "step: 33216 \n",
      " updating target net\n",
      "step: 33280 \n",
      " updating target net\n",
      "step: 33344 \n",
      " updating target net\n",
      "step: 33408 \n",
      " updating target net\n",
      "step: 33472 \n",
      " updating target net\n",
      "step: 33536 \n",
      " updating target net\n",
      "step: 33600 \n",
      " updating target net\n",
      "step: 33664 \n",
      " updating target net\n",
      "step: 33728 \n",
      " updating target net\n"
     ]
    },
    {
     "name": "stderr",
     "output_type": "stream",
     "text": [
      " 19%|█▉        | 388/2000 [00:08<00:45, 35.35it/s]"
     ]
    },
    {
     "name": "stdout",
     "output_type": "stream",
     "text": [
      "step: 33792 \n",
      " updating target net\n",
      "step: 33856 \n",
      " updating target net\n",
      "step: 33920 \n",
      " updating target net\n",
      "step: 33984 \n",
      " updating target net\n",
      "step: 34048 \n",
      " updating target net\n",
      "step: 34112 \n",
      " updating target net\n",
      "step: 34176 \n",
      " updating target net\n",
      "step: 34240 \n",
      " updating target net\n",
      "step: 34304 \n",
      " updating target net\n",
      "step: 34368 \n",
      " updating target net\n",
      "step: 34432 \n",
      " updating target net\n",
      "step: 34496 \n",
      " updating target net\n",
      "step: 34560 \n",
      " updating target net\n"
     ]
    },
    {
     "name": "stderr",
     "output_type": "stream",
     "text": [
      " 20%|█▉        | 392/2000 [00:08<00:46, 34.28it/s]"
     ]
    },
    {
     "name": "stdout",
     "output_type": "stream",
     "text": [
      "step: 34624 \n",
      " updating target net\n",
      "step: 34688 \n",
      " updating target net\n",
      "step: 34752 \n",
      " updating target net\n",
      "step: 34816 \n",
      " updating target net\n",
      "step: 34880 \n",
      " updating target net\n",
      "step: 34944 \n",
      " updating target net\n",
      "step: 35008 \n",
      " updating target net\n",
      "step: 35072 \n",
      " updating target net\n",
      "step: 35136 \n",
      " updating target net\n",
      "step: 35200 \n",
      " updating target net\n",
      "step: 35264 \n",
      " updating target net\n",
      "step: 35328 \n",
      " updating target net\n"
     ]
    },
    {
     "name": "stderr",
     "output_type": "stream",
     "text": [
      " 20%|██        | 400/2000 [00:08<00:51, 31.19it/s]"
     ]
    },
    {
     "name": "stdout",
     "output_type": "stream",
     "text": [
      "step: 35392 \n",
      " updating target net\n",
      "step: 35456 \n",
      " updating target net\n",
      "step: 35520 \n",
      " updating target net\n",
      "step: 35584 \n",
      " updating target net\n",
      "step: 35648 \n",
      " updating target net\n",
      "step: 35712 \n",
      " updating target net\n",
      "step: 35776 \n",
      " updating target net\n",
      "step: 35840 \n",
      " updating target net\n",
      "step: 35904 \n",
      " updating target net\n",
      "step: 35968 \n",
      " updating target net\n",
      "step: 36032 \n",
      " updating target net\n"
     ]
    },
    {
     "name": "stderr",
     "output_type": "stream",
     "text": [
      " 20%|██        | 404/2000 [00:09<01:02, 25.51it/s]"
     ]
    },
    {
     "name": "stdout",
     "output_type": "stream",
     "text": [
      "step: 36096 \n",
      " updating target net\n",
      "step: 36160 \n",
      " updating target net\n",
      "step: 36224 \n",
      " updating target net\n",
      "step: 36288 \n",
      " updating target net\n",
      "step: 36352 \n",
      " updating target net\n",
      "step: 36416 \n",
      " updating target net\n",
      "step: 36480 \n",
      " updating target net\n",
      "step: 36544 \n",
      " updating target net\n",
      "step: 36608 \n",
      " updating target net\n",
      "step: 36672 \n",
      " updating target net\n"
     ]
    },
    {
     "name": "stderr",
     "output_type": "stream",
     "text": [
      " 20%|██        | 409/2000 [00:09<00:55, 28.45it/s]"
     ]
    },
    {
     "name": "stdout",
     "output_type": "stream",
     "text": [
      "step: 36736 \n",
      " updating target net\n",
      "step: 36800 \n",
      " updating target net\n",
      "step: 36864 \n",
      " updating target net\n",
      "step: 36928 \n",
      " updating target net\n",
      "step: 36992 \n",
      " updating target net\n",
      "step: 37056 \n",
      " updating target net\n",
      "step: 37120 \n",
      " updating target net\n",
      "step: 37184 \n",
      " updating target net\n",
      "step: 37248 \n",
      " updating target net\n",
      "step: 37312 \n",
      " updating target net\n",
      "step: 37376 \n",
      " updating target net\n",
      "step: 37440 \n",
      " updating target net\n",
      "step: 37504 \n",
      " updating target net\n",
      "step: 37568 \n",
      " updating target net\n"
     ]
    },
    {
     "name": "stderr",
     "output_type": "stream",
     "text": [
      " 21%|██        | 419/2000 [00:09<00:46, 34.23it/s]"
     ]
    },
    {
     "name": "stdout",
     "output_type": "stream",
     "text": [
      "step: 37632 \n",
      " updating target net\n",
      "step: 37696 \n",
      " updating target net\n",
      "step: 37760 \n",
      " updating target net\n",
      "step: 37824 \n",
      " updating target net\n",
      "step: 37888 \n",
      " updating target net\n",
      "step: 37952 \n",
      " updating target net\n",
      "step: 38016 \n",
      " updating target net\n",
      "step: 38080 \n",
      " updating target net\n",
      "step: 38144 \n",
      " updating target net\n",
      "step: 38208 \n",
      " updating target net\n",
      "step: 38272 \n",
      " updating target net\n",
      "step: 38336 \n",
      " updating target net\n",
      "step: 38400 \n",
      " updating target net\n"
     ]
    },
    {
     "name": "stderr",
     "output_type": "stream",
     "text": [
      " 21%|██▏       | 427/2000 [00:09<00:47, 33.25it/s]"
     ]
    },
    {
     "name": "stdout",
     "output_type": "stream",
     "text": [
      "step: 38464 \n",
      " updating target net\n",
      "step: 38528 \n",
      " updating target net\n",
      "step: 38592 \n",
      " updating target net\n",
      "step: 38656 \n",
      " updating target net\n",
      "step: 38720 \n",
      " updating target net\n",
      "step: 38784 \n",
      " updating target net\n",
      "step: 38848 \n",
      " updating target net\n",
      "step: 38912 \n",
      " updating target net\n",
      "step: 38976 \n",
      " updating target net\n",
      "step: 39040 \n",
      " updating target net\n",
      "step: 39104 \n",
      " updating target net\n",
      "step: 39168 \n",
      " updating target net\n",
      "step: 39232 \n",
      " updating target net\n"
     ]
    },
    {
     "name": "stderr",
     "output_type": "stream",
     "text": [
      " 22%|██▏       | 431/2000 [00:09<00:45, 34.64it/s]"
     ]
    },
    {
     "name": "stdout",
     "output_type": "stream",
     "text": [
      "step: 39296 \n",
      " updating target net\n",
      "step: 39360 \n",
      " updating target net\n",
      "step: 39424 \n",
      " updating target net\n",
      "step: 39488 \n",
      " updating target net\n",
      "step: 39552 \n",
      " updating target net\n",
      "step: 39616 \n",
      " updating target net\n",
      "step: 39680 \n",
      " updating target net\n",
      "step: 39744 \n",
      " updating target net\n",
      "step: 39808 \n",
      " updating target net\n",
      "step: 39872 \n",
      " updating target net\n",
      "step: 39936 \n",
      " updating target net\n"
     ]
    },
    {
     "name": "stderr",
     "output_type": "stream",
     "text": [
      " 22%|██▏       | 440/2000 [00:10<00:45, 34.09it/s]"
     ]
    },
    {
     "name": "stdout",
     "output_type": "stream",
     "text": [
      "step: 40000 \n",
      " updating target net\n",
      "step: 40064 \n",
      " updating target net\n",
      "step: 40128 \n",
      " updating target net\n",
      "step: 40192 \n",
      " updating target net\n",
      "step: 40256 \n",
      " updating target net\n",
      "step: 40320 \n",
      " updating target net\n",
      "step: 40384 \n",
      " updating target net\n",
      "step: 40448 \n",
      " updating target net\n",
      "step: 40512 \n",
      " updating target net\n",
      "step: 40576 \n",
      " updating target net\n",
      "step: 40640 \n",
      " updating target net\n",
      "step: 40704 \n",
      " updating target net\n"
     ]
    },
    {
     "name": "stderr",
     "output_type": "stream",
     "text": [
      " 22%|██▏       | 448/2000 [00:10<00:46, 33.25it/s]"
     ]
    },
    {
     "name": "stdout",
     "output_type": "stream",
     "text": [
      "step: 40768 \n",
      " updating target net\n",
      "step: 40832 \n",
      " updating target net\n",
      "step: 40896 \n",
      " updating target net\n",
      "step: 40960 \n",
      " updating target net\n",
      "step: 41024 \n",
      " updating target net\n",
      "step: 41088 \n",
      " updating target net\n",
      "step: 41152 \n",
      " updating target net\n",
      "step: 41216 \n",
      " updating target net\n",
      "step: 41280 \n",
      " updating target net\n"
     ]
    },
    {
     "name": "stderr",
     "output_type": "stream",
     "text": [
      " 23%|██▎       | 452/2000 [00:10<00:45, 33.69it/s]"
     ]
    },
    {
     "name": "stdout",
     "output_type": "stream",
     "text": [
      "step: 41344 \n",
      " updating target net\n",
      "step: 41408 \n",
      " updating target net\n",
      "step: 41472 \n",
      " updating target net\n",
      "step: 41536 \n",
      " updating target net\n",
      "step: 41600 \n",
      " updating target net\n",
      "step: 41664 \n",
      " updating target net\n",
      "step: 41728 \n",
      " updating target net\n",
      "step: 41792 \n",
      " updating target net\n",
      "step: 41856 \n",
      " updating target net\n"
     ]
    },
    {
     "name": "stderr",
     "output_type": "stream",
     "text": [
      " 23%|██▎       | 456/2000 [00:10<00:55, 27.84it/s]"
     ]
    },
    {
     "name": "stdout",
     "output_type": "stream",
     "text": [
      "step: 41920 \n",
      " updating target net\n",
      "step: 41984 \n",
      " updating target net\n",
      "step: 42048 \n",
      " updating target net\n",
      "step: 42112 \n",
      " updating target net\n",
      "step: 42176 \n",
      " updating target net\n",
      "step: 42240 \n",
      " updating target net\n",
      "step: 42304 \n",
      " updating target net\n",
      "step: 42368 \n",
      " updating target net\n",
      "step: 42432 \n",
      " updating target net\n"
     ]
    },
    {
     "name": "stderr",
     "output_type": "stream",
     "text": [
      " 23%|██▎       | 464/2000 [00:10<00:51, 29.62it/s]"
     ]
    },
    {
     "name": "stdout",
     "output_type": "stream",
     "text": [
      "step: 42496 \n",
      " updating target net\n",
      "step: 42560 \n",
      " updating target net\n",
      "step: 42624 \n",
      " updating target net\n",
      "step: 42688 \n",
      " updating target net\n",
      "step: 42752 \n",
      " updating target net\n",
      "step: 42816 \n",
      " updating target net\n",
      "step: 42880 \n",
      " updating target net\n",
      "step: 42944 \n",
      " updating target net\n",
      "step: 43008 \n",
      " updating target net\n",
      "step: 43072 \n",
      " updating target net\n",
      "step: 43136 \n",
      " updating target net\n",
      "step: 43200 \n",
      " updating target net\n"
     ]
    },
    {
     "name": "stderr",
     "output_type": "stream",
     "text": [
      " 24%|██▎       | 473/2000 [00:11<00:49, 30.99it/s]"
     ]
    },
    {
     "name": "stdout",
     "output_type": "stream",
     "text": [
      "step: 43264 \n",
      " updating target net\n",
      "step: 43328 \n",
      " updating target net\n",
      "step: 43392 \n",
      " updating target net\n",
      "step: 43456 \n",
      " updating target net\n",
      "step: 43520 \n",
      " updating target net\n",
      "step: 43584 \n",
      " updating target net\n",
      "step: 43648 \n",
      " updating target net\n",
      "step: 43712 \n",
      " updating target net\n",
      "step: 43776 \n",
      " updating target net\n",
      "step: 43840 \n",
      " updating target net\n",
      "step: 43904 \n",
      " updating target net\n",
      "step: 43968 \n",
      " updating target net\n",
      "step: 44032 \n",
      " updating target net\n",
      "step: 44096 \n",
      " updating target net\n",
      "step: 44160 \n",
      " updating target net\n",
      "step: 44224 \n",
      " updating target net\n",
      "step: 44288 \n",
      " updating target net\n",
      "step: 44352 \n",
      " updating target net\n",
      "step: 44416 \n",
      " updating target net\n",
      "step: 44480 \n",
      " updating target net\n",
      "step: 44544 \n",
      " updating target net\n",
      "step: 44608 \n",
      " updating target net\n",
      "step: 44672 \n",
      " updating target net\n",
      "step: 44736 \n",
      " updating target net\n",
      "step: 44800 \n",
      " updating target net\n"
     ]
    },
    {
     "name": "stderr",
     "output_type": "stream",
     "text": [
      " 24%|██▍       | 480/2000 [00:11<00:58, 26.03it/s]"
     ]
    },
    {
     "name": "stdout",
     "output_type": "stream",
     "text": [
      "step: 44864 \n",
      " updating target net\n",
      "step: 44928 \n",
      " updating target net\n",
      "step: 44992 \n",
      " updating target net\n",
      "step: 45056 \n",
      " updating target net\n",
      "step: 45120 \n",
      " updating target net\n",
      "step: 45184 \n",
      " updating target net\n",
      "step: 45248 \n",
      " updating target net\n",
      "step: 45312 \n",
      " updating target net\n",
      "step: 45376 \n",
      " updating target net\n",
      "step: 45440 \n",
      " updating target net\n",
      "step: 45504 \n",
      " updating target net\n",
      "step: 45568 \n",
      " updating target net\n",
      "step: 45632 \n",
      " updating target net\n"
     ]
    },
    {
     "name": "stderr",
     "output_type": "stream",
     "text": [
      " 24%|██▍       | 487/2000 [00:11<00:55, 27.35it/s]"
     ]
    },
    {
     "name": "stdout",
     "output_type": "stream",
     "text": [
      "step: 45696 \n",
      " updating target net\n",
      "step: 45760 \n",
      " updating target net\n",
      "step: 45824 \n",
      " updating target net\n",
      "step: 45888 \n",
      " updating target net\n",
      "step: 45952 \n",
      " updating target net\n",
      "step: 46016 \n",
      " updating target net\n",
      "step: 46080 \n",
      " updating target net\n",
      "step: 46144 \n",
      " updating target net\n",
      "step: 46208 \n",
      " updating target net\n",
      "step: 46272 \n",
      " updating target net\n",
      "step: 46336 \n",
      " updating target net\n",
      "step: 46400 \n",
      " updating target net\n",
      "step: 46464 \n",
      " updating target net\n"
     ]
    },
    {
     "name": "stderr",
     "output_type": "stream",
     "text": [
      " 25%|██▍       | 495/2000 [00:11<00:51, 29.31it/s]"
     ]
    },
    {
     "name": "stdout",
     "output_type": "stream",
     "text": [
      "step: 46528 \n",
      " updating target net\n",
      "step: 46592 \n",
      " updating target net\n",
      "step: 46656 \n",
      " updating target net\n",
      "step: 46720 \n",
      " updating target net\n",
      "step: 46784 \n",
      " updating target net\n",
      "step: 46848 \n",
      " updating target net\n",
      "step: 46912 \n",
      " updating target net\n",
      "step: 46976 \n",
      " updating target net\n",
      "step: 47040 \n",
      " updating target net\n",
      "step: 47104 \n",
      " updating target net\n",
      "step: 47168 \n",
      " updating target net\n",
      "step: 47232 \n",
      " updating target net\n"
     ]
    },
    {
     "name": "stderr",
     "output_type": "stream",
     "text": [
      " 25%|██▍       | 499/2000 [00:12<00:52, 28.60it/s]"
     ]
    },
    {
     "name": "stdout",
     "output_type": "stream",
     "text": [
      "step: 47296 \n",
      " updating target net\n",
      "step: 47360 \n",
      " updating target net\n",
      "step: 47424 \n",
      " updating target net\n",
      "step: 47488 \n",
      " updating target net\n",
      "step: 47552 \n",
      " updating target net\n",
      "step: 47616 \n",
      " updating target net\n",
      "step: 47680 \n",
      " updating target net\n",
      "step: 47744 \n",
      " updating target net\n",
      "step: 47808 \n",
      " updating target net\n",
      "step: 47872 \n",
      " updating target net\n",
      "step: 47936 \n",
      " updating target net\n",
      "step: 48000 \n",
      " updating target net\n"
     ]
    },
    {
     "name": "stderr",
     "output_type": "stream",
     "text": [
      " 25%|██▌       | 507/2000 [00:12<00:50, 29.33it/s]"
     ]
    },
    {
     "name": "stdout",
     "output_type": "stream",
     "text": [
      "step: 48064 \n",
      " updating target net\n",
      "step: 48128 \n",
      " updating target net\n",
      "step: 48192 \n",
      " updating target net\n",
      "step: 48256 \n",
      " updating target net\n",
      "step: 48320 \n",
      " updating target net\n",
      "step: 48384 \n",
      " updating target net\n",
      "step: 48448 \n",
      " updating target net\n",
      "step: 48512 \n",
      " updating target net\n",
      "step: 48576 \n",
      " updating target net\n"
     ]
    },
    {
     "name": "stderr",
     "output_type": "stream",
     "text": [
      " 26%|██▌       | 511/2000 [00:12<00:52, 28.27it/s]"
     ]
    },
    {
     "name": "stdout",
     "output_type": "stream",
     "text": [
      "step: 48640 \n",
      " updating target net\n",
      "step: 48704 \n",
      " updating target net\n",
      "step: 48768 \n",
      " updating target net\n",
      "step: 48832 \n",
      " updating target net\n",
      "step: 48896 \n",
      " updating target net\n",
      "step: 48960 \n",
      " updating target net\n",
      "step: 49024 \n",
      " updating target net\n",
      "step: 49088 \n",
      " updating target net\n"
     ]
    },
    {
     "name": "stderr",
     "output_type": "stream",
     "text": [
      " 26%|██▌       | 514/2000 [00:12<00:53, 27.61it/s]"
     ]
    },
    {
     "name": "stdout",
     "output_type": "stream",
     "text": [
      "step: 49152 \n",
      " updating target net\n",
      "step: 49216 \n",
      " updating target net\n",
      "step: 49280 \n",
      " updating target net\n",
      "step: 49344 \n",
      " updating target net\n",
      "step: 49408 \n",
      " updating target net\n",
      "step: 49472 \n",
      " updating target net\n",
      "step: 49536 \n",
      " updating target net\n",
      "step: 49600 \n",
      " updating target net\n",
      "step: 49664 \n",
      " updating target net\n",
      "step: 49728 \n",
      " updating target net\n",
      "step: 49792 \n",
      " updating target net\n",
      "step: 49856 \n",
      " updating target net\n",
      "step: 49920 \n",
      " updating target net\n"
     ]
    },
    {
     "name": "stderr",
     "output_type": "stream",
     "text": [
      " 26%|██▌       | 522/2000 [00:13<00:57, 25.88it/s]"
     ]
    },
    {
     "name": "stdout",
     "output_type": "stream",
     "text": [
      "step: 49984 \n",
      " updating target net\n",
      "step: 50048 \n",
      " updating target net\n",
      "step: 50112 \n",
      " updating target net\n",
      "step: 50176 \n",
      " updating target net\n",
      "step: 50240 \n",
      " updating target net\n",
      "step: 50304 \n",
      " updating target net\n",
      "step: 50368 \n",
      " updating target net\n",
      "step: 50432 \n",
      " updating target net\n",
      "step: 50496 \n",
      " updating target net\n",
      "step: 50560 \n",
      " updating target net\n",
      "step: 50624 \n",
      " updating target net\n"
     ]
    },
    {
     "name": "stderr",
     "output_type": "stream",
     "text": [
      " 26%|██▋       | 526/2000 [00:13<00:53, 27.48it/s]"
     ]
    },
    {
     "name": "stdout",
     "output_type": "stream",
     "text": [
      "step: 50688 \n",
      " updating target net\n",
      "step: 50752 \n",
      " updating target net\n",
      "step: 50816 \n",
      " updating target net\n",
      "step: 50880 \n",
      " updating target net\n",
      "step: 50944 \n",
      " updating target net\n",
      "step: 51008 \n",
      " updating target net\n",
      "step: 51072 \n",
      " updating target net\n",
      "step: 51136 \n",
      " updating target net\n",
      "step: 51200 \n",
      " updating target net\n",
      "step: 51264 \n",
      " updating target net\n",
      "step: 51328 \n",
      " updating target net\n",
      "step: 51392 \n",
      " updating target net\n"
     ]
    },
    {
     "name": "stderr",
     "output_type": "stream",
     "text": [
      " 27%|██▋       | 532/2000 [00:13<00:59, 24.77it/s]"
     ]
    },
    {
     "name": "stdout",
     "output_type": "stream",
     "text": [
      "step: 51456 \n",
      " updating target net\n",
      "step: 51520 \n",
      " updating target net\n",
      "step: 51584 \n",
      " updating target net\n",
      "step: 51648 \n",
      " updating target net\n",
      "step: 51712 \n",
      " updating target net\n",
      "step: 51776 \n",
      " updating target net\n",
      "step: 51840 \n",
      " updating target net\n",
      "step: 51904 \n",
      " updating target net\n",
      "step: 51968 \n",
      " updating target net\n",
      "step: 52032 \n",
      " updating target net\n"
     ]
    },
    {
     "name": "stderr",
     "output_type": "stream",
     "text": [
      " 27%|██▋       | 540/2000 [00:13<00:51, 28.44it/s]"
     ]
    },
    {
     "name": "stdout",
     "output_type": "stream",
     "text": [
      "step: 52096 \n",
      " updating target net\n",
      "step: 52160 \n",
      " updating target net\n",
      "step: 52224 \n",
      " updating target net\n",
      "step: 52288 \n",
      " updating target net\n",
      "step: 52352 \n",
      " updating target net\n",
      "step: 52416 \n",
      " updating target net\n",
      "step: 52480 \n",
      " updating target net\n",
      "step: 52544 \n",
      " updating target net\n",
      "step: 52608 \n",
      " updating target net\n",
      "step: 52672 \n",
      " updating target net\n",
      "step: 52736 \n",
      " updating target net\n"
     ]
    },
    {
     "name": "stderr",
     "output_type": "stream",
     "text": [
      " 27%|██▋       | 543/2000 [00:13<01:00, 24.02it/s]"
     ]
    },
    {
     "name": "stdout",
     "output_type": "stream",
     "text": [
      "step: 52800 \n",
      " updating target net\n",
      "step: 52864 \n",
      " updating target net\n",
      "step: 52928 \n",
      " updating target net\n",
      "step: 52992 \n",
      " updating target net\n",
      "step: 53056 \n",
      " updating target net\n",
      "step: 53120 \n",
      " updating target net\n",
      "step: 53184 \n",
      " updating target net\n",
      "step: 53248 \n",
      " updating target net\n",
      "step: 53312 \n",
      " updating target net\n",
      "step: 53376 \n",
      " updating target net\n"
     ]
    },
    {
     "name": "stderr",
     "output_type": "stream",
     "text": [
      " 27%|██▋       | 549/2000 [00:14<01:02, 23.34it/s]"
     ]
    },
    {
     "name": "stdout",
     "output_type": "stream",
     "text": [
      "step: 53440 \n",
      " updating target net\n",
      "step: 53504 \n",
      " updating target net\n",
      "step: 53568 \n",
      " updating target net\n",
      "step: 53632 \n",
      " updating target net\n",
      "step: 53696 \n",
      " updating target net\n",
      "step: 53760 \n",
      " updating target net\n",
      "step: 53824 \n",
      " updating target net\n",
      "step: 53888 \n",
      " updating target net\n",
      "step: 53952 \n",
      " updating target net\n",
      "step: 54016 \n",
      " updating target net\n",
      "step: 54080 \n",
      " updating target net\n",
      "step: 54144 \n",
      " updating target net\n",
      "step: 54208 \n",
      " updating target net\n"
     ]
    },
    {
     "name": "stderr",
     "output_type": "stream",
     "text": [
      " 28%|██▊       | 553/2000 [00:14<00:54, 26.33it/s]"
     ]
    },
    {
     "name": "stdout",
     "output_type": "stream",
     "text": [
      "step: 54272 \n",
      " updating target net\n",
      "step: 54336 \n",
      " updating target net\n",
      "step: 54400 \n",
      " updating target net\n",
      "step: 54464 \n",
      " updating target net\n",
      "step: 54528 \n",
      " updating target net\n",
      "step: 54592 \n",
      " updating target net\n",
      "step: 54656 \n",
      " updating target net\n",
      "step: 54720 \n",
      " updating target net\n",
      "step: 54784 \n",
      " updating target net\n"
     ]
    },
    {
     "name": "stderr",
     "output_type": "stream",
     "text": [
      " 28%|██▊       | 559/2000 [00:14<00:58, 24.70it/s]"
     ]
    },
    {
     "name": "stdout",
     "output_type": "stream",
     "text": [
      "step: 54848 \n",
      " updating target net\n",
      "step: 54912 \n",
      " updating target net\n",
      "step: 54976 \n",
      " updating target net\n",
      "step: 55040 \n",
      " updating target net\n",
      "step: 55104 \n",
      " updating target net\n",
      "step: 55168 \n",
      " updating target net\n",
      "step: 55232 \n",
      " updating target net\n",
      "step: 55296 \n",
      " updating target net\n",
      "step: 55360 \n",
      " updating target net\n",
      "step: 55424 \n",
      " updating target net\n",
      "step: 55488 \n",
      " updating target net\n",
      "step: 55552 \n",
      " updating target net\n",
      "step: 55616 \n",
      " updating target net\n",
      "step: 55680 \n",
      " updating target net\n"
     ]
    },
    {
     "name": "stderr",
     "output_type": "stream",
     "text": [
      " 28%|██▊       | 565/2000 [00:14<00:56, 25.54it/s]"
     ]
    },
    {
     "name": "stdout",
     "output_type": "stream",
     "text": [
      "step: 55744 \n",
      " updating target net\n",
      "step: 55808 \n",
      " updating target net\n",
      "step: 55872 \n",
      " updating target net\n",
      "step: 55936 \n",
      " updating target net\n",
      "step: 56000 \n",
      " updating target net\n",
      "step: 56064 \n",
      " updating target net\n",
      "step: 56128 \n",
      " updating target net\n",
      "step: 56192 \n",
      " updating target net\n",
      "step: 56256 \n",
      " updating target net\n",
      "step: 56320 \n",
      " updating target net\n",
      "step: 56384 \n",
      " updating target net\n",
      "step: 56448 \n",
      " updating target net\n"
     ]
    },
    {
     "name": "stderr",
     "output_type": "stream",
     "text": [
      " 29%|██▊       | 571/2000 [00:14<00:55, 25.59it/s]"
     ]
    },
    {
     "name": "stdout",
     "output_type": "stream",
     "text": [
      "step: 56512 \n",
      " updating target net\n",
      "step: 56576 \n",
      " updating target net\n",
      "step: 56640 \n",
      " updating target net\n",
      "step: 56704 \n",
      " updating target net\n",
      "step: 56768 \n",
      " updating target net\n",
      "step: 56832 \n",
      " updating target net\n",
      "step: 56896 \n",
      " updating target net\n",
      "step: 56960 \n",
      " updating target net\n",
      "step: 57024 \n",
      " updating target net\n",
      "step: 57088 \n",
      " updating target net\n",
      "step: 57152 \n",
      " updating target net\n",
      "step: 57216 \n",
      " updating target net\n"
     ]
    },
    {
     "name": "stderr",
     "output_type": "stream",
     "text": [
      " 29%|██▊       | 574/2000 [00:15<00:58, 24.41it/s]"
     ]
    },
    {
     "name": "stdout",
     "output_type": "stream",
     "text": [
      "step: 57280 \n",
      " updating target net\n",
      "step: 57344 \n",
      " updating target net\n",
      "step: 57408 \n",
      " updating target net\n",
      "step: 57472 \n",
      " updating target net\n",
      "step: 57536 \n",
      " updating target net\n",
      "step: 57600 \n",
      " updating target net\n",
      "step: 57664 \n",
      " updating target net\n",
      "step: 57728 \n",
      " updating target net\n",
      "step: 57792 \n",
      " updating target net\n",
      "step: 57856 \n",
      " updating target net\n",
      "step: 57920 \n",
      " updating target net\n"
     ]
    },
    {
     "name": "stderr",
     "output_type": "stream",
     "text": [
      " 29%|██▉       | 581/2000 [00:15<00:52, 26.99it/s]"
     ]
    },
    {
     "name": "stdout",
     "output_type": "stream",
     "text": [
      "step: 57984 \n",
      " updating target net\n",
      "step: 58048 \n",
      " updating target net\n",
      "step: 58112 \n",
      " updating target net\n",
      "step: 58176 \n",
      " updating target net\n",
      "step: 58240 \n",
      " updating target net\n",
      "step: 58304 \n",
      " updating target net\n",
      "step: 58368 \n",
      " updating target net\n",
      "step: 58432 \n",
      " updating target net\n",
      "step: 58496 \n",
      " updating target net\n",
      "step: 58560 \n",
      " updating target net\n",
      "step: 58624 \n",
      " updating target net\n"
     ]
    },
    {
     "name": "stderr",
     "output_type": "stream",
     "text": [
      " 29%|██▉       | 588/2000 [00:15<00:49, 28.31it/s]"
     ]
    },
    {
     "name": "stdout",
     "output_type": "stream",
     "text": [
      "step: 58688 \n",
      " updating target net\n",
      "step: 58752 \n",
      " updating target net\n",
      "step: 58816 \n",
      " updating target net\n",
      "step: 58880 \n",
      " updating target net\n",
      "step: 58944 \n",
      " updating target net\n",
      "step: 59008 \n",
      " updating target net\n",
      "step: 59072 \n",
      " updating target net\n",
      "step: 59136 \n",
      " updating target net\n",
      "step: 59200 \n",
      " updating target net\n",
      "step: 59264 \n",
      " updating target net\n",
      "step: 59328 \n",
      " updating target net\n",
      "step: 59392 \n",
      " updating target net\n"
     ]
    },
    {
     "name": "stderr",
     "output_type": "stream",
     "text": [
      " 30%|██▉       | 595/2000 [00:15<00:50, 27.63it/s]"
     ]
    },
    {
     "name": "stdout",
     "output_type": "stream",
     "text": [
      "step: 59456 \n",
      " updating target net\n",
      "step: 59520 \n",
      " updating target net\n",
      "step: 59584 \n",
      " updating target net\n",
      "step: 59648 \n",
      " updating target net\n",
      "step: 59712 \n",
      " updating target net\n",
      "step: 59776 \n",
      " updating target net\n",
      "step: 59840 \n",
      " updating target net\n",
      "step: 59904 \n",
      " updating target net\n",
      "step: 59968 \n",
      " updating target net\n",
      "step: 60032 \n",
      " updating target net\n",
      "step: 60096 \n",
      " updating target net\n"
     ]
    },
    {
     "name": "stderr",
     "output_type": "stream",
     "text": [
      " 30%|██▉       | 598/2000 [00:15<00:51, 27.32it/s]"
     ]
    },
    {
     "name": "stdout",
     "output_type": "stream",
     "text": [
      "step: 60160 \n",
      " updating target net\n",
      "step: 60224 \n",
      " updating target net\n",
      "step: 60288 \n",
      " updating target net\n",
      "step: 60352 \n",
      " updating target net\n",
      "step: 60416 \n",
      " updating target net\n",
      "step: 60480 \n",
      " updating target net\n",
      "step: 60544 \n",
      " updating target net\n",
      "step: 60608 \n",
      " updating target net\n",
      "step: 60672 \n",
      " updating target net\n",
      "step: 60736 \n",
      " updating target net\n",
      "step: 60800 \n",
      " updating target net\n"
     ]
    },
    {
     "name": "stderr",
     "output_type": "stream",
     "text": [
      " 30%|███       | 604/2000 [00:16<00:54, 25.80it/s]"
     ]
    },
    {
     "name": "stdout",
     "output_type": "stream",
     "text": [
      "step: 60864 \n",
      " updating target net\n",
      "step: 60928 \n",
      " updating target net\n",
      "step: 60992 \n",
      " updating target net\n",
      "step: 61056 \n",
      " updating target net\n",
      "step: 61120 \n",
      " updating target net\n",
      "step: 61184 \n",
      " updating target net\n",
      "step: 61248 \n",
      " updating target net\n",
      "step: 61312 \n",
      " updating target net\n",
      "step: 61376 \n",
      " updating target net\n",
      "step: 61440 \n",
      " updating target net\n"
     ]
    },
    {
     "name": "stderr",
     "output_type": "stream",
     "text": [
      " 30%|███       | 607/2000 [00:16<00:58, 23.67it/s]"
     ]
    },
    {
     "name": "stdout",
     "output_type": "stream",
     "text": [
      "step: 61504 \n",
      " updating target net\n",
      "step: 61568 \n",
      " updating target net\n",
      "step: 61632 \n",
      " updating target net\n",
      "step: 61696 \n",
      " updating target net\n",
      "step: 61760 \n",
      " updating target net\n",
      "step: 61824 \n",
      " updating target net\n",
      "step: 61888 \n",
      " updating target net\n",
      "step: 61952 \n",
      " updating target net\n"
     ]
    },
    {
     "name": "stderr",
     "output_type": "stream",
     "text": [
      " 31%|███       | 613/2000 [00:16<00:59, 23.50it/s]"
     ]
    },
    {
     "name": "stdout",
     "output_type": "stream",
     "text": [
      "step: 62016 \n",
      " updating target net\n",
      "step: 62080 \n",
      " updating target net\n",
      "step: 62144 \n",
      " updating target net\n",
      "step: 62208 \n",
      " updating target net\n",
      "step: 62272 \n",
      " updating target net\n",
      "step: 62336 \n",
      " updating target net\n",
      "step: 62400 \n",
      " updating target net\n",
      "step: 62464 \n",
      " updating target net\n",
      "step: 62528 \n",
      " updating target net\n",
      "step: 62592 \n",
      " updating target net\n",
      "step: 62656 \n",
      " updating target net\n",
      "step: 62720 \n",
      " updating target net\n"
     ]
    },
    {
     "name": "stderr",
     "output_type": "stream",
     "text": [
      " 31%|███       | 619/2000 [00:16<00:53, 25.62it/s]"
     ]
    },
    {
     "name": "stdout",
     "output_type": "stream",
     "text": [
      "step: 62784 \n",
      " updating target net\n",
      "step: 62848 \n",
      " updating target net\n",
      "step: 62912 \n",
      " updating target net\n",
      "step: 62976 \n",
      " updating target net\n",
      "step: 63040 \n",
      " updating target net\n",
      "step: 63104 \n",
      " updating target net\n",
      "step: 63168 \n",
      " updating target net\n",
      "step: 63232 \n",
      " updating target net\n",
      "step: 63296 \n",
      " updating target net\n",
      "step: 63360 \n",
      " updating target net\n"
     ]
    },
    {
     "name": "stderr",
     "output_type": "stream",
     "text": [
      " 31%|███▏      | 625/2000 [00:17<00:56, 24.18it/s]"
     ]
    },
    {
     "name": "stdout",
     "output_type": "stream",
     "text": [
      "step: 63424 \n",
      " updating target net\n",
      "step: 63488 \n",
      " updating target net\n",
      "step: 63552 \n",
      " updating target net\n",
      "step: 63616 \n",
      " updating target net\n",
      "step: 63680 \n",
      " updating target net\n",
      "step: 63744 \n",
      " updating target net\n",
      "step: 63808 \n",
      " updating target net\n",
      "step: 63872 \n",
      " updating target net\n",
      "step: 63936 \n",
      " updating target net\n"
     ]
    },
    {
     "name": "stderr",
     "output_type": "stream",
     "text": [
      " 32%|███▏      | 631/2000 [00:17<00:52, 25.86it/s]"
     ]
    },
    {
     "name": "stdout",
     "output_type": "stream",
     "text": [
      "step: 64000 \n",
      " updating target net\n",
      "step: 64064 \n",
      " updating target net\n",
      "step: 64128 \n",
      " updating target net\n",
      "step: 64192 \n",
      " updating target net\n",
      "step: 64256 \n",
      " updating target net\n",
      "step: 64320 \n",
      " updating target net\n",
      "step: 64384 \n",
      " updating target net\n",
      "step: 64448 \n",
      " updating target net\n",
      "step: 64512 \n",
      " updating target net\n",
      "step: 64576 \n",
      " updating target net\n",
      "step: 64640 \n",
      " updating target net\n",
      "step: 64704 \n",
      " updating target net\n",
      "step: 64768 \n",
      " updating target net\n"
     ]
    },
    {
     "name": "stderr",
     "output_type": "stream",
     "text": [
      " 32%|███▏      | 635/2000 [00:17<00:46, 29.40it/s]"
     ]
    },
    {
     "name": "stdout",
     "output_type": "stream",
     "text": [
      "step: 64832 \n",
      " updating target net\n",
      "step: 64896 \n",
      " updating target net\n",
      "step: 64960 \n",
      " updating target net\n",
      "step: 65024 \n",
      " updating target net\n",
      "step: 65088 \n",
      " updating target net\n",
      "step: 65152 \n",
      " updating target net\n",
      "step: 65216 \n",
      " updating target net\n",
      "step: 65280 \n",
      " updating target net\n",
      "step: 65344 \n",
      " updating target net\n",
      "step: 65408 \n",
      " updating target net\n"
     ]
    },
    {
     "name": "stderr",
     "output_type": "stream",
     "text": [
      " 32%|███▏      | 643/2000 [00:17<00:42, 32.12it/s]"
     ]
    },
    {
     "name": "stdout",
     "output_type": "stream",
     "text": [
      "step: 65472 \n",
      " updating target net\n",
      "step: 65536 \n",
      " updating target net\n",
      "step: 65600 \n",
      " updating target net\n",
      "step: 65664 \n",
      " updating target net\n",
      "step: 65728 \n",
      " updating target net\n",
      "step: 65792 \n",
      " updating target net\n",
      "step: 65856 \n",
      " updating target net\n",
      "step: 65920 \n",
      " updating target net\n",
      "step: 65984 \n",
      " updating target net\n",
      "step: 66048 \n",
      " updating target net\n",
      "step: 66112 \n",
      " updating target net\n",
      "step: 66176 \n",
      " updating target net\n"
     ]
    },
    {
     "name": "stderr",
     "output_type": "stream",
     "text": [
      " 32%|███▏      | 647/2000 [00:17<00:45, 29.86it/s]"
     ]
    },
    {
     "name": "stdout",
     "output_type": "stream",
     "text": [
      "step: 66240 \n",
      " updating target net\n",
      "step: 66304 \n",
      " updating target net\n",
      "step: 66368 \n",
      " updating target net\n",
      "step: 66432 \n",
      " updating target net\n",
      "step: 66496 \n",
      " updating target net\n",
      "step: 66560 \n",
      " updating target net\n",
      "step: 66624 \n",
      " updating target net\n",
      "step: 66688 \n",
      " updating target net\n",
      "step: 66752 \n",
      " updating target net\n",
      "step: 66816 \n",
      " updating target net\n"
     ]
    },
    {
     "name": "stderr",
     "output_type": "stream",
     "text": [
      " 33%|███▎      | 651/2000 [00:17<00:49, 27.27it/s]"
     ]
    },
    {
     "name": "stdout",
     "output_type": "stream",
     "text": [
      "step: 66880 \n",
      " updating target net\n",
      "step: 66944 \n",
      " updating target net\n",
      "step: 67008 \n",
      " updating target net\n",
      "step: 67072 \n",
      " updating target net\n",
      "step: 67136 \n",
      " updating target net\n",
      "step: 67200 \n",
      " updating target net\n",
      "step: 67264 \n",
      " updating target net\n"
     ]
    },
    {
     "name": "stderr",
     "output_type": "stream",
     "text": [
      " 33%|███▎      | 657/2000 [00:18<00:57, 23.25it/s]"
     ]
    },
    {
     "name": "stdout",
     "output_type": "stream",
     "text": [
      "step: 67328 \n",
      " updating target net\n",
      "step: 67392 \n",
      " updating target net\n",
      "step: 67456 \n",
      " updating target net\n",
      "step: 67520 \n",
      " updating target net\n",
      "step: 67584 \n",
      " updating target net\n",
      "step: 67648 \n",
      " updating target net\n",
      "step: 67712 \n",
      " updating target net\n",
      "step: 67776 \n",
      " updating target net\n",
      "step: 67840 \n",
      " updating target net\n",
      "step: 67904 \n",
      " updating target net\n"
     ]
    },
    {
     "name": "stderr",
     "output_type": "stream",
     "text": [
      " 33%|███▎      | 664/2000 [00:18<00:51, 26.12it/s]"
     ]
    },
    {
     "name": "stdout",
     "output_type": "stream",
     "text": [
      "step: 67968 \n",
      " updating target net\n",
      "step: 68032 \n",
      " updating target net\n",
      "step: 68096 \n",
      " updating target net\n",
      "step: 68160 \n",
      " updating target net\n",
      "step: 68224 \n",
      " updating target net\n",
      "step: 68288 \n",
      " updating target net\n",
      "step: 68352 \n",
      " updating target net\n",
      "step: 68416 \n",
      " updating target net\n",
      "step: 68480 \n",
      " updating target net\n",
      "step: 68544 \n",
      " updating target net\n",
      "step: 68608 \n",
      " updating target net\n",
      "step: 68672 \n",
      " updating target net\n"
     ]
    },
    {
     "name": "stderr",
     "output_type": "stream",
     "text": [
      " 34%|███▎      | 672/2000 [00:18<00:42, 30.97it/s]"
     ]
    },
    {
     "name": "stdout",
     "output_type": "stream",
     "text": [
      "step: 68736 \n",
      " updating target net\n",
      "step: 68800 \n",
      " updating target net\n",
      "step: 68864 \n",
      " updating target net\n",
      "step: 68928 \n",
      " updating target net\n",
      "step: 68992 \n",
      " updating target net\n",
      "step: 69056 \n",
      " updating target net\n",
      "step: 69120 \n",
      " updating target net\n",
      "step: 69184 \n",
      " updating target net\n",
      "step: 69248 \n",
      " updating target net\n",
      "step: 69312 \n",
      " updating target net\n",
      "step: 69376 \n",
      " updating target net\n",
      "step: 69440 \n",
      " updating target net\n",
      "step: 69504 \n",
      " updating target net\n"
     ]
    },
    {
     "name": "stderr",
     "output_type": "stream",
     "text": [
      " 34%|███▍      | 676/2000 [00:18<00:42, 30.99it/s]"
     ]
    },
    {
     "name": "stdout",
     "output_type": "stream",
     "text": [
      "step: 69568 \n",
      " updating target net\n",
      "step: 69632 \n",
      " updating target net\n",
      "step: 69696 \n",
      " updating target net\n",
      "step: 69760 \n",
      " updating target net\n",
      "step: 69824 \n",
      " updating target net\n",
      "step: 69888 \n",
      " updating target net\n",
      "step: 69952 \n",
      " updating target net\n",
      "step: 70016 \n",
      " updating target net\n",
      "step: 70080 \n",
      " updating target net\n",
      "step: 70144 \n",
      " updating target net\n",
      "step: 70208 \n",
      " updating target net\n",
      "step: 70272 \n",
      " updating target net\n",
      "step: 70336 \n",
      " updating target net\n"
     ]
    },
    {
     "name": "stderr",
     "output_type": "stream",
     "text": [
      " 34%|███▍      | 685/2000 [00:19<00:38, 33.92it/s]"
     ]
    },
    {
     "name": "stdout",
     "output_type": "stream",
     "text": [
      "step: 70400 \n",
      " updating target net\n",
      "step: 70464 \n",
      " updating target net\n",
      "step: 70528 \n",
      " updating target net\n",
      "step: 70592 \n",
      " updating target net\n",
      "step: 70656 \n",
      " updating target net\n",
      "step: 70720 \n",
      " updating target net\n",
      "step: 70784 \n",
      " updating target net\n",
      "step: 70848 \n",
      " updating target net\n",
      "step: 70912 \n",
      " updating target net\n",
      "step: 70976 \n",
      " updating target net\n",
      "step: 71040 \n",
      " updating target net\n",
      "step: 71104 \n",
      " updating target net\n",
      "step: 71168 \n",
      " updating target net\n",
      "step: 71232 \n",
      " updating target net\n"
     ]
    },
    {
     "name": "stderr",
     "output_type": "stream",
     "text": [
      " 34%|███▍      | 689/2000 [00:19<00:39, 33.33it/s]"
     ]
    },
    {
     "name": "stdout",
     "output_type": "stream",
     "text": [
      "step: 71296 \n",
      " updating target net\n",
      "step: 71360 \n",
      " updating target net\n",
      "step: 71424 \n",
      " updating target net\n",
      "step: 71488 \n",
      " updating target net\n",
      "step: 71552 \n",
      " updating target net\n",
      "step: 71616 \n",
      " updating target net\n",
      "step: 71680 \n",
      " updating target net\n",
      "step: 71744 \n",
      " updating target net\n",
      "step: 71808 \n",
      " updating target net\n",
      "step: 71872 \n",
      " updating target net\n"
     ]
    },
    {
     "name": "stderr",
     "output_type": "stream",
     "text": [
      " 35%|███▍      | 697/2000 [00:19<00:44, 29.38it/s]"
     ]
    },
    {
     "name": "stdout",
     "output_type": "stream",
     "text": [
      "step: 71936 \n",
      " updating target net\n",
      "step: 72000 \n",
      " updating target net\n",
      "step: 72064 \n",
      " updating target net\n",
      "step: 72128 \n",
      " updating target net\n",
      "step: 72192 \n",
      " updating target net\n",
      "step: 72256 \n",
      " updating target net\n",
      "step: 72320 \n",
      " updating target net\n",
      "step: 72384 \n",
      " updating target net\n",
      "step: 72448 \n",
      " updating target net\n",
      "step: 72512 \n",
      " updating target net\n"
     ]
    },
    {
     "name": "stderr",
     "output_type": "stream",
     "text": [
      " 35%|███▌      | 700/2000 [00:19<00:47, 27.56it/s]"
     ]
    },
    {
     "name": "stdout",
     "output_type": "stream",
     "text": [
      "step: 72576 \n",
      " updating target net\n",
      "step: 72640 \n",
      " updating target net\n",
      "step: 72704 \n",
      " updating target net\n",
      "step: 72768 \n",
      " updating target net\n",
      "step: 72832 \n",
      " updating target net\n",
      "step: 72896 \n",
      " updating target net\n",
      "step: 72960 \n",
      " updating target net\n",
      "step: 73024 \n",
      " updating target net\n"
     ]
    },
    {
     "name": "stderr",
     "output_type": "stream",
     "text": [
      " 35%|███▌      | 706/2000 [00:19<00:53, 23.99it/s]"
     ]
    },
    {
     "name": "stdout",
     "output_type": "stream",
     "text": [
      "step: 73088 \n",
      " updating target net\n",
      "step: 73152 \n",
      " updating target net\n",
      "step: 73216 \n",
      " updating target net\n",
      "step: 73280 \n",
      " updating target net\n",
      "step: 73344 \n",
      " updating target net\n",
      "step: 73408 \n",
      " updating target net\n",
      "step: 73472 \n",
      " updating target net\n",
      "step: 73536 \n",
      " updating target net\n",
      "step: 73600 \n",
      " updating target net\n",
      "step: 73664 \n",
      " updating target net\n",
      "step: 73728 \n",
      " updating target net\n"
     ]
    },
    {
     "name": "stderr",
     "output_type": "stream",
     "text": [
      " 36%|███▌      | 714/2000 [00:20<00:44, 28.65it/s]"
     ]
    },
    {
     "name": "stdout",
     "output_type": "stream",
     "text": [
      "step: 73792 \n",
      " updating target net\n",
      "step: 73856 \n",
      " updating target net\n",
      "step: 73920 \n",
      " updating target net\n",
      "step: 73984 \n",
      " updating target net\n",
      "step: 74048 \n",
      " updating target net\n",
      "step: 74112 \n",
      " updating target net\n",
      "step: 74176 \n",
      " updating target net\n",
      "step: 74240 \n",
      " updating target net\n",
      "step: 74304 \n",
      " updating target net\n",
      "step: 74368 \n",
      " updating target net\n",
      "step: 74432 \n",
      " updating target net\n"
     ]
    },
    {
     "name": "stderr",
     "output_type": "stream",
     "text": [
      " 36%|███▌      | 717/2000 [00:20<00:47, 26.79it/s]"
     ]
    },
    {
     "name": "stdout",
     "output_type": "stream",
     "text": [
      "step: 74496 \n",
      " updating target net\n",
      "step: 74560 \n",
      " updating target net\n",
      "step: 74624 \n",
      " updating target net\n",
      "step: 74688 \n",
      " updating target net\n",
      "step: 74752 \n",
      " updating target net\n",
      "step: 74816 \n",
      " updating target net\n"
     ]
    },
    {
     "name": "stderr",
     "output_type": "stream",
     "text": [
      " 36%|███▌      | 723/2000 [00:20<00:59, 21.53it/s]"
     ]
    },
    {
     "name": "stdout",
     "output_type": "stream",
     "text": [
      "step: 74880 \n",
      " updating target net\n",
      "step: 74944 \n",
      " updating target net\n",
      "step: 75008 \n",
      " updating target net\n",
      "step: 75072 \n",
      " updating target net\n",
      "step: 75136 \n",
      " updating target net\n",
      "step: 75200 \n",
      " updating target net\n",
      "step: 75264 \n",
      " updating target net\n",
      "step: 75328 \n",
      " updating target net\n",
      "step: 75392 \n",
      " updating target net\n"
     ]
    },
    {
     "name": "stderr",
     "output_type": "stream",
     "text": [
      " 36%|███▋      | 726/2000 [00:20<00:59, 21.26it/s]"
     ]
    },
    {
     "name": "stdout",
     "output_type": "stream",
     "text": [
      "step: 75456 \n",
      " updating target net\n",
      "step: 75520 \n",
      " updating target net\n",
      "step: 75584 \n",
      " updating target net\n",
      "step: 75648 \n",
      " updating target net\n",
      "step: 75712 \n",
      " updating target net\n",
      "step: 75776 \n",
      " updating target net\n",
      "step: 75840 \n",
      " updating target net\n",
      "step: 75904 \n",
      " updating target net\n"
     ]
    },
    {
     "name": "stderr",
     "output_type": "stream",
     "text": [
      " 37%|███▋      | 732/2000 [00:21<01:01, 20.56it/s]"
     ]
    },
    {
     "name": "stdout",
     "output_type": "stream",
     "text": [
      "step: 75968 \n",
      " updating target net\n",
      "step: 76032 \n",
      " updating target net\n",
      "step: 76096 \n",
      " updating target net\n",
      "step: 76160 \n",
      " updating target net\n",
      "step: 76224 \n",
      " updating target net\n",
      "step: 76288 \n",
      " updating target net\n",
      "step: 76352 \n",
      " updating target net\n",
      "step: 76416 \n",
      " updating target net\n"
     ]
    },
    {
     "name": "stderr",
     "output_type": "stream",
     "text": [
      " 37%|███▋      | 735/2000 [00:21<00:58, 21.49it/s]"
     ]
    },
    {
     "name": "stdout",
     "output_type": "stream",
     "text": [
      "step: 76480 \n",
      " updating target net\n",
      "step: 76544 \n",
      " updating target net\n",
      "step: 76608 \n",
      " updating target net\n",
      "step: 76672 \n",
      " updating target net\n",
      "step: 76736 \n",
      " updating target net\n",
      "step: 76800 \n",
      " updating target net\n",
      "step: 76864 \n",
      " updating target net\n",
      "step: 76928 \n",
      " updating target net\n"
     ]
    },
    {
     "name": "stderr",
     "output_type": "stream",
     "text": [
      " 37%|███▋      | 741/2000 [00:21<00:59, 20.99it/s]"
     ]
    },
    {
     "name": "stdout",
     "output_type": "stream",
     "text": [
      "step: 76992 \n",
      " updating target net\n",
      "step: 77056 \n",
      " updating target net\n",
      "step: 77120 \n",
      " updating target net\n",
      "step: 77184 \n",
      " updating target net\n",
      "step: 77248 \n",
      " updating target net\n",
      "step: 77312 \n",
      " updating target net\n",
      "step: 77376 \n",
      " updating target net\n",
      "step: 77440 \n",
      " updating target net\n",
      "step: 77504 \n",
      " updating target net\n"
     ]
    },
    {
     "name": "stderr",
     "output_type": "stream",
     "text": [
      " 37%|███▋      | 747/2000 [00:21<00:56, 22.28it/s]"
     ]
    },
    {
     "name": "stdout",
     "output_type": "stream",
     "text": [
      "step: 77568 \n",
      " updating target net\n",
      "step: 77632 \n",
      " updating target net\n",
      "step: 77696 \n",
      " updating target net\n",
      "step: 77760 \n",
      " updating target net\n",
      "step: 77824 \n",
      " updating target net\n",
      "step: 77888 \n",
      " updating target net\n",
      "step: 77952 \n",
      " updating target net\n",
      "step: 78016 \n",
      " updating target net\n",
      "step: 78080 \n",
      " updating target net\n",
      "step: 78144 \n",
      " updating target net\n"
     ]
    },
    {
     "name": "stderr",
     "output_type": "stream",
     "text": [
      " 38%|███▊      | 750/2000 [00:21<00:51, 24.07it/s]"
     ]
    },
    {
     "name": "stdout",
     "output_type": "stream",
     "text": [
      "step: 78208 \n",
      " updating target net\n",
      "step: 78272 \n",
      " updating target net\n",
      "step: 78336 \n",
      " updating target net\n",
      "step: 78400 \n",
      " updating target net\n",
      "step: 78464 \n",
      " updating target net\n",
      "step: 78528 \n",
      " updating target net\n",
      "step: 78592 \n",
      " updating target net\n",
      "step: 78656 \n",
      " updating target net\n"
     ]
    },
    {
     "name": "stderr",
     "output_type": "stream",
     "text": [
      " 38%|███▊      | 756/2000 [00:22<00:51, 24.31it/s]"
     ]
    },
    {
     "name": "stdout",
     "output_type": "stream",
     "text": [
      "step: 78720 \n",
      " updating target net\n",
      "step: 78784 \n",
      " updating target net\n",
      "step: 78848 \n",
      " updating target net\n",
      "step: 78912 \n",
      " updating target net\n",
      "step: 78976 \n",
      " updating target net\n",
      "step: 79040 \n",
      " updating target net\n",
      "step: 79104 \n",
      " updating target net\n",
      "step: 79168 \n",
      " updating target net\n"
     ]
    },
    {
     "name": "stderr",
     "output_type": "stream",
     "text": [
      " 38%|███▊      | 762/2000 [00:22<00:53, 23.09it/s]"
     ]
    },
    {
     "name": "stdout",
     "output_type": "stream",
     "text": [
      "step: 79232 \n",
      " updating target net\n",
      "step: 79296 \n",
      " updating target net\n",
      "step: 79360 \n",
      " updating target net\n",
      "step: 79424 \n",
      " updating target net\n",
      "step: 79488 \n",
      " updating target net\n",
      "step: 79552 \n",
      " updating target net\n",
      "step: 79616 \n",
      " updating target net\n",
      "step: 79680 \n",
      " updating target net\n"
     ]
    },
    {
     "name": "stderr",
     "output_type": "stream",
     "text": [
      " 38%|███▊      | 765/2000 [00:22<00:52, 23.65it/s]"
     ]
    },
    {
     "name": "stdout",
     "output_type": "stream",
     "text": [
      "step: 79744 \n",
      " updating target net\n",
      "step: 79808 \n",
      " updating target net\n",
      "step: 79872 \n",
      " updating target net\n",
      "step: 79936 \n",
      " updating target net\n",
      "step: 80000 \n",
      " updating target net\n",
      "step: 80064 \n",
      " updating target net\n",
      "step: 80128 \n",
      " updating target net\n"
     ]
    },
    {
     "name": "stderr",
     "output_type": "stream",
     "text": [
      " 39%|███▊      | 771/2000 [00:22<00:56, 21.87it/s]"
     ]
    },
    {
     "name": "stdout",
     "output_type": "stream",
     "text": [
      "step: 80192 \n",
      " updating target net\n",
      "step: 80256 \n",
      " updating target net\n",
      "step: 80320 \n",
      " updating target net\n",
      "step: 80384 \n",
      " updating target net\n",
      "step: 80448 \n",
      " updating target net\n",
      "step: 80512 \n",
      " updating target net\n",
      "step: 80576 \n",
      " updating target net\n"
     ]
    },
    {
     "name": "stderr",
     "output_type": "stream",
     "text": [
      " 39%|███▉      | 777/2000 [00:23<00:52, 23.49it/s]"
     ]
    },
    {
     "name": "stdout",
     "output_type": "stream",
     "text": [
      "step: 80640 \n",
      " updating target net\n",
      "step: 80704 \n",
      " updating target net\n",
      "step: 80768 \n",
      " updating target net\n",
      "step: 80832 \n",
      " updating target net\n",
      "step: 80896 \n",
      " updating target net\n",
      "step: 80960 \n",
      " updating target net\n",
      "step: 81024 \n",
      " updating target net\n",
      "step: 81088 \n",
      " updating target net\n",
      "step: 81152 \n",
      " updating target net\n"
     ]
    },
    {
     "name": "stderr",
     "output_type": "stream",
     "text": [
      " 39%|███▉      | 780/2000 [00:23<00:51, 23.61it/s]"
     ]
    },
    {
     "name": "stdout",
     "output_type": "stream",
     "text": [
      "step: 81216 \n",
      " updating target net\n",
      "step: 81280 \n",
      " updating target net\n",
      "step: 81344 \n",
      " updating target net\n",
      "step: 81408 \n",
      " updating target net\n",
      "step: 81472 \n",
      " updating target net\n",
      "step: 81536 \n",
      " updating target net\n",
      "step: 81600 \n",
      " updating target net\n"
     ]
    },
    {
     "name": "stderr",
     "output_type": "stream",
     "text": [
      " 39%|███▉      | 786/2000 [00:23<00:56, 21.60it/s]"
     ]
    },
    {
     "name": "stdout",
     "output_type": "stream",
     "text": [
      "step: 81664 \n",
      " updating target net\n",
      "step: 81728 \n",
      " updating target net\n",
      "step: 81792 \n",
      " updating target net\n",
      "step: 81856 \n",
      " updating target net\n",
      "step: 81920 \n",
      " updating target net\n",
      "step: 81984 \n",
      " updating target net\n",
      "step: 82048 \n",
      " updating target net\n"
     ]
    },
    {
     "name": "stderr",
     "output_type": "stream",
     "text": [
      " 40%|███▉      | 792/2000 [00:23<00:52, 23.17it/s]"
     ]
    },
    {
     "name": "stdout",
     "output_type": "stream",
     "text": [
      "step: 82112 \n",
      " updating target net\n",
      "step: 82176 \n",
      " updating target net\n",
      "step: 82240 \n",
      " updating target net\n",
      "step: 82304 \n",
      " updating target net\n",
      "step: 82368 \n",
      " updating target net\n",
      "step: 82432 \n",
      " updating target net\n",
      "step: 82496 \n",
      " updating target net\n"
     ]
    },
    {
     "name": "stderr",
     "output_type": "stream",
     "text": [
      " 40%|███▉      | 796/2000 [00:23<00:45, 26.66it/s]"
     ]
    },
    {
     "name": "stdout",
     "output_type": "stream",
     "text": [
      "step: 82560 \n",
      " updating target net\n",
      "step: 82624 \n",
      " updating target net\n",
      "step: 82688 \n",
      " updating target net\n",
      "step: 82752 \n",
      " updating target net\n",
      "step: 82816 \n",
      " updating target net\n",
      "step: 82880 \n",
      " updating target net\n",
      "step: 82944 \n",
      " updating target net\n",
      "step: 83008 \n",
      " updating target net\n"
     ]
    },
    {
     "name": "stderr",
     "output_type": "stream",
     "text": [
      " 40%|████      | 803/2000 [00:24<00:41, 28.92it/s]"
     ]
    },
    {
     "name": "stdout",
     "output_type": "stream",
     "text": [
      "step: 83072 \n",
      " updating target net\n",
      "step: 83136 \n",
      " updating target net\n",
      "step: 83200 \n",
      " updating target net\n",
      "step: 83264 \n",
      " updating target net\n",
      "step: 83328 \n",
      " updating target net\n",
      "step: 83392 \n",
      " updating target net\n",
      "step: 83456 \n",
      " updating target net\n",
      "step: 83520 \n",
      " updating target net\n",
      "step: 83584 \n",
      " updating target net\n"
     ]
    },
    {
     "name": "stderr",
     "output_type": "stream",
     "text": [
      " 41%|████      | 811/2000 [00:24<00:35, 33.11it/s]"
     ]
    },
    {
     "name": "stdout",
     "output_type": "stream",
     "text": [
      "step: 83648 \n",
      " updating target net\n",
      "step: 83712 \n",
      " updating target net\n",
      "step: 83776 \n",
      " updating target net\n",
      "step: 83840 \n",
      " updating target net\n",
      "step: 83904 \n",
      " updating target net\n",
      "step: 83968 \n",
      " updating target net\n",
      "step: 84032 \n",
      " updating target net\n",
      "step: 84096 \n",
      " updating target net\n",
      "step: 84160 \n",
      " updating target net\n"
     ]
    },
    {
     "name": "stderr",
     "output_type": "stream",
     "text": [
      " 41%|████      | 819/2000 [00:24<00:38, 30.74it/s]"
     ]
    },
    {
     "name": "stdout",
     "output_type": "stream",
     "text": [
      "step: 84224 \n",
      " updating target net\n",
      "step: 84288 \n",
      " updating target net\n",
      "step: 84352 \n",
      " updating target net\n",
      "step: 84416 \n",
      " updating target net\n",
      "step: 84480 \n",
      " updating target net\n",
      "step: 84544 \n",
      " updating target net\n",
      "step: 84608 \n",
      " updating target net\n",
      "step: 84672 \n",
      " updating target net\n"
     ]
    },
    {
     "name": "stderr",
     "output_type": "stream",
     "text": [
      " 41%|████      | 823/2000 [00:24<00:36, 32.25it/s]"
     ]
    },
    {
     "name": "stdout",
     "output_type": "stream",
     "text": [
      "step: 84736 \n",
      " updating target net\n",
      "step: 84800 \n",
      " updating target net\n",
      "step: 84864 \n",
      " updating target net\n",
      "step: 84928 \n",
      " updating target net\n",
      "step: 84992 \n",
      " updating target net\n"
     ]
    },
    {
     "name": "stderr",
     "output_type": "stream",
     "text": [
      " 42%|████▏     | 830/2000 [00:25<00:44, 26.09it/s]"
     ]
    },
    {
     "name": "stdout",
     "output_type": "stream",
     "text": [
      "step: 85056 \n",
      " updating target net\n",
      "step: 85120 \n",
      " updating target net\n",
      "step: 85184 \n",
      " updating target net\n",
      "step: 85248 \n",
      " updating target net\n",
      "step: 85312 \n",
      " updating target net\n",
      "step: 85376 \n",
      " updating target net\n",
      "step: 85440 \n",
      " updating target net\n",
      "step: 85504 \n",
      " updating target net\n"
     ]
    },
    {
     "name": "stderr",
     "output_type": "stream",
     "text": [
      " 42%|████▏     | 838/2000 [00:25<00:39, 29.11it/s]"
     ]
    },
    {
     "name": "stdout",
     "output_type": "stream",
     "text": [
      "step: 85568 \n",
      " updating target net\n",
      "step: 85632 \n",
      " updating target net\n",
      "step: 85696 \n",
      " updating target net\n",
      "step: 85760 \n",
      " updating target net\n",
      "step: 85824 \n",
      " updating target net\n",
      "step: 85888 \n",
      " updating target net\n",
      "step: 85952 \n",
      " updating target net\n",
      "step: 86016 \n",
      " updating target net\n",
      "step: 86080 \n",
      " updating target net\n",
      "step: 86144 \n",
      " updating target net\n"
     ]
    },
    {
     "name": "stderr",
     "output_type": "stream",
     "text": [
      " 42%|████▏     | 846/2000 [00:25<00:36, 31.53it/s]"
     ]
    },
    {
     "name": "stdout",
     "output_type": "stream",
     "text": [
      "step: 86208 \n",
      " updating target net\n",
      "step: 86272 \n",
      " updating target net\n",
      "step: 86336 \n",
      " updating target net\n",
      "step: 86400 \n",
      " updating target net\n",
      "step: 86464 \n",
      " updating target net\n",
      "step: 86528 \n",
      " updating target net\n",
      "step: 86592 \n",
      " updating target net\n",
      "step: 86656 \n",
      " updating target net\n",
      "step: 86720 \n",
      " updating target net\n",
      "step: 86784 \n",
      " updating target net\n"
     ]
    },
    {
     "name": "stderr",
     "output_type": "stream",
     "text": [
      " 43%|████▎     | 854/2000 [00:25<00:34, 32.94it/s]"
     ]
    },
    {
     "name": "stdout",
     "output_type": "stream",
     "text": [
      "step: 86848 \n",
      " updating target net\n",
      "step: 86912 \n",
      " updating target net\n",
      "step: 86976 \n",
      " updating target net\n",
      "step: 87040 \n",
      " updating target net\n",
      "step: 87104 \n",
      " updating target net\n",
      "step: 87168 \n",
      " updating target net\n",
      "step: 87232 \n",
      " updating target net\n",
      "step: 87296 \n",
      " updating target net\n"
     ]
    },
    {
     "name": "stderr",
     "output_type": "stream",
     "text": [
      " 43%|████▎     | 858/2000 [00:25<00:39, 29.06it/s]"
     ]
    },
    {
     "name": "stdout",
     "output_type": "stream",
     "text": [
      "step: 87360 \n",
      " updating target net\n",
      "step: 87424 \n",
      " updating target net\n",
      "step: 87488 \n",
      " updating target net\n",
      "step: 87552 \n",
      " updating target net\n",
      "step: 87616 \n",
      " updating target net\n",
      "step: 87680 \n",
      " updating target net\n",
      "step: 87744 \n",
      " updating target net\n",
      "step: 87808 \n",
      " updating target net\n"
     ]
    },
    {
     "name": "stderr",
     "output_type": "stream",
     "text": [
      " 43%|████▎     | 865/2000 [00:26<00:43, 26.03it/s]"
     ]
    },
    {
     "name": "stdout",
     "output_type": "stream",
     "text": [
      "step: 87872 \n",
      " updating target net\n",
      "step: 87936 \n",
      " updating target net\n",
      "step: 88000 \n",
      " updating target net\n",
      "step: 88064 \n",
      " updating target net\n",
      "step: 88128 \n",
      " updating target net\n",
      "step: 88192 \n",
      " updating target net\n",
      "step: 88256 \n",
      " updating target net\n",
      "step: 88320 \n",
      " updating target net\n"
     ]
    },
    {
     "name": "stderr",
     "output_type": "stream",
     "text": [
      " 43%|████▎     | 868/2000 [00:26<00:45, 24.68it/s]"
     ]
    },
    {
     "name": "stdout",
     "output_type": "stream",
     "text": [
      "step: 88384 \n",
      " updating target net\n",
      "step: 88448 \n",
      " updating target net\n",
      "step: 88512 \n",
      " updating target net\n",
      "step: 88576 \n",
      " updating target net\n",
      "step: 88640 \n",
      " updating target net\n",
      "step: 88704 \n",
      " updating target net\n",
      "step: 88768 \n",
      " updating target net\n",
      "step: 88832 \n",
      " updating target net\n",
      "step: 88896 \n",
      " updating target net\n"
     ]
    },
    {
     "name": "stderr",
     "output_type": "stream",
     "text": [
      " 44%|████▍     | 875/2000 [00:26<00:40, 27.68it/s]"
     ]
    },
    {
     "name": "stdout",
     "output_type": "stream",
     "text": [
      "step: 88960 \n",
      " updating target net\n",
      "step: 89024 \n",
      " updating target net\n",
      "step: 89088 \n",
      " updating target net\n",
      "step: 89152 \n",
      " updating target net\n",
      "step: 89216 \n",
      " updating target net\n",
      "step: 89280 \n",
      " updating target net\n",
      "step: 89344 \n",
      " updating target net\n",
      "step: 89408 \n",
      " updating target net\n",
      "step: 89472 \n",
      " updating target net\n",
      "step: 89536 \n",
      " updating target net\n"
     ]
    },
    {
     "name": "stderr",
     "output_type": "stream",
     "text": [
      " 44%|████▍     | 881/2000 [00:26<00:48, 23.00it/s]"
     ]
    },
    {
     "name": "stdout",
     "output_type": "stream",
     "text": [
      "step: 89600 \n",
      " updating target net\n",
      "step: 89664 \n",
      " updating target net\n",
      "step: 89728 \n",
      " updating target net\n",
      "step: 89792 \n",
      " updating target net\n",
      "step: 89856 \n",
      " updating target net\n",
      "step: 89920 \n",
      " updating target net\n",
      "step: 89984 \n",
      " updating target net\n",
      "step: 90048 \n",
      " updating target net\n",
      "step: 90112 \n",
      " updating target net\n",
      "step: 90176 \n",
      " updating target net\n",
      "step: 90240 \n",
      " updating target net\n"
     ]
    },
    {
     "name": "stderr",
     "output_type": "stream",
     "text": [
      " 44%|████▍     | 884/2000 [00:27<01:15, 14.84it/s]"
     ]
    },
    {
     "name": "stdout",
     "output_type": "stream",
     "text": [
      "step: 90304 \n",
      " updating target net\n",
      "step: 90368 \n",
      " updating target net\n",
      "step: 90432 \n",
      " updating target net\n",
      "step: 90496 \n",
      " updating target net\n",
      "step: 90560 \n",
      " updating target net\n",
      "step: 90624 \n",
      " updating target net\n"
     ]
    },
    {
     "name": "stderr",
     "output_type": "stream",
     "text": [
      " 44%|████▍     | 886/2000 [00:27<01:26, 12.87it/s]"
     ]
    },
    {
     "name": "stdout",
     "output_type": "stream",
     "text": [
      "step: 90688 \n",
      " updating target net\n",
      "step: 90752 \n",
      " updating target net\n",
      "step: 90816 \n",
      " updating target net\n",
      "step: 90880 \n",
      " updating target net\n",
      "step: 90944 \n",
      " updating target net\n",
      "step: 91008 \n",
      " updating target net\n",
      "step: 91072 \n",
      " updating target net\n"
     ]
    },
    {
     "name": "stderr",
     "output_type": "stream",
     "text": [
      " 44%|████▍     | 889/2000 [00:27<01:16, 14.58it/s]"
     ]
    },
    {
     "name": "stdout",
     "output_type": "stream",
     "text": [
      "step: 91136 \n",
      " updating target net\n",
      "step: 91200 \n",
      " updating target net\n",
      "step: 91264 \n",
      " updating target net\n",
      "step: 91328 \n",
      " updating target net\n",
      "step: 91392 \n",
      " updating target net\n",
      "step: 91456 \n",
      " updating target net\n",
      "step: 91520 \n",
      " updating target net\n"
     ]
    },
    {
     "name": "stderr",
     "output_type": "stream",
     "text": [
      " 45%|████▍     | 893/2000 [00:27<01:17, 14.29it/s]"
     ]
    },
    {
     "name": "stdout",
     "output_type": "stream",
     "text": [
      "step: 91584 \n",
      " updating target net\n",
      "step: 91648 \n",
      " updating target net\n",
      "step: 91712 \n",
      " updating target net\n",
      "step: 91776 \n",
      " updating target net\n",
      "step: 91840 \n",
      " updating target net\n",
      "step: 91904 \n",
      " updating target net\n",
      "step: 91968 \n",
      " updating target net\n",
      "step: 92032 \n",
      " updating target net\n",
      "step: 92096 \n",
      " updating target net\n",
      "step: 92160 \n",
      " updating target net\n",
      "step: 92224 \n",
      " updating target net\n",
      "step: 92288 \n",
      " updating target net\n",
      "step: 92352 \n",
      " updating target net\n",
      "step: 92416 \n",
      " updating target net\n",
      "step: 92480 \n",
      " updating target net\n",
      "step: 92544 \n",
      " updating target net\n",
      "step: 92608 \n",
      " updating target net\n",
      "step: 92672 \n",
      " updating target net\n"
     ]
    },
    {
     "name": "stderr",
     "output_type": "stream",
     "text": [
      " 45%|████▍     | 897/2000 [00:28<01:29, 12.33it/s]"
     ]
    },
    {
     "name": "stdout",
     "output_type": "stream",
     "text": [
      "step: 92736 \n",
      " updating target net\n",
      "step: 92800 \n",
      " updating target net\n",
      "step: 92864 \n",
      " updating target net\n",
      "step: 92928 \n",
      " updating target net\n",
      "step: 92992 \n",
      " updating target net\n",
      "step: 93056 \n",
      " updating target net\n",
      "step: 93120 \n",
      " updating target net\n",
      "step: 93184 \n",
      " updating target net\n",
      "step: 93248 \n",
      " updating target net\n",
      "step: 93312 \n",
      " updating target net\n",
      "step: 93376 \n",
      " updating target net\n",
      "step: 93440 \n",
      " updating target net\n",
      "step: 93504 \n",
      " updating target net\n",
      "step: 93568 \n",
      " updating target net\n",
      "step: 93632 \n",
      " updating target net\n",
      "step: 93696 \n",
      " updating target net\n",
      "step: 93760 \n",
      " updating target net\n",
      "step: 93824 \n",
      " updating target net\n"
     ]
    },
    {
     "name": "stderr",
     "output_type": "stream",
     "text": [
      " 45%|████▍     | 899/2000 [00:28<02:09,  8.52it/s]"
     ]
    },
    {
     "name": "stdout",
     "output_type": "stream",
     "text": [
      "step: 93888 \n",
      " updating target net\n",
      "step: 93952 \n",
      " updating target net\n",
      "step: 94016 \n",
      " updating target net\n",
      "step: 94080 \n",
      " updating target net\n",
      "step: 94144 \n",
      " updating target net\n",
      "step: 94208 \n",
      " updating target net\n",
      "step: 94272 \n",
      " updating target net\n",
      "step: 94336 \n",
      " updating target net\n"
     ]
    },
    {
     "name": "stderr",
     "output_type": "stream",
     "text": [
      " 45%|████▌     | 901/2000 [00:29<02:12,  8.31it/s]"
     ]
    },
    {
     "name": "stdout",
     "output_type": "stream",
     "text": [
      "step: 94400 \n",
      " updating target net\n",
      "step: 94464 \n",
      " updating target net\n",
      "step: 94528 \n",
      " updating target net\n",
      "step: 94592 \n",
      " updating target net\n",
      "step: 94656 \n",
      " updating target net\n",
      "step: 94720 \n",
      " updating target net\n",
      "step: 94784 \n",
      " updating target net\n"
     ]
    },
    {
     "name": "stderr",
     "output_type": "stream",
     "text": [
      " 45%|████▌     | 903/2000 [00:29<02:02,  8.94it/s]"
     ]
    },
    {
     "name": "stdout",
     "output_type": "stream",
     "text": [
      "step: 94848 \n",
      " updating target net\n",
      "step: 94912 \n",
      " updating target net\n",
      "step: 94976 \n",
      " updating target net\n",
      "step: 95040 \n",
      " updating target net\n",
      "step: 95104 \n",
      " updating target net\n",
      "step: 95168 \n",
      " updating target net\n",
      "step: 95232 \n",
      " updating target net\n",
      "step: 95296 \n",
      " updating target net\n"
     ]
    },
    {
     "name": "stderr",
     "output_type": "stream",
     "text": [
      " 45%|████▌     | 907/2000 [00:29<01:41, 10.82it/s]"
     ]
    },
    {
     "name": "stdout",
     "output_type": "stream",
     "text": [
      "step: 95360 \n",
      " updating target net\n",
      "step: 95424 \n",
      " updating target net\n",
      "step: 95488 \n",
      " updating target net\n",
      "step: 95552 \n",
      " updating target net\n",
      "step: 95616 \n",
      " updating target net\n",
      "step: 95680 \n",
      " updating target net\n"
     ]
    },
    {
     "name": "stderr",
     "output_type": "stream",
     "text": [
      " 45%|████▌     | 909/2000 [00:29<01:34, 11.57it/s]"
     ]
    },
    {
     "name": "stdout",
     "output_type": "stream",
     "text": [
      "step: 95744 \n",
      " updating target net\n",
      "step: 95808 \n",
      " updating target net\n",
      "step: 95872 \n",
      " updating target net\n",
      "step: 95936 \n",
      " updating target net\n",
      "step: 96000 \n",
      " updating target net\n",
      "step: 96064 \n",
      " updating target net\n",
      "step: 96128 \n",
      " updating target net\n",
      "step: 96192 \n",
      " updating target net\n",
      "step: 96256 \n",
      " updating target net\n",
      "step: 96320 \n",
      " updating target net\n",
      "step: 96384 \n",
      " updating target net\n",
      "step: 96448 \n",
      " updating target net\n",
      "step: 96512 \n",
      " updating target net\n",
      "step: 96576 \n",
      " updating target net\n",
      "step: 96640 \n",
      " updating target net\n",
      "step: 96704 \n",
      " updating target net\n",
      "step: 96768 \n",
      " updating target net\n"
     ]
    },
    {
     "name": "stderr",
     "output_type": "stream",
     "text": [
      " 46%|████▌     | 911/2000 [00:30<02:23,  7.61it/s]"
     ]
    },
    {
     "name": "stdout",
     "output_type": "stream",
     "text": [
      "step: 96832 \n",
      " updating target net\n",
      "step: 96896 \n",
      " updating target net\n",
      "step: 96960 \n",
      " updating target net\n",
      "step: 97024 \n",
      " updating target net\n",
      "step: 97088 \n",
      " updating target net\n",
      "step: 97152 \n",
      " updating target net\n",
      "step: 97216 \n",
      " updating target net\n",
      "step: 97280 \n",
      " updating target net\n",
      "step: 97344 \n",
      " updating target net\n"
     ]
    },
    {
     "name": "stderr",
     "output_type": "stream",
     "text": [
      " 46%|████▌     | 916/2000 [00:30<01:34, 11.49it/s]"
     ]
    },
    {
     "name": "stdout",
     "output_type": "stream",
     "text": [
      "step: 97408 \n",
      " updating target net\n",
      "step: 97472 \n",
      " updating target net\n",
      "step: 97536 \n",
      " updating target net\n",
      "step: 97600 \n",
      " updating target net\n",
      "step: 97664 \n",
      " updating target net\n",
      "step: 97728 \n",
      " updating target net\n",
      "step: 97792 \n",
      " updating target net\n",
      "step: 97856 \n",
      " updating target net\n",
      "step: 97920 \n",
      " updating target net\n",
      "step: 97984 \n",
      " updating target net\n",
      "step: 98048 \n",
      " updating target net\n",
      "step: 98112 \n",
      " updating target net\n",
      "step: 98176 \n",
      " updating target net\n",
      "step: 98240 \n",
      " updating target net\n",
      "step: 98304 \n",
      " updating target net\n",
      "step: 98368 \n",
      " updating target net\n",
      "step: 98432 \n",
      " updating target net\n",
      "step: 98496 \n",
      " updating target net\n",
      "step: 98560 \n",
      " updating target net\n",
      "step: 98624 \n",
      " updating target net\n",
      "step: 98688 \n",
      " updating target net\n",
      "step: 98752 \n",
      " updating target net\n",
      "step: 98816 \n",
      " updating target net\n",
      "step: 98880 \n",
      " updating target net\n",
      "step: 98944 \n",
      " updating target net\n"
     ]
    },
    {
     "name": "stderr",
     "output_type": "stream",
     "text": [
      " 46%|████▌     | 918/2000 [00:30<02:20,  7.70it/s]"
     ]
    },
    {
     "name": "stdout",
     "output_type": "stream",
     "text": [
      "step: 99008 \n",
      " updating target net\n",
      "step: 99072 \n",
      " updating target net\n",
      "step: 99136 \n",
      " updating target net\n",
      "step: 99200 \n",
      " updating target net\n",
      "step: 99264 \n",
      " updating target net\n",
      "step: 99328 \n",
      " updating target net\n",
      "step: 99392 \n",
      " updating target net\n",
      "step: 99456 \n",
      " updating target net\n",
      "step: 99520 \n",
      " updating target net\n",
      "step: 99584 \n",
      " updating target net\n",
      "step: 99648 \n",
      " updating target net\n",
      "step: 99712 \n",
      " updating target net\n",
      "step: 99776 \n",
      " updating target net\n",
      "step: 99840 \n",
      " updating target net\n"
     ]
    },
    {
     "name": "stderr",
     "output_type": "stream",
     "text": [
      " 46%|████▌     | 921/2000 [00:31<02:41,  6.67it/s]"
     ]
    },
    {
     "name": "stdout",
     "output_type": "stream",
     "text": [
      "step: 99904 \n",
      " updating target net\n",
      "step: 99968 \n",
      " updating target net\n",
      "step: 100032 \n",
      " updating target net\n",
      "step: 100096 \n",
      " updating target net\n",
      "step: 100160 \n",
      " updating target net\n",
      "step: 100224 \n",
      " updating target net\n",
      "step: 100288 \n",
      " updating target net\n"
     ]
    },
    {
     "name": "stderr",
     "output_type": "stream",
     "text": [
      " 46%|████▌     | 922/2000 [00:31<02:38,  6.81it/s]"
     ]
    },
    {
     "name": "stdout",
     "output_type": "stream",
     "text": [
      "step: 100352 \n",
      " updating target net\n",
      "step: 100416 \n",
      " updating target net\n",
      "step: 100480 \n",
      " updating target net\n",
      "step: 100544 \n",
      " updating target net\n"
     ]
    },
    {
     "name": "stderr",
     "output_type": "stream",
     "text": [
      " 46%|████▋     | 925/2000 [00:31<02:17,  7.84it/s]"
     ]
    },
    {
     "name": "stdout",
     "output_type": "stream",
     "text": [
      "step: 100608 \n",
      " updating target net\n",
      "step: 100672 \n",
      " updating target net\n",
      "step: 100736 \n",
      " updating target net\n",
      "step: 100800 \n",
      " updating target net\n",
      "step: 100864 \n",
      " updating target net\n",
      "step: 100928 \n",
      " updating target net\n",
      "step: 100992 \n",
      " updating target net\n",
      "step: 101056 \n",
      " updating target net\n"
     ]
    },
    {
     "name": "stderr",
     "output_type": "stream",
     "text": [
      " 46%|████▋     | 927/2000 [00:32<02:00,  8.93it/s]"
     ]
    },
    {
     "name": "stdout",
     "output_type": "stream",
     "text": [
      "step: 101120 \n",
      " updating target net\n",
      "step: 101184 \n",
      " updating target net\n",
      "step: 101248 \n",
      " updating target net\n",
      "step: 101312 \n",
      " updating target net\n",
      "step: 101376 \n",
      " updating target net\n",
      "step: 101440 \n",
      " updating target net\n",
      "step: 101504 \n",
      " updating target net\n",
      "step: 101568 \n",
      " updating target net\n"
     ]
    },
    {
     "name": "stderr",
     "output_type": "stream",
     "text": [
      " 46%|████▋     | 930/2000 [00:32<01:41, 10.55it/s]"
     ]
    },
    {
     "name": "stdout",
     "output_type": "stream",
     "text": [
      "step: 101632 \n",
      " updating target net\n",
      "step: 101696 \n",
      " updating target net\n",
      "step: 101760 \n",
      " updating target net\n",
      "step: 101824 \n",
      " updating target net\n",
      "step: 101888 \n",
      " updating target net\n",
      "step: 101952 \n",
      " updating target net\n",
      "step: 102016 \n",
      " updating target net\n",
      "step: 102080 \n",
      " updating target net\n",
      "step: 102144 \n",
      " updating target net\n"
     ]
    },
    {
     "name": "stderr",
     "output_type": "stream",
     "text": [
      " 47%|████▋     | 934/2000 [00:32<01:27, 12.20it/s]"
     ]
    },
    {
     "name": "stdout",
     "output_type": "stream",
     "text": [
      "step: 102208 \n",
      " updating target net\n",
      "step: 102272 \n",
      " updating target net\n",
      "step: 102336 \n",
      " updating target net\n",
      "step: 102400 \n",
      " updating target net\n",
      "step: 102464 \n",
      " updating target net\n",
      "step: 102528 \n",
      " updating target net\n",
      "step: 102592 \n",
      " updating target net\n",
      "step: 102656 \n",
      " updating target net\n"
     ]
    },
    {
     "name": "stderr",
     "output_type": "stream",
     "text": [
      " 47%|████▋     | 936/2000 [00:32<01:25, 12.46it/s]"
     ]
    },
    {
     "name": "stdout",
     "output_type": "stream",
     "text": [
      "step: 102720 \n",
      " updating target net\n",
      "step: 102784 \n",
      " updating target net\n",
      "step: 102848 \n",
      " updating target net\n",
      "step: 102912 \n",
      " updating target net\n",
      "step: 102976 \n",
      " updating target net\n",
      "step: 103040 \n",
      " updating target net\n",
      "step: 103104 \n",
      " updating target net\n"
     ]
    },
    {
     "name": "stderr",
     "output_type": "stream",
     "text": [
      " 47%|████▋     | 940/2000 [00:32<01:13, 14.36it/s]"
     ]
    },
    {
     "name": "stdout",
     "output_type": "stream",
     "text": [
      "step: 103168 \n",
      " updating target net\n",
      "step: 103232 \n",
      " updating target net\n",
      "step: 103296 \n",
      " updating target net\n",
      "step: 103360 \n",
      " updating target net\n",
      "step: 103424 \n",
      " updating target net\n",
      "step: 103488 \n",
      " updating target net\n",
      "step: 103552 \n",
      " updating target net\n",
      "step: 103616 \n",
      " updating target net\n"
     ]
    },
    {
     "name": "stderr",
     "output_type": "stream",
     "text": [
      " 47%|████▋     | 944/2000 [00:33<01:21, 13.00it/s]"
     ]
    },
    {
     "name": "stdout",
     "output_type": "stream",
     "text": [
      "step: 103680 \n",
      " updating target net\n",
      "step: 103744 \n",
      " updating target net\n",
      "step: 103808 \n",
      " updating target net\n",
      "step: 103872 \n",
      " updating target net\n",
      "step: 103936 \n",
      " updating target net\n",
      "step: 104000 \n",
      " updating target net\n",
      "step: 104064 \n",
      " updating target net\n"
     ]
    },
    {
     "name": "stderr",
     "output_type": "stream",
     "text": [
      " 47%|████▋     | 946/2000 [00:33<01:30, 11.66it/s]"
     ]
    },
    {
     "name": "stdout",
     "output_type": "stream",
     "text": [
      "step: 104128 \n",
      " updating target net\n",
      "step: 104192 \n",
      " updating target net\n",
      "step: 104256 \n",
      " updating target net\n",
      "step: 104320 \n",
      " updating target net\n",
      "step: 104384 \n",
      " updating target net\n"
     ]
    },
    {
     "name": "stderr",
     "output_type": "stream",
     "text": [
      " 47%|████▋     | 948/2000 [00:33<01:39, 10.60it/s]"
     ]
    },
    {
     "name": "stdout",
     "output_type": "stream",
     "text": [
      "step: 104448 \n",
      " updating target net\n",
      "step: 104512 \n",
      " updating target net\n",
      "step: 104576 \n",
      " updating target net\n",
      "step: 104640 \n",
      " updating target net\n",
      "step: 104704 \n",
      " updating target net\n",
      "step: 104768 \n",
      " updating target net\n",
      "step: 104832 \n",
      " updating target net\n",
      "step: 104896 \n",
      " updating target net\n",
      "step: 104960 \n",
      " updating target net\n",
      "step: 105024 \n",
      " updating target net\n",
      "step: 105088 \n",
      " updating target net\n",
      "step: 105152 \n",
      " updating target net\n",
      "step: 105216 \n",
      " updating target net\n",
      "step: 105280 \n",
      " updating target net\n"
     ]
    },
    {
     "name": "stderr",
     "output_type": "stream",
     "text": [
      " 48%|████▊     | 950/2000 [00:33<01:46,  9.88it/s]"
     ]
    },
    {
     "name": "stdout",
     "output_type": "stream",
     "text": [
      "step: 105344 \n",
      " updating target net\n",
      "step: 105408 \n",
      " updating target net\n",
      "step: 105472 \n",
      " updating target net\n",
      "step: 105536 \n",
      " updating target net\n",
      "step: 105600 \n",
      " updating target net\n",
      "step: 105664 \n",
      " updating target net\n",
      "step: 105728 \n",
      " updating target net\n"
     ]
    },
    {
     "name": "stderr",
     "output_type": "stream",
     "text": [
      " 48%|████▊     | 953/2000 [00:34<01:52,  9.29it/s]"
     ]
    },
    {
     "name": "stdout",
     "output_type": "stream",
     "text": [
      "step: 105792 \n",
      " updating target net\n",
      "step: 105856 \n",
      " updating target net\n",
      "step: 105920 \n",
      " updating target net\n",
      "step: 105984 \n",
      " updating target net\n",
      "step: 106048 \n",
      " updating target net\n",
      "step: 106112 \n",
      " updating target net\n",
      "step: 106176 \n",
      " updating target net\n"
     ]
    },
    {
     "name": "stderr",
     "output_type": "stream",
     "text": [
      " 48%|████▊     | 955/2000 [00:34<01:35, 10.96it/s]"
     ]
    },
    {
     "name": "stdout",
     "output_type": "stream",
     "text": [
      "step: 106240 \n",
      " updating target net\n",
      "step: 106304 \n",
      " updating target net\n",
      "step: 106368 \n",
      " updating target net\n",
      "step: 106432 \n",
      " updating target net\n",
      "step: 106496 \n",
      " updating target net\n",
      "step: 106560 \n",
      " updating target net\n",
      "step: 106624 \n",
      " updating target net\n"
     ]
    },
    {
     "name": "stderr",
     "output_type": "stream",
     "text": [
      " 48%|████▊     | 957/2000 [00:34<01:40, 10.36it/s]"
     ]
    },
    {
     "name": "stdout",
     "output_type": "stream",
     "text": [
      "step: 106688 \n",
      " updating target net\n",
      "step: 106752 \n",
      " updating target net\n",
      "step: 106816 \n",
      " updating target net\n",
      "step: 106880 \n",
      " updating target net\n",
      "step: 106944 \n",
      " updating target net\n",
      "step: 107008 \n",
      " updating target net\n",
      "step: 107072 \n",
      " updating target net\n"
     ]
    },
    {
     "name": "stderr",
     "output_type": "stream",
     "text": [
      " 48%|████▊     | 961/2000 [00:35<01:38, 10.56it/s]"
     ]
    },
    {
     "name": "stdout",
     "output_type": "stream",
     "text": [
      "step: 107136 \n",
      " updating target net\n",
      "step: 107200 \n",
      " updating target net\n",
      "step: 107264 \n",
      " updating target net\n",
      "step: 107328 \n",
      " updating target net\n",
      "step: 107392 \n",
      " updating target net\n",
      "step: 107456 \n",
      " updating target net\n",
      "step: 107520 \n",
      " updating target net\n",
      "step: 107584 \n",
      " updating target net\n"
     ]
    },
    {
     "name": "stderr",
     "output_type": "stream",
     "text": [
      " 48%|████▊     | 964/2000 [00:35<01:26, 11.93it/s]"
     ]
    },
    {
     "name": "stdout",
     "output_type": "stream",
     "text": [
      "step: 107648 \n",
      " updating target net\n",
      "step: 107712 \n",
      " updating target net\n",
      "step: 107776 \n",
      " updating target net\n",
      "step: 107840 \n",
      " updating target net\n",
      "step: 107904 \n",
      " updating target net\n",
      "step: 107968 \n",
      " updating target net\n",
      "step: 108032 \n",
      " updating target net\n",
      "step: 108096 \n",
      " updating target net\n"
     ]
    },
    {
     "name": "stderr",
     "output_type": "stream",
     "text": [
      " 48%|████▊     | 966/2000 [00:35<01:20, 12.88it/s]"
     ]
    },
    {
     "name": "stdout",
     "output_type": "stream",
     "text": [
      "step: 108160 \n",
      " updating target net\n",
      "step: 108224 \n",
      " updating target net\n",
      "step: 108288 \n",
      " updating target net\n",
      "step: 108352 \n",
      " updating target net\n",
      "step: 108416 \n",
      " updating target net\n"
     ]
    },
    {
     "name": "stderr",
     "output_type": "stream",
     "text": [
      " 48%|████▊     | 970/2000 [00:35<01:15, 13.56it/s]"
     ]
    },
    {
     "name": "stdout",
     "output_type": "stream",
     "text": [
      "step: 108480 \n",
      " updating target net\n",
      "step: 108544 \n",
      " updating target net\n",
      "step: 108608 \n",
      " updating target net\n",
      "step: 108672 \n",
      " updating target net\n",
      "step: 108736 \n",
      " updating target net\n",
      "step: 108800 \n",
      " updating target net\n",
      "step: 108864 \n",
      " updating target net\n",
      "step: 108928 \n",
      " updating target net\n"
     ]
    },
    {
     "name": "stderr",
     "output_type": "stream",
     "text": [
      " 49%|████▊     | 972/2000 [00:35<01:11, 14.30it/s]"
     ]
    },
    {
     "name": "stdout",
     "output_type": "stream",
     "text": [
      "step: 108992 \n",
      " updating target net\n",
      "step: 109056 \n",
      " updating target net\n",
      "step: 109120 \n",
      " updating target net\n",
      "step: 109184 \n",
      " updating target net\n",
      "step: 109248 \n",
      " updating target net\n",
      "step: 109312 \n",
      " updating target net\n",
      "step: 109376 \n",
      " updating target net\n",
      "step: 109440 \n",
      " updating target net\n"
     ]
    },
    {
     "name": "stderr",
     "output_type": "stream",
     "text": [
      " 49%|████▉     | 977/2000 [00:36<01:11, 14.28it/s]"
     ]
    },
    {
     "name": "stdout",
     "output_type": "stream",
     "text": [
      "step: 109504 \n",
      " updating target net\n",
      "step: 109568 \n",
      " updating target net\n",
      "step: 109632 \n",
      " updating target net\n",
      "step: 109696 \n",
      " updating target net\n",
      "step: 109760 \n",
      " updating target net\n",
      "step: 109824 \n",
      " updating target net\n",
      "step: 109888 \n",
      " updating target net\n",
      "step: 109952 \n",
      " updating target net\n"
     ]
    },
    {
     "name": "stderr",
     "output_type": "stream",
     "text": [
      " 49%|████▉     | 979/2000 [00:36<01:06, 15.35it/s]"
     ]
    },
    {
     "name": "stdout",
     "output_type": "stream",
     "text": [
      "step: 110016 \n",
      " updating target net\n",
      "step: 110080 \n",
      " updating target net\n",
      "step: 110144 \n",
      " updating target net\n",
      "step: 110208 \n",
      " updating target net\n",
      "step: 110272 \n",
      " updating target net\n",
      "step: 110336 \n",
      " updating target net\n",
      "step: 110400 \n",
      " updating target net\n"
     ]
    },
    {
     "name": "stderr",
     "output_type": "stream",
     "text": [
      " 49%|████▉     | 981/2000 [00:36<01:10, 14.51it/s]"
     ]
    },
    {
     "name": "stdout",
     "output_type": "stream",
     "text": [
      "step: 110464 \n",
      " updating target net\n",
      "step: 110528 \n",
      " updating target net\n",
      "step: 110592 \n",
      " updating target net\n",
      "step: 110656 \n",
      " updating target net\n",
      "step: 110720 \n",
      " updating target net\n",
      "step: 110784 \n",
      " updating target net\n",
      "step: 110848 \n",
      " updating target net\n"
     ]
    },
    {
     "name": "stderr",
     "output_type": "stream",
     "text": [
      " 49%|████▉     | 985/2000 [00:36<01:18, 12.88it/s]"
     ]
    },
    {
     "name": "stdout",
     "output_type": "stream",
     "text": [
      "step: 110912 \n",
      " updating target net\n",
      "step: 110976 \n",
      " updating target net\n",
      "step: 111040 \n",
      " updating target net\n",
      "step: 111104 \n",
      " updating target net\n",
      "step: 111168 \n",
      " updating target net\n",
      "step: 111232 \n",
      " updating target net\n",
      "step: 111296 \n",
      " updating target net\n",
      "step: 111360 \n",
      " updating target net\n",
      "step: 111424 \n",
      " updating target net\n",
      "step: 111488 \n",
      " updating target net\n",
      "step: 111552 \n",
      " updating target net\n",
      "step: 111616 \n",
      " updating target net\n",
      "step: 111680 \n",
      " updating target net\n",
      "step: 111744 \n",
      " updating target net\n",
      "step: 111808 \n",
      " updating target net\n",
      "step: 111872 \n",
      " updating target net\n"
     ]
    },
    {
     "name": "stderr",
     "output_type": "stream",
     "text": [
      " 49%|████▉     | 989/2000 [00:37<01:25, 11.84it/s]"
     ]
    },
    {
     "name": "stdout",
     "output_type": "stream",
     "text": [
      "step: 111936 \n",
      " updating target net\n",
      "step: 112000 \n",
      " updating target net\n",
      "step: 112064 \n",
      " updating target net\n",
      "step: 112128 \n",
      " updating target net\n",
      "step: 112192 \n",
      " updating target net\n",
      "step: 112256 \n",
      " updating target net\n",
      "step: 112320 \n",
      " updating target net\n",
      "step: 112384 \n",
      " updating target net\n",
      "step: 112448 \n",
      " updating target net\n",
      "step: 112512 \n",
      " updating target net\n"
     ]
    },
    {
     "name": "stderr",
     "output_type": "stream",
     "text": [
      " 50%|████▉     | 991/2000 [00:37<01:30, 11.14it/s]"
     ]
    },
    {
     "name": "stdout",
     "output_type": "stream",
     "text": [
      "step: 112576 \n",
      " updating target net\n",
      "step: 112640 \n",
      " updating target net\n",
      "step: 112704 \n",
      " updating target net\n",
      "step: 112768 \n",
      " updating target net\n",
      "step: 112832 \n",
      " updating target net\n",
      "step: 112896 \n",
      " updating target net\n",
      "step: 112960 \n",
      " updating target net\n",
      "step: 113024 \n",
      " updating target net\n",
      "step: 113088 \n",
      " updating target net\n"
     ]
    },
    {
     "name": "stderr",
     "output_type": "stream",
     "text": [
      " 50%|████▉     | 993/2000 [00:37<01:20, 12.58it/s]"
     ]
    },
    {
     "name": "stdout",
     "output_type": "stream",
     "text": [
      "step: 113152 \n",
      " updating target net\n",
      "step: 113216 \n",
      " updating target net\n",
      "step: 113280 \n",
      " updating target net\n",
      "step: 113344 \n",
      " updating target net\n",
      "step: 113408 \n",
      " updating target net\n",
      "step: 113472 \n",
      " updating target net\n",
      "step: 113536 \n",
      " updating target net\n",
      "step: 113600 \n",
      " updating target net\n",
      "step: 113664 \n",
      " updating target net\n",
      "step: 113728 \n",
      " updating target net\n",
      "step: 113792 \n",
      " updating target net\n"
     ]
    },
    {
     "name": "stderr",
     "output_type": "stream",
     "text": [
      " 50%|████▉     | 995/2000 [00:37<01:28, 11.42it/s]"
     ]
    },
    {
     "name": "stdout",
     "output_type": "stream",
     "text": [
      "step: 113856 \n",
      " updating target net\n",
      "step: 113920 \n",
      " updating target net\n",
      "step: 113984 \n",
      " updating target net\n",
      "step: 114048 \n",
      " updating target net\n",
      "step: 114112 \n",
      " updating target net\n",
      "step: 114176 \n",
      " updating target net\n",
      "step: 114240 \n",
      " updating target net\n",
      "step: 114304 \n",
      " updating target net\n",
      "step: 114368 \n",
      " updating target net\n"
     ]
    },
    {
     "name": "stderr",
     "output_type": "stream",
     "text": [
      " 50%|████▉     | 999/2000 [00:38<01:27, 11.47it/s]"
     ]
    },
    {
     "name": "stdout",
     "output_type": "stream",
     "text": [
      "step: 114432 \n",
      " updating target net\n",
      "step: 114496 \n",
      " updating target net\n",
      "step: 114560 \n",
      " updating target net\n",
      "step: 114624 \n",
      " updating target net\n",
      "step: 114688 \n",
      " updating target net\n",
      "step: 114752 \n",
      " updating target net\n",
      "step: 114816 \n",
      " updating target net\n",
      "step: 114880 \n",
      " updating target net\n",
      "step: 114944 \n",
      " updating target net\n"
     ]
    },
    {
     "name": "stderr",
     "output_type": "stream",
     "text": [
      " 50%|█████     | 1001/2000 [00:38<01:36, 10.35it/s]"
     ]
    },
    {
     "name": "stdout",
     "output_type": "stream",
     "text": [
      "step: 115008 \n",
      " updating target net\n",
      "step: 115072 \n",
      " updating target net\n",
      "step: 115136 \n",
      " updating target net\n",
      "step: 115200 \n",
      " updating target net\n",
      "step: 115264 \n",
      " updating target net\n",
      "step: 115328 \n",
      " updating target net\n",
      "step: 115392 \n",
      " updating target net\n",
      "step: 115456 \n",
      " updating target net\n",
      "step: 115520 \n",
      " updating target net\n",
      "step: 115584 \n",
      " updating target net\n",
      "step: 115648 \n",
      " updating target net\n",
      "step: 115712 \n",
      " updating target net\n",
      "step: 115776 \n",
      " updating target net\n",
      "step: 115840 \n",
      " updating target net\n",
      "step: 115904 \n",
      " updating target net\n",
      "step: 115968 \n",
      " updating target net\n",
      "step: 116032 \n",
      " updating target net\n",
      "step: 116096 \n",
      " updating target net\n",
      "step: 116160 \n",
      " updating target net\n"
     ]
    },
    {
     "name": "stderr",
     "output_type": "stream",
     "text": [
      " 50%|█████     | 1003/2000 [00:38<01:57,  8.48it/s]"
     ]
    },
    {
     "name": "stdout",
     "output_type": "stream",
     "text": [
      "step: 116224 \n",
      " updating target net\n",
      "step: 116288 \n",
      " updating target net\n",
      "step: 116352 \n",
      " updating target net\n",
      "step: 116416 \n",
      " updating target net\n",
      "step: 116480 \n",
      " updating target net\n",
      "step: 116544 \n",
      " updating target net\n",
      "step: 116608 \n",
      " updating target net\n",
      "step: 116672 \n",
      " updating target net\n",
      "step: 116736 \n",
      " updating target net\n"
     ]
    },
    {
     "name": "stderr",
     "output_type": "stream",
     "text": [
      " 50%|█████     | 1005/2000 [00:38<02:13,  7.48it/s]"
     ]
    },
    {
     "name": "stdout",
     "output_type": "stream",
     "text": [
      "step: 116800 \n",
      " updating target net\n",
      "step: 116864 \n",
      " updating target net\n",
      "step: 116928 \n",
      " updating target net\n",
      "step: 116992 \n",
      " updating target net\n",
      "step: 117056 \n",
      " updating target net\n",
      "step: 117120 \n",
      " updating target net\n",
      "step: 117184 \n",
      " updating target net\n",
      "step: 117248 \n",
      " updating target net\n",
      "step: 117312 \n",
      " updating target net\n"
     ]
    },
    {
     "name": "stderr",
     "output_type": "stream",
     "text": [
      " 50%|█████     | 1006/2000 [00:39<02:23,  6.93it/s]"
     ]
    },
    {
     "name": "stdout",
     "output_type": "stream",
     "text": [
      "step: 117376 \n",
      " updating target net\n",
      "step: 117440 \n",
      " updating target net\n",
      "step: 117504 \n",
      " updating target net\n",
      "step: 117568 \n",
      " updating target net\n",
      "step: 117632 \n",
      " updating target net\n",
      "step: 117696 \n",
      " updating target net\n",
      "step: 117760 \n",
      " updating target net\n",
      "step: 117824 \n",
      " updating target net\n",
      "step: 117888 \n",
      " updating target net\n"
     ]
    },
    {
     "name": "stderr",
     "output_type": "stream",
     "text": [
      " 50%|█████     | 1007/2000 [00:39<02:16,  7.26it/s]"
     ]
    },
    {
     "name": "stdout",
     "output_type": "stream",
     "text": [
      "step: 117952 \n",
      " updating target net\n",
      "step: 118016 \n",
      " updating target net\n",
      "step: 118080 \n",
      " updating target net\n",
      "step: 118144 \n",
      " updating target net\n",
      "step: 118208 \n",
      " updating target net\n",
      "step: 118272 \n",
      " updating target net\n",
      "step: 118336 \n",
      " updating target net\n",
      "step: 118400 \n",
      " updating target net\n",
      "step: 118464 \n",
      " updating target net\n",
      "step: 118528 \n",
      " updating target net\n"
     ]
    },
    {
     "name": "stderr",
     "output_type": "stream",
     "text": [
      " 50%|█████     | 1008/2000 [00:39<02:40,  6.18it/s]"
     ]
    },
    {
     "name": "stdout",
     "output_type": "stream",
     "text": [
      "step: 118592 \n",
      " updating target net\n",
      "step: 118656 \n",
      " updating target net\n",
      "step: 118720 \n",
      " updating target net\n",
      "step: 118784 \n",
      " updating target net\n",
      "step: 118848 \n",
      " updating target net\n",
      "step: 118912 \n",
      " updating target net\n",
      "step: 118976 \n",
      " updating target net\n",
      "step: 119040 \n",
      " updating target net\n",
      "step: 119104 \n",
      " updating target net\n",
      "step: 119168 \n",
      " updating target net\n"
     ]
    },
    {
     "name": "stderr",
     "output_type": "stream",
     "text": [
      " 50%|█████     | 1009/2000 [00:39<02:46,  5.95it/s]"
     ]
    },
    {
     "name": "stdout",
     "output_type": "stream",
     "text": [
      "step: 119232 \n",
      " updating target net\n",
      "step: 119296 \n",
      " updating target net\n",
      "step: 119360 \n",
      " updating target net\n",
      "step: 119424 \n",
      " updating target net\n",
      "step: 119488 \n",
      " updating target net\n",
      "step: 119552 \n",
      " updating target net\n"
     ]
    },
    {
     "name": "stderr",
     "output_type": "stream",
     "text": [
      " 50%|█████     | 1010/2000 [00:39<03:28,  4.75it/s]"
     ]
    },
    {
     "name": "stdout",
     "output_type": "stream",
     "text": [
      "step: 119616 \n",
      " updating target net\n",
      "step: 119680 \n",
      " updating target net\n",
      "step: 119744 \n",
      " updating target net\n",
      "step: 119808 \n",
      " updating target net\n",
      "step: 119872 \n",
      " updating target net\n",
      "step: 119936 \n",
      " updating target net\n",
      "step: 120000 \n",
      " updating target net\n",
      "step: 120064 \n",
      " updating target net\n",
      "step: 120128 \n",
      " updating target net\n"
     ]
    },
    {
     "name": "stderr",
     "output_type": "stream",
     "text": [
      " 51%|█████     | 1012/2000 [00:40<02:40,  6.14it/s]"
     ]
    },
    {
     "name": "stdout",
     "output_type": "stream",
     "text": [
      "step: 120192 \n",
      " updating target net\n",
      "step: 120256 \n",
      " updating target net\n",
      "step: 120320 \n",
      " updating target net\n",
      "step: 120384 \n",
      " updating target net\n",
      "step: 120448 \n",
      " updating target net\n",
      "step: 120512 \n",
      " updating target net\n",
      "step: 120576 \n",
      " updating target net\n",
      "step: 120640 \n",
      " updating target net\n",
      "step: 120704 \n",
      " updating target net\n",
      "step: 120768 \n",
      " updating target net\n",
      "step: 120832 \n",
      " updating target net\n",
      "step: 120896 \n",
      " updating target net\n",
      "step: 120960 \n",
      " updating target net\n",
      "step: 121024 \n",
      " updating target net\n",
      "step: 121088 \n",
      " updating target net\n"
     ]
    },
    {
     "name": "stderr",
     "output_type": "stream",
     "text": [
      " 51%|█████     | 1014/2000 [00:40<02:49,  5.82it/s]"
     ]
    },
    {
     "name": "stdout",
     "output_type": "stream",
     "text": [
      "step: 121152 \n",
      " updating target net\n",
      "step: 121216 \n",
      " updating target net\n",
      "step: 121280 \n",
      " updating target net\n",
      "step: 121344 \n",
      " updating target net\n",
      "step: 121408 \n",
      " updating target net\n",
      "step: 121472 \n",
      " updating target net\n",
      "step: 121536 \n",
      " updating target net\n",
      "step: 121600 \n",
      " updating target net\n",
      "step: 121664 \n",
      " updating target net\n",
      "step: 121728 \n",
      " updating target net\n",
      "step: 121792 \n",
      " updating target net\n",
      "step: 121856 \n",
      " updating target net\n",
      "step: 121920 \n",
      " updating target net\n",
      "step: 121984 \n",
      " updating target net\n",
      "step: 122048 \n",
      " updating target net\n",
      "step: 122112 \n",
      " updating target net\n",
      "step: 122176 \n",
      " updating target net\n"
     ]
    },
    {
     "name": "stderr",
     "output_type": "stream",
     "text": [
      " 51%|█████     | 1016/2000 [00:40<02:59,  5.48it/s]"
     ]
    },
    {
     "name": "stdout",
     "output_type": "stream",
     "text": [
      "step: 122240 \n",
      " updating target net\n",
      "step: 122304 \n",
      " updating target net\n",
      "step: 122368 \n",
      " updating target net\n",
      "step: 122432 \n",
      " updating target net\n",
      "step: 122496 \n",
      " updating target net\n",
      "step: 122560 \n",
      " updating target net\n",
      "step: 122624 \n",
      " updating target net\n",
      "step: 122688 \n",
      " updating target net\n",
      "step: 122752 \n",
      " updating target net\n",
      "step: 122816 \n",
      " updating target net\n"
     ]
    },
    {
     "name": "stderr",
     "output_type": "stream",
     "text": [
      " 51%|█████     | 1018/2000 [00:41<03:00,  5.43it/s]"
     ]
    },
    {
     "name": "stdout",
     "output_type": "stream",
     "text": [
      "step: 122880 \n",
      " updating target net\n",
      "step: 122944 \n",
      " updating target net\n",
      "step: 123008 \n",
      " updating target net\n",
      "step: 123072 \n",
      " updating target net\n",
      "step: 123136 \n",
      " updating target net\n",
      "step: 123200 \n",
      " updating target net\n",
      "step: 123264 \n",
      " updating target net\n",
      "step: 123328 \n",
      " updating target net\n",
      "step: 123392 \n",
      " updating target net\n",
      "step: 123456 \n",
      " updating target net\n",
      "step: 123520 \n",
      " updating target net\n",
      "step: 123584 \n",
      " updating target net\n",
      "step: 123648 \n",
      " updating target net\n",
      "step: 123712 \n",
      " updating target net\n",
      "step: 123776 \n",
      " updating target net\n",
      "step: 123840 \n",
      " updating target net\n",
      "step: 123904 \n",
      " updating target net\n",
      "step: 123968 \n",
      " updating target net\n",
      "step: 124032 \n",
      " updating target net\n",
      "step: 124096 \n",
      " updating target net\n",
      "step: 124160 \n",
      " updating target net\n",
      "step: 124224 \n",
      " updating target net\n"
     ]
    },
    {
     "name": "stderr",
     "output_type": "stream",
     "text": [
      " 51%|█████     | 1019/2000 [00:41<03:25,  4.77it/s]"
     ]
    },
    {
     "name": "stdout",
     "output_type": "stream",
     "text": [
      "step: 124288 \n",
      " updating target net\n",
      "step: 124352 \n",
      " updating target net\n",
      "step: 124416 \n",
      " updating target net\n",
      "step: 124480 \n",
      " updating target net\n",
      "step: 124544 \n",
      " updating target net\n",
      "step: 124608 \n",
      " updating target net\n",
      "step: 124672 \n",
      " updating target net\n",
      "step: 124736 \n",
      " updating target net\n",
      "step: 124800 \n",
      " updating target net\n",
      "step: 124864 \n",
      " updating target net\n"
     ]
    },
    {
     "name": "stderr",
     "output_type": "stream",
     "text": [
      " 51%|█████     | 1020/2000 [00:41<03:52,  4.21it/s]"
     ]
    },
    {
     "name": "stdout",
     "output_type": "stream",
     "text": [
      "step: 124928 \n",
      " updating target net\n",
      "step: 124992 \n",
      " updating target net\n",
      "step: 125056 \n",
      " updating target net\n",
      "step: 125120 \n",
      " updating target net\n",
      "step: 125184 \n",
      " updating target net\n",
      "step: 125248 \n",
      " updating target net\n",
      "step: 125312 \n",
      " updating target net\n",
      "step: 125376 \n",
      " updating target net\n",
      "step: 125440 \n",
      " updating target net\n",
      "step: 125504 \n",
      " updating target net\n",
      "step: 125568 \n",
      " updating target net\n",
      "step: 125632 \n",
      " updating target net\n",
      "step: 125696 \n",
      " updating target net\n",
      "step: 125760 \n",
      " updating target net\n",
      "step: 125824 \n",
      " updating target net\n",
      "step: 125888 \n",
      " updating target net\n",
      "step: 125952 \n",
      " updating target net\n",
      "step: 126016 \n",
      " updating target net\n",
      "step: 126080 \n",
      " updating target net\n",
      "step: 126144 \n",
      " updating target net\n"
     ]
    },
    {
     "name": "stderr",
     "output_type": "stream",
     "text": [
      " 51%|█████     | 1021/2000 [00:42<04:14,  3.84it/s]"
     ]
    },
    {
     "name": "stdout",
     "output_type": "stream",
     "text": [
      "step: 126208 \n",
      " updating target net\n",
      "step: 126272 \n",
      " updating target net\n",
      "step: 126336 \n",
      " updating target net\n",
      "step: 126400 \n",
      " updating target net\n",
      "step: 126464 \n",
      " updating target net\n",
      "step: 126528 \n",
      " updating target net\n",
      "step: 126592 \n",
      " updating target net\n",
      "step: 126656 \n",
      " updating target net\n",
      "step: 126720 \n",
      " updating target net\n",
      "step: 126784 \n",
      " updating target net\n",
      "step: 126848 \n",
      " updating target net\n",
      "step: 126912 \n",
      " updating target net\n",
      "step: 126976 \n",
      " updating target net\n",
      "step: 127040 \n",
      " updating target net\n",
      "step: 127104 \n",
      " updating target net\n",
      "step: 127168 \n",
      " updating target net\n",
      "step: 127232 \n",
      " updating target net\n",
      "step: 127296 \n",
      " updating target net\n",
      "step: 127360 \n",
      " updating target net\n"
     ]
    },
    {
     "name": "stderr",
     "output_type": "stream",
     "text": [
      " 51%|█████     | 1022/2000 [00:42<04:39,  3.50it/s]"
     ]
    },
    {
     "name": "stdout",
     "output_type": "stream",
     "text": [
      "step: 127424 \n",
      " updating target net\n",
      "step: 127488 \n",
      " updating target net\n",
      "step: 127552 \n",
      " updating target net\n",
      "step: 127616 \n",
      " updating target net\n",
      "step: 127680 \n",
      " updating target net\n",
      "step: 127744 \n",
      " updating target net\n",
      "step: 127808 \n",
      " updating target net\n",
      "step: 127872 \n",
      " updating target net\n",
      "step: 127936 \n",
      " updating target net\n",
      "step: 128000 \n",
      " updating target net\n",
      "step: 128064 \n",
      " updating target net\n",
      "step: 128128 \n",
      " updating target net\n",
      "step: 128192 \n",
      " updating target net\n",
      "step: 128256 \n",
      " updating target net\n",
      "step: 128320 \n",
      " updating target net\n",
      "step: 128384 \n",
      " updating target net\n",
      "step: 128448 \n",
      " updating target net\n",
      "step: 128512 \n",
      " updating target net\n"
     ]
    },
    {
     "name": "stderr",
     "output_type": "stream",
     "text": [
      " 51%|█████▏    | 1025/2000 [00:43<03:23,  4.78it/s]"
     ]
    },
    {
     "name": "stdout",
     "output_type": "stream",
     "text": [
      "step: 128576 \n",
      " updating target net\n",
      "step: 128640 \n",
      " updating target net\n",
      "step: 128704 \n",
      " updating target net\n",
      "step: 128768 \n",
      " updating target net\n",
      "step: 128832 \n",
      " updating target net\n",
      "step: 128896 \n",
      " updating target net\n",
      "step: 128960 \n",
      " updating target net\n",
      "step: 129024 \n",
      " updating target net\n",
      "step: 129088 \n",
      " updating target net\n",
      "step: 129152 \n",
      " updating target net\n",
      "step: 129216 \n",
      " updating target net\n"
     ]
    },
    {
     "name": "stderr",
     "output_type": "stream",
     "text": [
      " 51%|█████▏    | 1026/2000 [00:43<03:53,  4.17it/s]"
     ]
    },
    {
     "name": "stdout",
     "output_type": "stream",
     "text": [
      "step: 129280 \n",
      " updating target net\n",
      "step: 129344 \n",
      " updating target net\n",
      "step: 129408 \n",
      " updating target net\n",
      "step: 129472 \n",
      " updating target net\n",
      "step: 129536 \n",
      " updating target net\n",
      "step: 129600 \n",
      " updating target net\n",
      "step: 129664 \n",
      " updating target net\n",
      "step: 129728 \n",
      " updating target net\n",
      "step: 129792 \n",
      " updating target net\n",
      "step: 129856 \n",
      " updating target net\n",
      "step: 129920 \n",
      " updating target net\n",
      "step: 129984 \n",
      " updating target net\n",
      "step: 130048 \n",
      " updating target net\n",
      "step: 130112 \n",
      " updating target net\n",
      "step: 130176 \n",
      " updating target net\n"
     ]
    },
    {
     "name": "stderr",
     "output_type": "stream",
     "text": [
      " 51%|█████▏    | 1027/2000 [00:43<04:37,  3.51it/s]"
     ]
    },
    {
     "name": "stdout",
     "output_type": "stream",
     "text": [
      "step: 130240 \n",
      " updating target net\n",
      "step: 130304 \n",
      " updating target net\n",
      "step: 130368 \n",
      " updating target net\n",
      "step: 130432 \n",
      " updating target net\n",
      "step: 130496 \n",
      " updating target net\n",
      "step: 130560 \n",
      " updating target net\n",
      "step: 130624 \n",
      " updating target net\n",
      "step: 130688 \n",
      " updating target net\n",
      "step: 130752 \n",
      " updating target net\n",
      "step: 130816 \n",
      " updating target net\n",
      "step: 130880 \n",
      " updating target net\n",
      "step: 130944 \n",
      " updating target net\n",
      "step: 131008 \n",
      " updating target net\n",
      "step: 131072 \n",
      " updating target net\n",
      "step: 131136 \n",
      " updating target net\n",
      "step: 131200 \n",
      " updating target net\n",
      "step: 131264 \n",
      " updating target net\n",
      "step: 131328 \n",
      " updating target net\n",
      "step: 131392 \n",
      " updating target net\n",
      "step: 131456 \n",
      " updating target net\n",
      "step: 131520 \n",
      " updating target net\n"
     ]
    },
    {
     "name": "stderr",
     "output_type": "stream",
     "text": [
      " 51%|█████▏    | 1028/2000 [00:44<04:47,  3.38it/s]"
     ]
    },
    {
     "name": "stdout",
     "output_type": "stream",
     "text": [
      "step: 131584 \n",
      " updating target net\n",
      "step: 131648 \n",
      " updating target net\n",
      "step: 131712 \n",
      " updating target net\n",
      "step: 131776 \n",
      " updating target net\n",
      "step: 131840 \n",
      " updating target net\n",
      "step: 131904 \n",
      " updating target net\n",
      "step: 131968 \n",
      " updating target net\n",
      "step: 132032 \n",
      " updating target net\n",
      "step: 132096 \n",
      " updating target net\n"
     ]
    },
    {
     "name": "stderr",
     "output_type": "stream",
     "text": [
      " 51%|█████▏    | 1029/2000 [00:44<05:00,  3.23it/s]"
     ]
    },
    {
     "name": "stdout",
     "output_type": "stream",
     "text": [
      "step: 132160 \n",
      " updating target net\n",
      "step: 132224 \n",
      " updating target net\n",
      "step: 132288 \n",
      " updating target net\n",
      "step: 132352 \n",
      " updating target net\n",
      "step: 132416 \n",
      " updating target net\n",
      "step: 132480 \n",
      " updating target net\n",
      "step: 132544 \n",
      " updating target net\n",
      "step: 132608 \n",
      " updating target net\n",
      "step: 132672 \n",
      " updating target net\n",
      "step: 132736 \n",
      " updating target net\n",
      "step: 132800 \n",
      " updating target net\n",
      "step: 132864 \n",
      " updating target net\n",
      "step: 132928 \n",
      " updating target net\n",
      "step: 132992 \n",
      " updating target net\n",
      "step: 133056 \n",
      " updating target net\n",
      "step: 133120 \n",
      " updating target net\n",
      "step: 133184 \n",
      " updating target net\n",
      "step: 133248 \n",
      " updating target net\n",
      "step: 133312 \n",
      " updating target net\n"
     ]
    },
    {
     "name": "stderr",
     "output_type": "stream",
     "text": [
      " 52%|█████▏    | 1031/2000 [00:44<04:09,  3.88it/s]"
     ]
    },
    {
     "name": "stdout",
     "output_type": "stream",
     "text": [
      "step: 133376 \n",
      " updating target net\n",
      "step: 133440 \n",
      " updating target net\n",
      "step: 133504 \n",
      " updating target net\n",
      "step: 133568 \n",
      " updating target net\n",
      "step: 133632 \n",
      " updating target net\n",
      "step: 133696 \n",
      " updating target net\n",
      "step: 133760 \n",
      " updating target net\n",
      "step: 133824 \n",
      " updating target net\n",
      "step: 133888 \n",
      " updating target net\n",
      "step: 133952 \n",
      " updating target net\n",
      "step: 134016 \n",
      " updating target net\n",
      "step: 134080 \n",
      " updating target net\n"
     ]
    },
    {
     "name": "stderr",
     "output_type": "stream",
     "text": [
      " 52%|█████▏    | 1033/2000 [00:45<03:31,  4.58it/s]"
     ]
    },
    {
     "name": "stdout",
     "output_type": "stream",
     "text": [
      "step: 134144 \n",
      " updating target net\n",
      "step: 134208 \n",
      " updating target net\n",
      "step: 134272 \n",
      " updating target net\n",
      "step: 134336 \n",
      " updating target net\n",
      "step: 134400 \n",
      " updating target net\n",
      "step: 134464 \n",
      " updating target net\n",
      "step: 134528 \n",
      " updating target net\n",
      "step: 134592 \n",
      " updating target net\n",
      "step: 134656 \n",
      " updating target net\n",
      "step: 134720 \n",
      " updating target net\n",
      "step: 134784 \n",
      " updating target net\n",
      "step: 134848 \n",
      " updating target net\n",
      "step: 134912 \n",
      " updating target net\n",
      "step: 134976 \n",
      " updating target net\n",
      "step: 135040 \n",
      " updating target net\n",
      "step: 135104 \n",
      " updating target net\n",
      "step: 135168 \n",
      " updating target net\n",
      "step: 135232 \n",
      " updating target net\n",
      "step: 135296 \n",
      " updating target net\n",
      "step: 135360 \n",
      " updating target net\n",
      "step: 135424 \n",
      " updating target net\n",
      "step: 135488 \n",
      " updating target net\n",
      "step: 135552 \n",
      " updating target net\n",
      "step: 135616 \n",
      " updating target net\n"
     ]
    },
    {
     "name": "stderr",
     "output_type": "stream",
     "text": [
      " 52%|█████▏    | 1034/2000 [00:45<03:44,  4.30it/s]"
     ]
    },
    {
     "name": "stdout",
     "output_type": "stream",
     "text": [
      "step: 135680 \n",
      " updating target net\n",
      "step: 135744 \n",
      " updating target net\n",
      "step: 135808 \n",
      " updating target net\n",
      "step: 135872 \n",
      " updating target net\n",
      "step: 135936 \n",
      " updating target net\n",
      "step: 136000 \n",
      " updating target net\n",
      "step: 136064 \n",
      " updating target net\n",
      "step: 136128 \n",
      " updating target net\n",
      "step: 136192 \n",
      " updating target net\n",
      "step: 136256 \n",
      " updating target net\n",
      "step: 136320 \n",
      " updating target net\n",
      "step: 136384 \n",
      " updating target net\n"
     ]
    },
    {
     "name": "stderr",
     "output_type": "stream",
     "text": [
      " 52%|█████▏    | 1036/2000 [00:45<03:15,  4.92it/s]"
     ]
    },
    {
     "name": "stdout",
     "output_type": "stream",
     "text": [
      "step: 136448 \n",
      " updating target net\n",
      "step: 136512 \n",
      " updating target net\n",
      "step: 136576 \n",
      " updating target net\n",
      "step: 136640 \n",
      " updating target net\n",
      "step: 136704 \n",
      " updating target net\n",
      "step: 136768 \n",
      " updating target net\n",
      "step: 136832 \n",
      " updating target net\n",
      "step: 136896 \n",
      " updating target net\n",
      "step: 136960 \n",
      " updating target net\n",
      "step: 137024 \n",
      " updating target net\n",
      "step: 137088 \n",
      " updating target net\n",
      "step: 137152 \n",
      " updating target net\n",
      "step: 137216 \n",
      " updating target net\n"
     ]
    },
    {
     "name": "stderr",
     "output_type": "stream",
     "text": [
      " 52%|█████▏    | 1038/2000 [00:46<02:52,  5.57it/s]"
     ]
    },
    {
     "name": "stdout",
     "output_type": "stream",
     "text": [
      "step: 137280 \n",
      " updating target net\n",
      "step: 137344 \n",
      " updating target net\n",
      "step: 137408 \n",
      " updating target net\n",
      "step: 137472 \n",
      " updating target net\n",
      "step: 137536 \n",
      " updating target net\n",
      "step: 137600 \n",
      " updating target net\n",
      "step: 137664 \n",
      " updating target net\n",
      "step: 137728 \n",
      " updating target net\n",
      "step: 137792 \n",
      " updating target net\n",
      "step: 137856 \n",
      " updating target net\n",
      "step: 137920 \n",
      " updating target net\n",
      "step: 137984 \n",
      " updating target net\n",
      "step: 138048 \n",
      " updating target net\n",
      "step: 138112 \n",
      " updating target net\n",
      "step: 138176 \n",
      " updating target net\n",
      "step: 138240 \n",
      " updating target net\n",
      "step: 138304 \n",
      " updating target net\n",
      "step: 138368 \n",
      " updating target net\n",
      "step: 138432 \n",
      " updating target net\n",
      "step: 138496 \n",
      " updating target net\n",
      "step: 138560 \n",
      " updating target net\n",
      "step: 138624 \n",
      " updating target net\n",
      "step: 138688 \n",
      " updating target net\n",
      "step: 138752 \n",
      " updating target net\n",
      "step: 138816 \n",
      " updating target net\n",
      "step: 138880 \n",
      " updating target net\n"
     ]
    },
    {
     "name": "stderr",
     "output_type": "stream",
     "text": [
      " 52%|█████▏    | 1040/2000 [00:46<02:32,  6.28it/s]"
     ]
    },
    {
     "name": "stdout",
     "output_type": "stream",
     "text": [
      "step: 138944 \n",
      " updating target net\n",
      "step: 139008 \n",
      " updating target net\n",
      "step: 139072 \n",
      " updating target net\n",
      "step: 139136 \n",
      " updating target net\n",
      "step: 139200 \n",
      " updating target net\n",
      "step: 139264 \n",
      " updating target net\n",
      "step: 139328 \n",
      " updating target net\n",
      "step: 139392 \n",
      " updating target net\n",
      "step: 139456 \n",
      " updating target net\n"
     ]
    },
    {
     "name": "stderr",
     "output_type": "stream",
     "text": [
      " 52%|█████▏    | 1042/2000 [00:46<02:34,  6.20it/s]"
     ]
    },
    {
     "name": "stdout",
     "output_type": "stream",
     "text": [
      "step: 139520 \n",
      " updating target net\n",
      "step: 139584 \n",
      " updating target net\n",
      "step: 139648 \n",
      " updating target net\n",
      "step: 139712 \n",
      " updating target net\n",
      "step: 139776 \n",
      " updating target net\n",
      "step: 139840 \n",
      " updating target net\n",
      "step: 139904 \n",
      " updating target net\n",
      "step: 139968 \n",
      " updating target net\n"
     ]
    },
    {
     "name": "stderr",
     "output_type": "stream",
     "text": [
      " 52%|█████▏    | 1043/2000 [00:46<02:40,  5.96it/s]"
     ]
    },
    {
     "name": "stdout",
     "output_type": "stream",
     "text": [
      "step: 140032 \n",
      " updating target net\n",
      "step: 140096 \n",
      " updating target net\n",
      "step: 140160 \n",
      " updating target net\n",
      "step: 140224 \n",
      " updating target net\n",
      "step: 140288 \n",
      " updating target net\n",
      "step: 140352 \n",
      " updating target net\n",
      "step: 140416 \n",
      " updating target net\n",
      "step: 140480 \n",
      " updating target net\n",
      "step: 140544 \n",
      " updating target net\n",
      "step: 140608 \n",
      " updating target net\n"
     ]
    },
    {
     "name": "stderr",
     "output_type": "stream",
     "text": [
      " 52%|█████▏    | 1046/2000 [00:47<02:02,  7.77it/s]"
     ]
    },
    {
     "name": "stdout",
     "output_type": "stream",
     "text": [
      "step: 140672 \n",
      " updating target net\n",
      "step: 140736 \n",
      " updating target net\n",
      "step: 140800 \n",
      " updating target net\n",
      "step: 140864 \n",
      " updating target net\n",
      "step: 140928 \n",
      " updating target net\n",
      "step: 140992 \n",
      " updating target net\n",
      "step: 141056 \n",
      " updating target net\n",
      "step: 141120 \n",
      " updating target net\n",
      "step: 141184 \n",
      " updating target net\n"
     ]
    },
    {
     "name": "stderr",
     "output_type": "stream",
     "text": [
      " 52%|█████▏    | 1047/2000 [00:47<02:05,  7.58it/s]"
     ]
    },
    {
     "name": "stdout",
     "output_type": "stream",
     "text": [
      "step: 141248 \n",
      " updating target net\n",
      "step: 141312 \n",
      " updating target net\n",
      "step: 141376 \n",
      " updating target net\n",
      "step: 141440 \n",
      " updating target net\n",
      "step: 141504 \n",
      " updating target net\n"
     ]
    },
    {
     "name": "stderr",
     "output_type": "stream",
     "text": [
      " 53%|█████▎    | 1051/2000 [00:47<01:43,  9.21it/s]"
     ]
    },
    {
     "name": "stdout",
     "output_type": "stream",
     "text": [
      "step: 141568 \n",
      " updating target net\n",
      "step: 141632 \n",
      " updating target net\n",
      "step: 141696 \n",
      " updating target net\n",
      "step: 141760 \n",
      " updating target net\n",
      "step: 141824 \n",
      " updating target net\n",
      "step: 141888 \n",
      " updating target net\n",
      "step: 141952 \n",
      " updating target net\n",
      "step: 142016 \n",
      " updating target net\n",
      "step: 142080 \n",
      " updating target net\n",
      "step: 142144 \n",
      " updating target net\n"
     ]
    },
    {
     "name": "stderr",
     "output_type": "stream",
     "text": [
      " 53%|█████▎    | 1053/2000 [00:47<01:34,  9.98it/s]"
     ]
    },
    {
     "name": "stdout",
     "output_type": "stream",
     "text": [
      "step: 142208 \n",
      " updating target net\n",
      "step: 142272 \n",
      " updating target net\n",
      "step: 142336 \n",
      " updating target net\n",
      "step: 142400 \n",
      " updating target net\n",
      "step: 142464 \n",
      " updating target net\n",
      "step: 142528 \n",
      " updating target net\n",
      "step: 142592 \n",
      " updating target net\n",
      "step: 142656 \n",
      " updating target net\n",
      "step: 142720 \n",
      " updating target net\n",
      "step: 142784 \n",
      " updating target net\n"
     ]
    },
    {
     "name": "stderr",
     "output_type": "stream",
     "text": [
      " 53%|█████▎    | 1055/2000 [00:47<01:29, 10.55it/s]"
     ]
    },
    {
     "name": "stdout",
     "output_type": "stream",
     "text": [
      "step: 142848 \n",
      " updating target net\n",
      "step: 142912 \n",
      " updating target net\n",
      "step: 142976 \n",
      " updating target net\n",
      "step: 143040 \n",
      " updating target net\n",
      "step: 143104 \n",
      " updating target net\n",
      "step: 143168 \n",
      " updating target net\n",
      "step: 143232 \n",
      " updating target net\n",
      "step: 143296 \n",
      " updating target net\n",
      "step: 143360 \n",
      " updating target net\n",
      "step: 143424 \n",
      " updating target net\n"
     ]
    },
    {
     "name": "stderr",
     "output_type": "stream",
     "text": [
      " 53%|█████▎    | 1057/2000 [00:48<01:34,  9.96it/s]"
     ]
    },
    {
     "name": "stdout",
     "output_type": "stream",
     "text": [
      "step: 143488 \n",
      " updating target net\n",
      "step: 143552 \n",
      " updating target net\n",
      "step: 143616 \n",
      " updating target net\n",
      "step: 143680 \n",
      " updating target net\n",
      "step: 143744 \n",
      " updating target net\n",
      "step: 143808 \n",
      " updating target net\n",
      "step: 143872 \n",
      " updating target net\n",
      "step: 143936 \n",
      " updating target net\n",
      "step: 144000 \n",
      " updating target net\n",
      "step: 144064 \n",
      " updating target net\n"
     ]
    },
    {
     "name": "stderr",
     "output_type": "stream",
     "text": [
      " 53%|█████▎    | 1061/2000 [00:48<01:16, 12.28it/s]"
     ]
    },
    {
     "name": "stdout",
     "output_type": "stream",
     "text": [
      "step: 144128 \n",
      " updating target net\n",
      "step: 144192 \n",
      " updating target net\n",
      "step: 144256 \n",
      " updating target net\n",
      "step: 144320 \n",
      " updating target net\n",
      "step: 144384 \n",
      " updating target net\n",
      "step: 144448 \n",
      " updating target net\n",
      "step: 144512 \n",
      " updating target net\n",
      "step: 144576 \n",
      " updating target net\n",
      "step: 144640 \n",
      " updating target net\n",
      "step: 144704 \n",
      " updating target net\n"
     ]
    },
    {
     "name": "stderr",
     "output_type": "stream",
     "text": [
      " 53%|█████▎    | 1065/2000 [00:48<01:08, 13.68it/s]"
     ]
    },
    {
     "name": "stdout",
     "output_type": "stream",
     "text": [
      "step: 144768 \n",
      " updating target net\n",
      "step: 144832 \n",
      " updating target net\n",
      "step: 144896 \n",
      " updating target net\n",
      "step: 144960 \n",
      " updating target net\n",
      "step: 145024 \n",
      " updating target net\n",
      "step: 145088 \n",
      " updating target net\n",
      "step: 145152 \n",
      " updating target net\n",
      "step: 145216 \n",
      " updating target net\n",
      "step: 145280 \n",
      " updating target net\n",
      "step: 145344 \n",
      " updating target net\n"
     ]
    },
    {
     "name": "stderr",
     "output_type": "stream",
     "text": [
      " 53%|█████▎    | 1067/2000 [00:48<01:08, 13.65it/s]"
     ]
    },
    {
     "name": "stdout",
     "output_type": "stream",
     "text": [
      "step: 145408 \n",
      " updating target net\n",
      "step: 145472 \n",
      " updating target net\n",
      "step: 145536 \n",
      " updating target net\n",
      "step: 145600 \n",
      " updating target net\n",
      "step: 145664 \n",
      " updating target net\n",
      "step: 145728 \n",
      " updating target net\n",
      "step: 145792 \n",
      " updating target net\n",
      "step: 145856 \n",
      " updating target net\n",
      "step: 145920 \n",
      " updating target net\n",
      "step: 145984 \n",
      " updating target net\n"
     ]
    },
    {
     "name": "stderr",
     "output_type": "stream",
     "text": [
      " 54%|█████▎    | 1072/2000 [00:49<00:57, 16.08it/s]"
     ]
    },
    {
     "name": "stdout",
     "output_type": "stream",
     "text": [
      "step: 146048 \n",
      " updating target net\n",
      "step: 146112 \n",
      " updating target net\n",
      "step: 146176 \n",
      " updating target net\n",
      "step: 146240 \n",
      " updating target net\n",
      "step: 146304 \n",
      " updating target net\n",
      "step: 146368 \n",
      " updating target net\n",
      "step: 146432 \n",
      " updating target net\n",
      "step: 146496 \n",
      " updating target net\n",
      "step: 146560 \n",
      " updating target net\n",
      "step: 146624 \n",
      " updating target net\n",
      "step: 146688 \n",
      " updating target net\n"
     ]
    },
    {
     "name": "stderr",
     "output_type": "stream",
     "text": [
      " 54%|█████▍    | 1077/2000 [00:49<00:49, 18.67it/s]"
     ]
    },
    {
     "name": "stdout",
     "output_type": "stream",
     "text": [
      "step: 146752 \n",
      " updating target net\n",
      "step: 146816 \n",
      " updating target net\n",
      "step: 146880 \n",
      " updating target net\n",
      "step: 146944 \n",
      " updating target net\n",
      "step: 147008 \n",
      " updating target net\n",
      "step: 147072 \n",
      " updating target net\n",
      "step: 147136 \n",
      " updating target net\n",
      "step: 147200 \n",
      " updating target net\n",
      "step: 147264 \n",
      " updating target net\n",
      "step: 147328 \n",
      " updating target net\n",
      "step: 147392 \n",
      " updating target net\n",
      "step: 147456 \n",
      " updating target net\n"
     ]
    },
    {
     "name": "stderr",
     "output_type": "stream",
     "text": [
      " 54%|█████▍    | 1080/2000 [00:49<00:47, 19.39it/s]"
     ]
    },
    {
     "name": "stdout",
     "output_type": "stream",
     "text": [
      "step: 147520 \n",
      " updating target net\n",
      "step: 147584 \n",
      " updating target net\n",
      "step: 147648 \n",
      " updating target net\n",
      "step: 147712 \n",
      " updating target net\n",
      "step: 147776 \n",
      " updating target net\n",
      "step: 147840 \n",
      " updating target net\n",
      "step: 147904 \n",
      " updating target net\n",
      "step: 147968 \n",
      " updating target net\n",
      "step: 148032 \n",
      " updating target net\n",
      "step: 148096 \n",
      " updating target net\n",
      "step: 148160 \n",
      " updating target net\n"
     ]
    },
    {
     "name": "stderr",
     "output_type": "stream",
     "text": [
      " 54%|█████▍    | 1085/2000 [00:49<00:45, 19.94it/s]"
     ]
    },
    {
     "name": "stdout",
     "output_type": "stream",
     "text": [
      "step: 148224 \n",
      " updating target net\n",
      "step: 148288 \n",
      " updating target net\n",
      "step: 148352 \n",
      " updating target net\n",
      "step: 148416 \n",
      " updating target net\n",
      "step: 148480 \n",
      " updating target net\n",
      "step: 148544 \n",
      " updating target net\n",
      "step: 148608 \n",
      " updating target net\n",
      "step: 148672 \n",
      " updating target net\n",
      "step: 148736 \n",
      " updating target net\n"
     ]
    },
    {
     "name": "stderr",
     "output_type": "stream",
     "text": [
      " 54%|█████▍    | 1088/2000 [00:49<00:45, 19.92it/s]"
     ]
    },
    {
     "name": "stdout",
     "output_type": "stream",
     "text": [
      "step: 148800 \n",
      " updating target net\n",
      "step: 148864 \n",
      " updating target net\n",
      "step: 148928 \n",
      " updating target net\n",
      "step: 148992 \n",
      " updating target net\n",
      "step: 149056 \n",
      " updating target net\n",
      "step: 149120 \n",
      " updating target net\n",
      "step: 149184 \n",
      " updating target net\n",
      "step: 149248 \n",
      " updating target net\n"
     ]
    },
    {
     "name": "stderr",
     "output_type": "stream",
     "text": [
      " 55%|█████▍    | 1092/2000 [00:50<00:52, 17.38it/s]"
     ]
    },
    {
     "name": "stdout",
     "output_type": "stream",
     "text": [
      "step: 149312 \n",
      " updating target net\n",
      "step: 149376 \n",
      " updating target net\n",
      "step: 149440 \n",
      " updating target net\n",
      "step: 149504 \n",
      " updating target net\n",
      "step: 149568 \n",
      " updating target net\n",
      "step: 149632 \n",
      " updating target net\n",
      "step: 149696 \n",
      " updating target net\n",
      "step: 149760 \n",
      " updating target net\n"
     ]
    },
    {
     "name": "stderr",
     "output_type": "stream",
     "text": [
      " 55%|█████▍    | 1095/2000 [00:50<00:47, 19.23it/s]"
     ]
    },
    {
     "name": "stdout",
     "output_type": "stream",
     "text": [
      "step: 149824 \n",
      " updating target net\n",
      "step: 149888 \n",
      " updating target net\n",
      "step: 149952 \n",
      " updating target net\n",
      "step: 150016 \n",
      " updating target net\n",
      "step: 150080 \n",
      " updating target net\n",
      "step: 150144 \n",
      " updating target net\n",
      "step: 150208 \n",
      " updating target net\n",
      "step: 150272 \n",
      " updating target net\n",
      "step: 150336 \n",
      " updating target net\n"
     ]
    },
    {
     "name": "stderr",
     "output_type": "stream",
     "text": [
      " 55%|█████▌    | 1101/2000 [00:50<00:38, 23.42it/s]"
     ]
    },
    {
     "name": "stdout",
     "output_type": "stream",
     "text": [
      "step: 150400 \n",
      " updating target net\n",
      "step: 150464 \n",
      " updating target net\n",
      "step: 150528 \n",
      " updating target net\n",
      "step: 150592 \n",
      " updating target net\n",
      "step: 150656 \n",
      " updating target net\n",
      "step: 150720 \n",
      " updating target net\n",
      "step: 150784 \n",
      " updating target net\n",
      "step: 150848 \n",
      " updating target net\n",
      "step: 150912 \n",
      " updating target net\n",
      "step: 150976 \n",
      " updating target net\n",
      "step: 151040 \n",
      " updating target net\n"
     ]
    },
    {
     "name": "stderr",
     "output_type": "stream",
     "text": [
      " 55%|█████▌    | 1104/2000 [00:50<00:44, 20.32it/s]"
     ]
    },
    {
     "name": "stdout",
     "output_type": "stream",
     "text": [
      "step: 151104 \n",
      " updating target net\n",
      "step: 151168 \n",
      " updating target net\n",
      "step: 151232 \n",
      " updating target net\n",
      "step: 151296 \n",
      " updating target net\n",
      "step: 151360 \n",
      " updating target net\n",
      "step: 151424 \n",
      " updating target net\n",
      "step: 151488 \n",
      " updating target net\n",
      "step: 151552 \n",
      " updating target net\n",
      "step: 151616 \n",
      " updating target net\n"
     ]
    },
    {
     "name": "stderr",
     "output_type": "stream",
     "text": [
      " 56%|█████▌    | 1110/2000 [00:51<00:42, 20.87it/s]"
     ]
    },
    {
     "name": "stdout",
     "output_type": "stream",
     "text": [
      "step: 151680 \n",
      " updating target net\n",
      "step: 151744 \n",
      " updating target net\n",
      "step: 151808 \n",
      " updating target net\n",
      "step: 151872 \n",
      " updating target net\n",
      "step: 151936 \n",
      " updating target net\n",
      "step: 152000 \n",
      " updating target net\n",
      "step: 152064 \n",
      " updating target net\n",
      "step: 152128 \n",
      " updating target net\n",
      "step: 152192 \n",
      " updating target net\n",
      "step: 152256 \n",
      " updating target net\n"
     ]
    },
    {
     "name": "stderr",
     "output_type": "stream",
     "text": [
      " 56%|█████▌    | 1113/2000 [00:51<00:43, 20.48it/s]"
     ]
    },
    {
     "name": "stdout",
     "output_type": "stream",
     "text": [
      "step: 152320 \n",
      " updating target net\n",
      "step: 152384 \n",
      " updating target net\n",
      "step: 152448 \n",
      " updating target net\n",
      "step: 152512 \n",
      " updating target net\n",
      "step: 152576 \n",
      " updating target net\n",
      "step: 152640 \n",
      " updating target net\n",
      "step: 152704 \n",
      " updating target net\n",
      "step: 152768 \n",
      " updating target net\n",
      "step: 152832 \n",
      " updating target net\n",
      "step: 152896 \n",
      " updating target net\n",
      "step: 152960 \n",
      " updating target net\n"
     ]
    },
    {
     "name": "stderr",
     "output_type": "stream",
     "text": [
      " 56%|█████▌    | 1119/2000 [00:51<00:40, 21.59it/s]"
     ]
    },
    {
     "name": "stdout",
     "output_type": "stream",
     "text": [
      "step: 153024 \n",
      " updating target net\n",
      "step: 153088 \n",
      " updating target net\n",
      "step: 153152 \n",
      " updating target net\n",
      "step: 153216 \n",
      " updating target net\n",
      "step: 153280 \n",
      " updating target net\n",
      "step: 153344 \n",
      " updating target net\n",
      "step: 153408 \n",
      " updating target net\n",
      "step: 153472 \n",
      " updating target net\n",
      "step: 153536 \n",
      " updating target net\n",
      "step: 153600 \n",
      " updating target net\n",
      "step: 153664 \n",
      " updating target net\n",
      "step: 153728 \n",
      " updating target net\n"
     ]
    },
    {
     "name": "stderr",
     "output_type": "stream",
     "text": [
      " 56%|█████▋    | 1125/2000 [00:51<00:39, 21.95it/s]"
     ]
    },
    {
     "name": "stdout",
     "output_type": "stream",
     "text": [
      "step: 153792 \n",
      " updating target net\n",
      "step: 153856 \n",
      " updating target net\n",
      "step: 153920 \n",
      " updating target net\n",
      "step: 153984 \n",
      " updating target net\n",
      "step: 154048 \n",
      " updating target net\n",
      "step: 154112 \n",
      " updating target net\n",
      "step: 154176 \n",
      " updating target net\n",
      "step: 154240 \n",
      " updating target net\n",
      "step: 154304 \n",
      " updating target net\n",
      "step: 154368 \n",
      " updating target net\n",
      "step: 154432 \n",
      " updating target net\n"
     ]
    },
    {
     "name": "stderr",
     "output_type": "stream",
     "text": [
      " 56%|█████▋    | 1128/2000 [00:51<00:36, 23.85it/s]"
     ]
    },
    {
     "name": "stdout",
     "output_type": "stream",
     "text": [
      "step: 154496 \n",
      " updating target net\n",
      "step: 154560 \n",
      " updating target net\n",
      "step: 154624 \n",
      " updating target net\n",
      "step: 154688 \n",
      " updating target net\n",
      "step: 154752 \n",
      " updating target net\n",
      "step: 154816 \n",
      " updating target net\n",
      "step: 154880 \n",
      " updating target net\n",
      "step: 154944 \n",
      " updating target net\n",
      "step: 155008 \n",
      " updating target net\n",
      "step: 155072 \n",
      " updating target net\n",
      "step: 155136 \n",
      " updating target net\n"
     ]
    },
    {
     "name": "stderr",
     "output_type": "stream",
     "text": [
      " 57%|█████▋    | 1132/2000 [00:51<00:35, 24.37it/s]"
     ]
    },
    {
     "name": "stdout",
     "output_type": "stream",
     "text": [
      "step: 155200 \n",
      " updating target net\n",
      "step: 155264 \n",
      " updating target net\n",
      "step: 155328 \n",
      " updating target net\n",
      "step: 155392 \n",
      " updating target net\n",
      "step: 155456 \n",
      " updating target net\n",
      "step: 155520 \n",
      " updating target net\n"
     ]
    },
    {
     "name": "stderr",
     "output_type": "stream",
     "text": [
      " 57%|█████▋    | 1135/2000 [00:52<00:48, 17.75it/s]"
     ]
    },
    {
     "name": "stdout",
     "output_type": "stream",
     "text": [
      "step: 155584 \n",
      " updating target net\n",
      "step: 155648 \n",
      " updating target net\n",
      "step: 155712 \n",
      " updating target net\n",
      "step: 155776 \n",
      " updating target net\n",
      "step: 155840 \n",
      " updating target net\n"
     ]
    },
    {
     "name": "stderr",
     "output_type": "stream",
     "text": [
      " 57%|█████▋    | 1138/2000 [00:52<00:56, 15.31it/s]"
     ]
    },
    {
     "name": "stdout",
     "output_type": "stream",
     "text": [
      "step: 155904 \n",
      " updating target net\n",
      "step: 155968 \n",
      " updating target net\n",
      "step: 156032 \n",
      " updating target net\n",
      "step: 156096 \n",
      " updating target net\n",
      "step: 156160 \n",
      " updating target net\n",
      "step: 156224 \n",
      " updating target net\n",
      "step: 156288 \n",
      " updating target net\n"
     ]
    },
    {
     "name": "stderr",
     "output_type": "stream",
     "text": [
      " 57%|█████▋    | 1142/2000 [00:52<00:59, 14.49it/s]"
     ]
    },
    {
     "name": "stdout",
     "output_type": "stream",
     "text": [
      "step: 156352 \n",
      " updating target net\n",
      "step: 156416 \n",
      " updating target net\n",
      "step: 156480 \n",
      " updating target net\n",
      "step: 156544 \n",
      " updating target net\n",
      "step: 156608 \n",
      " updating target net\n",
      "step: 156672 \n",
      " updating target net\n",
      "step: 156736 \n",
      " updating target net\n",
      "step: 156800 \n",
      " updating target net\n"
     ]
    },
    {
     "name": "stderr",
     "output_type": "stream",
     "text": [
      " 57%|█████▋    | 1145/2000 [00:52<00:51, 16.69it/s]"
     ]
    },
    {
     "name": "stdout",
     "output_type": "stream",
     "text": [
      "step: 156864 \n",
      " updating target net\n",
      "step: 156928 \n",
      " updating target net\n",
      "step: 156992 \n",
      " updating target net\n",
      "step: 157056 \n",
      " updating target net\n",
      "step: 157120 \n",
      " updating target net\n"
     ]
    },
    {
     "name": "stderr",
     "output_type": "stream",
     "text": [
      " 57%|█████▊    | 1150/2000 [00:53<00:52, 16.04it/s]"
     ]
    },
    {
     "name": "stdout",
     "output_type": "stream",
     "text": [
      "step: 157184 \n",
      " updating target net\n",
      "step: 157248 \n",
      " updating target net\n",
      "step: 157312 \n",
      " updating target net\n",
      "step: 157376 \n",
      " updating target net\n",
      "step: 157440 \n",
      " updating target net\n",
      "step: 157504 \n",
      " updating target net\n"
     ]
    },
    {
     "name": "stderr",
     "output_type": "stream",
     "text": [
      " 58%|█████▊    | 1153/2000 [00:53<00:46, 18.38it/s]"
     ]
    },
    {
     "name": "stdout",
     "output_type": "stream",
     "text": [
      "step: 157568 \n",
      " updating target net\n",
      "step: 157632 \n",
      " updating target net\n",
      "step: 157696 \n",
      " updating target net\n",
      "step: 157760 \n",
      " updating target net\n",
      "step: 157824 \n",
      " updating target net\n",
      "step: 157888 \n",
      " updating target net\n",
      "step: 157952 \n",
      " updating target net\n"
     ]
    },
    {
     "name": "stderr",
     "output_type": "stream",
     "text": [
      " 58%|█████▊    | 1159/2000 [00:53<00:41, 20.27it/s]"
     ]
    },
    {
     "name": "stdout",
     "output_type": "stream",
     "text": [
      "step: 158016 \n",
      " updating target net\n",
      "step: 158080 \n",
      " updating target net\n",
      "step: 158144 \n",
      " updating target net\n",
      "step: 158208 \n",
      " updating target net\n",
      "step: 158272 \n",
      " updating target net\n",
      "step: 158336 \n",
      " updating target net\n",
      "step: 158400 \n",
      " updating target net\n",
      "step: 158464 \n",
      " updating target net\n"
     ]
    },
    {
     "name": "stderr",
     "output_type": "stream",
     "text": [
      " 58%|█████▊    | 1165/2000 [00:53<00:35, 23.39it/s]"
     ]
    },
    {
     "name": "stdout",
     "output_type": "stream",
     "text": [
      "step: 158528 \n",
      " updating target net\n",
      "step: 158592 \n",
      " updating target net\n",
      "step: 158656 \n",
      " updating target net\n",
      "step: 158720 \n",
      " updating target net\n",
      "step: 158784 \n",
      " updating target net\n",
      "step: 158848 \n",
      " updating target net\n",
      "step: 158912 \n",
      " updating target net\n",
      "step: 158976 \n",
      " updating target net\n"
     ]
    },
    {
     "name": "stderr",
     "output_type": "stream",
     "text": [
      " 59%|█████▊    | 1171/2000 [00:54<00:34, 23.70it/s]"
     ]
    },
    {
     "name": "stdout",
     "output_type": "stream",
     "text": [
      "step: 159040 \n",
      " updating target net\n",
      "step: 159104 \n",
      " updating target net\n",
      "step: 159168 \n",
      " updating target net\n",
      "step: 159232 \n",
      " updating target net\n",
      "step: 159296 \n",
      " updating target net\n",
      "step: 159360 \n",
      " updating target net\n",
      "step: 159424 \n",
      " updating target net\n",
      "step: 159488 \n",
      " updating target net\n"
     ]
    },
    {
     "name": "stderr",
     "output_type": "stream",
     "text": [
      " 59%|█████▊    | 1174/2000 [00:54<00:35, 23.03it/s]"
     ]
    },
    {
     "name": "stdout",
     "output_type": "stream",
     "text": [
      "step: 159552 \n",
      " updating target net\n",
      "step: 159616 \n",
      " updating target net\n",
      "step: 159680 \n",
      " updating target net\n",
      "step: 159744 \n",
      " updating target net\n",
      "step: 159808 \n",
      " updating target net\n",
      "step: 159872 \n",
      " updating target net\n",
      "step: 159936 \n",
      " updating target net\n"
     ]
    },
    {
     "name": "stderr",
     "output_type": "stream",
     "text": [
      " 59%|█████▉    | 1180/2000 [00:54<00:35, 22.88it/s]"
     ]
    },
    {
     "name": "stdout",
     "output_type": "stream",
     "text": [
      "step: 160000 \n",
      " updating target net\n",
      "step: 160064 \n",
      " updating target net\n",
      "step: 160128 \n",
      " updating target net\n",
      "step: 160192 \n",
      " updating target net\n",
      "step: 160256 \n",
      " updating target net\n",
      "step: 160320 \n",
      " updating target net\n"
     ]
    },
    {
     "name": "stderr",
     "output_type": "stream",
     "text": [
      " 59%|█████▉    | 1186/2000 [00:54<00:34, 23.60it/s]"
     ]
    },
    {
     "name": "stdout",
     "output_type": "stream",
     "text": [
      "step: 160384 \n",
      " updating target net\n",
      "step: 160448 \n",
      " updating target net\n",
      "step: 160512 \n",
      " updating target net\n",
      "step: 160576 \n",
      " updating target net\n",
      "step: 160640 \n",
      " updating target net\n",
      "step: 160704 \n",
      " updating target net\n",
      "step: 160768 \n",
      " updating target net\n",
      "step: 160832 \n",
      " updating target net\n",
      "step: 160896 \n",
      " updating target net\n"
     ]
    },
    {
     "name": "stderr",
     "output_type": "stream",
     "text": [
      " 60%|█████▉    | 1190/2000 [00:54<00:31, 25.72it/s]"
     ]
    },
    {
     "name": "stdout",
     "output_type": "stream",
     "text": [
      "step: 160960 \n",
      " updating target net\n",
      "step: 161024 \n",
      " updating target net\n",
      "step: 161088 \n",
      " updating target net\n",
      "step: 161152 \n",
      " updating target net\n",
      "step: 161216 \n",
      " updating target net\n",
      "step: 161280 \n",
      " updating target net\n",
      "step: 161344 \n",
      " updating target net\n",
      "step: 161408 \n",
      " updating target net\n"
     ]
    },
    {
     "name": "stderr",
     "output_type": "stream",
     "text": [
      " 60%|█████▉    | 1197/2000 [00:55<00:28, 27.77it/s]"
     ]
    },
    {
     "name": "stdout",
     "output_type": "stream",
     "text": [
      "step: 161472 \n",
      " updating target net\n",
      "step: 161536 \n",
      " updating target net\n",
      "step: 161600 \n",
      " updating target net\n",
      "step: 161664 \n",
      " updating target net\n",
      "step: 161728 \n",
      " updating target net\n",
      "step: 161792 \n",
      " updating target net\n",
      "step: 161856 \n",
      " updating target net\n",
      "step: 161920 \n",
      " updating target net\n"
     ]
    },
    {
     "name": "stderr",
     "output_type": "stream",
     "text": [
      " 60%|██████    | 1205/2000 [00:55<00:26, 29.65it/s]"
     ]
    },
    {
     "name": "stdout",
     "output_type": "stream",
     "text": [
      "step: 161984 \n",
      " updating target net\n",
      "step: 162048 \n",
      " updating target net\n",
      "step: 162112 \n",
      " updating target net\n",
      "step: 162176 \n",
      " updating target net\n",
      "step: 162240 \n",
      " updating target net\n",
      "step: 162304 \n",
      " updating target net\n",
      "step: 162368 \n",
      " updating target net\n",
      "step: 162432 \n",
      " updating target net\n",
      "step: 162496 \n",
      " updating target net\n"
     ]
    },
    {
     "name": "stderr",
     "output_type": "stream",
     "text": [
      " 60%|██████    | 1209/2000 [00:55<00:25, 31.11it/s]"
     ]
    },
    {
     "name": "stdout",
     "output_type": "stream",
     "text": [
      "step: 162560 \n",
      " updating target net\n",
      "step: 162624 \n",
      " updating target net\n",
      "step: 162688 \n",
      " updating target net\n",
      "step: 162752 \n",
      " updating target net\n",
      "step: 162816 \n",
      " updating target net\n",
      "step: 162880 \n",
      " updating target net\n",
      "step: 162944 \n",
      " updating target net\n",
      "step: 163008 \n",
      " updating target net\n",
      "step: 163072 \n",
      " updating target net\n"
     ]
    },
    {
     "name": "stderr",
     "output_type": "stream",
     "text": [
      " 61%|██████    | 1217/2000 [00:55<00:25, 31.07it/s]"
     ]
    },
    {
     "name": "stdout",
     "output_type": "stream",
     "text": [
      "step: 163136 \n",
      " updating target net\n",
      "step: 163200 \n",
      " updating target net\n",
      "step: 163264 \n",
      " updating target net\n",
      "step: 163328 \n",
      " updating target net\n",
      "step: 163392 \n",
      " updating target net\n",
      "step: 163456 \n",
      " updating target net\n",
      "step: 163520 \n",
      " updating target net\n",
      "step: 163584 \n",
      " updating target net\n"
     ]
    },
    {
     "name": "stderr",
     "output_type": "stream",
     "text": [
      " 61%|██████    | 1221/2000 [00:55<00:25, 30.58it/s]"
     ]
    },
    {
     "name": "stdout",
     "output_type": "stream",
     "text": [
      "step: 163648 \n",
      " updating target net\n",
      "step: 163712 \n",
      " updating target net\n",
      "step: 163776 \n",
      " updating target net\n",
      "step: 163840 \n",
      " updating target net\n",
      "step: 163904 \n",
      " updating target net\n"
     ]
    },
    {
     "name": "stderr",
     "output_type": "stream",
     "text": [
      " 61%|██████▏   | 1229/2000 [00:56<00:28, 26.59it/s]"
     ]
    },
    {
     "name": "stdout",
     "output_type": "stream",
     "text": [
      "step: 163968 \n",
      " updating target net\n",
      "step: 164032 \n",
      " updating target net\n",
      "step: 164096 \n",
      " updating target net\n",
      "step: 164160 \n",
      " updating target net\n",
      "step: 164224 \n",
      " updating target net\n",
      "step: 164288 \n",
      " updating target net\n",
      "step: 164352 \n",
      " updating target net\n",
      "step: 164416 \n",
      " updating target net\n"
     ]
    },
    {
     "name": "stderr",
     "output_type": "stream",
     "text": [
      " 62%|██████▏   | 1232/2000 [00:56<00:29, 26.00it/s]"
     ]
    },
    {
     "name": "stdout",
     "output_type": "stream",
     "text": [
      "step: 164480 \n",
      " updating target net\n",
      "step: 164544 \n",
      " updating target net\n",
      "step: 164608 \n",
      " updating target net\n",
      "step: 164672 \n",
      " updating target net\n",
      "step: 164736 \n",
      " updating target net\n",
      "step: 164800 \n",
      " updating target net\n",
      "step: 164864 \n",
      " updating target net\n"
     ]
    },
    {
     "name": "stderr",
     "output_type": "stream",
     "text": [
      " 62%|██████▏   | 1240/2000 [00:56<00:25, 30.08it/s]"
     ]
    },
    {
     "name": "stdout",
     "output_type": "stream",
     "text": [
      "step: 164928 \n",
      " updating target net\n",
      "step: 164992 \n",
      " updating target net\n",
      "step: 165056 \n",
      " updating target net\n",
      "step: 165120 \n",
      " updating target net\n",
      "step: 165184 \n",
      " updating target net\n",
      "step: 165248 \n",
      " updating target net\n",
      "step: 165312 \n",
      " updating target net\n"
     ]
    },
    {
     "name": "stderr",
     "output_type": "stream",
     "text": [
      " 62%|██████▏   | 1247/2000 [00:56<00:26, 28.81it/s]"
     ]
    },
    {
     "name": "stdout",
     "output_type": "stream",
     "text": [
      "step: 165376 \n",
      " updating target net\n",
      "step: 165440 \n",
      " updating target net\n",
      "step: 165504 \n",
      " updating target net\n",
      "step: 165568 \n",
      " updating target net\n",
      "step: 165632 \n",
      " updating target net\n",
      "step: 165696 \n",
      " updating target net\n",
      "step: 165760 \n",
      " updating target net\n"
     ]
    },
    {
     "name": "stderr",
     "output_type": "stream",
     "text": [
      " 63%|██████▎   | 1253/2000 [00:57<00:25, 29.10it/s]"
     ]
    },
    {
     "name": "stdout",
     "output_type": "stream",
     "text": [
      "step: 165824 \n",
      " updating target net\n",
      "step: 165888 \n",
      " updating target net\n",
      "step: 165952 \n",
      " updating target net\n",
      "step: 166016 \n",
      " updating target net\n",
      "step: 166080 \n",
      " updating target net\n",
      "step: 166144 \n",
      " updating target net\n",
      "step: 166208 \n",
      " updating target net\n"
     ]
    },
    {
     "name": "stderr",
     "output_type": "stream",
     "text": [
      " 63%|██████▎   | 1259/2000 [00:57<00:28, 25.88it/s]"
     ]
    },
    {
     "name": "stdout",
     "output_type": "stream",
     "text": [
      "step: 166272 \n",
      " updating target net\n",
      "step: 166336 \n",
      " updating target net\n",
      "step: 166400 \n",
      " updating target net\n",
      "step: 166464 \n",
      " updating target net\n",
      "step: 166528 \n",
      " updating target net\n",
      "step: 166592 \n",
      " updating target net\n",
      "step: 166656 \n",
      " updating target net\n"
     ]
    },
    {
     "name": "stderr",
     "output_type": "stream",
     "text": [
      " 63%|██████▎   | 1265/2000 [00:57<00:28, 25.67it/s]"
     ]
    },
    {
     "name": "stdout",
     "output_type": "stream",
     "text": [
      "step: 166720 \n",
      " updating target net\n",
      "step: 166784 \n",
      " updating target net\n",
      "step: 166848 \n",
      " updating target net\n",
      "step: 166912 \n",
      " updating target net\n",
      "step: 166976 \n",
      " updating target net\n",
      "step: 167040 \n",
      " updating target net\n",
      "step: 167104 \n",
      " updating target net\n",
      "step: 167168 \n",
      " updating target net\n"
     ]
    },
    {
     "name": "stderr",
     "output_type": "stream",
     "text": [
      " 63%|██████▎   | 1269/2000 [00:57<00:26, 27.19it/s]"
     ]
    },
    {
     "name": "stdout",
     "output_type": "stream",
     "text": [
      "step: 167232 \n",
      " updating target net\n",
      "step: 167296 \n",
      " updating target net\n",
      "step: 167360 \n",
      " updating target net\n",
      "step: 167424 \n",
      " updating target net\n",
      "step: 167488 \n",
      " updating target net\n",
      "step: 167552 \n",
      " updating target net\n",
      "step: 167616 \n",
      " updating target net\n"
     ]
    },
    {
     "name": "stderr",
     "output_type": "stream",
     "text": [
      " 64%|██████▍   | 1275/2000 [00:57<00:27, 25.95it/s]"
     ]
    },
    {
     "name": "stdout",
     "output_type": "stream",
     "text": [
      "step: 167680 \n",
      " updating target net\n",
      "step: 167744 \n",
      " updating target net\n",
      "step: 167808 \n",
      " updating target net\n",
      "step: 167872 \n",
      " updating target net\n",
      "step: 167936 \n",
      " updating target net\n",
      "step: 168000 \n",
      " updating target net\n",
      "step: 168064 \n",
      " updating target net\n",
      "step: 168128 \n",
      " updating target net\n"
     ]
    },
    {
     "name": "stderr",
     "output_type": "stream",
     "text": [
      " 64%|██████▍   | 1278/2000 [00:58<00:29, 24.60it/s]"
     ]
    },
    {
     "name": "stdout",
     "output_type": "stream",
     "text": [
      "step: 168192 \n",
      " updating target net\n",
      "step: 168256 \n",
      " updating target net\n",
      "step: 168320 \n",
      " updating target net\n",
      "step: 168384 \n",
      " updating target net\n",
      "step: 168448 \n",
      " updating target net\n"
     ]
    },
    {
     "name": "stderr",
     "output_type": "stream",
     "text": [
      " 64%|██████▍   | 1285/2000 [00:58<00:33, 21.53it/s]"
     ]
    },
    {
     "name": "stdout",
     "output_type": "stream",
     "text": [
      "step: 168512 \n",
      " updating target net\n",
      "step: 168576 \n",
      " updating target net\n",
      "step: 168640 \n",
      " updating target net\n",
      "step: 168704 \n",
      " updating target net\n",
      "step: 168768 \n",
      " updating target net\n",
      "step: 168832 \n",
      " updating target net\n",
      "step: 168896 \n",
      " updating target net\n"
     ]
    },
    {
     "name": "stderr",
     "output_type": "stream",
     "text": [
      " 65%|██████▍   | 1291/2000 [00:58<00:29, 24.35it/s]"
     ]
    },
    {
     "name": "stdout",
     "output_type": "stream",
     "text": [
      "step: 168960 \n",
      " updating target net\n",
      "step: 169024 \n",
      " updating target net\n",
      "step: 169088 \n",
      " updating target net\n",
      "step: 169152 \n",
      " updating target net\n",
      "step: 169216 \n",
      " updating target net\n",
      "step: 169280 \n",
      " updating target net\n",
      "step: 169344 \n",
      " updating target net\n"
     ]
    },
    {
     "name": "stderr",
     "output_type": "stream",
     "text": [
      " 65%|██████▍   | 1297/2000 [00:58<00:29, 24.02it/s]"
     ]
    },
    {
     "name": "stdout",
     "output_type": "stream",
     "text": [
      "step: 169408 \n",
      " updating target net\n",
      "step: 169472 \n",
      " updating target net\n",
      "step: 169536 \n",
      " updating target net\n",
      "step: 169600 \n",
      " updating target net\n",
      "step: 169664 \n",
      " updating target net\n",
      "step: 169728 \n",
      " updating target net\n",
      "step: 169792 \n",
      " updating target net\n"
     ]
    },
    {
     "name": "stderr",
     "output_type": "stream",
     "text": [
      " 65%|██████▌   | 1303/2000 [00:59<00:28, 24.17it/s]"
     ]
    },
    {
     "name": "stdout",
     "output_type": "stream",
     "text": [
      "step: 169856 \n",
      " updating target net\n",
      "step: 169920 \n",
      " updating target net\n",
      "step: 169984 \n",
      " updating target net\n",
      "step: 170048 \n",
      " updating target net\n",
      "step: 170112 \n",
      " updating target net\n",
      "step: 170176 \n",
      " updating target net\n",
      "step: 170240 \n",
      " updating target net\n",
      "step: 170304 \n",
      " updating target net\n"
     ]
    },
    {
     "name": "stderr",
     "output_type": "stream",
     "text": [
      " 65%|██████▌   | 1306/2000 [00:59<00:27, 24.99it/s]"
     ]
    },
    {
     "name": "stdout",
     "output_type": "stream",
     "text": [
      "step: 170368 \n",
      " updating target net\n",
      "step: 170432 \n",
      " updating target net\n",
      "step: 170496 \n",
      " updating target net\n",
      "step: 170560 \n",
      " updating target net\n",
      "step: 170624 \n",
      " updating target net\n",
      "step: 170688 \n",
      " updating target net\n",
      "step: 170752 \n",
      " updating target net\n"
     ]
    },
    {
     "name": "stderr",
     "output_type": "stream",
     "text": [
      " 66%|██████▌   | 1313/2000 [00:59<00:24, 27.73it/s]"
     ]
    },
    {
     "name": "stdout",
     "output_type": "stream",
     "text": [
      "step: 170816 \n",
      " updating target net\n",
      "step: 170880 \n",
      " updating target net\n",
      "step: 170944 \n",
      " updating target net\n",
      "step: 171008 \n",
      " updating target net\n",
      "step: 171072 \n",
      " updating target net\n",
      "step: 171136 \n",
      " updating target net\n",
      "step: 171200 \n",
      " updating target net\n",
      "step: 171264 \n",
      " updating target net\n",
      "step: 171328 \n",
      " updating target net\n",
      "step: 171392 \n",
      " updating target net\n"
     ]
    },
    {
     "name": "stderr",
     "output_type": "stream",
     "text": [
      " 66%|██████▌   | 1320/2000 [00:59<00:22, 29.58it/s]"
     ]
    }
   ],
   "source": [
    "# Initialize an interaction using this configuration\n",
    "dqn_interaction = dqn.DQNInteraction(dqn_lunar_lander_default_configs_dict)\n",
    "\n",
    "# Train an agent\n",
    "train_scores, trained_agent = dqn_interaction.train()"
   ]
  },
  {
   "cell_type": "code",
   "execution_count": null,
   "metadata": {},
   "outputs": [
    {
     "name": "stderr",
     "output_type": "stream",
     "text": [
      "100%|██████████| 50/50 [00:01<00:00, 45.10it/s]\n"
     ]
    }
   ],
   "source": [
    "# Test the agent\n",
    "test_scores = dqn_interaction.test(trained_agent)"
   ]
  },
  {
   "cell_type": "code",
   "execution_count": null,
   "metadata": {},
   "outputs": [
    {
     "data": {
      "image/png": "[encoded data removed]",
      "text/plain": [
       "<Figure size 1200x500 with 2 Axes>"
      ]
     },
     "metadata": {},
     "output_type": "display_data"
    }
   ],
   "source": [
    "import matplotlib.pyplot as plt\n",
    "\n",
    "fig, (ax1, ax2) = plt.subplots(1, 2, figsize=(12, 5))  # Adjust figure size if needed\n",
    "fig.suptitle(f\"Lunar Lander DQN Training - Discount: {dqn_interaction.config.gamma}\")\n",
    "\n",
    "# Training plot\n",
    "ax1.plot(train_scores, color='r')\n",
    "ax1.set_title('Training')\n",
    "ax1.set_xlabel('Episodes')\n",
    "ax1.set_ylabel('Score')\n",
    "ax1.grid()\n",
    "\n",
    "# Testing plot\n",
    "ax2.plot(test_scores, color='b')\n",
    "ax2.set_title('Testing')\n",
    "ax2.set_xlabel('Episodes')\n",
    "ax2.set_ylabel('Score')\n",
    "ax2.grid()\n",
    "\n",
    "plt.tight_layout()  # Adjust layout to prevent overlap\n",
    "plt.show()\n",
    "\n",
    "\n",
    "\n",
    "\n",
    "\n"
   ]
  },
  {
   "cell_type": "code",
   "execution_count": null,
   "metadata": {},
   "outputs": [
    {
     "name": "stdout",
     "output_type": "stream",
     "text": [
      "Hello world\n"
     ]
    }
   ],
   "source": [
    "print(\"Hello world\")"
   ]
  },
  {
   "cell_type": "code",
   "execution_count": null,
   "metadata": {},
   "outputs": [],
   "source": []
  }
 ],
 "metadata": {
  "kernelspec": {
   "display_name": "venv",
   "language": "python",
   "name": "python3"
  },
  "language_info": {
   "codemirror_mode": {
    "name": "ipython",
    "version": 3
   },
   "file_extension": ".py",
   "mimetype": "text/x-python",
   "name": "python",
   "nbconvert_exporter": "python",
   "pygments_lexer": "ipython3",
   "version": "3.11.4"
  }
 },
 "nbformat": 4,
 "nbformat_minor": 2
}
